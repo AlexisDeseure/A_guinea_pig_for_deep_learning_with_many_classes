{
 "cells": [
  {
   "cell_type": "code",
   "execution_count": 1,
   "id": "898a37ef-dc51-44e1-b695-b7f28c3c109d",
   "metadata": {},
   "outputs": [],
   "source": [
    "import torch\n",
    "import torch.nn as nn\n",
    "from torchvision import datasets, transforms\n",
    "from torchvision.models import resnet50, ResNet50_Weights\n",
    "from torch.utils.data import DataLoader, Dataset\n",
    "from tqdm import tqdm\n",
    "import matplotlib.pyplot as plt\n",
    "import json"
   ]
  },
  {
   "cell_type": "code",
   "execution_count": 2,
   "id": "07a50aaa-f76e-46e5-b49d-e6149859d3d7",
   "metadata": {},
   "outputs": [],
   "source": [
    "# Set device\n",
    "DEVICE = torch.device(\"cuda\" if torch.cuda.is_available() else \"cpu\")"
   ]
  },
  {
   "cell_type": "code",
   "execution_count": 3,
   "id": "8a709c25-8984-47e1-b1b6-62a0f9af01f8",
   "metadata": {},
   "outputs": [],
   "source": [
    "class PenultimateOutputsDataset(Dataset):\n",
    "    def __init__(self, folder_path, device='cpu'):\n",
    "        with open(f'{folder_path}/penultimate_layer_outputs/data.json') as data:\n",
    "            self.data_tensors = json.load(data)\n",
    "        self.file_list = [f'{folder_path}/penultimate_layer_outputs/penultimate_layer_outputs_{index}.pt' for index in range(self.data_tensors['last_file_indice']+1)]\n",
    "        self.labels = torch.load(f'{folder_path}/penultimate_layer_labels.pt', map_location=device)\n",
    "        self.length = self.data_tensors['min_size_segmentation']*self.data_tensors['last_file_indice']+torch.load(f'{folder_path}/penultimate_layer_outputs/penultimate_layer_outputs_{self.data_tensors[\"last_file_indice\"]}.pt', map_location=device).shape[0]\n",
    "        self.device = device\n",
    "        self.data_cache = None\n",
    "        \n",
    "    def __len__(self):\n",
    "        return self.length\n",
    "\n",
    "    def __getitem__(self, index):\n",
    "        if index < 0 or index >= self.length :\n",
    "           raise ValueError(f'Index need to be between 0 and {self.length-1}')\n",
    "        index_file = index//self.data_tensors['min_size_segmentation']\n",
    "        index_in_file = index%self.data_tensors['min_size_segmentation']\n",
    "        if (self.data_cache is None) or self.data_cache[0] != index_file :\n",
    "            file = self.file_list[index_file]\n",
    "            tensors = torch.load(file, map_location=self.device)\n",
    "            self.data_cache = (index_file, tensors)\n",
    "        tensor = self.data_cache[1][index_in_file]\n",
    "        label = self.labels[index]\n",
    "        return tensor, label\n"
   ]
  },
  {
   "cell_type": "code",
   "execution_count": 4,
   "id": "4dadb89e-b6ba-489f-95c9-40d61a078224",
   "metadata": {},
   "outputs": [],
   "source": [
    "outputs_folder = \"../data/saved_outputs/train\"\n",
    "batch_size = 256\n",
    "nb_epoque = 90\n",
    "nb_classe = 1000\n",
    "input_size = 2048\n",
    "\n",
    "\n",
    "weight_decay_parameter = 1e-4\n",
    "learning_rate = 0.1\n",
    "momentum = 0.9\n",
    "lr_decay_step = 30\n",
    "decay_rate = 0.1"
   ]
  },
  {
   "cell_type": "code",
   "execution_count": 5,
   "id": "1cddb3d1-794f-49b6-9fd4-8385289ec3dc",
   "metadata": {},
   "outputs": [],
   "source": [
    "moyenne_erreur_classe_model = []\n",
    "loss_epoch = []\n",
    "dataset = PenultimateOutputsDataset(outputs_folder)\n",
    "train_loader = DataLoader(dataset, batch_size=batch_size, pin_memory=True)\n",
    "nb_image_classe = torch.bincount(dataset.labels).to(DEVICE) # compte le nombre de tous les entiers compris entre 0 et l'entier maximum dans le tenseur d'origine"
   ]
  },
  {
   "cell_type": "code",
   "execution_count": 6,
   "id": "dbc9b9de-afd1-4a9c-a3be-cabf43ea263b",
   "metadata": {},
   "outputs": [],
   "source": [
    "class LogisticRegression(nn.Module): \n",
    "    def __init__(self, input_size, num_classes): \n",
    "        super(LogisticRegression, self).__init__() \n",
    "        self.linear = nn.Linear(input_size, num_classes) \n",
    "    def forward(self, x): \n",
    "        out = self.linear(x) \n",
    "        return out\n",
    "    def load_weights(self, weights) :\n",
    "        self.load_state_dict(weights)"
   ]
  },
  {
   "cell_type": "code",
   "execution_count": 7,
   "id": "8902eb1d-baa4-4916-821a-4a72f5748434",
   "metadata": {},
   "outputs": [
    {
     "name": "stderr",
     "output_type": "stream",
     "text": [
      "Epoch [1/90]: 100%|███████████████████████████████████████████████████████████████| 5005/5005 [00:28<00:00, 178.42it/s]\n"
     ]
    },
    {
     "name": "stdout",
     "output_type": "stream",
     "text": [
      "58.38216251277156\n",
      "Global minimized function value : 31.609811782836914\n"
     ]
    },
    {
     "name": "stderr",
     "output_type": "stream",
     "text": [
      "Epoch [2/90]: 100%|███████████████████████████████████████████████████████████████| 5005/5005 [00:28<00:00, 173.99it/s]\n"
     ]
    },
    {
     "name": "stdout",
     "output_type": "stream",
     "text": [
      "65.94128634284212\n",
      "Global minimized function value : 16.715219497680664\n"
     ]
    },
    {
     "name": "stderr",
     "output_type": "stream",
     "text": [
      "Epoch [3/90]: 100%|███████████████████████████████████████████████████████████████| 5005/5005 [00:32<00:00, 155.75it/s]\n"
     ]
    },
    {
     "name": "stdout",
     "output_type": "stream",
     "text": [
      "64.2417420991955\n",
      "Global minimized function value : 12.138627052307129\n"
     ]
    },
    {
     "name": "stderr",
     "output_type": "stream",
     "text": [
      "Epoch [4/90]: 100%|███████████████████████████████████████████████████████████████| 5005/5005 [00:32<00:00, 156.09it/s]\n"
     ]
    },
    {
     "name": "stdout",
     "output_type": "stream",
     "text": [
      "61.33915406812695\n",
      "Global minimized function value : 11.23188591003418\n"
     ]
    },
    {
     "name": "stderr",
     "output_type": "stream",
     "text": [
      "Epoch [5/90]: 100%|███████████████████████████████████████████████████████████████| 5005/5005 [00:30<00:00, 162.38it/s]\n"
     ]
    },
    {
     "name": "stdout",
     "output_type": "stream",
     "text": [
      "60.51755938140773\n",
      "Global minimized function value : 11.467166900634766\n"
     ]
    },
    {
     "name": "stderr",
     "output_type": "stream",
     "text": [
      "Epoch [6/90]: 100%|███████████████████████████████████████████████████████████████| 5005/5005 [00:32<00:00, 154.12it/s]\n"
     ]
    },
    {
     "name": "stdout",
     "output_type": "stream",
     "text": [
      "60.85412752591973\n",
      "Global minimized function value : 11.552794456481934\n"
     ]
    },
    {
     "name": "stderr",
     "output_type": "stream",
     "text": [
      "Epoch [7/90]: 100%|███████████████████████████████████████████████████████████████| 5005/5005 [00:40<00:00, 125.11it/s]\n"
     ]
    },
    {
     "name": "stdout",
     "output_type": "stream",
     "text": [
      "61.4664598760349\n",
      "Global minimized function value : 11.499114990234375\n"
     ]
    },
    {
     "name": "stderr",
     "output_type": "stream",
     "text": [
      "Epoch [8/90]: 100%|███████████████████████████████████████████████████████████████| 5005/5005 [00:39<00:00, 128.02it/s]\n"
     ]
    },
    {
     "name": "stdout",
     "output_type": "stream",
     "text": [
      "60.84117058900206\n",
      "Global minimized function value : 11.362174987792969\n"
     ]
    },
    {
     "name": "stderr",
     "output_type": "stream",
     "text": [
      "Epoch [9/90]: 100%|███████████████████████████████████████████████████████████████| 5005/5005 [00:39<00:00, 125.49it/s]\n"
     ]
    },
    {
     "name": "stdout",
     "output_type": "stream",
     "text": [
      "60.58187574297496\n",
      "Global minimized function value : 11.512304306030273\n"
     ]
    },
    {
     "name": "stderr",
     "output_type": "stream",
     "text": [
      "Epoch [10/90]: 100%|██████████████████████████████████████████████████████████████| 5005/5005 [00:40<00:00, 124.74it/s]\n"
     ]
    },
    {
     "name": "stdout",
     "output_type": "stream",
     "text": [
      "60.572665390226256\n",
      "Global minimized function value : 11.493085861206055\n"
     ]
    },
    {
     "name": "stderr",
     "output_type": "stream",
     "text": [
      "Epoch [11/90]: 100%|██████████████████████████████████████████████████████████████| 5005/5005 [00:39<00:00, 127.04it/s]\n"
     ]
    },
    {
     "name": "stdout",
     "output_type": "stream",
     "text": [
      "60.76420950586458\n",
      "Global minimized function value : 11.624197959899902\n"
     ]
    },
    {
     "name": "stderr",
     "output_type": "stream",
     "text": [
      "Epoch [12/90]: 100%|██████████████████████████████████████████████████████████████| 5005/5005 [00:39<00:00, 126.25it/s]\n"
     ]
    },
    {
     "name": "stdout",
     "output_type": "stream",
     "text": [
      "60.87567038489127\n",
      "Global minimized function value : 11.526086807250977\n"
     ]
    },
    {
     "name": "stderr",
     "output_type": "stream",
     "text": [
      "Epoch [13/90]: 100%|██████████████████████████████████████████████████████████████| 5005/5005 [00:35<00:00, 142.89it/s]\n"
     ]
    },
    {
     "name": "stdout",
     "output_type": "stream",
     "text": [
      "61.01686977575913\n",
      "Global minimized function value : 11.451667785644531\n"
     ]
    },
    {
     "name": "stderr",
     "output_type": "stream",
     "text": [
      "Epoch [14/90]: 100%|██████████████████████████████████████████████████████████████| 5005/5005 [00:32<00:00, 153.93it/s]\n"
     ]
    },
    {
     "name": "stdout",
     "output_type": "stream",
     "text": [
      "60.65228030381675\n",
      "Global minimized function value : 11.455194473266602\n"
     ]
    },
    {
     "name": "stderr",
     "output_type": "stream",
     "text": [
      "Epoch [15/90]: 100%|██████████████████████████████████████████████████████████████| 5005/5005 [00:32<00:00, 152.49it/s]\n"
     ]
    },
    {
     "name": "stdout",
     "output_type": "stream",
     "text": [
      "60.81018321577125\n",
      "Global minimized function value : 11.417119979858398\n"
     ]
    },
    {
     "name": "stderr",
     "output_type": "stream",
     "text": [
      "Epoch [16/90]: 100%|██████████████████████████████████████████████████████████████| 5005/5005 [00:32<00:00, 154.43it/s]\n"
     ]
    },
    {
     "name": "stdout",
     "output_type": "stream",
     "text": [
      "60.7829424267094\n",
      "Global minimized function value : 11.500715255737305\n"
     ]
    },
    {
     "name": "stderr",
     "output_type": "stream",
     "text": [
      "Epoch [17/90]: 100%|██████████████████████████████████████████████████████████████| 5005/5005 [00:32<00:00, 152.62it/s]\n"
     ]
    },
    {
     "name": "stdout",
     "output_type": "stream",
     "text": [
      "60.726665610338074\n",
      "Global minimized function value : 11.478266716003418\n"
     ]
    },
    {
     "name": "stderr",
     "output_type": "stream",
     "text": [
      "Epoch [18/90]: 100%|██████████████████████████████████████████████████████████████| 5005/5005 [00:30<00:00, 161.46it/s]\n"
     ]
    },
    {
     "name": "stdout",
     "output_type": "stream",
     "text": [
      "60.8387509200596\n",
      "Global minimized function value : 11.527132034301758\n"
     ]
    },
    {
     "name": "stderr",
     "output_type": "stream",
     "text": [
      "Epoch [19/90]: 100%|██████████████████████████████████████████████████████████████| 5005/5005 [00:30<00:00, 162.36it/s]\n"
     ]
    },
    {
     "name": "stdout",
     "output_type": "stream",
     "text": [
      "61.01905528319103\n",
      "Global minimized function value : 11.480039596557617\n"
     ]
    },
    {
     "name": "stderr",
     "output_type": "stream",
     "text": [
      "Epoch [20/90]: 100%|██████████████████████████████████████████████████████████████| 5005/5005 [00:32<00:00, 153.90it/s]\n"
     ]
    },
    {
     "name": "stdout",
     "output_type": "stream",
     "text": [
      "60.740715300971694\n",
      "Global minimized function value : 11.432167053222656\n"
     ]
    },
    {
     "name": "stderr",
     "output_type": "stream",
     "text": [
      "Epoch [21/90]: 100%|██████████████████████████████████████████████████████████████| 5005/5005 [00:32<00:00, 152.51it/s]\n"
     ]
    },
    {
     "name": "stdout",
     "output_type": "stream",
     "text": [
      "60.54440990128531\n",
      "Global minimized function value : 11.503726959228516\n"
     ]
    },
    {
     "name": "stderr",
     "output_type": "stream",
     "text": [
      "Epoch [22/90]: 100%|██████████████████████████████████████████████████████████████| 5005/5005 [00:30<00:00, 161.83it/s]\n"
     ]
    },
    {
     "name": "stdout",
     "output_type": "stream",
     "text": [
      "60.85303477220378\n",
      "Global minimized function value : 11.486150741577148\n"
     ]
    },
    {
     "name": "stderr",
     "output_type": "stream",
     "text": [
      "Epoch [23/90]: 100%|██████████████████████████████████████████████████████████████| 5005/5005 [00:30<00:00, 165.03it/s]\n"
     ]
    },
    {
     "name": "stdout",
     "output_type": "stream",
     "text": [
      "60.948650722349235\n",
      "Global minimized function value : 11.441056251525879\n"
     ]
    },
    {
     "name": "stderr",
     "output_type": "stream",
     "text": [
      "Epoch [24/90]: 100%|██████████████████████████████████████████████████████████████| 5005/5005 [00:32<00:00, 152.55it/s]\n"
     ]
    },
    {
     "name": "stdout",
     "output_type": "stream",
     "text": [
      "60.89128115226196\n",
      "Global minimized function value : 11.427059173583984\n"
     ]
    },
    {
     "name": "stderr",
     "output_type": "stream",
     "text": [
      "Epoch [25/90]: 100%|██████████████████████████████████████████████████████████████| 5005/5005 [00:32<00:00, 155.20it/s]\n"
     ]
    },
    {
     "name": "stdout",
     "output_type": "stream",
     "text": [
      "60.68490680762149\n",
      "Global minimized function value : 11.473190307617188\n"
     ]
    },
    {
     "name": "stderr",
     "output_type": "stream",
     "text": [
      "Epoch [26/90]: 100%|██████████████████████████████████████████████████████████████| 5005/5005 [00:30<00:00, 161.57it/s]\n"
     ]
    },
    {
     "name": "stdout",
     "output_type": "stream",
     "text": [
      "60.59553516442431\n",
      "Global minimized function value : 11.517332077026367\n"
     ]
    },
    {
     "name": "stderr",
     "output_type": "stream",
     "text": [
      "Epoch [27/90]: 100%|██████████████████████████████████████████████████████████████| 5005/5005 [00:30<00:00, 161.98it/s]\n"
     ]
    },
    {
     "name": "stdout",
     "output_type": "stream",
     "text": [
      "60.71495753481006\n",
      "Global minimized function value : 11.617388725280762\n"
     ]
    },
    {
     "name": "stderr",
     "output_type": "stream",
     "text": [
      "Epoch [28/90]: 100%|██████████████████████████████████████████████████████████████| 5005/5005 [00:33<00:00, 147.28it/s]\n"
     ]
    },
    {
     "name": "stdout",
     "output_type": "stream",
     "text": [
      "60.9513826066391\n",
      "Global minimized function value : 11.503610610961914\n"
     ]
    },
    {
     "name": "stderr",
     "output_type": "stream",
     "text": [
      "Epoch [29/90]: 100%|██████████████████████████████████████████████████████████████| 5005/5005 [00:31<00:00, 160.68it/s]\n"
     ]
    },
    {
     "name": "stdout",
     "output_type": "stream",
     "text": [
      "60.96106128240893\n",
      "Global minimized function value : 11.402645111083984\n"
     ]
    },
    {
     "name": "stderr",
     "output_type": "stream",
     "text": [
      "Epoch [30/90]: 100%|██████████████████████████████████████████████████████████████| 5005/5005 [00:30<00:00, 162.26it/s]\n"
     ]
    },
    {
     "name": "stdout",
     "output_type": "stream",
     "text": [
      "60.52505254974566\n",
      "Global minimized function value : 11.479290962219238\n"
     ]
    },
    {
     "name": "stderr",
     "output_type": "stream",
     "text": [
      "Epoch [31/90]: 100%|██████████████████████████████████████████████████████████████| 5005/5005 [00:31<00:00, 157.71it/s]\n"
     ]
    },
    {
     "name": "stdout",
     "output_type": "stream",
     "text": [
      "81.33592263928122\n",
      "Global minimized function value : 8.64576530456543\n"
     ]
    },
    {
     "name": "stderr",
     "output_type": "stream",
     "text": [
      "Epoch [32/90]: 100%|██████████████████████████████████████████████████████████████| 5005/5005 [00:34<00:00, 143.45it/s]\n"
     ]
    },
    {
     "name": "stdout",
     "output_type": "stream",
     "text": [
      "84.40343842762107\n",
      "Global minimized function value : 8.054566383361816\n"
     ]
    },
    {
     "name": "stderr",
     "output_type": "stream",
     "text": [
      "Epoch [33/90]: 100%|██████████████████████████████████████████████████████████████| 5005/5005 [00:30<00:00, 163.10it/s]\n"
     ]
    },
    {
     "name": "stdout",
     "output_type": "stream",
     "text": [
      "85.83283834191795\n",
      "Global minimized function value : 7.273784160614014\n"
     ]
    },
    {
     "name": "stderr",
     "output_type": "stream",
     "text": [
      "Epoch [34/90]: 100%|██████████████████████████████████████████████████████████████| 5005/5005 [00:31<00:00, 160.55it/s]\n"
     ]
    },
    {
     "name": "stdout",
     "output_type": "stream",
     "text": [
      "86.55343136374883\n",
      "Global minimized function value : 6.525631427764893\n"
     ]
    },
    {
     "name": "stderr",
     "output_type": "stream",
     "text": [
      "Epoch [35/90]: 100%|██████████████████████████████████████████████████████████████| 5005/5005 [00:32<00:00, 155.79it/s]\n"
     ]
    },
    {
     "name": "stdout",
     "output_type": "stream",
     "text": [
      "87.0722552173136\n",
      "Global minimized function value : 5.864129543304443\n"
     ]
    },
    {
     "name": "stderr",
     "output_type": "stream",
     "text": [
      "Epoch [36/90]: 100%|██████████████████████████████████████████████████████████████| 5005/5005 [00:32<00:00, 152.67it/s]\n"
     ]
    },
    {
     "name": "stdout",
     "output_type": "stream",
     "text": [
      "87.3499707688381\n",
      "Global minimized function value : 5.28082799911499\n"
     ]
    },
    {
     "name": "stderr",
     "output_type": "stream",
     "text": [
      "Epoch [37/90]: 100%|██████████████████████████████████████████████████████████████| 5005/5005 [00:30<00:00, 161.57it/s]\n"
     ]
    },
    {
     "name": "stdout",
     "output_type": "stream",
     "text": [
      "87.67038176912143\n",
      "Global minimized function value : 4.763162136077881\n"
     ]
    },
    {
     "name": "stderr",
     "output_type": "stream",
     "text": [
      "Epoch [38/90]: 100%|██████████████████████████████████████████████████████████████| 5005/5005 [00:31<00:00, 158.58it/s]\n"
     ]
    },
    {
     "name": "stdout",
     "output_type": "stream",
     "text": [
      "87.82563085062291\n",
      "Global minimized function value : 4.303595542907715\n"
     ]
    },
    {
     "name": "stderr",
     "output_type": "stream",
     "text": [
      "Epoch [39/90]: 100%|██████████████████████████████████████████████████████████████| 5005/5005 [00:32<00:00, 152.42it/s]\n"
     ]
    },
    {
     "name": "stdout",
     "output_type": "stream",
     "text": [
      "88.03856171755906\n",
      "Global minimized function value : 3.8960187435150146\n"
     ]
    },
    {
     "name": "stderr",
     "output_type": "stream",
     "text": [
      "Epoch [40/90]: 100%|██████████████████████████████████████████████████████████████| 5005/5005 [00:32<00:00, 156.08it/s]\n"
     ]
    },
    {
     "name": "stdout",
     "output_type": "stream",
     "text": [
      "88.11060540897479\n",
      "Global minimized function value : 3.5340211391448975\n"
     ]
    },
    {
     "name": "stderr",
     "output_type": "stream",
     "text": [
      "Epoch [41/90]: 100%|██████████████████████████████████████████████████████████████| 5005/5005 [00:31<00:00, 161.05it/s]\n"
     ]
    },
    {
     "name": "stdout",
     "output_type": "stream",
     "text": [
      "88.25570749168531\n",
      "Global minimized function value : 3.212026596069336\n"
     ]
    },
    {
     "name": "stderr",
     "output_type": "stream",
     "text": [
      "Epoch [42/90]: 100%|██████████████████████████████████████████████████████████████| 5005/5005 [00:30<00:00, 163.07it/s]\n"
     ]
    },
    {
     "name": "stdout",
     "output_type": "stream",
     "text": [
      "88.2815433116838\n",
      "Global minimized function value : 2.9231467247009277\n"
     ]
    },
    {
     "name": "stderr",
     "output_type": "stream",
     "text": [
      "Epoch [43/90]: 100%|██████████████████████████████████████████████████████████████| 5005/5005 [00:33<00:00, 148.42it/s]\n"
     ]
    },
    {
     "name": "stdout",
     "output_type": "stream",
     "text": [
      "88.36677810152774\n",
      "Global minimized function value : 2.6643595695495605\n"
     ]
    },
    {
     "name": "stderr",
     "output_type": "stream",
     "text": [
      "Epoch [44/90]: 100%|██████████████████████████████████████████████████████████████| 5005/5005 [00:31<00:00, 159.09it/s]\n"
     ]
    },
    {
     "name": "stdout",
     "output_type": "stream",
     "text": [
      "88.32166298382647\n",
      "Global minimized function value : 2.432464122772217\n"
     ]
    },
    {
     "name": "stderr",
     "output_type": "stream",
     "text": [
      "Epoch [45/90]: 100%|██████████████████████████████████████████████████████████████| 5005/5005 [00:31<00:00, 160.63it/s]\n"
     ]
    },
    {
     "name": "stdout",
     "output_type": "stream",
     "text": [
      "88.3553041875103\n",
      "Global minimized function value : 2.225693464279175\n"
     ]
    },
    {
     "name": "stderr",
     "output_type": "stream",
     "text": [
      "Epoch [46/90]: 100%|██████████████████████████████████████████████████████████████| 5005/5005 [00:31<00:00, 158.94it/s]\n"
     ]
    },
    {
     "name": "stdout",
     "output_type": "stream",
     "text": [
      "88.24485800836268\n",
      "Global minimized function value : 2.0428965091705322\n"
     ]
    },
    {
     "name": "stderr",
     "output_type": "stream",
     "text": [
      "Epoch [47/90]: 100%|██████████████████████████████████████████████████████████████| 5005/5005 [00:33<00:00, 147.47it/s]\n"
     ]
    },
    {
     "name": "stdout",
     "output_type": "stream",
     "text": [
      "88.2178513808114\n",
      "Global minimized function value : 1.8821325302124023\n"
     ]
    },
    {
     "name": "stderr",
     "output_type": "stream",
     "text": [
      "Epoch [48/90]: 100%|██████████████████████████████████████████████████████████████| 5005/5005 [00:30<00:00, 162.47it/s]\n"
     ]
    },
    {
     "name": "stdout",
     "output_type": "stream",
     "text": [
      "88.04589877822329\n",
      "Global minimized function value : 1.7430006265640259\n"
     ]
    },
    {
     "name": "stderr",
     "output_type": "stream",
     "text": [
      "Epoch [49/90]: 100%|██████████████████████████████████████████████████████████████| 5005/5005 [00:31<00:00, 160.95it/s]\n"
     ]
    },
    {
     "name": "stdout",
     "output_type": "stream",
     "text": [
      "87.94442879031384\n",
      "Global minimized function value : 1.6239241361618042\n"
     ]
    },
    {
     "name": "stderr",
     "output_type": "stream",
     "text": [
      "Epoch [50/90]: 100%|██████████████████████████████████████████████████████████████| 5005/5005 [00:31<00:00, 156.78it/s]\n"
     ]
    },
    {
     "name": "stdout",
     "output_type": "stream",
     "text": [
      "87.70230578839448\n",
      "Global minimized function value : 1.5244678258895874\n"
     ]
    },
    {
     "name": "stderr",
     "output_type": "stream",
     "text": [
      "Epoch [51/90]: 100%|██████████████████████████████████████████████████████████████| 5005/5005 [00:32<00:00, 152.24it/s]\n"
     ]
    },
    {
     "name": "stdout",
     "output_type": "stream",
     "text": [
      "87.53292896242255\n",
      "Global minimized function value : 1.4422905445098877\n"
     ]
    },
    {
     "name": "stderr",
     "output_type": "stream",
     "text": [
      "Epoch [52/90]: 100%|██████████████████████████████████████████████████████████████| 5005/5005 [00:30<00:00, 163.25it/s]\n"
     ]
    },
    {
     "name": "stdout",
     "output_type": "stream",
     "text": [
      "87.22914342938898\n",
      "Global minimized function value : 1.375728964805603\n"
     ]
    },
    {
     "name": "stderr",
     "output_type": "stream",
     "text": [
      "Epoch [53/90]: 100%|██████████████████████████████████████████████████████████████| 5005/5005 [00:31<00:00, 159.94it/s]\n"
     ]
    },
    {
     "name": "stdout",
     "output_type": "stream",
     "text": [
      "87.0224568694011\n",
      "Global minimized function value : 1.3215575218200684\n"
     ]
    },
    {
     "name": "stderr",
     "output_type": "stream",
     "text": [
      "Epoch [54/90]: 100%|██████████████████████████████████████████████████████████████| 5005/5005 [00:32<00:00, 154.62it/s]\n"
     ]
    },
    {
     "name": "stdout",
     "output_type": "stream",
     "text": [
      "86.70196781528091\n",
      "Global minimized function value : 1.2777163982391357\n"
     ]
    },
    {
     "name": "stderr",
     "output_type": "stream",
     "text": [
      "Epoch [55/90]: 100%|██████████████████████████████████████████████████████████████| 5005/5005 [00:31<00:00, 158.14it/s]\n"
     ]
    },
    {
     "name": "stdout",
     "output_type": "stream",
     "text": [
      "86.4742067193426\n",
      "Global minimized function value : 1.2410768270492554\n"
     ]
    },
    {
     "name": "stderr",
     "output_type": "stream",
     "text": [
      "Epoch [56/90]: 100%|██████████████████████████████████████████████████████████████| 5005/5005 [00:30<00:00, 162.66it/s]\n"
     ]
    },
    {
     "name": "stdout",
     "output_type": "stream",
     "text": [
      "86.16089861821293\n",
      "Global minimized function value : 1.2102278470993042\n"
     ]
    },
    {
     "name": "stderr",
     "output_type": "stream",
     "text": [
      "Epoch [57/90]: 100%|██████████████████████████████████████████████████████████████| 5005/5005 [00:30<00:00, 165.13it/s]\n"
     ]
    },
    {
     "name": "stdout",
     "output_type": "stream",
     "text": [
      "85.94851412813475\n",
      "Global minimized function value : 1.183193325996399\n"
     ]
    },
    {
     "name": "stderr",
     "output_type": "stream",
     "text": [
      "Epoch [58/90]: 100%|██████████████████████████████████████████████████████████████| 5005/5005 [00:32<00:00, 152.02it/s]\n"
     ]
    },
    {
     "name": "stdout",
     "output_type": "stream",
     "text": [
      "85.65557807842382\n",
      "Global minimized function value : 1.1596299409866333\n"
     ]
    },
    {
     "name": "stderr",
     "output_type": "stream",
     "text": [
      "Epoch [59/90]: 100%|██████████████████████████████████████████████████████████████| 5005/5005 [00:32<00:00, 153.97it/s]\n"
     ]
    },
    {
     "name": "stdout",
     "output_type": "stream",
     "text": [
      "85.48222050677234\n",
      "Global minimized function value : 1.138313889503479\n"
     ]
    },
    {
     "name": "stderr",
     "output_type": "stream",
     "text": [
      "Epoch [60/90]: 100%|██████████████████████████████████████████████████████████████| 5005/5005 [00:30<00:00, 164.93it/s]\n"
     ]
    },
    {
     "name": "stdout",
     "output_type": "stream",
     "text": [
      "85.22893580618296\n",
      "Global minimized function value : 1.1199190616607666\n"
     ]
    },
    {
     "name": "stderr",
     "output_type": "stream",
     "text": [
      "Epoch [61/90]: 100%|██████████████████████████████████████████████████████████████| 5005/5005 [00:31<00:00, 161.14it/s]\n"
     ]
    },
    {
     "name": "stdout",
     "output_type": "stream",
     "text": [
      "88.40190232811179\n",
      "Global minimized function value : 0.9165429472923279\n"
     ]
    },
    {
     "name": "stderr",
     "output_type": "stream",
     "text": [
      "Epoch [62/90]: 100%|██████████████████████████████████████████████████████████████| 5005/5005 [00:33<00:00, 149.45it/s]\n"
     ]
    },
    {
     "name": "stdout",
     "output_type": "stream",
     "text": [
      "89.71289457190203\n",
      "Global minimized function value : 0.889988899230957\n"
     ]
    },
    {
     "name": "stderr",
     "output_type": "stream",
     "text": [
      "Epoch [63/90]: 100%|██████████████████████████████████████████████████████████████| 5005/5005 [00:31<00:00, 157.90it/s]\n"
     ]
    },
    {
     "name": "stdout",
     "output_type": "stream",
     "text": [
      "90.30641594733551\n",
      "Global minimized function value : 0.8739205002784729\n"
     ]
    },
    {
     "name": "stderr",
     "output_type": "stream",
     "text": [
      "Epoch [64/90]: 100%|██████████████████████████████████████████████████████████████| 5005/5005 [00:30<00:00, 162.63it/s]\n"
     ]
    },
    {
     "name": "stdout",
     "output_type": "stream",
     "text": [
      "90.61956794079148\n",
      "Global minimized function value : 0.8613170981407166\n"
     ]
    },
    {
     "name": "stderr",
     "output_type": "stream",
     "text": [
      "Epoch [65/90]: 100%|██████████████████████████████████████████████████████████████| 5005/5005 [00:31<00:00, 160.97it/s]\n"
     ]
    },
    {
     "name": "stdout",
     "output_type": "stream",
     "text": [
      "90.80182364984424\n",
      "Global minimized function value : 0.8505746126174927\n"
     ]
    },
    {
     "name": "stderr",
     "output_type": "stream",
     "text": [
      "Epoch [66/90]: 100%|██████████████████████████████████████████████████████████████| 5005/5005 [00:32<00:00, 151.74it/s]\n"
     ]
    },
    {
     "name": "stdout",
     "output_type": "stream",
     "text": [
      "90.9225729354565\n",
      "Global minimized function value : 0.8410523533821106\n"
     ]
    },
    {
     "name": "stderr",
     "output_type": "stream",
     "text": [
      "Epoch [67/90]: 100%|██████████████████████████████████████████████████████████████| 5005/5005 [00:31<00:00, 160.96it/s]\n"
     ]
    },
    {
     "name": "stdout",
     "output_type": "stream",
     "text": [
      "91.00039261079937\n",
      "Global minimized function value : 0.8324145674705505\n"
     ]
    },
    {
     "name": "stderr",
     "output_type": "stream",
     "text": [
      "Epoch [68/90]: 100%|██████████████████████████████████████████████████████████████| 5005/5005 [00:29<00:00, 167.81it/s]\n"
     ]
    },
    {
     "name": "stdout",
     "output_type": "stream",
     "text": [
      "91.0579963423972\n",
      "Global minimized function value : 0.8245157599449158\n"
     ]
    },
    {
     "name": "stderr",
     "output_type": "stream",
     "text": [
      "Epoch [69/90]: 100%|██████████████████████████████████████████████████████████████| 5005/5005 [00:31<00:00, 159.98it/s]\n"
     ]
    },
    {
     "name": "stdout",
     "output_type": "stream",
     "text": [
      "91.11177543598922\n",
      "Global minimized function value : 0.8172637224197388\n"
     ]
    },
    {
     "name": "stderr",
     "output_type": "stream",
     "text": [
      "Epoch [70/90]: 100%|██████████████████████████████████████████████████████████████| 5005/5005 [00:32<00:00, 154.11it/s]\n"
     ]
    },
    {
     "name": "stdout",
     "output_type": "stream",
     "text": [
      "91.15212926964244\n",
      "Global minimized function value : 0.8105918765068054\n"
     ]
    },
    {
     "name": "stderr",
     "output_type": "stream",
     "text": [
      "Epoch [71/90]: 100%|██████████████████████████████████████████████████████████████| 5005/5005 [00:30<00:00, 166.58it/s]\n"
     ]
    },
    {
     "name": "stdout",
     "output_type": "stream",
     "text": [
      "91.18678517320537\n",
      "Global minimized function value : 0.80442875623703\n"
     ]
    },
    {
     "name": "stderr",
     "output_type": "stream",
     "text": [
      "Epoch [72/90]: 100%|██████████████████████████████████████████████████████████████| 5005/5005 [00:30<00:00, 163.79it/s]\n"
     ]
    },
    {
     "name": "stdout",
     "output_type": "stream",
     "text": [
      "91.2194116770101\n",
      "Global minimized function value : 0.7987168431282043\n"
     ]
    },
    {
     "name": "stderr",
     "output_type": "stream",
     "text": [
      "Epoch [73/90]: 100%|██████████████████████████████████████████████████████████████| 5005/5005 [00:32<00:00, 155.88it/s]\n"
     ]
    },
    {
     "name": "stdout",
     "output_type": "stream",
     "text": [
      "91.2479013274616\n",
      "Global minimized function value : 0.7934212684631348\n"
     ]
    },
    {
     "name": "stderr",
     "output_type": "stream",
     "text": [
      "Epoch [74/90]: 100%|██████████████████████████████████████████████████████████████| 5005/5005 [00:32<00:00, 154.60it/s]\n"
     ]
    },
    {
     "name": "stdout",
     "output_type": "stream",
     "text": [
      "91.27061499398596\n",
      "Global minimized function value : 0.7884966135025024\n"
     ]
    },
    {
     "name": "stderr",
     "output_type": "stream",
     "text": [
      "Epoch [75/90]: 100%|██████████████████████████████████████████████████████████████| 5005/5005 [00:30<00:00, 163.90it/s]\n"
     ]
    },
    {
     "name": "stdout",
     "output_type": "stream",
     "text": [
      "91.29356282202086\n",
      "Global minimized function value : 0.7839053273200989\n"
     ]
    },
    {
     "name": "stderr",
     "output_type": "stream",
     "text": [
      "Epoch [76/90]: 100%|██████████████████████████████████████████████████████████████| 5005/5005 [00:31<00:00, 160.25it/s]\n"
     ]
    },
    {
     "name": "stdout",
     "output_type": "stream",
     "text": [
      "91.31276406588681\n",
      "Global minimized function value : 0.7796016335487366\n"
     ]
    },
    {
     "name": "stderr",
     "output_type": "stream",
     "text": [
      "Epoch [77/90]: 100%|██████████████████████████████████████████████████████████████| 5005/5005 [00:33<00:00, 150.67it/s]\n"
     ]
    },
    {
     "name": "stdout",
     "output_type": "stream",
     "text": [
      "91.32915537162603\n",
      "Global minimized function value : 0.7755496501922607\n"
     ]
    },
    {
     "name": "stderr",
     "output_type": "stream",
     "text": [
      "Epoch [78/90]: 100%|██████████████████████████████████████████████████████████████| 5005/5005 [00:31<00:00, 158.97it/s]\n"
     ]
    },
    {
     "name": "stdout",
     "output_type": "stream",
     "text": [
      "91.34468808515986\n",
      "Global minimized function value : 0.771731436252594\n"
     ]
    },
    {
     "name": "stderr",
     "output_type": "stream",
     "text": [
      "Epoch [79/90]: 100%|██████████████████████████████████████████████████████████████| 5005/5005 [00:30<00:00, 166.11it/s]\n"
     ]
    },
    {
     "name": "stdout",
     "output_type": "stream",
     "text": [
      "91.3613916062465\n",
      "Global minimized function value : 0.7681128978729248\n"
     ]
    },
    {
     "name": "stderr",
     "output_type": "stream",
     "text": [
      "Epoch [80/90]: 100%|██████████████████████████████████████████████████████████████| 5005/5005 [00:30<00:00, 164.99it/s]\n"
     ]
    },
    {
     "name": "stdout",
     "output_type": "stream",
     "text": [
      "91.37950009639648\n",
      "Global minimized function value : 0.764673113822937\n"
     ]
    },
    {
     "name": "stderr",
     "output_type": "stream",
     "text": [
      "Epoch [81/90]: 100%|██████████████████████████████████████████████████████████████| 5005/5005 [00:33<00:00, 150.82it/s]\n"
     ]
    },
    {
     "name": "stdout",
     "output_type": "stream",
     "text": [
      "91.39354978703011\n",
      "Global minimized function value : 0.761398434638977\n"
     ]
    },
    {
     "name": "stderr",
     "output_type": "stream",
     "text": [
      "Epoch [82/90]: 100%|██████████████████████████████████████████████████████████████| 5005/5005 [00:31<00:00, 160.01it/s]\n"
     ]
    },
    {
     "name": "stdout",
     "output_type": "stream",
     "text": [
      "91.40666283162149\n",
      "Global minimized function value : 0.7582705020904541\n"
     ]
    },
    {
     "name": "stderr",
     "output_type": "stream",
     "text": [
      "Epoch [83/90]: 100%|██████████████████████████████████████████████████████████████| 5005/5005 [00:31<00:00, 159.68it/s]\n"
     ]
    },
    {
     "name": "stdout",
     "output_type": "stream",
     "text": [
      "91.42118084527623\n",
      "Global minimized function value : 0.7552717328071594\n"
     ]
    },
    {
     "name": "stderr",
     "output_type": "stream",
     "text": [
      "Epoch [84/90]: 100%|██████████████████████████████████████████████████████████████| 5005/5005 [00:31<00:00, 159.79it/s]\n"
     ]
    },
    {
     "name": "stdout",
     "output_type": "stream",
     "text": [
      "91.43398167452018\n",
      "Global minimized function value : 0.752389132976532\n"
     ]
    },
    {
     "name": "stderr",
     "output_type": "stream",
     "text": [
      "Epoch [85/90]: 100%|██████████████████████████████████████████████████████████████| 5005/5005 [00:33<00:00, 151.07it/s]\n"
     ]
    },
    {
     "name": "stdout",
     "output_type": "stream",
     "text": [
      "91.44795331131695\n",
      "Global minimized function value : 0.7496011853218079\n"
     ]
    },
    {
     "name": "stderr",
     "output_type": "stream",
     "text": [
      "Epoch [86/90]: 100%|██████████████████████████████████████████████████████████████| 5005/5005 [00:30<00:00, 162.13it/s]\n"
     ]
    },
    {
     "name": "stdout",
     "output_type": "stream",
     "text": [
      "91.46067608672406\n",
      "Global minimized function value : 0.7469027638435364\n"
     ]
    },
    {
     "name": "stderr",
     "output_type": "stream",
     "text": [
      "Epoch [87/90]: 100%|██████████████████████████████████████████████████████████████| 5005/5005 [00:30<00:00, 161.95it/s]\n"
     ]
    },
    {
     "name": "stdout",
     "output_type": "stream",
     "text": [
      "91.47066697784129\n",
      "Global minimized function value : 0.7442920207977295\n"
     ]
    },
    {
     "name": "stderr",
     "output_type": "stream",
     "text": [
      "Epoch [88/90]: 100%|██████████████████████████████████████████████████████████████| 5005/5005 [00:31<00:00, 157.17it/s]\n"
     ]
    },
    {
     "name": "stdout",
     "output_type": "stream",
     "text": [
      "91.47987733059\n",
      "Global minimized function value : 0.7417625784873962\n"
     ]
    },
    {
     "name": "stderr",
     "output_type": "stream",
     "text": [
      "Epoch [89/90]: 100%|██████████████████████████████████████████████████████████████| 5005/5005 [00:32<00:00, 155.12it/s]\n"
     ]
    },
    {
     "name": "stdout",
     "output_type": "stream",
     "text": [
      "91.49033654472836\n",
      "Global minimized function value : 0.7393141388893127\n"
     ]
    },
    {
     "name": "stderr",
     "output_type": "stream",
     "text": [
      "Epoch [90/90]: 100%|██████████████████████████████████████████████████████████████| 5005/5005 [00:30<00:00, 164.97it/s]"
     ]
    },
    {
     "name": "stdout",
     "output_type": "stream",
     "text": [
      "91.50181045874581\n",
      "Global minimized function value : 0.7369400858879089\n"
     ]
    },
    {
     "name": "stderr",
     "output_type": "stream",
     "text": [
      "\n"
     ]
    }
   ],
   "source": [
    "model = LogisticRegression(input_size=input_size, num_classes=nb_classe)\n",
    "model = model.to(DEVICE)\n",
    "for epoch in range(nb_epoque):\n",
    "\n",
    "    model.load_weights(torch.load(f'../data/saved_models/same_parameter_real_optimized_function/epoch-{epoch}.pt', map_location=DEVICE))    \n",
    "    \n",
    "    erreur_total_classe = torch.zeros(nb_classe, device=DEVICE)\n",
    "    \n",
    "    model.eval()\n",
    "    with torch.no_grad():\n",
    "        for inputs, labels in tqdm(train_loader, desc=f\"Epoch [{epoch+1}/{nb_epoque}]\"): \n",
    "            \n",
    "            # Move inputs and labels to the device \n",
    "            inputs = inputs.to(DEVICE) \n",
    "            labels = labels.to(DEVICE) \n",
    "      \n",
    "            # Forward pass \n",
    "            outputs = model(inputs) \n",
    "            erreur = torch.nn.functional.cross_entropy(outputs,labels,reduction='none') + weight_decay_parameter * sum(t.pow(2).sum() for t in model.state_dict().values()) / 2\n",
    "            vrai_loss = torch.mean(erreur).item() #recupère la loss du batch  \n",
    "            \n",
    "            erreur_total_classe.index_add_(0,labels,erreur)\n",
    "        print(f\"Global minimized function value : {vrai_loss}\") \n",
    "        loss_epoch.append(vrai_loss)\n",
    "        moyenne_erreur_classe_model.append((erreur_total_classe/nb_image_classe).tolist())\n",
    "            "
   ]
  },
  {
   "cell_type": "code",
   "execution_count": 57,
   "id": "4de20ac8-2ee3-4109-a085-e6decef1f287",
   "metadata": {},
   "outputs": [],
   "source": [
    "moyenne_erreur_classe_model = torch.tensor(moyenne_erreur_classe_model)\n",
    "t_k = [torch.argmin(moyenne_erreur_classe_model[:,l]).item() for l in range(nb_classe)]\n",
    "r_k = [torch.min(moyenne_erreur_classe_model[:,m]).item() for m in range(nb_classe)]\n",
    "t = torch.argmin(torch.tensor(loss_epoch))\n",
    "r_t = torch.min(torch.tensor(loss_epoch))\n",
    "decalage = torch.abs(torch.tensor(t_k) - t)\n",
    "regret = torch.abs(torch.tensor(r_k) - r_k[t])"
   ]
  },
  {
   "cell_type": "code",
   "execution_count": 68,
   "id": "99251afa-ac33-4f46-9c19-8fb2db1f4946",
   "metadata": {},
   "outputs": [
    {
     "data": {
      "image/png": "[encoded data removed]",
      "text/plain": [
       "<Figure size 640x480 with 1 Axes>"
      ]
     },
     "metadata": {},
     "output_type": "display_data"
    }
   ],
   "source": [
    "plt.plot(loss_epoch,color='black')\n",
    "for n in range(0,1000):\n",
    "    plt.plot(moyenne_erreur_classe_model[:,n])"
   ]
  },
  {
   "cell_type": "code",
   "execution_count": 89,
   "id": "613eed65-076f-4d33-a1a5-444a34e7eab5",
   "metadata": {},
   "outputs": [
    {
     "data": {
      "text/plain": [
       "tensor([  0,   0,   0,   0,   0,   0,   0,   0,   0,   0,   0,   0,   0,   0,\n",
       "          0,   0,   0,   0,   0,   0,   0,   0,   0,   0,   0,   0,   0,   0,\n",
       "          0,   0,   0,   0,   0,   0,   0,   0,   0,   0,   0,   0,   0,   0,\n",
       "          0,   0,   0,   0,   0,   0,   0,   0,   0,   0,   0,   0,   0,   0,\n",
       "          0,   0,   2, 100,  15,   2,   0,   1,   0,   0,   0,   0,   0,   0,\n",
       "          0,   0,   0,   0,   0,   0,   0,   0,   0,   0,   0,   0,   0,   0,\n",
       "          0,   0,   0,   0,   0, 880])"
      ]
     },
     "execution_count": 89,
     "metadata": {},
     "output_type": "execute_result"
    }
   ],
   "source": [
    "torch.bincount(torch.tensor(t_k))"
   ]
  },
  {
   "cell_type": "code",
   "execution_count": 112,
   "id": "5e5d1a6e-3111-4199-82e1-f7592cfd572b",
   "metadata": {},
   "outputs": [
    {
     "data": {
      "image/png": "[encoded data removed]",
      "text/plain": [
       "<Figure size 640x480 with 1 Axes>"
      ]
     },
     "metadata": {},
     "output_type": "display_data"
    }
   ],
   "source": [
    "for tens in (torch.tensor(t_k)==59).nonzero()[93:94,0]:\n",
    "    plt.plot(moyenne_erreur_classe_model[:,tens])"
   ]
  },
  {
   "cell_type": "code",
   "execution_count": 90,
   "id": "8df1243d-0505-4ce7-9abd-c5ce0f7224cb",
   "metadata": {},
   "outputs": [
    {
     "data": {
      "text/plain": [
       "[<matplotlib.lines.Line2D at 0x1de1194e0d0>]"
      ]
     },
     "execution_count": 90,
     "metadata": {},
     "output_type": "execute_result"
    },
    {
     "data": {
      "image/png": "[encoded data removed]",
      "text/plain": [
       "<Figure size 640x480 with 1 Axes>"
      ]
     },
     "metadata": {},
     "output_type": "display_data"
    }
   ],
   "source": [
    "plt.plot(moyenne_erreur_classe_model[:,349])"
   ]
  }
 ],
 "metadata": {
  "kernelspec": {
   "display_name": "Python 3 (ipykernel)",
   "language": "python",
   "name": "python3"
  },
  "language_info": {
   "codemirror_mode": {
    "name": "ipython",
    "version": 3
   },
   "file_extension": ".py",
   "mimetype": "text/x-python",
   "name": "python",
   "nbconvert_exporter": "python",
   "pygments_lexer": "ipython3",
   "version": "3.11.6"
  }
 },
 "nbformat": 4,
 "nbformat_minor": 5
}
