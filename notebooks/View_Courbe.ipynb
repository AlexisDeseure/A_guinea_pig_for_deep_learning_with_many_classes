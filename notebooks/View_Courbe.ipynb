{
 "cells": [
  {
   "cell_type": "code",
   "execution_count": 1,
   "id": "898a37ef-dc51-44e1-b695-b7f28c3c109d",
   "metadata": {},
   "outputs": [],
   "source": [
    "import torch\n",
    "import torch.nn as nn\n",
    "from torchvision import datasets, transforms\n",
    "from torchvision.models import resnet50, ResNet50_Weights\n",
    "from torch.utils.data import DataLoader, Dataset\n",
    "from tqdm import tqdm\n",
    "import matplotlib.pyplot as plt\n",
    "import json"
   ]
  },
  {
   "cell_type": "code",
   "execution_count": 2,
   "id": "07a50aaa-f76e-46e5-b49d-e6149859d3d7",
   "metadata": {},
   "outputs": [],
   "source": [
    "# Set device\n",
    "DEVICE = torch.device(\"cuda\" if torch.cuda.is_available() else \"cpu\")"
   ]
  },
  {
   "cell_type": "code",
   "execution_count": 3,
   "id": "8a709c25-8984-47e1-b1b6-62a0f9af01f8",
   "metadata": {},
   "outputs": [],
   "source": [
    "class PenultimateOutputsDataset(Dataset):\n",
    "    def __init__(self, folder_path, device='cpu'):\n",
    "        with open(f'{folder_path}/penultimate_layer_outputs/data.json') as data:\n",
    "            self.data_tensors = json.load(data)\n",
    "        self.file_list = [f'{folder_path}/penultimate_layer_outputs/penultimate_layer_outputs_{index}.pt' for index in range(self.data_tensors['last_file_indice']+1)]\n",
    "        self.labels = torch.load(f'{folder_path}/penultimate_layer_labels.pt', map_location=device)\n",
    "        self.length = self.data_tensors['min_size_segmentation']*self.data_tensors['last_file_indice']+torch.load(f'{folder_path}/penultimate_layer_outputs/penultimate_layer_outputs_{self.data_tensors[\"last_file_indice\"]}.pt', map_location=device).shape[0]\n",
    "        self.device = device\n",
    "        self.data_cache = None\n",
    "        \n",
    "    def __len__(self):\n",
    "        return self.length\n",
    "\n",
    "    def __getitem__(self, index):\n",
    "        if index < 0 or index >= self.length :\n",
    "           raise ValueError(f'Index need to be between 0 and {self.length-1}')\n",
    "        index_file = index//self.data_tensors['min_size_segmentation']\n",
    "        index_in_file = index%self.data_tensors['min_size_segmentation']\n",
    "        if (self.data_cache is None) or self.data_cache[0] != index_file :\n",
    "            file = self.file_list[index_file]\n",
    "            tensors = torch.load(file, map_location=self.device)\n",
    "            self.data_cache = (index_file, tensors)\n",
    "        tensor = self.data_cache[1][index_in_file]\n",
    "        label = self.labels[index]\n",
    "        return tensor, label\n"
   ]
  },
  {
   "cell_type": "code",
   "execution_count": 4,
   "id": "89c74146-c111-45a0-a1da-58826e413e4a",
   "metadata": {},
   "outputs": [],
   "source": [
    "outputs_folder = \"../data/saved_outputs\"\n",
    "batch_size = 256\n",
    "nb_epoque = 60\n",
    "nb_classe = 1000\n",
    "input_size = 2048\n",
    "\n",
    "\n",
    "weight_decay_parameter = 1e-4\n",
    "learning_rate = 0.1\n",
    "momentum = 0.9\n",
    "lr_decay_step = 20\n",
    "decay_rate = 0.1\n",
    "\n",
    "moyenne_erreur_classe_model = []\n",
    "list_epoch = []\n",
    "loss_epoch = []\n",
    "dataset = PenultimateOutputsDataset(outputs_folder)\n",
    "train_loader = DataLoader(dataset, batch_size=batch_size, pin_memory=True)"
   ]
  },
  {
   "cell_type": "code",
   "execution_count": 5,
   "id": "2a25b0bf-0704-40d8-90f8-080238522673",
   "metadata": {},
   "outputs": [],
   "source": [
    "class LogisticRegression(nn.Module): \n",
    "    def __init__(self, input_size, num_classes): \n",
    "        super(LogisticRegression, self).__init__() \n",
    "        self.linear = nn.Linear(input_size, num_classes) \n",
    "  \n",
    "    def forward(self, x): \n",
    "        out = self.linear(x) \n",
    "        return out "
   ]
  },
  {
   "cell_type": "code",
   "execution_count": 6,
   "id": "8902eb1d-baa4-4916-821a-4a72f5748434",
   "metadata": {},
   "outputs": [
    {
     "name": "stderr",
     "output_type": "stream",
     "text": [
      "View: 100%|████████████████████████████████████████████████████████████████████████| 5005/5005 [01:56<00:00, 42.90it/s]\n",
      "View: 100%|████████████████████████████████████████████████████████████████████████| 5005/5005 [01:52<00:00, 44.42it/s]\n",
      "View: 100%|████████████████████████████████████████████████████████████████████████| 5005/5005 [01:51<00:00, 44.73it/s]\n",
      "View: 100%|████████████████████████████████████████████████████████████████████████| 5005/5005 [01:51<00:00, 45.07it/s]\n",
      "View: 100%|████████████████████████████████████████████████████████████████████████| 5005/5005 [01:54<00:00, 43.59it/s]\n",
      "View: 100%|████████████████████████████████████████████████████████████████████████| 5005/5005 [01:57<00:00, 42.75it/s]\n",
      "View: 100%|████████████████████████████████████████████████████████████████████████| 5005/5005 [01:52<00:00, 44.60it/s]\n",
      "View: 100%|████████████████████████████████████████████████████████████████████████| 5005/5005 [01:57<00:00, 42.44it/s]\n",
      "View: 100%|████████████████████████████████████████████████████████████████████████| 5005/5005 [01:57<00:00, 42.55it/s]\n",
      "View: 100%|████████████████████████████████████████████████████████████████████████| 5005/5005 [01:56<00:00, 43.10it/s]\n",
      "View: 100%|████████████████████████████████████████████████████████████████████████| 5005/5005 [01:54<00:00, 43.59it/s]\n",
      "View: 100%|████████████████████████████████████████████████████████████████████████| 5005/5005 [01:58<00:00, 42.20it/s]\n",
      "View: 100%|████████████████████████████████████████████████████████████████████████| 5005/5005 [02:00<00:00, 41.46it/s]\n",
      "View: 100%|████████████████████████████████████████████████████████████████████████| 5005/5005 [02:00<00:00, 41.48it/s]\n",
      "View: 100%|████████████████████████████████████████████████████████████████████████| 5005/5005 [01:59<00:00, 41.92it/s]\n",
      "View: 100%|████████████████████████████████████████████████████████████████████████| 5005/5005 [01:59<00:00, 41.74it/s]\n",
      "View: 100%|████████████████████████████████████████████████████████████████████████| 5005/5005 [01:58<00:00, 42.14it/s]\n",
      "View: 100%|████████████████████████████████████████████████████████████████████████| 5005/5005 [01:58<00:00, 42.18it/s]\n",
      "View: 100%|████████████████████████████████████████████████████████████████████████| 5005/5005 [02:01<00:00, 41.35it/s]\n",
      "View: 100%|████████████████████████████████████████████████████████████████████████| 5005/5005 [01:58<00:00, 42.34it/s]\n",
      "View: 100%|████████████████████████████████████████████████████████████████████████| 5005/5005 [01:55<00:00, 43.38it/s]\n",
      "View: 100%|████████████████████████████████████████████████████████████████████████| 5005/5005 [01:56<00:00, 43.08it/s]\n",
      "View: 100%|████████████████████████████████████████████████████████████████████████| 5005/5005 [05:06<00:00, 16.34it/s]\n",
      "View: 100%|████████████████████████████████████████████████████████████████████████| 5005/5005 [01:50<00:00, 45.39it/s]\n",
      "View: 100%|████████████████████████████████████████████████████████████████████████| 5005/5005 [01:53<00:00, 44.00it/s]\n",
      "View: 100%|████████████████████████████████████████████████████████████████████████| 5005/5005 [01:51<00:00, 44.91it/s]\n",
      "View: 100%|████████████████████████████████████████████████████████████████████████| 5005/5005 [01:54<00:00, 43.81it/s]\n",
      "View: 100%|████████████████████████████████████████████████████████████████████████| 5005/5005 [01:57<00:00, 42.72it/s]\n",
      "View: 100%|████████████████████████████████████████████████████████████████████████| 5005/5005 [01:56<00:00, 43.05it/s]\n",
      "View: 100%|████████████████████████████████████████████████████████████████████████| 5005/5005 [01:55<00:00, 43.34it/s]\n",
      "View: 100%|████████████████████████████████████████████████████████████████████████| 5005/5005 [01:56<00:00, 42.87it/s]\n",
      "View: 100%|████████████████████████████████████████████████████████████████████████| 5005/5005 [01:52<00:00, 44.35it/s]\n",
      "View: 100%|████████████████████████████████████████████████████████████████████████| 5005/5005 [01:54<00:00, 43.57it/s]\n",
      "View: 100%|████████████████████████████████████████████████████████████████████████| 5005/5005 [01:55<00:00, 43.27it/s]\n",
      "View: 100%|████████████████████████████████████████████████████████████████████████| 5005/5005 [01:57<00:00, 42.54it/s]\n",
      "View: 100%|████████████████████████████████████████████████████████████████████████| 5005/5005 [01:55<00:00, 43.37it/s]\n",
      "View: 100%|████████████████████████████████████████████████████████████████████████| 5005/5005 [01:59<00:00, 42.04it/s]\n",
      "View: 100%|████████████████████████████████████████████████████████████████████████| 5005/5005 [01:56<00:00, 43.14it/s]\n",
      "View: 100%|████████████████████████████████████████████████████████████████████████| 5005/5005 [01:52<00:00, 44.46it/s]\n",
      "View: 100%|████████████████████████████████████████████████████████████████████████| 5005/5005 [01:54<00:00, 43.66it/s]\n",
      "View: 100%|████████████████████████████████████████████████████████████████████████| 5005/5005 [01:51<00:00, 44.75it/s]\n",
      "View: 100%|████████████████████████████████████████████████████████████████████████| 5005/5005 [01:55<00:00, 43.43it/s]\n",
      "View: 100%|████████████████████████████████████████████████████████████████████████| 5005/5005 [01:54<00:00, 43.71it/s]\n",
      "View: 100%|████████████████████████████████████████████████████████████████████████| 5005/5005 [01:54<00:00, 43.71it/s]\n",
      "View: 100%|████████████████████████████████████████████████████████████████████████| 5005/5005 [01:55<00:00, 43.38it/s]\n",
      "View: 100%|████████████████████████████████████████████████████████████████████████| 5005/5005 [01:51<00:00, 44.92it/s]\n",
      "View: 100%|████████████████████████████████████████████████████████████████████████| 5005/5005 [01:51<00:00, 44.84it/s]\n",
      "View: 100%|████████████████████████████████████████████████████████████████████████| 5005/5005 [01:51<00:00, 44.70it/s]\n",
      "View: 100%|████████████████████████████████████████████████████████████████████████| 5005/5005 [01:52<00:00, 44.49it/s]\n",
      "View: 100%|████████████████████████████████████████████████████████████████████████| 5005/5005 [01:54<00:00, 43.61it/s]\n",
      "View: 100%|████████████████████████████████████████████████████████████████████████| 5005/5005 [01:51<00:00, 44.97it/s]\n",
      "View: 100%|████████████████████████████████████████████████████████████████████████| 5005/5005 [01:51<00:00, 44.88it/s]\n",
      "View: 100%|████████████████████████████████████████████████████████████████████████| 5005/5005 [01:53<00:00, 43.96it/s]\n",
      "View: 100%|████████████████████████████████████████████████████████████████████████| 5005/5005 [01:50<00:00, 45.10it/s]\n",
      "View: 100%|████████████████████████████████████████████████████████████████████████| 5005/5005 [01:55<00:00, 43.29it/s]\n",
      "View: 100%|████████████████████████████████████████████████████████████████████████| 5005/5005 [01:52<00:00, 44.47it/s]\n",
      "View: 100%|████████████████████████████████████████████████████████████████████████| 5005/5005 [01:51<00:00, 45.01it/s]\n",
      "View: 100%|████████████████████████████████████████████████████████████████████████| 5005/5005 [01:51<00:00, 45.05it/s]\n",
      "View: 100%|████████████████████████████████████████████████████████████████████████| 5005/5005 [01:53<00:00, 44.13it/s]\n",
      "View: 100%|████████████████████████████████████████████████████████████████████████| 5005/5005 [01:56<00:00, 42.87it/s]\n"
     ]
    }
   ],
   "source": [
    "for i in range(nb_epoque):\n",
    "    \n",
    "    model = LogisticRegression(input_size=input_size, num_classes=nb_classe)\n",
    "    model.load_state_dict(torch.load(f'../data/saved_models/same_parameter_real_optimized_function/epoch-{i}.pt', map_location='cpu'))\n",
    "    model = model.to(DEVICE)\n",
    "    model.eval()\n",
    "    \n",
    "    list_epoch.append(i)\n",
    "    \n",
    "    erreur_total_classe = [0 for j in range(nb_classe)]\n",
    "    nb_image_classe = [0 for k in range(nb_classe)]\n",
    "    \n",
    "    model = model.to(DEVICE)\n",
    "    model.eval()\n",
    "    with torch.no_grad():\n",
    "        for inputs, labels in tqdm(train_loader, desc=\"View\"): \n",
    "            i_image = 0\n",
    "            \n",
    "            # Move inputs and labels to the device \n",
    "            inputs = inputs.to(DEVICE) \n",
    "            labels = labels.to(DEVICE) \n",
    "      \n",
    "            # Forward pass \n",
    "            outputs = model(inputs) \n",
    "            erreur = torch.nn.functional.cross_entropy(outputs,labels,reduction='none') + weight_decay_parameter * sum(t.pow(2).sum().item() for t in model.state_dict().values()) / 2\n",
    "            vrai_loss = torch.mean(erreur).item() #recupère la loss du batch            \n",
    "        \n",
    "            \n",
    "            for val in erreur:\n",
    "                erreur_total_classe[labels[i_image].item()] += val.item()\n",
    "                nb_image_classe[labels[i_image].item()] += 1    \n",
    "                i_image+=1\n",
    "                \n",
    "        loss_epoch.append(vrai_loss)\n",
    "        moyenne_erreur_classe_model.append((torch.tensor(erreur_total_classe)/torch.tensor(nb_image_classe)).tolist())\n",
    "            "
   ]
  },
  {
   "cell_type": "code",
   "execution_count": 47,
   "id": "4de20ac8-2ee3-4109-a085-e6decef1f287",
   "metadata": {},
   "outputs": [
    {
     "name": "stderr",
     "output_type": "stream",
     "text": [
      "C:\\Users\\vince\\AppData\\Local\\Temp\\ipykernel_5204\\3974974189.py:1: UserWarning: To copy construct from a tensor, it is recommended to use sourceTensor.clone().detach() or sourceTensor.clone().detach().requires_grad_(True), rather than torch.tensor(sourceTensor).\n",
      "  moyenne_erreur_classe_model = torch.tensor(moyenne_erreur_classe_model)\n"
     ]
    }
   ],
   "source": [
    "moyenne_erreur_classe_model = torch.tensor(moyenne_erreur_classe_model)\n",
    "t_k = [torch.argmin(moyenne_erreur_classe_model[l]).item() for l in range(nb_classe)]\n",
    "r_k = [torch.min(moyenne_erreur_classe_model[m]).item() for m in range(nb_classe)]\n",
    "t = torch.argmin(loss_epoch)\n",
    "r_t = torch.min(loss_epoch)\n",
    "decalage = torch.abs(torch.tensor(t_k) - t.item())\n",
    "regret = torch.abs(torch.tensor(r_k) - r_k[t])"
   ]
  },
  {
   "cell_type": "code",
   "execution_count": 48,
   "id": "99251afa-ac33-4f46-9c19-8fb2db1f4946",
   "metadata": {},
   "outputs": [
    {
     "data": {
      "image/png": "[encoded data removed]",
      "text/plain": [
       "<Figure size 640x480 with 1 Axes>"
      ]
     },
     "metadata": {},
     "output_type": "display_data"
    }
   ],
   "source": [
    "plt.plot(list_epoch,loss_epoch,color='black')\n",
    "for n in range(10,15):\n",
    "    plt.plot(list_epoch,moyenne_erreur_classe_model[n])"
   ]
  }
 ],
 "metadata": {
  "kernelspec": {
   "display_name": "Python 3 (ipykernel)",
   "language": "python",
   "name": "python3"
  },
  "language_info": {
   "codemirror_mode": {
    "name": "ipython",
    "version": 3
   },
   "file_extension": ".py",
   "mimetype": "text/x-python",
   "name": "python",
   "nbconvert_exporter": "python",
   "pygments_lexer": "ipython3",
   "version": "3.10.6"
  }
 },
 "nbformat": 4,
 "nbformat_minor": 5
}
