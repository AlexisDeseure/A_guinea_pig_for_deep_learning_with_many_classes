{
 "cells": [
  {
   "cell_type": "code",
   "execution_count": 1,
   "id": "2c5b9edb-bec4-4c75-b9a7-33109c35ff2e",
   "metadata": {},
   "outputs": [],
   "source": [
    "import torch\n",
    "from torch.utils.data import Dataset, DataLoader \n",
    "import torch.nn as nn\n",
    "from torchinfo import summary \n",
    "from tqdm import tqdm\n",
    "import json\n",
    "import matplotlib.pyplot as plt\n",
    "import os"
   ]
  },
  {
   "cell_type": "code",
   "execution_count": 2,
   "id": "e4b2e2bd-88c1-49b6-8e7a-5ea1f5ecf93a",
   "metadata": {},
   "outputs": [],
   "source": [
    "# Utilisation du GPU si disponible\n",
    "DEVICE = torch.device(\"cuda\" if torch.cuda.is_available() else \"cpu\")"
   ]
  },
  {
   "cell_type": "code",
   "execution_count": 3,
   "id": "f193b49b-64d9-4059-8faa-e11bea16cd50",
   "metadata": {},
   "outputs": [],
   "source": [
    "# Dataset personnalisé avec les outputs de l'avant dernière couche du RESNET50 pour les images du dataset de train ImageNet\n",
    "class PenultimateOutputsDataset(Dataset):\n",
    "    def __init__(self, folder_path, device='cpu'):\n",
    "        with open(f'{folder_path}/penultimate_layer_outputs/data.json') as data:\n",
    "            self.data_tensors = json.load(data)\n",
    "        self.file_list = [f'{folder_path}/penultimate_layer_outputs/penultimate_layer_outputs_{index}.pt' for index in range(self.data_tensors['last_file_indice']+1)]\n",
    "        self.labels = torch.load(f'{folder_path}/penultimate_layer_labels.pt', map_location=device)\n",
    "        self.length = self.data_tensors['min_size_segmentation']*self.data_tensors['last_file_indice']+torch.load(f'{folder_path}/penultimate_layer_outputs/penultimate_layer_outputs_{self.data_tensors[\"last_file_indice\"]}.pt', map_location=device).shape[0]\n",
    "        self.device = device\n",
    "        self.data_cache = None\n",
    "        \n",
    "    def __len__(self):\n",
    "        return self.length\n",
    "\n",
    "    def __getitem__(self, index):\n",
    "        if index < 0 or index >= self.length :\n",
    "           raise ValueError(f'Index need to be between 0 and {self.length-1}')\n",
    "        index_file = index//self.data_tensors['min_size_segmentation']\n",
    "        index_in_file = index%self.data_tensors['min_size_segmentation']\n",
    "        if (self.data_cache is None) or self.data_cache[0] != index_file :\n",
    "            file = self.file_list[index_file]\n",
    "            tensors = torch.load(file, map_location=self.device)\n",
    "            self.data_cache = (index_file, tensors)\n",
    "        tensor = self.data_cache[1][index_in_file]\n",
    "        label = self.labels[index]\n",
    "        return tensor, label\n"
   ]
  },
  {
   "cell_type": "code",
   "execution_count": 4,
   "id": "ddbe9159-0647-45bc-ba6f-dc3405c05e12",
   "metadata": {},
   "outputs": [],
   "source": [
    "# Définition des constantes et des hyper-paramètres\n",
    "\n",
    "outputs_folder = \"../data/saved_outputs/train\"\n",
    "common_subfolders_name = \"weight_decay_\"\n",
    "models_folder = \"../data/saved_models/various_weight_decay_models\"\n",
    "if not os.path.exists(models_folder):\n",
    "    os.makedirs(models_folder)\n",
    "    \n",
    "input_size = 2048\n",
    "num_classes = 1000\n",
    "\n",
    "batch_size = 256\n",
    "num_epochs = 90\n",
    "\n",
    "num_weight_decay = 9\n",
    "weight_decay_parameters = torch.logspace(-6,-2, num_weight_decay)\n",
    "learning_rate = 0.1\n",
    "momentum = 0.9\n",
    "lr_decay_step = 30\n",
    "decay_rate = 0.1\n"
   ]
  },
  {
   "cell_type": "code",
   "execution_count": 5,
   "id": "9d81593e-319d-41d0-b7f6-082bcf503355",
   "metadata": {},
   "outputs": [
    {
     "data": {
      "text/plain": [
       "1281167"
      ]
     },
     "execution_count": 5,
     "metadata": {},
     "output_type": "execute_result"
    }
   ],
   "source": [
    "# Instanciation du dataset et du dataloader\n",
    "dataset = PenultimateOutputsDataset(outputs_folder)\n",
    "train_loader = DataLoader(dataset, batch_size=batch_size, pin_memory=True)\n",
    "len(dataset)"
   ]
  },
  {
   "cell_type": "code",
   "execution_count": 6,
   "id": "b361da8f-0734-4df2-9eb1-cf9a229981db",
   "metadata": {},
   "outputs": [],
   "source": [
    "torch.manual_seed(0) # Reproductibilité de l'expérience\n",
    "\n",
    "# Définition du modèle de régression logistique avec torch \n",
    "class LogisticRegression(nn.Module): \n",
    "    def __init__(self, input_size, num_classes): \n",
    "        super(LogisticRegression, self).__init__() \n",
    "        self.linear = nn.Linear(input_size, num_classes) \n",
    "  \n",
    "    def forward(self, x): \n",
    "        out = self.linear(x) \n",
    "        return out "
   ]
  },
  {
   "cell_type": "code",
   "execution_count": 7,
   "id": "169ff55c-d13a-4450-92ff-495e64cf55b3",
   "metadata": {},
   "outputs": [
    {
     "name": "stdout",
     "output_type": "stream",
     "text": [
      "Processing step 1/9, weight decay = 1.000e-06.\n"
     ]
    },
    {
     "name": "stderr",
     "output_type": "stream",
     "text": [
      "Epoch [1/90]: 100%|███████████████████████████████████████████████████████████████| 5005/5005 [00:36<00:00, 136.21it/s]\n"
     ]
    },
    {
     "name": "stdout",
     "output_type": "stream",
     "text": [
      ">> Accuracy: 8.454791607963676 %\n",
      "-- Loss: 39.4916877746582\n",
      "-- Complete optimized function value: 39.74224853515625\n"
     ]
    },
    {
     "name": "stderr",
     "output_type": "stream",
     "text": [
      "Epoch [2/90]: 100%|███████████████████████████████████████████████████████████████| 5005/5005 [00:36<00:00, 137.13it/s]\n"
     ]
    },
    {
     "name": "stdout",
     "output_type": "stream",
     "text": [
      ">> Accuracy: 61.90114169347166 %\n",
      "-- Loss: 21.195581436157227\n",
      "-- Complete optimized function value: 21.489025115966797\n"
     ]
    },
    {
     "name": "stderr",
     "output_type": "stream",
     "text": [
      "Epoch [3/90]: 100%|███████████████████████████████████████████████████████████████| 5005/5005 [00:36<00:00, 136.04it/s]\n"
     ]
    },
    {
     "name": "stdout",
     "output_type": "stream",
     "text": [
      ">> Accuracy: 72.09903158604617 %\n",
      "-- Loss: 14.347871780395508\n",
      "-- Complete optimized function value: 14.6565523147583\n"
     ]
    },
    {
     "name": "stderr",
     "output_type": "stream",
     "text": [
      "Epoch [4/90]: 100%|███████████████████████████████████████████████████████████████| 5005/5005 [00:36<00:00, 135.67it/s]\n"
     ]
    },
    {
     "name": "stdout",
     "output_type": "stream",
     "text": [
      ">> Accuracy: 76.4551381669993 %\n",
      "-- Loss: 10.762030601501465\n",
      "-- Complete optimized function value: 11.075008392333984\n"
     ]
    },
    {
     "name": "stderr",
     "output_type": "stream",
     "text": [
      "Epoch [5/90]: 100%|███████████████████████████████████████████████████████████████| 5005/5005 [00:36<00:00, 135.54it/s]\n"
     ]
    },
    {
     "name": "stdout",
     "output_type": "stream",
     "text": [
      ">> Accuracy: 78.11963623789873 %\n",
      "-- Loss: 9.570527076721191\n",
      "-- Complete optimized function value: 9.885831832885742\n"
     ]
    },
    {
     "name": "stderr",
     "output_type": "stream",
     "text": [
      "Epoch [6/90]: 100%|███████████████████████████████████████████████████████████████| 5005/5005 [00:36<00:00, 136.17it/s]\n"
     ]
    },
    {
     "name": "stdout",
     "output_type": "stream",
     "text": [
      ">> Accuracy: 79.32650466332649 %\n",
      "-- Loss: 9.280062675476074\n",
      "-- Complete optimized function value: 9.595479011535645\n"
     ]
    },
    {
     "name": "stderr",
     "output_type": "stream",
     "text": [
      "Epoch [7/90]: 100%|███████████████████████████████████████████████████████████████| 5005/5005 [00:37<00:00, 134.80it/s]\n"
     ]
    },
    {
     "name": "stdout",
     "output_type": "stream",
     "text": [
      ">> Accuracy: 79.7852270625141 %\n",
      "-- Loss: 8.976760864257812\n",
      "-- Complete optimized function value: 9.29271411895752\n"
     ]
    },
    {
     "name": "stderr",
     "output_type": "stream",
     "text": [
      "Epoch [8/90]: 100%|███████████████████████████████████████████████████████████████| 5005/5005 [00:37<00:00, 134.89it/s]\n"
     ]
    },
    {
     "name": "stdout",
     "output_type": "stream",
     "text": [
      ">> Accuracy: 80.28680101813424 %\n",
      "-- Loss: 8.742135047912598\n",
      "-- Complete optimized function value: 9.058304786682129\n"
     ]
    },
    {
     "name": "stderr",
     "output_type": "stream",
     "text": [
      "Epoch [9/90]: 100%|███████████████████████████████████████████████████████████████| 5005/5005 [00:37<00:00, 134.57it/s]\n"
     ]
    },
    {
     "name": "stdout",
     "output_type": "stream",
     "text": [
      ">> Accuracy: 80.5428176030135 %\n",
      "-- Loss: 8.485804557800293\n",
      "-- Complete optimized function value: 8.80234432220459\n"
     ]
    },
    {
     "name": "stderr",
     "output_type": "stream",
     "text": [
      "Epoch [10/90]: 100%|██████████████████████████████████████████████████████████████| 5005/5005 [00:36<00:00, 137.42it/s]\n"
     ]
    },
    {
     "name": "stdout",
     "output_type": "stream",
     "text": [
      ">> Accuracy: 80.91685158921514 %\n",
      "-- Loss: 8.085623741149902\n",
      "-- Complete optimized function value: 8.402020454406738\n"
     ]
    },
    {
     "name": "stderr",
     "output_type": "stream",
     "text": [
      "Epoch [11/90]: 100%|██████████████████████████████████████████████████████████████| 5005/5005 [00:36<00:00, 139.01it/s]\n"
     ]
    },
    {
     "name": "stdout",
     "output_type": "stream",
     "text": [
      ">> Accuracy: 80.9578298535632 %\n",
      "-- Loss: 7.594228744506836\n",
      "-- Complete optimized function value: 7.911795616149902\n"
     ]
    },
    {
     "name": "stderr",
     "output_type": "stream",
     "text": [
      "Epoch [12/90]: 100%|██████████████████████████████████████████████████████████████| 5005/5005 [00:37<00:00, 135.26it/s]\n"
     ]
    },
    {
     "name": "stdout",
     "output_type": "stream",
     "text": [
      ">> Accuracy: 81.32577564049028 %\n",
      "-- Loss: 7.182719707489014\n",
      "-- Complete optimized function value: 7.500428676605225\n"
     ]
    },
    {
     "name": "stderr",
     "output_type": "stream",
     "text": [
      "Epoch [13/90]: 100%|██████████████████████████████████████████████████████████████| 5005/5005 [00:37<00:00, 134.97it/s]\n"
     ]
    },
    {
     "name": "stdout",
     "output_type": "stream",
     "text": [
      ">> Accuracy: 81.3218729486476 %\n",
      "-- Loss: 6.877143383026123\n",
      "-- Complete optimized function value: 7.195843696594238\n"
     ]
    },
    {
     "name": "stderr",
     "output_type": "stream",
     "text": [
      "Epoch [14/90]: 100%|██████████████████████████████████████████████████████████████| 5005/5005 [00:37<00:00, 131.95it/s]\n"
     ]
    },
    {
     "name": "stdout",
     "output_type": "stream",
     "text": [
      ">> Accuracy: 81.56165433546134 %\n",
      "-- Loss: 6.622303485870361\n",
      "-- Complete optimized function value: 6.9420247077941895\n"
     ]
    },
    {
     "name": "stderr",
     "output_type": "stream",
     "text": [
      "Epoch [15/90]: 100%|██████████████████████████████████████████████████████████████| 5005/5005 [00:37<00:00, 132.58it/s]\n"
     ]
    },
    {
     "name": "stdout",
     "output_type": "stream",
     "text": [
      ">> Accuracy: 81.57406489552103 %\n",
      "-- Loss: 6.368736267089844\n",
      "-- Complete optimized function value: 6.68966817855835\n"
     ]
    },
    {
     "name": "stderr",
     "output_type": "stream",
     "text": [
      "Epoch [16/90]: 100%|██████████████████████████████████████████████████████████████| 5005/5005 [00:38<00:00, 129.40it/s]\n"
     ]
    },
    {
     "name": "stdout",
     "output_type": "stream",
     "text": [
      ">> Accuracy: 81.8417895559283 %\n",
      "-- Loss: 6.082594394683838\n",
      "-- Complete optimized function value: 6.404461860656738\n"
     ]
    },
    {
     "name": "stderr",
     "output_type": "stream",
     "text": [
      "Epoch [17/90]: 100%|██████████████████████████████████████████████████████████████| 5005/5005 [00:37<00:00, 133.65it/s]\n"
     ]
    },
    {
     "name": "stdout",
     "output_type": "stream",
     "text": [
      ">> Accuracy: 81.72751873877488 %\n",
      "-- Loss: 5.800743103027344\n",
      "-- Complete optimized function value: 6.124596118927002\n"
     ]
    },
    {
     "name": "stderr",
     "output_type": "stream",
     "text": [
      "Epoch [18/90]: 100%|██████████████████████████████████████████████████████████████| 5005/5005 [00:37<00:00, 132.80it/s]\n"
     ]
    },
    {
     "name": "stdout",
     "output_type": "stream",
     "text": [
      ">> Accuracy: 82.06268191422352 %\n",
      "-- Loss: 5.543192386627197\n",
      "-- Complete optimized function value: 5.868131637573242\n"
     ]
    },
    {
     "name": "stderr",
     "output_type": "stream",
     "text": [
      "Epoch [19/90]: 100%|██████████████████████████████████████████████████████████████| 5005/5005 [00:37<00:00, 132.35it/s]\n"
     ]
    },
    {
     "name": "stdout",
     "output_type": "stream",
     "text": [
      ">> Accuracy: 81.94107403640587 %\n",
      "-- Loss: 5.3036346435546875\n",
      "-- Complete optimized function value: 5.630520820617676\n"
     ]
    },
    {
     "name": "stderr",
     "output_type": "stream",
     "text": [
      "Epoch [20/90]: 100%|██████████████████████████████████████████████████████████████| 5005/5005 [00:37<00:00, 133.88it/s]\n"
     ]
    },
    {
     "name": "stdout",
     "output_type": "stream",
     "text": [
      ">> Accuracy: 82.17703078521379 %\n",
      "-- Loss: 5.088953018188477\n",
      "-- Complete optimized function value: 5.417547225952148\n"
     ]
    },
    {
     "name": "stderr",
     "output_type": "stream",
     "text": [
      "Epoch [21/90]: 100%|██████████████████████████████████████████████████████████████| 5005/5005 [00:37<00:00, 132.87it/s]\n"
     ]
    },
    {
     "name": "stdout",
     "output_type": "stream",
     "text": [
      ">> Accuracy: 82.10935810866187 %\n",
      "-- Loss: 4.889261245727539\n",
      "-- Complete optimized function value: 5.220004081726074\n"
     ]
    },
    {
     "name": "stderr",
     "output_type": "stream",
     "text": [
      "Epoch [22/90]: 100%|██████████████████████████████████████████████████████████████| 5005/5005 [00:43<00:00, 114.35it/s]\n"
     ]
    },
    {
     "name": "stdout",
     "output_type": "stream",
     "text": [
      ">> Accuracy: 82.2955165095573 %\n",
      "-- Loss: 4.702630519866943\n",
      "-- Complete optimized function value: 5.035473823547363\n"
     ]
    },
    {
     "name": "stderr",
     "output_type": "stream",
     "text": [
      "Epoch [23/90]: 100%|██████████████████████████████████████████████████████████████| 5005/5005 [00:40<00:00, 123.50it/s]\n"
     ]
    },
    {
     "name": "stdout",
     "output_type": "stream",
     "text": [
      ">> Accuracy: 82.26203141354718 %\n",
      "-- Loss: 4.526398658752441\n",
      "-- Complete optimized function value: 4.861507892608643\n"
     ]
    },
    {
     "name": "stderr",
     "output_type": "stream",
     "text": [
      "Epoch [24/90]: 100%|██████████████████████████████████████████████████████████████| 5005/5005 [00:41<00:00, 120.28it/s]\n"
     ]
    },
    {
     "name": "stdout",
     "output_type": "stream",
     "text": [
      ">> Accuracy: 82.51313060670466 %\n",
      "-- Loss: 4.367766857147217\n",
      "-- Complete optimized function value: 4.704834461212158\n"
     ]
    },
    {
     "name": "stderr",
     "output_type": "stream",
     "text": [
      "Epoch [25/90]: 100%|██████████████████████████████████████████████████████████████| 5005/5005 [00:39<00:00, 125.32it/s]\n"
     ]
    },
    {
     "name": "stdout",
     "output_type": "stream",
     "text": [
      ">> Accuracy: 82.37216537734737 %\n",
      "-- Loss: 4.2212347984313965\n",
      "-- Complete optimized function value: 4.561081886291504\n"
     ]
    },
    {
     "name": "stderr",
     "output_type": "stream",
     "text": [
      "Epoch [26/90]: 100%|██████████████████████████████████████████████████████████████| 5005/5005 [00:38<00:00, 128.88it/s]\n"
     ]
    },
    {
     "name": "stdout",
     "output_type": "stream",
     "text": [
      ">> Accuracy: 82.63762647648589 %\n",
      "-- Loss: 4.087313652038574\n",
      "-- Complete optimized function value: 4.429201602935791\n"
     ]
    },
    {
     "name": "stderr",
     "output_type": "stream",
     "text": [
      "Epoch [27/90]: 100%|██████████████████████████████████████████████████████████████| 5005/5005 [00:36<00:00, 136.49it/s]\n"
     ]
    },
    {
     "name": "stdout",
     "output_type": "stream",
     "text": [
      ">> Accuracy: 82.46723495063485 %\n",
      "-- Loss: 3.941706418991089\n",
      "-- Complete optimized function value: 4.286652088165283\n"
     ]
    },
    {
     "name": "stderr",
     "output_type": "stream",
     "text": [
      "Epoch [28/90]: 100%|██████████████████████████████████████████████████████████████| 5005/5005 [00:36<00:00, 136.56it/s]\n"
     ]
    },
    {
     "name": "stdout",
     "output_type": "stream",
     "text": [
      ">> Accuracy: 82.76524449974126 %\n",
      "-- Loss: 3.8144779205322266\n",
      "-- Complete optimized function value: 4.161630153656006\n"
     ]
    },
    {
     "name": "stderr",
     "output_type": "stream",
     "text": [
      "Epoch [29/90]: 100%|██████████████████████████████████████████████████████████████| 5005/5005 [00:36<00:00, 136.15it/s]\n"
     ]
    },
    {
     "name": "stdout",
     "output_type": "stream",
     "text": [
      ">> Accuracy: 82.60367305745464 %\n",
      "-- Loss: 3.6694753170013428\n",
      "-- Complete optimized function value: 4.0198187828063965\n"
     ]
    },
    {
     "name": "stderr",
     "output_type": "stream",
     "text": [
      "Epoch [30/90]: 100%|██████████████████████████████████████████████████████████████| 5005/5005 [00:35<00:00, 140.00it/s]\n"
     ]
    },
    {
     "name": "stdout",
     "output_type": "stream",
     "text": [
      ">> Accuracy: 82.91604451254209 %\n",
      "-- Loss: 3.5260040760040283\n",
      "-- Complete optimized function value: 3.878535270690918\n"
     ]
    },
    {
     "name": "stderr",
     "output_type": "stream",
     "text": [
      "Epoch [31/90]: 100%|██████████████████████████████████████████████████████████████| 5005/5005 [00:36<00:00, 137.56it/s]\n"
     ]
    },
    {
     "name": "stdout",
     "output_type": "stream",
     "text": [
      ">> Accuracy: 85.28583705324911 %\n",
      "-- Loss: 1.745184063911438\n",
      "-- Complete optimized function value: 2.095613479614258\n"
     ]
    },
    {
     "name": "stderr",
     "output_type": "stream",
     "text": [
      "Epoch [32/90]: 100%|██████████████████████████████████████████████████████████████| 5005/5005 [00:36<00:00, 137.79it/s]\n"
     ]
    },
    {
     "name": "stdout",
     "output_type": "stream",
     "text": [
      ">> Accuracy: 89.0503736046901 %\n",
      "-- Loss: 1.7338340282440186\n",
      "-- Complete optimized function value: 2.082685708999634\n"
     ]
    },
    {
     "name": "stderr",
     "output_type": "stream",
     "text": [
      "Epoch [33/90]: 100%|██████████████████████████████████████████████████████████████| 5005/5005 [00:38<00:00, 130.79it/s]\n"
     ]
    },
    {
     "name": "stdout",
     "output_type": "stream",
     "text": [
      ">> Accuracy: 90.10058797955301 %\n",
      "-- Loss: 1.7001169919967651\n",
      "-- Complete optimized function value: 2.047584056854248\n"
     ]
    },
    {
     "name": "stderr",
     "output_type": "stream",
     "text": [
      "Epoch [34/90]: 100%|██████████████████████████████████████████████████████████████| 5005/5005 [00:38<00:00, 130.47it/s]\n"
     ]
    },
    {
     "name": "stdout",
     "output_type": "stream",
     "text": [
      ">> Accuracy: 90.57164288496348 %\n",
      "-- Loss: 1.6606788635253906\n",
      "-- Complete optimized function value: 2.006856918334961\n"
     ]
    },
    {
     "name": "stderr",
     "output_type": "stream",
     "text": [
      "Epoch [35/90]: 100%|██████████████████████████████████████████████████████████████| 5005/5005 [00:39<00:00, 126.11it/s]\n"
     ]
    },
    {
     "name": "stdout",
     "output_type": "stream",
     "text": [
      ">> Accuracy: 90.82836195437442 %\n",
      "-- Loss: 1.6205500364303589\n",
      "-- Complete optimized function value: 1.9654948711395264\n"
     ]
    },
    {
     "name": "stderr",
     "output_type": "stream",
     "text": [
      "Epoch [36/90]: 100%|██████████████████████████████████████████████████████████████| 5005/5005 [00:38<00:00, 131.25it/s]\n"
     ]
    },
    {
     "name": "stdout",
     "output_type": "stream",
     "text": [
      ">> Accuracy: 90.98298660518105 %\n",
      "-- Loss: 1.5840883255004883\n",
      "-- Complete optimized function value: 1.927837610244751\n"
     ]
    },
    {
     "name": "stderr",
     "output_type": "stream",
     "text": [
      "Epoch [37/90]: 100%|██████████████████████████████████████████████████████████████| 5005/5005 [00:36<00:00, 136.64it/s]\n"
     ]
    },
    {
     "name": "stdout",
     "output_type": "stream",
     "text": [
      ">> Accuracy: 91.10162843719827 %\n",
      "-- Loss: 1.5515865087509155\n",
      "-- Complete optimized function value: 1.8941681385040283\n"
     ]
    },
    {
     "name": "stderr",
     "output_type": "stream",
     "text": [
      "Epoch [38/90]: 100%|██████████████████████████████████████████████████████████████| 5005/5005 [00:37<00:00, 132.79it/s]\n"
     ]
    },
    {
     "name": "stdout",
     "output_type": "stream",
     "text": [
      ">> Accuracy: 91.18132140462562 %\n",
      "-- Loss: 1.5222477912902832\n",
      "-- Complete optimized function value: 1.8636837005615234\n"
     ]
    },
    {
     "name": "stderr",
     "output_type": "stream",
     "text": [
      "Epoch [39/90]: 100%|██████████████████████████████████████████████████████████████| 5005/5005 [00:38<00:00, 131.71it/s]\n"
     ]
    },
    {
     "name": "stdout",
     "output_type": "stream",
     "text": [
      ">> Accuracy: 91.24946240419867 %\n",
      "-- Loss: 1.4965931177139282\n",
      "-- Complete optimized function value: 1.8369019031524658\n"
     ]
    },
    {
     "name": "stderr",
     "output_type": "stream",
     "text": [
      "Epoch [40/90]: 100%|██████████████████████████████████████████████████████████████| 5005/5005 [00:37<00:00, 133.05it/s]\n"
     ]
    },
    {
     "name": "stdout",
     "output_type": "stream",
     "text": [
      ">> Accuracy: 91.30511478987516 %\n",
      "-- Loss: 1.4737203121185303\n",
      "-- Complete optimized function value: 1.8129181861877441\n"
     ]
    },
    {
     "name": "stderr",
     "output_type": "stream",
     "text": [
      "Epoch [41/90]: 100%|██████████████████████████████████████████████████████████████| 5005/5005 [00:37<00:00, 132.40it/s]\n"
     ]
    },
    {
     "name": "stdout",
     "output_type": "stream",
     "text": [
      ">> Accuracy: 91.35545951464563 %\n",
      "-- Loss: 1.4531484842300415\n",
      "-- Complete optimized function value: 1.7912499904632568\n"
     ]
    },
    {
     "name": "stderr",
     "output_type": "stream",
     "text": [
      "Epoch [42/90]: 100%|██████████████████████████████████████████████████████████████| 5005/5005 [00:37<00:00, 132.28it/s]\n"
     ]
    },
    {
     "name": "stdout",
     "output_type": "stream",
     "text": [
      ">> Accuracy: 91.39596945597256 %\n",
      "-- Loss: 1.4338890314102173\n",
      "-- Complete optimized function value: 1.7709072828292847\n"
     ]
    },
    {
     "name": "stderr",
     "output_type": "stream",
     "text": [
      "Epoch [43/90]: 100%|██████████████████████████████████████████████████████████████| 5005/5005 [00:37<00:00, 134.79it/s]\n"
     ]
    },
    {
     "name": "stdout",
     "output_type": "stream",
     "text": [
      ">> Accuracy: 91.43452805137815 %\n",
      "-- Loss: 1.4153310060501099\n",
      "-- Complete optimized function value: 1.7512784004211426\n"
     ]
    },
    {
     "name": "stderr",
     "output_type": "stream",
     "text": [
      "Epoch [44/90]: 100%|██████████████████████████████████████████████████████████████| 5005/5005 [00:37<00:00, 132.02it/s]\n"
     ]
    },
    {
     "name": "stdout",
     "output_type": "stream",
     "text": [
      ">> Accuracy: 91.46824730889884 %\n",
      "-- Loss: 1.397111177444458\n",
      "-- Complete optimized function value: 1.7319992780685425\n"
     ]
    },
    {
     "name": "stderr",
     "output_type": "stream",
     "text": [
      "Epoch [45/90]: 100%|██████████████████████████████████████████████████████████████| 5005/5005 [00:37<00:00, 133.95it/s]\n"
     ]
    },
    {
     "name": "stdout",
     "output_type": "stream",
     "text": [
      ">> Accuracy: 91.4982980360874 %\n",
      "-- Loss: 1.3788495063781738\n",
      "-- Complete optimized function value: 1.7126891613006592\n"
     ]
    },
    {
     "name": "stderr",
     "output_type": "stream",
     "text": [
      "Epoch [46/90]: 100%|██████████████████████████████████████████████████████████████| 5005/5005 [00:37<00:00, 133.90it/s]\n"
     ]
    },
    {
     "name": "stdout",
     "output_type": "stream",
     "text": [
      ">> Accuracy: 91.527802386418 %\n",
      "-- Loss: 1.3609095811843872\n",
      "-- Complete optimized function value: 1.693711280822754\n"
     ]
    },
    {
     "name": "stderr",
     "output_type": "stream",
     "text": [
      "Epoch [47/90]: 100%|██████████████████████████████████████████████████████████████| 5005/5005 [00:37<00:00, 134.19it/s]\n"
     ]
    },
    {
     "name": "stdout",
     "output_type": "stream",
     "text": [
      ">> Accuracy: 91.55964835185421 %\n",
      "-- Loss: 1.3435755968093872\n",
      "-- Complete optimized function value: 1.6753491163253784\n"
     ]
    },
    {
     "name": "stderr",
     "output_type": "stream",
     "text": [
      "Epoch [48/90]: 100%|██████████████████████████████████████████████████████████████| 5005/5005 [00:37<00:00, 134.78it/s]\n"
     ]
    },
    {
     "name": "stdout",
     "output_type": "stream",
     "text": [
      ">> Accuracy: 91.58431336429989 %\n",
      "-- Loss: 1.3265630006790161\n",
      "-- Complete optimized function value: 1.657317876815796\n"
     ]
    },
    {
     "name": "stderr",
     "output_type": "stream",
     "text": [
      "Epoch [49/90]: 100%|██████████████████████████████████████████████████████████████| 5005/5005 [00:36<00:00, 135.75it/s]\n"
     ]
    },
    {
     "name": "stdout",
     "output_type": "stream",
     "text": [
      ">> Accuracy: 91.6106175073195 %\n",
      "-- Loss: 1.3098005056381226\n",
      "-- Complete optimized function value: 1.6395460367202759\n"
     ]
    },
    {
     "name": "stderr",
     "output_type": "stream",
     "text": [
      "Epoch [50/90]: 100%|██████████████████████████████████████████████████████████████| 5005/5005 [00:37<00:00, 134.00it/s]\n"
     ]
    },
    {
     "name": "stdout",
     "output_type": "stream",
     "text": [
      ">> Accuracy: 91.63411171221239 %\n",
      "-- Loss: 1.2933309078216553\n",
      "-- Complete optimized function value: 1.6220760345458984\n"
     ]
    },
    {
     "name": "stderr",
     "output_type": "stream",
     "text": [
      "Epoch [51/90]: 100%|██████████████████████████████████████████████████████████████| 5005/5005 [00:37<00:00, 133.91it/s]\n"
     ]
    },
    {
     "name": "stdout",
     "output_type": "stream",
     "text": [
      ">> Accuracy: 91.65456181746798 %\n",
      "-- Loss: 1.2771403789520264\n",
      "-- Complete optimized function value: 1.6048938035964966\n"
     ]
    },
    {
     "name": "stderr",
     "output_type": "stream",
     "text": [
      "Epoch [52/90]: 100%|██████████████████████████████████████████████████████████████| 5005/5005 [00:37<00:00, 133.40it/s]\n"
     ]
    },
    {
     "name": "stdout",
     "output_type": "stream",
     "text": [
      ">> Accuracy: 91.6789926684031 %\n",
      "-- Loss: 1.261218786239624\n",
      "-- Complete optimized function value: 1.5879889726638794\n"
     ]
    },
    {
     "name": "stderr",
     "output_type": "stream",
     "text": [
      "Epoch [53/90]: 100%|██████████████████████████████████████████████████████████████| 5005/5005 [00:37<00:00, 133.42it/s]\n"
     ]
    },
    {
     "name": "stdout",
     "output_type": "stream",
     "text": [
      ">> Accuracy: 91.70155022725375 %\n",
      "-- Loss: 1.2455757856369019\n",
      "-- Complete optimized function value: 1.571371078491211\n"
     ]
    },
    {
     "name": "stderr",
     "output_type": "stream",
     "text": [
      "Epoch [54/90]: 100%|██████████████████████████████████████████████████████████████| 5005/5005 [00:37<00:00, 134.30it/s]\n"
     ]
    },
    {
     "name": "stdout",
     "output_type": "stream",
     "text": [
      ">> Accuracy: 91.72410778610438 %\n",
      "-- Loss: 1.2301939725875854\n",
      "-- Complete optimized function value: 1.5550222396850586\n"
     ]
    },
    {
     "name": "stderr",
     "output_type": "stream",
     "text": [
      "Epoch [55/90]: 100%|██████████████████████████████████████████████████████████████| 5005/5005 [00:37<00:00, 134.33it/s]\n"
     ]
    },
    {
     "name": "stdout",
     "output_type": "stream",
     "text": [
      ">> Accuracy: 91.7438554068283 %\n",
      "-- Loss: 1.215048909187317\n",
      "-- Complete optimized function value: 1.5389180183410645\n"
     ]
    },
    {
     "name": "stderr",
     "output_type": "stream",
     "text": [
      "Epoch [56/90]: 100%|██████████████████████████████████████████████████████████████| 5005/5005 [00:36<00:00, 135.92it/s]\n"
     ]
    },
    {
     "name": "stdout",
     "output_type": "stream",
     "text": [
      ">> Accuracy: 91.76539826579986 %\n",
      "-- Loss: 1.2000999450683594\n",
      "-- Complete optimized function value: 1.523017406463623\n"
     ]
    },
    {
     "name": "stderr",
     "output_type": "stream",
     "text": [
      "Epoch [57/90]: 100%|██████████████████████████████████████████████████████████████| 5005/5005 [00:37<00:00, 134.55it/s]\n"
     ]
    },
    {
     "name": "stdout",
     "output_type": "stream",
     "text": [
      ">> Accuracy: 91.783428702113 %\n",
      "-- Loss: 1.185359239578247\n",
      "-- Complete optimized function value: 1.5073325634002686\n"
     ]
    },
    {
     "name": "stderr",
     "output_type": "stream",
     "text": [
      "Epoch [58/90]: 100%|██████████████████████████████████████████████████████████████| 5005/5005 [00:37<00:00, 134.47it/s]\n"
     ]
    },
    {
     "name": "stdout",
     "output_type": "stream",
     "text": [
      ">> Accuracy: 91.79997611552592 %\n",
      "-- Loss: 1.1708251237869263\n",
      "-- Complete optimized function value: 1.4918614625930786\n"
     ]
    },
    {
     "name": "stderr",
     "output_type": "stream",
     "text": [
      "Epoch [59/90]: 100%|██████████████████████████████████████████████████████████████| 5005/5005 [00:38<00:00, 130.81it/s]\n"
     ]
    },
    {
     "name": "stdout",
     "output_type": "stream",
     "text": [
      ">> Accuracy: 91.81457218301752 %\n",
      "-- Loss: 1.1564662456512451\n",
      "-- Complete optimized function value: 1.4765726327896118\n"
     ]
    },
    {
     "name": "stderr",
     "output_type": "stream",
     "text": [
      "Epoch [60/90]: 100%|██████████████████████████████████████████████████████████████| 5005/5005 [00:37<00:00, 133.58it/s]\n"
     ]
    },
    {
     "name": "stdout",
     "output_type": "stream",
     "text": [
      ">> Accuracy: 91.82948046585652 %\n",
      "-- Loss: 1.1422016620635986\n",
      "-- Complete optimized function value: 1.4613850116729736\n"
     ]
    },
    {
     "name": "stderr",
     "output_type": "stream",
     "text": [
      "Epoch [61/90]: 100%|██████████████████████████████████████████████████████████████| 5005/5005 [00:37<00:00, 133.37it/s]\n"
     ]
    },
    {
     "name": "stdout",
     "output_type": "stream",
     "text": [
      ">> Accuracy: 92.342060012473 %\n",
      "-- Loss: 1.1215795278549194\n",
      "-- Complete optimized function value: 1.44069504737854\n"
     ]
    },
    {
     "name": "stderr",
     "output_type": "stream",
     "text": [
      "Epoch [62/90]: 100%|██████████████████████████████████████████████████████████████| 5005/5005 [00:36<00:00, 135.50it/s]\n"
     ]
    },
    {
     "name": "stdout",
     "output_type": "stream",
     "text": [
      ">> Accuracy: 92.35314365730619 %\n",
      "-- Loss: 1.117640733718872\n",
      "-- Complete optimized function value: 1.4366888999938965\n"
     ]
    },
    {
     "name": "stderr",
     "output_type": "stream",
     "text": [
      "Epoch [63/90]: 100%|██████████████████████████████████████████████████████████████| 5005/5005 [00:37<00:00, 134.58it/s]\n"
     ]
    },
    {
     "name": "stdout",
     "output_type": "stream",
     "text": [
      ">> Accuracy: 92.35774883368055 %\n",
      "-- Loss: 1.113910436630249\n",
      "-- Complete optimized function value: 1.4328913688659668\n"
     ]
    },
    {
     "name": "stderr",
     "output_type": "stream",
     "text": [
      "Epoch [64/90]: 100%|██████████████████████████████████████████████████████████████| 5005/5005 [00:37<00:00, 134.19it/s]\n"
     ]
    },
    {
     "name": "stdout",
     "output_type": "stream",
     "text": [
      ">> Accuracy: 92.36602254038701 %\n",
      "-- Loss: 1.1103688478469849\n",
      "-- Complete optimized function value: 1.429282546043396\n"
     ]
    },
    {
     "name": "stderr",
     "output_type": "stream",
     "text": [
      "Epoch [65/90]: 100%|██████████████████████████████████████████████████████████████| 5005/5005 [00:37<00:00, 133.63it/s]\n"
     ]
    },
    {
     "name": "stdout",
     "output_type": "stream",
     "text": [
      ">> Accuracy: 92.3727351703564 %\n",
      "-- Loss: 1.107007384300232\n",
      "-- Complete optimized function value: 1.425853967666626\n"
     ]
    },
    {
     "name": "stderr",
     "output_type": "stream",
     "text": [
      "Epoch [66/90]: 100%|██████████████████████████████████████████████████████████████| 5005/5005 [00:37<00:00, 134.23it/s]\n"
     ]
    },
    {
     "name": "stdout",
     "output_type": "stream",
     "text": [
      ">> Accuracy: 92.37890142346782 %\n",
      "-- Loss: 1.1038058996200562\n",
      "-- Complete optimized function value: 1.4225854873657227\n"
     ]
    },
    {
     "name": "stderr",
     "output_type": "stream",
     "text": [
      "Epoch [67/90]: 100%|██████████████████████████████████████████████████████████████| 5005/5005 [00:37<00:00, 133.91it/s]\n"
     ]
    },
    {
     "name": "stdout",
     "output_type": "stream",
     "text": [
      ">> Accuracy: 92.38202357694196 %\n",
      "-- Loss: 1.1007561683654785\n",
      "-- Complete optimized function value: 1.419468879699707\n"
     ]
    },
    {
     "name": "stderr",
     "output_type": "stream",
     "text": [
      "Epoch [68/90]: 100%|██████████████████████████████████████████████████████████████| 5005/5005 [00:36<00:00, 135.73it/s]\n"
     ]
    },
    {
     "name": "stdout",
     "output_type": "stream",
     "text": [
      ">> Accuracy: 92.38561405343722 %\n",
      "-- Loss: 1.0978436470031738\n",
      "-- Complete optimized function value: 1.416489601135254\n"
     ]
    },
    {
     "name": "stderr",
     "output_type": "stream",
     "text": [
      "Epoch [69/90]: 100%|██████████████████████████████████████████████████████████████| 5005/5005 [00:37<00:00, 134.52it/s]\n"
     ]
    },
    {
     "name": "stdout",
     "output_type": "stream",
     "text": [
      ">> Accuracy: 92.38818983005338 %\n",
      "-- Loss: 1.0950592756271362\n",
      "-- Complete optimized function value: 1.4136384725570679\n"
     ]
    },
    {
     "name": "stderr",
     "output_type": "stream",
     "text": [
      "Epoch [70/90]: 100%|██████████████████████████████████████████████████████████████| 5005/5005 [00:37<00:00, 133.22it/s]\n"
     ]
    },
    {
     "name": "stdout",
     "output_type": "stream",
     "text": [
      ">> Accuracy: 92.3918583603855 %\n",
      "-- Loss: 1.0923911333084106\n",
      "-- Complete optimized function value: 1.4109036922454834\n"
     ]
    },
    {
     "name": "stderr",
     "output_type": "stream",
     "text": [
      "Epoch [71/90]: 100%|██████████████████████████████████████████████████████████████| 5005/5005 [00:37<00:00, 133.05it/s]\n"
     ]
    },
    {
     "name": "stdout",
     "output_type": "stream",
     "text": [
      ">> Accuracy: 92.3955268907176 %\n",
      "-- Loss: 1.0898315906524658\n",
      "-- Complete optimized function value: 1.4082775115966797\n"
     ]
    },
    {
     "name": "stderr",
     "output_type": "stream",
     "text": [
      "Epoch [72/90]: 100%|██████████████████████████████████████████████████████████████| 5005/5005 [00:37<00:00, 131.86it/s]\n"
     ]
    },
    {
     "name": "stdout",
     "output_type": "stream",
     "text": [
      ">> Accuracy: 92.40083455162363 %\n",
      "-- Loss: 1.087370753288269\n",
      "-- Complete optimized function value: 1.4057501554489136\n"
     ]
    },
    {
     "name": "stderr",
     "output_type": "stream",
     "text": [
      "Epoch [73/90]: 100%|██████████████████████████████████████████████████████████████| 5005/5005 [00:37<00:00, 134.50it/s]\n"
     ]
    },
    {
     "name": "stdout",
     "output_type": "stream",
     "text": [
      ">> Accuracy: 92.4034103282398 %\n",
      "-- Loss: 1.0850002765655518\n",
      "-- Complete optimized function value: 1.403313159942627\n"
     ]
    },
    {
     "name": "stderr",
     "output_type": "stream",
     "text": [
      "Epoch [74/90]: 100%|██████████████████████████████████████████████████████████████| 5005/5005 [00:37<00:00, 134.64it/s]\n"
     ]
    },
    {
     "name": "stdout",
     "output_type": "stream",
     "text": [
      ">> Accuracy: 92.4035664359135 %\n",
      "-- Loss: 1.0827144384384155\n",
      "-- Complete optimized function value: 1.400960922241211\n"
     ]
    },
    {
     "name": "stderr",
     "output_type": "stream",
     "text": [
      "Epoch [75/90]: 100%|██████████████████████████████████████████████████████████████| 5005/5005 [00:36<00:00, 136.42it/s]\n"
     ]
    },
    {
     "name": "stdout",
     "output_type": "stream",
     "text": [
      ">> Accuracy: 92.4045811357926 %\n",
      "-- Loss: 1.0805058479309082\n",
      "-- Complete optimized function value: 1.3986859321594238\n"
     ]
    },
    {
     "name": "stderr",
     "output_type": "stream",
     "text": [
      "Epoch [76/90]: 100%|██████████████████████████████████████████████████████████████| 5005/5005 [00:37<00:00, 133.63it/s]\n"
     ]
    },
    {
     "name": "stdout",
     "output_type": "stream",
     "text": [
      ">> Accuracy: 92.40653248171394 %\n",
      "-- Loss: 1.0783686637878418\n",
      "-- Complete optimized function value: 1.3964824676513672\n"
     ]
    },
    {
     "name": "stderr",
     "output_type": "stream",
     "text": [
      "Epoch [77/90]: 100%|██████████████████████████████████████████████████████████████| 5005/5005 [00:37<00:00, 133.69it/s]\n"
     ]
    },
    {
     "name": "stdout",
     "output_type": "stream",
     "text": [
      ">> Accuracy: 92.40981074286178 %\n",
      "-- Loss: 1.0762989521026611\n",
      "-- Complete optimized function value: 1.3943465948104858\n"
     ]
    },
    {
     "name": "stderr",
     "output_type": "stream",
     "text": [
      "Epoch [78/90]: 100%|██████████████████████████████████████████████████████████████| 5005/5005 [00:37<00:00, 134.40it/s]\n"
     ]
    },
    {
     "name": "stdout",
     "output_type": "stream",
     "text": [
      ">> Accuracy: 92.41293289633592 %\n",
      "-- Loss: 1.0742911100387573\n",
      "-- Complete optimized function value: 1.3922724723815918\n"
     ]
    },
    {
     "name": "stderr",
     "output_type": "stream",
     "text": [
      "Epoch [79/90]: 100%|██████████████████████████████████████████████████████████████| 5005/5005 [00:37<00:00, 133.50it/s]\n"
     ]
    },
    {
     "name": "stdout",
     "output_type": "stream",
     "text": [
      ">> Accuracy: 92.41706974968915 %\n",
      "-- Loss: 1.0723392963409424\n",
      "-- Complete optimized function value: 1.3902547359466553\n"
     ]
    },
    {
     "name": "stderr",
     "output_type": "stream",
     "text": [
      "Epoch [80/90]: 100%|██████████████████████████████████████████████████████████████| 5005/5005 [00:37<00:00, 133.81it/s]\n"
     ]
    },
    {
     "name": "stdout",
     "output_type": "stream",
     "text": [
      ">> Accuracy: 92.41855277258936 %\n",
      "-- Loss: 1.0704377889633179\n",
      "-- Complete optimized function value: 1.38828706741333\n"
     ]
    },
    {
     "name": "stderr",
     "output_type": "stream",
     "text": [
      "Epoch [81/90]: 100%|██████████████████████████████████████████████████████████████| 5005/5005 [00:36<00:00, 137.36it/s]\n"
     ]
    },
    {
     "name": "stdout",
     "output_type": "stream",
     "text": [
      ">> Accuracy: 92.42175297990036 %\n",
      "-- Loss: 1.0685838460922241\n",
      "-- Complete optimized function value: 1.3863672018051147\n"
     ]
    },
    {
     "name": "stderr",
     "output_type": "stream",
     "text": [
      "Epoch [82/90]: 100%|██████████████████████████████████████████████████████████████| 5005/5005 [00:37<00:00, 134.25it/s]\n"
     ]
    },
    {
     "name": "stdout",
     "output_type": "stream",
     "text": [
      ">> Accuracy: 92.42456291802708 %\n",
      "-- Loss: 1.0667760372161865\n",
      "-- Complete optimized function value: 1.3844934701919556\n"
     ]
    },
    {
     "name": "stderr",
     "output_type": "stream",
     "text": [
      "Epoch [83/90]: 100%|██████████████████████████████████████████████████████████████| 5005/5005 [00:38<00:00, 130.54it/s]\n"
     ]
    },
    {
     "name": "stdout",
     "output_type": "stream",
     "text": [
      ">> Accuracy: 92.4263581562747 %\n",
      "-- Loss: 1.0650100708007812\n",
      "-- Complete optimized function value: 1.3826615810394287\n"
     ]
    },
    {
     "name": "stderr",
     "output_type": "stream",
     "text": [
      "Epoch [84/90]: 100%|██████████████████████████████████████████████████████████████| 5005/5005 [00:37<00:00, 133.26it/s]\n"
     ]
    },
    {
     "name": "stdout",
     "output_type": "stream",
     "text": [
      ">> Accuracy: 92.4283875560329 %\n",
      "-- Loss: 1.0632822513580322\n",
      "-- Complete optimized function value: 1.3808679580688477\n"
     ]
    },
    {
     "name": "stderr",
     "output_type": "stream",
     "text": [
      "Epoch [85/90]: 100%|██████████████████████████████████████████████████████████████| 5005/5005 [00:37<00:00, 133.22it/s]\n"
     ]
    },
    {
     "name": "stdout",
     "output_type": "stream",
     "text": [
      ">> Accuracy: 92.43143165567018 %\n",
      "-- Loss: 1.0615907907485962\n",
      "-- Complete optimized function value: 1.3791108131408691\n"
     ]
    },
    {
     "name": "stderr",
     "output_type": "stream",
     "text": [
      "Epoch [86/90]: 100%|██████████████████████████████████████████████████████████████| 5005/5005 [00:37<00:00, 132.22it/s]\n"
     ]
    },
    {
     "name": "stdout",
     "output_type": "stream",
     "text": [
      ">> Accuracy: 92.43268051705984 %\n",
      "-- Loss: 1.059933066368103\n",
      "-- Complete optimized function value: 1.3773874044418335\n"
     ]
    },
    {
     "name": "stderr",
     "output_type": "stream",
     "text": [
      "Epoch [87/90]: 100%|██████████████████████████████████████████████████████████████| 5005/5005 [00:37<00:00, 133.57it/s]\n"
     ]
    },
    {
     "name": "stdout",
     "output_type": "stream",
     "text": [
      ">> Accuracy: 92.43455380914432 %\n",
      "-- Loss: 1.0583046674728394\n",
      "-- Complete optimized function value: 1.3756933212280273\n"
     ]
    },
    {
     "name": "stderr",
     "output_type": "stream",
     "text": [
      "Epoch [88/90]: 100%|██████████████████████████████████████████████████████████████| 5005/5005 [00:36<00:00, 135.58it/s]\n"
     ]
    },
    {
     "name": "stdout",
     "output_type": "stream",
     "text": [
      ">> Accuracy: 92.43666126273936 %\n",
      "-- Loss: 1.0567069053649902\n",
      "-- Complete optimized function value: 1.3740299940109253\n"
     ]
    },
    {
     "name": "stderr",
     "output_type": "stream",
     "text": [
      "Epoch [89/90]: 100%|██████████████████████████████████████████████████████████████| 5005/5005 [00:37<00:00, 133.16it/s]\n"
     ]
    },
    {
     "name": "stdout",
     "output_type": "stream",
     "text": [
      ">> Accuracy: 92.43814428563958 %\n",
      "-- Loss: 1.055136799812317\n",
      "-- Complete optimized function value: 1.372394323348999\n"
     ]
    },
    {
     "name": "stderr",
     "output_type": "stream",
     "text": [
      "Epoch [90/90]: 100%|██████████████████████████████████████████████████████████████| 5005/5005 [00:37<00:00, 133.43it/s]\n"
     ]
    },
    {
     "name": "stdout",
     "output_type": "stream",
     "text": [
      ">> Accuracy: 92.44048590074517 %\n",
      "-- Loss: 1.0535944700241089\n",
      "-- Complete optimized function value: 1.3707866668701172\n",
      "Step 1/9 completed.\n",
      "Processing step 2/9, weight decay = 3.162e-06.\n"
     ]
    },
    {
     "name": "stderr",
     "output_type": "stream",
     "text": [
      "Epoch [1/90]: 100%|███████████████████████████████████████████████████████████████| 5005/5005 [00:37<00:00, 133.35it/s]\n"
     ]
    },
    {
     "name": "stdout",
     "output_type": "stream",
     "text": [
      ">> Accuracy: 8.464236122222943 %\n",
      "-- Loss: 39.2474250793457\n",
      "-- Complete optimized function value: 40.03194808959961\n"
     ]
    },
    {
     "name": "stderr",
     "output_type": "stream",
     "text": [
      "Epoch [2/90]: 100%|███████████████████████████████████████████████████████████████| 5005/5005 [00:37<00:00, 133.30it/s]\n"
     ]
    },
    {
     "name": "stdout",
     "output_type": "stream",
     "text": [
      ">> Accuracy: 61.795144583024694 %\n",
      "-- Loss: 20.814559936523438\n",
      "-- Complete optimized function value: 21.719085693359375\n"
     ]
    },
    {
     "name": "stderr",
     "output_type": "stream",
     "text": [
      "Epoch [3/90]: 100%|███████████████████████████████████████████████████████████████| 5005/5005 [00:37<00:00, 133.40it/s]\n"
     ]
    },
    {
     "name": "stdout",
     "output_type": "stream",
     "text": [
      ">> Accuracy: 71.9214591072046 %\n",
      "-- Loss: 14.140824317932129\n",
      "-- Complete optimized function value: 15.07724666595459\n"
     ]
    },
    {
     "name": "stderr",
     "output_type": "stream",
     "text": [
      "Epoch [4/90]: 100%|███████████████████████████████████████████████████████████████| 5005/5005 [00:37<00:00, 134.48it/s]\n"
     ]
    },
    {
     "name": "stdout",
     "output_type": "stream",
     "text": [
      ">> Accuracy: 76.20396092000496 %\n",
      "-- Loss: 10.612375259399414\n",
      "-- Complete optimized function value: 11.546409606933594\n"
     ]
    },
    {
     "name": "stderr",
     "output_type": "stream",
     "text": [
      "Epoch [5/90]: 100%|███████████████████████████████████████████████████████████████| 5005/5005 [00:37<00:00, 132.26it/s]\n"
     ]
    },
    {
     "name": "stdout",
     "output_type": "stream",
     "text": [
      ">> Accuracy: 77.80984055942746 %\n",
      "-- Loss: 9.515840530395508\n",
      "-- Complete optimized function value: 10.44208812713623\n"
     ]
    },
    {
     "name": "stderr",
     "output_type": "stream",
     "text": [
      "Epoch [6/90]: 100%|███████████████████████████████████████████████████████████████| 5005/5005 [00:37<00:00, 133.58it/s]\n"
     ]
    },
    {
     "name": "stdout",
     "output_type": "stream",
     "text": [
      ">> Accuracy: 78.94646053168712 %\n",
      "-- Loss: 9.298840522766113\n",
      "-- Complete optimized function value: 10.211470603942871\n"
     ]
    },
    {
     "name": "stderr",
     "output_type": "stream",
     "text": [
      "Epoch [7/90]: 100%|███████████████████████████████████████████████████████████████| 5005/5005 [00:37<00:00, 132.28it/s]\n"
     ]
    },
    {
     "name": "stdout",
     "output_type": "stream",
     "text": [
      ">> Accuracy: 79.3291584937795 %\n",
      "-- Loss: 9.096369743347168\n",
      "-- Complete optimized function value: 9.997857093811035\n"
     ]
    },
    {
     "name": "stderr",
     "output_type": "stream",
     "text": [
      "Epoch [8/90]: 100%|███████████████████████████████████████████████████████████████| 5005/5005 [00:37<00:00, 133.73it/s]\n"
     ]
    },
    {
     "name": "stdout",
     "output_type": "stream",
     "text": [
      ">> Accuracy: 79.72020821641519 %\n",
      "-- Loss: 8.73731517791748\n",
      "-- Complete optimized function value: 9.627632141113281\n"
     ]
    },
    {
     "name": "stderr",
     "output_type": "stream",
     "text": [
      "Epoch [9/90]: 100%|███████████████████████████████████████████████████████████████| 5005/5005 [00:37<00:00, 133.09it/s]\n"
     ]
    },
    {
     "name": "stdout",
     "output_type": "stream",
     "text": [
      ">> Accuracy: 79.87053990619489 %\n",
      "-- Loss: 8.474084854125977\n",
      "-- Complete optimized function value: 9.35473346710205\n"
     ]
    },
    {
     "name": "stderr",
     "output_type": "stream",
     "text": [
      "Epoch [10/90]: 100%|██████████████████████████████████████████████████████████████| 5005/5005 [00:37<00:00, 134.41it/s]\n"
     ]
    },
    {
     "name": "stdout",
     "output_type": "stream",
     "text": [
      ">> Accuracy: 80.15793413348923 %\n",
      "-- Loss: 8.128288269042969\n",
      "-- Complete optimized function value: 8.998276710510254\n"
     ]
    },
    {
     "name": "stderr",
     "output_type": "stream",
     "text": [
      "Epoch [11/90]: 100%|██████████████████████████████████████████████████████████████| 5005/5005 [00:37<00:00, 132.96it/s]\n"
     ]
    },
    {
     "name": "stdout",
     "output_type": "stream",
     "text": [
      ">> Accuracy: 80.10196953246532 %\n",
      "-- Loss: 7.709620475769043\n",
      "-- Complete optimized function value: 8.574178695678711\n"
     ]
    },
    {
     "name": "stderr",
     "output_type": "stream",
     "text": [
      "Epoch [12/90]: 100%|██████████████████████████████████████████████████████████████| 5005/5005 [00:37<00:00, 132.58it/s]\n"
     ]
    },
    {
     "name": "stdout",
     "output_type": "stream",
     "text": [
      ">> Accuracy: 80.4037256657407 %\n",
      "-- Loss: 7.250673294067383\n",
      "-- Complete optimized function value: 8.107166290283203\n"
     ]
    },
    {
     "name": "stderr",
     "output_type": "stream",
     "text": [
      "Epoch [13/90]: 100%|██████████████████████████████████████████████████████████████| 5005/5005 [00:37<00:00, 133.75it/s]\n"
     ]
    },
    {
     "name": "stdout",
     "output_type": "stream",
     "text": [
      ">> Accuracy: 80.29117203299803 %\n",
      "-- Loss: 6.840701103210449\n",
      "-- Complete optimized function value: 7.692607402801514\n"
     ]
    },
    {
     "name": "stderr",
     "output_type": "stream",
     "text": [
      "Epoch [14/90]: 100%|██████████████████████████████████████████████████████████████| 5005/5005 [00:37<00:00, 134.13it/s]\n"
     ]
    },
    {
     "name": "stdout",
     "output_type": "stream",
     "text": [
      ">> Accuracy: 80.44486003776245 %\n",
      "-- Loss: 6.549842357635498\n",
      "-- Complete optimized function value: 7.397696495056152\n"
     ]
    },
    {
     "name": "stderr",
     "output_type": "stream",
     "text": [
      "Epoch [15/90]: 100%|██████████████████████████████████████████████████████████████| 5005/5005 [00:37<00:00, 132.99it/s]\n"
     ]
    },
    {
     "name": "stdout",
     "output_type": "stream",
     "text": [
      ">> Accuracy: 80.37742152272108 %\n",
      "-- Loss: 6.323253631591797\n",
      "-- Complete optimized function value: 7.16837739944458\n"
     ]
    },
    {
     "name": "stderr",
     "output_type": "stream",
     "text": [
      "Epoch [16/90]: 100%|██████████████████████████████████████████████████████████████| 5005/5005 [00:37<00:00, 134.08it/s]\n"
     ]
    },
    {
     "name": "stdout",
     "output_type": "stream",
     "text": [
      ">> Accuracy: 80.57638075286047 %\n",
      "-- Loss: 6.119998455047607\n",
      "-- Complete optimized function value: 6.961867332458496\n"
     ]
    },
    {
     "name": "stderr",
     "output_type": "stream",
     "text": [
      "Epoch [17/90]: 100%|██████████████████████████████████████████████████████████████| 5005/5005 [00:37<00:00, 133.45it/s]\n"
     ]
    },
    {
     "name": "stdout",
     "output_type": "stream",
     "text": [
      ">> Accuracy: 80.39092483649672 %\n",
      "-- Loss: 5.901599884033203\n",
      "-- Complete optimized function value: 6.743976593017578\n"
     ]
    },
    {
     "name": "stderr",
     "output_type": "stream",
     "text": [
      "Epoch [18/90]: 100%|██████████████████████████████████████████████████████████████| 5005/5005 [00:37<00:00, 132.12it/s]\n"
     ]
    },
    {
     "name": "stdout",
     "output_type": "stream",
     "text": [
      ">> Accuracy: 80.63890187618007 %\n",
      "-- Loss: 5.6905131340026855\n",
      "-- Complete optimized function value: 6.530858039855957\n"
     ]
    },
    {
     "name": "stderr",
     "output_type": "stream",
     "text": [
      "Epoch [19/90]: 100%|██████████████████████████████████████████████████████████████| 5005/5005 [00:37<00:00, 133.08it/s]\n"
     ]
    },
    {
     "name": "stdout",
     "output_type": "stream",
     "text": [
      ">> Accuracy: 80.43026397027086 %\n",
      "-- Loss: 5.50185489654541\n",
      "-- Complete optimized function value: 6.343342304229736\n"
     ]
    },
    {
     "name": "stderr",
     "output_type": "stream",
     "text": [
      "Epoch [20/90]: 100%|██████████████████████████████████████████████████████████████| 5005/5005 [00:37<00:00, 133.02it/s]\n"
     ]
    },
    {
     "name": "stdout",
     "output_type": "stream",
     "text": [
      ">> Accuracy: 80.61720290953483 %\n",
      "-- Loss: 5.358856201171875\n",
      "-- Complete optimized function value: 6.200939655303955\n"
     ]
    },
    {
     "name": "stderr",
     "output_type": "stream",
     "text": [
      "Epoch [21/90]: 100%|██████████████████████████████████████████████████████████████| 5005/5005 [00:37<00:00, 133.86it/s]\n"
     ]
    },
    {
     "name": "stdout",
     "output_type": "stream",
     "text": [
      ">> Accuracy: 80.50246376936028 %\n",
      "-- Loss: 5.230649948120117\n",
      "-- Complete optimized function value: 6.074692249298096\n"
     ]
    },
    {
     "name": "stderr",
     "output_type": "stream",
     "text": [
      "Epoch [22/90]: 100%|██████████████████████████████████████████████████████████████| 5005/5005 [00:37<00:00, 134.00it/s]\n"
     ]
    },
    {
     "name": "stdout",
     "output_type": "stream",
     "text": [
      ">> Accuracy: 80.65583955877727 %\n",
      "-- Loss: 5.11414098739624\n",
      "-- Complete optimized function value: 5.959969520568848\n"
     ]
    },
    {
     "name": "stderr",
     "output_type": "stream",
     "text": [
      "Epoch [23/90]: 100%|██████████████████████████████████████████████████████████████| 5005/5005 [00:36<00:00, 136.58it/s]\n"
     ]
    },
    {
     "name": "stdout",
     "output_type": "stream",
     "text": [
      ">> Accuracy: 80.59620642742125 %\n",
      "-- Loss: 4.996794700622559\n",
      "-- Complete optimized function value: 5.845256805419922\n"
     ]
    },
    {
     "name": "stderr",
     "output_type": "stream",
     "text": [
      "Epoch [24/90]: 100%|██████████████████████████████████████████████████████████████| 5005/5005 [00:37<00:00, 132.21it/s]\n"
     ]
    },
    {
     "name": "stdout",
     "output_type": "stream",
     "text": [
      ">> Accuracy: 80.77588635985785 %\n",
      "-- Loss: 4.887319564819336\n",
      "-- Complete optimized function value: 5.737602710723877\n"
     ]
    },
    {
     "name": "stderr",
     "output_type": "stream",
     "text": [
      "Epoch [25/90]: 100%|██████████████████████████████████████████████████████████████| 5005/5005 [00:37<00:00, 133.44it/s]\n"
     ]
    },
    {
     "name": "stdout",
     "output_type": "stream",
     "text": [
      ">> Accuracy: 80.68425115539192 %\n",
      "-- Loss: 4.778088092803955\n",
      "-- Complete optimized function value: 5.631507873535156\n"
     ]
    },
    {
     "name": "stderr",
     "output_type": "stream",
     "text": [
      "Epoch [26/90]: 100%|██████████████████████████████████████████████████████████████| 5005/5005 [00:37<00:00, 133.42it/s]\n"
     ]
    },
    {
     "name": "stdout",
     "output_type": "stream",
     "text": [
      ">> Accuracy: 80.81108864027874 %\n",
      "-- Loss: 4.676016330718994\n",
      "-- Complete optimized function value: 5.532586574554443\n"
     ]
    },
    {
     "name": "stderr",
     "output_type": "stream",
     "text": [
      "Epoch [27/90]: 100%|██████████████████████████████████████████████████████████████| 5005/5005 [00:37<00:00, 133.42it/s]\n"
     ]
    },
    {
     "name": "stdout",
     "output_type": "stream",
     "text": [
      ">> Accuracy: 80.71758014372834 %\n",
      "-- Loss: 4.569083213806152\n",
      "-- Complete optimized function value: 5.429067134857178\n"
     ]
    },
    {
     "name": "stderr",
     "output_type": "stream",
     "text": [
      "Epoch [28/90]: 100%|██████████████████████████████████████████████████████████████| 5005/5005 [00:37<00:00, 133.76it/s]\n"
     ]
    },
    {
     "name": "stdout",
     "output_type": "stream",
     "text": [
      ">> Accuracy: 80.92122260407893 %\n",
      "-- Loss: 4.4648118019104\n",
      "-- Complete optimized function value: 5.327305793762207\n"
     ]
    },
    {
     "name": "stderr",
     "output_type": "stream",
     "text": [
      "Epoch [29/90]: 100%|██████████████████████████████████████████████████████████████| 5005/5005 [00:37<00:00, 134.05it/s]\n"
     ]
    },
    {
     "name": "stdout",
     "output_type": "stream",
     "text": [
      ">> Accuracy: 80.78337952819578 %\n",
      "-- Loss: 4.357473850250244\n",
      "-- Complete optimized function value: 5.224880218505859\n"
     ]
    },
    {
     "name": "stderr",
     "output_type": "stream",
     "text": [
      "Epoch [30/90]: 100%|██████████████████████████████████████████████████████████████| 5005/5005 [00:36<00:00, 135.60it/s]\n"
     ]
    },
    {
     "name": "stdout",
     "output_type": "stream",
     "text": [
      ">> Accuracy: 80.98624145017784 %\n",
      "-- Loss: 4.260332107543945\n",
      "-- Complete optimized function value: 5.130502223968506\n"
     ]
    },
    {
     "name": "stderr",
     "output_type": "stream",
     "text": [
      "Epoch [31/90]: 100%|██████████████████████████████████████████████████████████████| 5005/5005 [00:37<00:00, 132.70it/s]\n"
     ]
    },
    {
     "name": "stdout",
     "output_type": "stream",
     "text": [
      ">> Accuracy: 83.77440255641926 %\n",
      "-- Loss: 1.9292056560516357\n",
      "-- Complete optimized function value: 2.790700912475586\n"
     ]
    },
    {
     "name": "stderr",
     "output_type": "stream",
     "text": [
      "Epoch [32/90]: 100%|██████████████████████████████████████████████████████████████| 5005/5005 [00:37<00:00, 134.01it/s]\n"
     ]
    },
    {
     "name": "stdout",
     "output_type": "stream",
     "text": [
      ">> Accuracy: 88.31565283838874 %\n",
      "-- Loss: 1.9363552331924438\n",
      "-- Complete optimized function value: 2.791151762008667\n"
     ]
    },
    {
     "name": "stderr",
     "output_type": "stream",
     "text": [
      "Epoch [33/90]: 100%|██████████████████████████████████████████████████████████████| 5005/5005 [00:37<00:00, 133.37it/s]\n"
     ]
    },
    {
     "name": "stdout",
     "output_type": "stream",
     "text": [
      ">> Accuracy: 89.56162623608007 %\n",
      "-- Loss: 1.9071069955825806\n",
      "-- Complete optimized function value: 2.7559070587158203\n"
     ]
    },
    {
     "name": "stderr",
     "output_type": "stream",
     "text": [
      "Epoch [34/90]: 100%|██████████████████████████████████████████████████████████████| 5005/5005 [00:37<00:00, 132.99it/s]\n"
     ]
    },
    {
     "name": "stdout",
     "output_type": "stream",
     "text": [
      ">> Accuracy: 90.08489915834548 %\n",
      "-- Loss: 1.864640235900879\n",
      "-- Complete optimized function value: 2.707794189453125\n"
     ]
    },
    {
     "name": "stderr",
     "output_type": "stream",
     "text": [
      "Epoch [35/90]: 100%|██████████████████████████████████████████████████████████████| 5005/5005 [00:37<00:00, 133.80it/s]\n"
     ]
    },
    {
     "name": "stdout",
     "output_type": "stream",
     "text": [
      ">> Accuracy: 90.38267454594131 %\n",
      "-- Loss: 1.8159693479537964\n",
      "-- Complete optimized function value: 2.653688907623291\n"
     ]
    },
    {
     "name": "stderr",
     "output_type": "stream",
     "text": [
      "Epoch [36/90]: 100%|██████████████████████████████████████████████████████████████| 5005/5005 [00:36<00:00, 137.20it/s]\n"
     ]
    },
    {
     "name": "stdout",
     "output_type": "stream",
     "text": [
      ">> Accuracy: 90.56680354707856 %\n",
      "-- Loss: 1.7627348899841309\n",
      "-- Complete optimized function value: 2.5951685905456543\n"
     ]
    },
    {
     "name": "stderr",
     "output_type": "stream",
     "text": [
      "Epoch [37/90]: 100%|██████████████████████████████████████████████████████████████| 5005/5005 [00:37<00:00, 134.10it/s]\n"
     ]
    },
    {
     "name": "stdout",
     "output_type": "stream",
     "text": [
      ">> Accuracy: 90.69051887849125 %\n",
      "-- Loss: 1.7081314325332642\n",
      "-- Complete optimized function value: 2.5353939533233643\n"
     ]
    },
    {
     "name": "stderr",
     "output_type": "stream",
     "text": [
      "Epoch [38/90]: 100%|██████████████████████████████████████████████████████████████| 5005/5005 [00:37<00:00, 133.19it/s]\n"
     ]
    },
    {
     "name": "stdout",
     "output_type": "stream",
     "text": [
      ">> Accuracy: 90.79105222035847 %\n",
      "-- Loss: 1.6556614637374878\n",
      "-- Complete optimized function value: 2.47784686088562\n"
     ]
    },
    {
     "name": "stderr",
     "output_type": "stream",
     "text": [
      "Epoch [39/90]: 100%|██████████████████████████████████████████████████████████████| 5005/5005 [00:37<00:00, 132.98it/s]\n"
     ]
    },
    {
     "name": "stdout",
     "output_type": "stream",
     "text": [
      ">> Accuracy: 90.87417955660737 %\n",
      "-- Loss: 1.6068553924560547\n",
      "-- Complete optimized function value: 2.4240458011627197\n"
     ]
    },
    {
     "name": "stderr",
     "output_type": "stream",
     "text": [
      "Epoch [40/90]: 100%|██████████████████████████████████████████████████████████████| 5005/5005 [00:37<00:00, 131.88it/s]\n"
     ]
    },
    {
     "name": "stdout",
     "output_type": "stream",
     "text": [
      ">> Accuracy: 90.93724705678494 %\n",
      "-- Loss: 1.5629054307937622\n",
      "-- Complete optimized function value: 2.3751723766326904\n"
     ]
    },
    {
     "name": "stderr",
     "output_type": "stream",
     "text": [
      "Epoch [41/90]: 100%|██████████████████████████████████████████████████████████████| 5005/5005 [00:37<00:00, 135.06it/s]\n"
     ]
    },
    {
     "name": "stdout",
     "output_type": "stream",
     "text": [
      ">> Accuracy: 90.99555327291446 %\n",
      "-- Loss: 1.5241482257843018\n",
      "-- Complete optimized function value: 2.3315579891204834\n"
     ]
    },
    {
     "name": "stderr",
     "output_type": "stream",
     "text": [
      "Epoch [42/90]: 100%|██████████████████████████████████████████████████████████████| 5005/5005 [00:34<00:00, 145.29it/s]\n"
     ]
    },
    {
     "name": "stdout",
     "output_type": "stream",
     "text": [
      ">> Accuracy: 91.04581994384807 %\n",
      "-- Loss: 1.4902386665344238\n",
      "-- Complete optimized function value: 2.2928524017333984\n"
     ]
    },
    {
     "name": "stderr",
     "output_type": "stream",
     "text": [
      "Epoch [43/90]: 100%|██████████████████████████████████████████████████████████████| 5005/5005 [00:37<00:00, 135.13it/s]\n"
     ]
    },
    {
     "name": "stdout",
     "output_type": "stream",
     "text": [
      ">> Accuracy: 91.0918717075916 %\n",
      "-- Loss: 1.46001136302948\n",
      "-- Complete optimized function value: 2.2578864097595215\n"
     ]
    },
    {
     "name": "stderr",
     "output_type": "stream",
     "text": [
      "Epoch [44/90]: 100%|██████████████████████████████████████████████████████████████| 5005/5005 [00:37<00:00, 132.81it/s]\n"
     ]
    },
    {
     "name": "stdout",
     "output_type": "stream",
     "text": [
      ">> Accuracy: 91.13152305671314 %\n",
      "-- Loss: 1.4324275255203247\n",
      "-- Complete optimized function value: 2.225618839263916\n"
     ]
    },
    {
     "name": "stderr",
     "output_type": "stream",
     "text": [
      "Epoch [45/90]: 100%|██████████████████████████████████████████████████████████████| 5005/5005 [00:37<00:00, 133.69it/s]\n"
     ]
    },
    {
     "name": "stdout",
     "output_type": "stream",
     "text": [
      ">> Accuracy: 91.16781809084998 %\n",
      "-- Loss: 1.4068777561187744\n",
      "-- Complete optimized function value: 2.1954379081726074\n"
     ]
    },
    {
     "name": "stderr",
     "output_type": "stream",
     "text": [
      "Epoch [46/90]: 100%|██████████████████████████████████████████████████████████████| 5005/5005 [00:37<00:00, 134.46it/s]\n"
     ]
    },
    {
     "name": "stdout",
     "output_type": "stream",
     "text": [
      ">> Accuracy: 91.20184956371808 %\n",
      "-- Loss: 1.3826197385787964\n",
      "-- Complete optimized function value: 2.1665990352630615\n"
     ]
    },
    {
     "name": "stderr",
     "output_type": "stream",
     "text": [
      "Epoch [47/90]: 100%|██████████████████████████████████████████████████████████████| 5005/5005 [00:37<00:00, 133.94it/s]\n"
     ]
    },
    {
     "name": "stdout",
     "output_type": "stream",
     "text": [
      ">> Accuracy: 91.23970567459199 %\n",
      "-- Loss: 1.3589388132095337\n",
      "-- Complete optimized function value: 2.138385772705078\n"
     ]
    },
    {
     "name": "stderr",
     "output_type": "stream",
     "text": [
      "Epoch [48/90]: 100%|██████████████████████████████████████████████████████████████| 5005/5005 [00:37<00:00, 133.92it/s]\n"
     ]
    },
    {
     "name": "stdout",
     "output_type": "stream",
     "text": [
      ">> Accuracy: 91.27607876256569 %\n",
      "-- Loss: 1.3359696865081787\n",
      "-- Complete optimized function value: 2.110930919647217\n"
     ]
    },
    {
     "name": "stderr",
     "output_type": "stream",
     "text": [
      "Epoch [49/90]: 100%|██████████████████████████████████████████████████████████████| 5005/5005 [00:36<00:00, 136.43it/s]\n"
     ]
    },
    {
     "name": "stdout",
     "output_type": "stream",
     "text": [
      ">> Accuracy: 91.30527089754888 %\n",
      "-- Loss: 1.3139714002609253\n",
      "-- Complete optimized function value: 2.0844924449920654\n"
     ]
    },
    {
     "name": "stderr",
     "output_type": "stream",
     "text": [
      "Epoch [50/90]: 100%|██████████████████████████████████████████████████████████████| 5005/5005 [00:37<00:00, 132.55it/s]\n"
     ]
    },
    {
     "name": "stdout",
     "output_type": "stream",
     "text": [
      ">> Accuracy: 91.3353996785743 %\n",
      "-- Loss: 1.2931272983551025\n",
      "-- Complete optimized function value: 2.059251308441162\n"
     ]
    },
    {
     "name": "stderr",
     "output_type": "stream",
     "text": [
      "Epoch [51/90]: 100%|██████████████████████████████████████████████████████████████| 5005/5005 [00:37<00:00, 133.99it/s]\n"
     ]
    },
    {
     "name": "stdout",
     "output_type": "stream",
     "text": [
      ">> Accuracy: 91.36420154437322 %\n",
      "-- Loss: 1.2732127904891968\n",
      "-- Complete optimized function value: 2.034982681274414\n"
     ]
    },
    {
     "name": "stderr",
     "output_type": "stream",
     "text": [
      "Epoch [52/90]: 100%|██████████████████████████████████████████████████████████████| 5005/5005 [00:37<00:00, 133.09it/s]\n"
     ]
    },
    {
     "name": "stdout",
     "output_type": "stream",
     "text": [
      ">> Accuracy: 91.39386200237752 %\n",
      "-- Loss: 1.2539284229278564\n",
      "-- Complete optimized function value: 2.011385440826416\n"
     ]
    },
    {
     "name": "stderr",
     "output_type": "stream",
     "text": [
      "Epoch [53/90]: 100%|██████████████████████████████████████████████████████████████| 5005/5005 [00:37<00:00, 133.59it/s]\n"
     ]
    },
    {
     "name": "stdout",
     "output_type": "stream",
     "text": [
      ">> Accuracy: 91.41985393004971 %\n",
      "-- Loss: 1.2350468635559082\n",
      "-- Complete optimized function value: 1.9882309436798096\n"
     ]
    },
    {
     "name": "stderr",
     "output_type": "stream",
     "text": [
      "Epoch [54/90]: 100%|██████████████████████████████████████████████████████████████| 5005/5005 [00:36<00:00, 138.80it/s]\n"
     ]
    },
    {
     "name": "stdout",
     "output_type": "stream",
     "text": [
      ">> Accuracy: 91.44654834225359 %\n",
      "-- Loss: 1.2164660692214966\n",
      "-- Complete optimized function value: 1.9654158353805542\n"
     ]
    },
    {
     "name": "stderr",
     "output_type": "stream",
     "text": [
      "Epoch [55/90]: 100%|██████████████████████████████████████████████████████████████| 5005/5005 [00:34<00:00, 144.86it/s]\n"
     ]
    },
    {
     "name": "stdout",
     "output_type": "stream",
     "text": [
      ">> Accuracy: 91.47004254714646 %\n",
      "-- Loss: 1.198156476020813\n",
      "-- Complete optimized function value: 1.9429106712341309\n"
     ]
    },
    {
     "name": "stderr",
     "output_type": "stream",
     "text": [
      "Epoch [56/90]: 100%|██████████████████████████████████████████████████████████████| 5005/5005 [00:37<00:00, 134.36it/s]\n"
     ]
    },
    {
     "name": "stdout",
     "output_type": "stream",
     "text": [
      ">> Accuracy: 91.49103902926004 %\n",
      "-- Loss: 1.180065393447876\n",
      "-- Complete optimized function value: 1.9206622838974\n"
     ]
    },
    {
     "name": "stderr",
     "output_type": "stream",
     "text": [
      "Epoch [57/90]: 100%|██████████████████████████████████████████████████████████████| 5005/5005 [00:37<00:00, 134.34it/s]\n"
     ]
    },
    {
     "name": "stdout",
     "output_type": "stream",
     "text": [
      ">> Accuracy: 91.51484544950034 %\n",
      "-- Loss: 1.1621872186660767\n",
      "-- Complete optimized function value: 1.8986635208129883\n"
     ]
    },
    {
     "name": "stderr",
     "output_type": "stream",
     "text": [
      "Epoch [58/90]: 100%|██████████████████████████████████████████████████████████████| 5005/5005 [00:37<00:00, 132.96it/s]\n"
     ]
    },
    {
     "name": "stdout",
     "output_type": "stream",
     "text": [
      ">> Accuracy: 91.5356858239402 %\n",
      "-- Loss: 1.144545316696167\n",
      "-- Complete optimized function value: 1.8769367933273315\n"
     ]
    },
    {
     "name": "stderr",
     "output_type": "stream",
     "text": [
      "Epoch [59/90]: 100%|██████████████████████████████████████████████████████████████| 5005/5005 [00:37<00:00, 134.14it/s]\n"
     ]
    },
    {
     "name": "stdout",
     "output_type": "stream",
     "text": [
      ">> Accuracy: 91.55785311360658 %\n",
      "-- Loss: 1.1271576881408691\n",
      "-- Complete optimized function value: 1.8554998636245728\n"
     ]
    },
    {
     "name": "stderr",
     "output_type": "stream",
     "text": [
      "Epoch [60/90]: 100%|██████████████████████████████████████████████████████████████| 5005/5005 [00:37<00:00, 134.35it/s]\n"
     ]
    },
    {
     "name": "stdout",
     "output_type": "stream",
     "text": [
      ">> Accuracy: 91.57752268049364 %\n",
      "-- Loss: 1.1100398302078247\n",
      "-- Complete optimized function value: 1.8343677520751953\n"
     ]
    },
    {
     "name": "stderr",
     "output_type": "stream",
     "text": [
      "Epoch [61/90]: 100%|██████████████████████████████████████████████████████████████| 5005/5005 [00:37<00:00, 135.05it/s]\n"
     ]
    },
    {
     "name": "stdout",
     "output_type": "stream",
     "text": [
      ">> Accuracy: 92.18197159308662 %\n",
      "-- Loss: 1.0840531587600708\n",
      "-- Complete optimized function value: 1.808117151260376\n"
     ]
    },
    {
     "name": "stderr",
     "output_type": "stream",
     "text": [
      "Epoch [62/90]: 100%|██████████████████████████████████████████████████████████████| 5005/5005 [00:36<00:00, 136.46it/s]\n"
     ]
    },
    {
     "name": "stdout",
     "output_type": "stream",
     "text": [
      ">> Accuracy: 92.19664571441506 %\n",
      "-- Loss: 1.0785276889801025\n",
      "-- Complete optimized function value: 1.8023295402526855\n"
     ]
    },
    {
     "name": "stderr",
     "output_type": "stream",
     "text": [
      "Epoch [63/90]: 100%|██████████████████████████████████████████████████████████████| 5005/5005 [00:37<00:00, 133.24it/s]\n"
     ]
    },
    {
     "name": "stdout",
     "output_type": "stream",
     "text": [
      ">> Accuracy: 92.20921238214846 %\n",
      "-- Loss: 1.0733660459518433\n",
      "-- Complete optimized function value: 1.7969064712524414\n"
     ]
    },
    {
     "name": "stderr",
     "output_type": "stream",
     "text": [
      "Epoch [64/90]: 100%|██████████████████████████████████████████████████████████████| 5005/5005 [00:37<00:00, 134.11it/s]\n"
     ]
    },
    {
     "name": "stdout",
     "output_type": "stream",
     "text": [
      ">> Accuracy: 92.2167055504864 %\n",
      "-- Loss: 1.0685065984725952\n",
      "-- Complete optimized function value: 1.7917859554290771\n"
     ]
    },
    {
     "name": "stderr",
     "output_type": "stream",
     "text": [
      "Epoch [65/90]: 100%|██████████████████████████████████████████████████████████████| 5005/5005 [00:38<00:00, 130.78it/s]\n"
     ]
    },
    {
     "name": "stdout",
     "output_type": "stream",
     "text": [
      ">> Accuracy: 92.22513536486656 %\n",
      "-- Loss: 1.0639175176620483\n",
      "-- Complete optimized function value: 1.7869362831115723\n"
     ]
    },
    {
     "name": "stderr",
     "output_type": "stream",
     "text": [
      "Epoch [66/90]: 100%|██████████████████████████████████████████████████████████████| 5005/5005 [00:37<00:00, 132.87it/s]\n"
     ]
    },
    {
     "name": "stdout",
     "output_type": "stream",
     "text": [
      ">> Accuracy: 92.23216021018337 %\n",
      "-- Loss: 1.0595883131027222\n",
      "-- Complete optimized function value: 1.7823469638824463\n"
     ]
    },
    {
     "name": "stderr",
     "output_type": "stream",
     "text": [
      "Epoch [67/90]: 100%|██████████████████████████████████████████████████████████████| 5005/5005 [00:37<00:00, 134.25it/s]\n"
     ]
    },
    {
     "name": "stdout",
     "output_type": "stream",
     "text": [
      ">> Accuracy: 92.23668733272088 %\n",
      "-- Loss: 1.0554836988449097\n",
      "-- Complete optimized function value: 1.7779825925827026\n"
     ]
    },
    {
     "name": "stderr",
     "output_type": "stream",
     "text": [
      "Epoch [68/90]: 100%|██████████████████████████████████████████████████████████████| 5005/5005 [00:36<00:00, 136.07it/s]\n"
     ]
    },
    {
     "name": "stdout",
     "output_type": "stream",
     "text": [
      ">> Accuracy: 92.2428535858323 %\n",
      "-- Loss: 1.051591157913208\n",
      "-- Complete optimized function value: 1.773830771446228\n"
     ]
    },
    {
     "name": "stderr",
     "output_type": "stream",
     "text": [
      "Epoch [69/90]: 100%|██████████████████████████████████████████████████████████████| 5005/5005 [00:37<00:00, 134.63it/s]\n"
     ]
    },
    {
     "name": "stdout",
     "output_type": "stream",
     "text": [
      ">> Accuracy: 92.24745876220665 %\n",
      "-- Loss: 1.0478880405426025\n",
      "-- Complete optimized function value: 1.7698686122894287\n"
     ]
    },
    {
     "name": "stderr",
     "output_type": "stream",
     "text": [
      "Epoch [70/90]: 100%|██████████████████████████████████████████████████████████████| 5005/5005 [00:37<00:00, 134.56it/s]\n"
     ]
    },
    {
     "name": "stdout",
     "output_type": "stream",
     "text": [
      ">> Accuracy: 92.24823930057518 %\n",
      "-- Loss: 1.0443600416183472\n",
      "-- Complete optimized function value: 1.7660820484161377\n"
     ]
    },
    {
     "name": "stderr",
     "output_type": "stream",
     "text": [
      "Epoch [71/90]: 100%|██████████████████████████████████████████████████████████████| 5005/5005 [00:37<00:00, 134.24it/s]\n"
     ]
    },
    {
     "name": "stdout",
     "output_type": "stream",
     "text": [
      ">> Accuracy: 92.25346890764436 %\n",
      "-- Loss: 1.0409904718399048\n",
      "-- Complete optimized function value: 1.7624542713165283\n"
     ]
    },
    {
     "name": "stderr",
     "output_type": "stream",
     "text": [
      "Epoch [72/90]: 100%|██████████████████████████████████████████████████████████████| 5005/5005 [00:37<00:00, 134.02it/s]\n"
     ]
    },
    {
     "name": "stdout",
     "output_type": "stream",
     "text": [
      ">> Accuracy: 92.25565441507625 %\n",
      "-- Loss: 1.0377720594406128\n",
      "-- Complete optimized function value: 1.7589777708053589\n"
     ]
    },
    {
     "name": "stderr",
     "output_type": "stream",
     "text": [
      "Epoch [73/90]: 100%|██████████████████████████████████████████████████████████████| 5005/5005 [00:37<00:00, 134.54it/s]\n"
     ]
    },
    {
     "name": "stdout",
     "output_type": "stream",
     "text": [
      ">> Accuracy: 92.25807408401872 %\n",
      "-- Loss: 1.0346843004226685\n",
      "-- Complete optimized function value: 1.7556324005126953\n"
     ]
    },
    {
     "name": "stderr",
     "output_type": "stream",
     "text": [
      "Epoch [74/90]: 100%|██████████████████████████████████████████████████████████████| 5005/5005 [00:37<00:00, 134.43it/s]\n"
     ]
    },
    {
     "name": "stdout",
     "output_type": "stream",
     "text": [
      ">> Accuracy: 92.26096207598229 %\n",
      "-- Loss: 1.0317225456237793\n",
      "-- Complete optimized function value: 1.7524131536483765\n"
     ]
    },
    {
     "name": "stderr",
     "output_type": "stream",
     "text": [
      "Epoch [75/90]: 100%|██████████████████████████████████████████████████████████████| 5005/5005 [00:36<00:00, 138.12it/s]\n"
     ]
    },
    {
     "name": "stdout",
     "output_type": "stream",
     "text": [
      ">> Accuracy: 92.26587946770405 %\n",
      "-- Loss: 1.0288739204406738\n",
      "-- Complete optimized function value: 1.74930739402771\n"
     ]
    },
    {
     "name": "stderr",
     "output_type": "stream",
     "text": [
      "Epoch [76/90]: 100%|██████████████████████████████████████████████████████████████| 5005/5005 [00:37<00:00, 134.47it/s]\n"
     ]
    },
    {
     "name": "stdout",
     "output_type": "stream",
     "text": [
      ">> Accuracy: 92.26868940583078 %\n",
      "-- Loss: 1.0261143445968628\n",
      "-- Complete optimized function value: 1.746291160583496\n"
     ]
    },
    {
     "name": "stderr",
     "output_type": "stream",
     "text": [
      "Epoch [77/90]: 100%|██████████████████████████████████████████████████████████████| 5005/5005 [00:37<00:00, 134.91it/s]\n"
     ]
    },
    {
     "name": "stdout",
     "output_type": "stream",
     "text": [
      ">> Accuracy: 92.2713432362838 %\n",
      "-- Loss: 1.0234521627426147\n",
      "-- Complete optimized function value: 1.7433724403381348\n"
     ]
    },
    {
     "name": "stderr",
     "output_type": "stream",
     "text": [
      "Epoch [78/90]: 100%|██████████████████████████████████████████████████████████████| 5005/5005 [00:37<00:00, 133.47it/s]\n"
     ]
    },
    {
     "name": "stdout",
     "output_type": "stream",
     "text": [
      ">> Accuracy: 92.27563619731073 %\n",
      "-- Loss: 1.020877480506897\n",
      "-- Complete optimized function value: 1.7405414581298828\n"
     ]
    },
    {
     "name": "stderr",
     "output_type": "stream",
     "text": [
      "Epoch [79/90]: 100%|██████████████████████████████████████████████████████████████| 5005/5005 [00:37<00:00, 133.43it/s]\n"
     ]
    },
    {
     "name": "stdout",
     "output_type": "stream",
     "text": [
      ">> Accuracy: 92.27930472764284 %\n",
      "-- Loss: 1.01839017868042\n",
      "-- Complete optimized function value: 1.7377982139587402\n"
     ]
    },
    {
     "name": "stderr",
     "output_type": "stream",
     "text": [
      "Epoch [80/90]: 100%|██████████████████████████████████████████████████████████████| 5005/5005 [00:37<00:00, 133.76it/s]\n"
     ]
    },
    {
     "name": "stdout",
     "output_type": "stream",
     "text": [
      ">> Accuracy: 92.28250493495383 %\n",
      "-- Loss: 1.0159764289855957\n",
      "-- Complete optimized function value: 1.7351288795471191\n"
     ]
    },
    {
     "name": "stderr",
     "output_type": "stream",
     "text": [
      "Epoch [81/90]: 100%|██████████████████████████████████████████████████████████████| 5005/5005 [00:36<00:00, 136.88it/s]\n"
     ]
    },
    {
     "name": "stdout",
     "output_type": "stream",
     "text": [
      ">> Accuracy: 92.28484655005944 %\n",
      "-- Loss: 1.0136319398880005\n",
      "-- Complete optimized function value: 1.7325290441513062\n"
     ]
    },
    {
     "name": "stderr",
     "output_type": "stream",
     "text": [
      "Epoch [82/90]: 100%|██████████████████████████████████████████████████████████████| 5005/5005 [00:37<00:00, 132.85it/s]\n"
     ]
    },
    {
     "name": "stdout",
     "output_type": "stream",
     "text": [
      ">> Accuracy: 92.28757843434931 %\n",
      "-- Loss: 1.0113524198532104\n",
      "-- Complete optimized function value: 1.7299946546554565\n"
     ]
    },
    {
     "name": "stderr",
     "output_type": "stream",
     "text": [
      "Epoch [83/90]: 100%|██████████████████████████████████████████████████████████████| 5005/5005 [00:37<00:00, 133.10it/s]\n"
     ]
    },
    {
     "name": "stdout",
     "output_type": "stream",
     "text": [
      ">> Accuracy: 92.29171528770254 %\n",
      "-- Loss: 1.0091317892074585\n",
      "-- Complete optimized function value: 1.7275195121765137\n"
     ]
    },
    {
     "name": "stderr",
     "output_type": "stream",
     "text": [
      "Epoch [84/90]: 100%|██████████████████████████████████████████████████████████████| 5005/5005 [00:37<00:00, 134.07it/s]\n"
     ]
    },
    {
     "name": "stdout",
     "output_type": "stream",
     "text": [
      ">> Accuracy: 92.29319831060276 %\n",
      "-- Loss: 1.006967306137085\n",
      "-- Complete optimized function value: 1.7251007556915283\n"
     ]
    },
    {
     "name": "stderr",
     "output_type": "stream",
     "text": [
      "Epoch [85/90]: 100%|██████████████████████████████████████████████████████████████| 5005/5005 [00:37<00:00, 135.00it/s]\n"
     ]
    },
    {
     "name": "stdout",
     "output_type": "stream",
     "text": [
      ">> Accuracy: 92.29436911815556 %\n",
      "-- Loss: 1.0048530101776123\n",
      "-- Complete optimized function value: 1.7227325439453125\n"
     ]
    },
    {
     "name": "stderr",
     "output_type": "stream",
     "text": [
      "Epoch [86/90]: 100%|██████████████████████████████████████████████████████████████| 5005/5005 [00:37<00:00, 133.62it/s]\n"
     ]
    },
    {
     "name": "stdout",
     "output_type": "stream",
     "text": [
      ">> Accuracy: 92.29686684093487 %\n",
      "-- Loss: 1.0027878284454346\n",
      "-- Complete optimized function value: 1.7204136848449707\n"
     ]
    },
    {
     "name": "stderr",
     "output_type": "stream",
     "text": [
      "Epoch [87/90]: 100%|██████████████████████████████████████████████████████████████| 5005/5005 [00:37<00:00, 134.37it/s]\n"
     ]
    },
    {
     "name": "stdout",
     "output_type": "stream",
     "text": [
      ">> Accuracy: 92.29827180999823 %\n",
      "-- Loss: 1.0007708072662354\n",
      "-- Complete optimized function value: 1.7181432247161865\n"
     ]
    },
    {
     "name": "stderr",
     "output_type": "stream",
     "text": [
      "Epoch [88/90]: 100%|██████████████████████████████████████████████████████████████| 5005/5005 [00:36<00:00, 137.68it/s]\n"
     ]
    },
    {
     "name": "stdout",
     "output_type": "stream",
     "text": [
      ">> Accuracy: 92.29975483289844 %\n",
      "-- Loss: 0.9987975358963013\n",
      "-- Complete optimized function value: 1.715916633605957\n"
     ]
    },
    {
     "name": "stderr",
     "output_type": "stream",
     "text": [
      "Epoch [89/90]: 100%|██████████████████████████████████████████████████████████████| 5005/5005 [00:38<00:00, 130.56it/s]\n"
     ]
    },
    {
     "name": "stdout",
     "output_type": "stream",
     "text": [
      ">> Accuracy: 92.30108174812496 %\n",
      "-- Loss: 0.9968631863594055\n",
      "-- Complete optimized function value: 1.7137293815612793\n"
     ]
    },
    {
     "name": "stderr",
     "output_type": "stream",
     "text": [
      "Epoch [90/90]: 100%|██████████████████████████████████████████████████████████████| 5005/5005 [00:37<00:00, 134.71it/s]\n"
     ]
    },
    {
     "name": "stdout",
     "output_type": "stream",
     "text": [
      ">> Accuracy: 92.30279893253572 %\n",
      "-- Loss: 0.9949648976325989\n",
      "-- Complete optimized function value: 1.711578369140625\n",
      "Step 2/9 completed.\n",
      "Processing step 3/9, weight decay = 1.000e-05.\n"
     ]
    },
    {
     "name": "stderr",
     "output_type": "stream",
     "text": [
      "Epoch [1/90]: 100%|███████████████████████████████████████████████████████████████| 5005/5005 [00:37<00:00, 134.36it/s]\n"
     ]
    },
    {
     "name": "stdout",
     "output_type": "stream",
     "text": [
      ">> Accuracy: 8.515985816056768 %\n",
      "-- Loss: 38.6279296875\n",
      "-- Complete optimized function value: 41.03181457519531\n"
     ]
    },
    {
     "name": "stderr",
     "output_type": "stream",
     "text": [
      "Epoch [2/90]: 100%|███████████████████████████████████████████████████████████████| 5005/5005 [00:37<00:00, 134.11it/s]\n"
     ]
    },
    {
     "name": "stdout",
     "output_type": "stream",
     "text": [
      ">> Accuracy: 61.463884099418735 %\n",
      "-- Loss: 19.682300567626953\n",
      "-- Complete optimized function value: 22.322065353393555\n"
     ]
    },
    {
     "name": "stderr",
     "output_type": "stream",
     "text": [
      "Epoch [3/90]: 100%|███████████████████████████████████████████████████████████████| 5005/5005 [00:35<00:00, 141.87it/s]\n"
     ]
    },
    {
     "name": "stdout",
     "output_type": "stream",
     "text": [
      ">> Accuracy: 71.34721702947391 %\n",
      "-- Loss: 13.426590919494629\n",
      "-- Complete optimized function value: 16.02967643737793\n"
     ]
    },
    {
     "name": "stderr",
     "output_type": "stream",
     "text": [
      "Epoch [4/90]: 100%|███████████████████████████████████████████████████████████████| 5005/5005 [00:34<00:00, 143.78it/s]\n"
     ]
    },
    {
     "name": "stdout",
     "output_type": "stream",
     "text": [
      ">> Accuracy: 75.41475857557992 %\n",
      "-- Loss: 10.162473678588867\n",
      "-- Complete optimized function value: 12.634775161743164\n"
     ]
    },
    {
     "name": "stderr",
     "output_type": "stream",
     "text": [
      "Epoch [5/90]: 100%|███████████████████████████████████████████████████████████████| 5005/5005 [00:37<00:00, 132.88it/s]\n"
     ]
    },
    {
     "name": "stdout",
     "output_type": "stream",
     "text": [
      ">> Accuracy: 76.82495724601087 %\n",
      "-- Loss: 9.391125679016113\n",
      "-- Complete optimized function value: 11.733365058898926\n"
     ]
    },
    {
     "name": "stderr",
     "output_type": "stream",
     "text": [
      "Epoch [6/90]: 100%|███████████████████████████████████████████████████████████████| 5005/5005 [00:37<00:00, 134.84it/s]\n"
     ]
    },
    {
     "name": "stdout",
     "output_type": "stream",
     "text": [
      ">> Accuracy: 77.62961425013289 %\n",
      "-- Loss: 9.376016616821289\n",
      "-- Complete optimized function value: 11.590733528137207\n"
     ]
    },
    {
     "name": "stderr",
     "output_type": "stream",
     "text": [
      "Epoch [7/90]: 100%|███████████████████████████████████████████████████████████████| 5005/5005 [00:37<00:00, 132.32it/s]\n"
     ]
    },
    {
     "name": "stdout",
     "output_type": "stream",
     "text": [
      ">> Accuracy: 77.70993164825506 %\n",
      "-- Loss: 9.245546340942383\n",
      "-- Complete optimized function value: 11.358386039733887\n"
     ]
    },
    {
     "name": "stderr",
     "output_type": "stream",
     "text": [
      "Epoch [8/90]: 100%|███████████████████████████████████████████████████████████████| 5005/5005 [00:37<00:00, 133.47it/s]\n"
     ]
    },
    {
     "name": "stdout",
     "output_type": "stream",
     "text": [
      ">> Accuracy: 77.82560743447185 %\n",
      "-- Loss: 8.934647560119629\n",
      "-- Complete optimized function value: 10.954111099243164\n"
     ]
    },
    {
     "name": "stderr",
     "output_type": "stream",
     "text": [
      "Epoch [9/90]: 100%|███████████████████████████████████████████████████████████████| 5005/5005 [00:37<00:00, 133.65it/s]\n"
     ]
    },
    {
     "name": "stdout",
     "output_type": "stream",
     "text": [
      ">> Accuracy: 77.46320346996137 %\n",
      "-- Loss: 8.617987632751465\n",
      "-- Complete optimized function value: 10.575496673583984\n"
     ]
    },
    {
     "name": "stderr",
     "output_type": "stream",
     "text": [
      "Epoch [10/90]: 100%|██████████████████████████████████████████████████████████████| 5005/5005 [00:37<00:00, 133.26it/s]\n"
     ]
    },
    {
     "name": "stdout",
     "output_type": "stream",
     "text": [
      ">> Accuracy: 77.51432873310037 %\n",
      "-- Loss: 8.287266731262207\n",
      "-- Complete optimized function value: 10.181807518005371\n"
     ]
    },
    {
     "name": "stderr",
     "output_type": "stream",
     "text": [
      "Epoch [11/90]: 100%|██████████████████████████████████████████████████████████████| 5005/5005 [00:36<00:00, 136.00it/s]\n"
     ]
    },
    {
     "name": "stdout",
     "output_type": "stream",
     "text": [
      ">> Accuracy: 77.18572207994742 %\n",
      "-- Loss: 7.984699249267578\n",
      "-- Complete optimized function value: 9.838645935058594\n"
     ]
    },
    {
     "name": "stderr",
     "output_type": "stream",
     "text": [
      "Epoch [12/90]: 100%|██████████████████████████████████████████████████████████████| 5005/5005 [00:37<00:00, 133.04it/s]\n"
     ]
    },
    {
     "name": "stdout",
     "output_type": "stream",
     "text": [
      ">> Accuracy: 77.10509246647783 %\n",
      "-- Loss: 7.733473777770996\n",
      "-- Complete optimized function value: 9.555222511291504\n"
     ]
    },
    {
     "name": "stderr",
     "output_type": "stream",
     "text": [
      "Epoch [13/90]: 100%|██████████████████████████████████████████████████████████████| 5005/5005 [00:37<00:00, 134.33it/s]\n"
     ]
    },
    {
     "name": "stdout",
     "output_type": "stream",
     "text": [
      ">> Accuracy: 76.7565040310904 %\n",
      "-- Loss: 7.520039081573486\n",
      "-- Complete optimized function value: 9.32170581817627\n"
     ]
    },
    {
     "name": "stderr",
     "output_type": "stream",
     "text": [
      "Epoch [14/90]: 100%|██████████████████████████████████████████████████████████████| 5005/5005 [00:37<00:00, 134.22it/s]\n"
     ]
    },
    {
     "name": "stdout",
     "output_type": "stream",
     "text": [
      ">> Accuracy: 76.78889637338457 %\n",
      "-- Loss: 7.319290637969971\n",
      "-- Complete optimized function value: 9.100648880004883\n"
     ]
    },
    {
     "name": "stderr",
     "output_type": "stream",
     "text": [
      "Epoch [15/90]: 100%|██████████████████████████████████████████████████████████████| 5005/5005 [00:37<00:00, 134.28it/s]\n"
     ]
    },
    {
     "name": "stdout",
     "output_type": "stream",
     "text": [
      ">> Accuracy: 76.5178153979926 %\n",
      "-- Loss: 7.139827251434326\n",
      "-- Complete optimized function value: 8.913973808288574\n"
     ]
    },
    {
     "name": "stderr",
     "output_type": "stream",
     "text": [
      "Epoch [16/90]: 100%|██████████████████████████████████████████████████████████████| 5005/5005 [00:36<00:00, 135.46it/s]\n"
     ]
    },
    {
     "name": "stdout",
     "output_type": "stream",
     "text": [
      ">> Accuracy: 76.77234895997165 %\n",
      "-- Loss: 6.99805212020874\n",
      "-- Complete optimized function value: 8.75691032409668\n"
     ]
    },
    {
     "name": "stderr",
     "output_type": "stream",
     "text": [
      "Epoch [17/90]: 100%|██████████████████████████████████████████████████████████████| 5005/5005 [00:36<00:00, 137.34it/s]\n"
     ]
    },
    {
     "name": "stdout",
     "output_type": "stream",
     "text": [
      ">> Accuracy: 76.48846715533573 %\n",
      "-- Loss: 6.8540873527526855\n",
      "-- Complete optimized function value: 8.611335754394531\n"
     ]
    },
    {
     "name": "stderr",
     "output_type": "stream",
     "text": [
      "Epoch [18/90]: 100%|██████████████████████████████████████████████████████████████| 5005/5005 [00:37<00:00, 134.92it/s]\n"
     ]
    },
    {
     "name": "stdout",
     "output_type": "stream",
     "text": [
      ">> Accuracy: 76.62646633889258 %\n",
      "-- Loss: 6.732542514801025\n",
      "-- Complete optimized function value: 8.48128604888916\n"
     ]
    },
    {
     "name": "stderr",
     "output_type": "stream",
     "text": [
      "Epoch [19/90]: 100%|██████████████████████████████████████████████████████████████| 5005/5005 [00:37<00:00, 134.90it/s]\n"
     ]
    },
    {
     "name": "stdout",
     "output_type": "stream",
     "text": [
      ">> Accuracy: 76.41064747999285 %\n",
      "-- Loss: 6.613219261169434\n",
      "-- Complete optimized function value: 8.364906311035156\n"
     ]
    },
    {
     "name": "stderr",
     "output_type": "stream",
     "text": [
      "Epoch [20/90]: 100%|██████████████████████████████████████████████████████████████| 5005/5005 [00:37<00:00, 134.92it/s]\n"
     ]
    },
    {
     "name": "stdout",
     "output_type": "stream",
     "text": [
      ">> Accuracy: 76.57143838391092 %\n",
      "-- Loss: 6.528801918029785\n",
      "-- Complete optimized function value: 8.276610374450684\n"
     ]
    },
    {
     "name": "stderr",
     "output_type": "stream",
     "text": [
      "Epoch [21/90]: 100%|██████████████████████████████████████████████████████████████| 5005/5005 [00:37<00:00, 134.24it/s]\n"
     ]
    },
    {
     "name": "stdout",
     "output_type": "stream",
     "text": [
      ">> Accuracy: 76.22261578701294 %\n",
      "-- Loss: 6.447071075439453\n",
      "-- Complete optimized function value: 8.203474044799805\n"
     ]
    },
    {
     "name": "stderr",
     "output_type": "stream",
     "text": [
      "Epoch [22/90]: 100%|██████████████████████████████████████████████████████████████| 5005/5005 [00:37<00:00, 134.56it/s]\n"
     ]
    },
    {
     "name": "stdout",
     "output_type": "stream",
     "text": [
      ">> Accuracy: 76.4003443735282 %\n",
      "-- Loss: 6.393838882446289\n",
      "-- Complete optimized function value: 8.151430130004883\n"
     ]
    },
    {
     "name": "stderr",
     "output_type": "stream",
     "text": [
      "Epoch [23/90]: 100%|██████████████████████████████████████████████████████████████| 5005/5005 [00:37<00:00, 132.02it/s]\n"
     ]
    },
    {
     "name": "stdout",
     "output_type": "stream",
     "text": [
      ">> Accuracy: 76.13004393650476 %\n",
      "-- Loss: 6.3078436851501465\n",
      "-- Complete optimized function value: 8.076496124267578\n"
     ]
    },
    {
     "name": "stderr",
     "output_type": "stream",
     "text": [
      "Epoch [24/90]: 100%|██████████████████████████████████████████████████████████████| 5005/5005 [00:36<00:00, 136.36it/s]\n"
     ]
    },
    {
     "name": "stdout",
     "output_type": "stream",
     "text": [
      ">> Accuracy: 76.40697894966074 %\n",
      "-- Loss: 6.258917331695557\n",
      "-- Complete optimized function value: 8.029420852661133\n"
     ]
    },
    {
     "name": "stderr",
     "output_type": "stream",
     "text": [
      "Epoch [25/90]: 100%|██████████████████████████████████████████████████████████████| 5005/5005 [00:37<00:00, 133.60it/s]\n"
     ]
    },
    {
     "name": "stdout",
     "output_type": "stream",
     "text": [
      ">> Accuracy: 76.17609570024828 %\n",
      "-- Loss: 6.227654933929443\n",
      "-- Complete optimized function value: 8.008679389953613\n"
     ]
    },
    {
     "name": "stderr",
     "output_type": "stream",
     "text": [
      "Epoch [26/90]: 100%|██████████████████████████████████████████████████████████████| 5005/5005 [00:37<00:00, 133.78it/s]\n"
     ]
    },
    {
     "name": "stdout",
     "output_type": "stream",
     "text": [
      ">> Accuracy: 76.43343920035406 %\n",
      "-- Loss: 6.218381881713867\n",
      "-- Complete optimized function value: 8.000144004821777\n"
     ]
    },
    {
     "name": "stderr",
     "output_type": "stream",
     "text": [
      "Epoch [27/90]: 100%|██████████████████████████████████████████████████████████████| 5005/5005 [00:37<00:00, 132.88it/s]\n"
     ]
    },
    {
     "name": "stdout",
     "output_type": "stream",
     "text": [
      ">> Accuracy: 76.21754228761746 %\n",
      "-- Loss: 6.194427490234375\n",
      "-- Complete optimized function value: 7.985681533813477\n"
     ]
    },
    {
     "name": "stderr",
     "output_type": "stream",
     "text": [
      "Epoch [28/90]: 100%|██████████████████████████████████████████████████████████████| 5005/5005 [00:37<00:00, 134.59it/s]\n"
     ]
    },
    {
     "name": "stdout",
     "output_type": "stream",
     "text": [
      ">> Accuracy: 76.51484935219219 %\n",
      "-- Loss: 6.170108795166016\n",
      "-- Complete optimized function value: 7.961020469665527\n"
     ]
    },
    {
     "name": "stderr",
     "output_type": "stream",
     "text": [
      "Epoch [29/90]: 100%|██████████████████████████████████████████████████████████████| 5005/5005 [00:37<00:00, 134.78it/s]\n"
     ]
    },
    {
     "name": "stdout",
     "output_type": "stream",
     "text": [
      ">> Accuracy: 76.266247881814 %\n",
      "-- Loss: 6.139587879180908\n",
      "-- Complete optimized function value: 7.93949556350708\n"
     ]
    },
    {
     "name": "stderr",
     "output_type": "stream",
     "text": [
      "Epoch [30/90]: 100%|██████████████████████████████████████████████████████████████| 5005/5005 [00:36<00:00, 135.98it/s]\n"
     ]
    },
    {
     "name": "stdout",
     "output_type": "stream",
     "text": [
      ">> Accuracy: 76.44303982228702 %\n",
      "-- Loss: 6.14259147644043\n",
      "-- Complete optimized function value: 7.944450855255127\n"
     ]
    },
    {
     "name": "stderr",
     "output_type": "stream",
     "text": [
      "Epoch [31/90]: 100%|██████████████████████████████████████████████████████████████| 5005/5005 [00:37<00:00, 134.79it/s]\n"
     ]
    },
    {
     "name": "stdout",
     "output_type": "stream",
     "text": [
      ">> Accuracy: 80.35572255607583 %\n",
      "-- Loss: 2.387328863143921\n",
      "-- Complete optimized function value: 4.149208068847656\n"
     ]
    },
    {
     "name": "stderr",
     "output_type": "stream",
     "text": [
      "Epoch [32/90]: 100%|██████████████████████████████████████████████████████████████| 5005/5005 [00:36<00:00, 135.86it/s]\n"
     ]
    },
    {
     "name": "stdout",
     "output_type": "stream",
     "text": [
      ">> Accuracy: 86.5162777374066 %\n",
      "-- Loss: 2.4182729721069336\n",
      "-- Complete optimized function value: 4.1488938331604\n"
     ]
    },
    {
     "name": "stderr",
     "output_type": "stream",
     "text": [
      "Epoch [33/90]: 100%|██████████████████████████████████████████████████████████████| 5005/5005 [00:37<00:00, 134.38it/s]\n"
     ]
    },
    {
     "name": "stdout",
     "output_type": "stream",
     "text": [
      ">> Accuracy: 88.05994846885692 %\n",
      "-- Loss: 2.390439748764038\n",
      "-- Complete optimized function value: 4.092855453491211\n"
     ]
    },
    {
     "name": "stderr",
     "output_type": "stream",
     "text": [
      "Epoch [34/90]: 100%|██████████████████████████████████████████████████████████████| 5005/5005 [00:37<00:00, 135.02it/s]\n"
     ]
    },
    {
     "name": "stdout",
     "output_type": "stream",
     "text": [
      ">> Accuracy: 88.70038020023931 %\n",
      "-- Loss: 2.3325676918029785\n",
      "-- Complete optimized function value: 4.008387565612793\n"
     ]
    },
    {
     "name": "stderr",
     "output_type": "stream",
     "text": [
      "Epoch [35/90]: 100%|██████████████████████████████████████████████████████████████| 5005/5005 [00:37<00:00, 135.18it/s]\n"
     ]
    },
    {
     "name": "stdout",
     "output_type": "stream",
     "text": [
      ">> Accuracy: 89.07839493212047 %\n",
      "-- Loss: 2.261317014694214\n",
      "-- Complete optimized function value: 3.9115922451019287\n"
     ]
    },
    {
     "name": "stderr",
     "output_type": "stream",
     "text": [
      "Epoch [36/90]: 100%|██████████████████████████████████████████████████████████████| 5005/5005 [00:36<00:00, 136.06it/s]\n"
     ]
    },
    {
     "name": "stdout",
     "output_type": "stream",
     "text": [
      ">> Accuracy: 89.33214795573099 %\n",
      "-- Loss: 2.185213327407837\n",
      "-- Complete optimized function value: 3.810734510421753\n"
     ]
    },
    {
     "name": "stderr",
     "output_type": "stream",
     "text": [
      "Epoch [37/90]: 100%|██████████████████████████████████████████████████████████████| 5005/5005 [00:37<00:00, 135.05it/s]\n"
     ]
    },
    {
     "name": "stdout",
     "output_type": "stream",
     "text": [
      ">> Accuracy: 89.49332912883332 %\n",
      "-- Loss: 2.110074520111084\n",
      "-- Complete optimized function value: 3.711495876312256\n"
     ]
    },
    {
     "name": "stderr",
     "output_type": "stream",
     "text": [
      "Epoch [38/90]: 100%|██████████████████████████████████████████████████████████████| 5005/5005 [00:37<00:00, 134.68it/s]\n"
     ]
    },
    {
     "name": "stdout",
     "output_type": "stream",
     "text": [
      ">> Accuracy: 89.61821526779882 %\n",
      "-- Loss: 2.035799264907837\n",
      "-- Complete optimized function value: 3.61368989944458\n"
     ]
    },
    {
     "name": "stderr",
     "output_type": "stream",
     "text": [
      "Epoch [39/90]: 100%|██████████████████████████████████████████████████████████████| 5005/5005 [00:37<00:00, 134.20it/s]\n"
     ]
    },
    {
     "name": "stdout",
     "output_type": "stream",
     "text": [
      ">> Accuracy: 89.72569540114598 %\n",
      "-- Loss: 1.9632514715194702\n",
      "-- Complete optimized function value: 3.518124580383301\n"
     ]
    },
    {
     "name": "stderr",
     "output_type": "stream",
     "text": [
      "Epoch [40/90]: 100%|██████████████████████████████████████████████████████████████| 5005/5005 [00:37<00:00, 134.13it/s]\n"
     ]
    },
    {
     "name": "stdout",
     "output_type": "stream",
     "text": [
      ">> Accuracy: 89.81405234446407 %\n",
      "-- Loss: 1.8947341442108154\n",
      "-- Complete optimized function value: 3.4270639419555664\n"
     ]
    },
    {
     "name": "stderr",
     "output_type": "stream",
     "text": [
      "Epoch [41/90]: 100%|██████████████████████████████████████████████████████████████| 5005/5005 [00:37<00:00, 135.03it/s]\n"
     ]
    },
    {
     "name": "stdout",
     "output_type": "stream",
     "text": [
      ">> Accuracy: 89.90256539545587 %\n",
      "-- Loss: 1.8315694332122803\n",
      "-- Complete optimized function value: 3.341801166534424\n"
     ]
    },
    {
     "name": "stderr",
     "output_type": "stream",
     "text": [
      "Epoch [42/90]: 100%|██████████████████████████████████████████████████████████████| 5005/5005 [00:39<00:00, 125.84it/s]\n"
     ]
    },
    {
     "name": "stdout",
     "output_type": "stream",
     "text": [
      ">> Accuracy: 89.97414076385046 %\n",
      "-- Loss: 1.7739126682281494\n",
      "-- Complete optimized function value: 3.2624716758728027\n"
     ]
    },
    {
     "name": "stderr",
     "output_type": "stream",
     "text": [
      "Epoch [43/90]: 100%|██████████████████████████████████████████████████████████████| 5005/5005 [00:38<00:00, 131.28it/s]\n"
     ]
    },
    {
     "name": "stdout",
     "output_type": "stream",
     "text": [
      ">> Accuracy: 90.05297513907243 %\n",
      "-- Loss: 1.7220746278762817\n",
      "-- Complete optimized function value: 3.1893675327301025\n"
     ]
    },
    {
     "name": "stderr",
     "output_type": "stream",
     "text": [
      "Epoch [44/90]: 100%|██████████████████████████████████████████████████████████████| 5005/5005 [00:39<00:00, 126.21it/s]\n"
     ]
    },
    {
     "name": "stdout",
     "output_type": "stream",
     "text": [
      ">> Accuracy: 90.1252529919987 %\n",
      "-- Loss: 1.6763848066329956\n",
      "-- Complete optimized function value: 3.1227991580963135\n"
     ]
    },
    {
     "name": "stderr",
     "output_type": "stream",
     "text": [
      "Epoch [45/90]: 100%|██████████████████████████████████████████████████████████████| 5005/5005 [00:37<00:00, 133.06it/s]\n"
     ]
    },
    {
     "name": "stdout",
     "output_type": "stream",
     "text": [
      ">> Accuracy: 90.1777051703642 %\n",
      "-- Loss: 1.6353999376296997\n",
      "-- Complete optimized function value: 3.061307430267334\n"
     ]
    },
    {
     "name": "stderr",
     "output_type": "stream",
     "text": [
      "Epoch [46/90]: 100%|██████████████████████████████████████████████████████████████| 5005/5005 [00:37<00:00, 133.38it/s]\n"
     ]
    },
    {
     "name": "stdout",
     "output_type": "stream",
     "text": [
      ">> Accuracy: 90.23148426395622 %\n",
      "-- Loss: 1.5978175401687622\n",
      "-- Complete optimized function value: 3.0035791397094727\n"
     ]
    },
    {
     "name": "stderr",
     "output_type": "stream",
     "text": [
      "Epoch [47/90]: 100%|██████████████████████████████████████████████████████████████| 5005/5005 [00:38<00:00, 130.74it/s]\n"
     ]
    },
    {
     "name": "stdout",
     "output_type": "stream",
     "text": [
      ">> Accuracy: 90.27894099676311 %\n",
      "-- Loss: 1.5629273653030396\n",
      "-- Complete optimized function value: 2.9488911628723145\n"
     ]
    },
    {
     "name": "stderr",
     "output_type": "stream",
     "text": [
      "Epoch [48/90]: 100%|██████████████████████████████████████████████████████████████| 5005/5005 [00:37<00:00, 134.27it/s]\n"
     ]
    },
    {
     "name": "stdout",
     "output_type": "stream",
     "text": [
      ">> Accuracy: 90.32749048328594 %\n",
      "-- Loss: 1.5300488471984863\n",
      "-- Complete optimized function value: 2.8965537548065186\n"
     ]
    },
    {
     "name": "stderr",
     "output_type": "stream",
     "text": [
      "Epoch [49/90]: 100%|██████████████████████████████████████████████████████████████| 5005/5005 [00:36<00:00, 138.40it/s]\n"
     ]
    },
    {
     "name": "stdout",
     "output_type": "stream",
     "text": [
      ">> Accuracy: 90.37502526992968 %\n",
      "-- Loss: 1.498609185218811\n",
      "-- Complete optimized function value: 2.8459858894348145\n"
     ]
    },
    {
     "name": "stderr",
     "output_type": "stream",
     "text": [
      "Epoch [50/90]: 100%|██████████████████████████████████████████████████████████████| 5005/5005 [00:37<00:00, 134.55it/s]\n"
     ]
    },
    {
     "name": "stdout",
     "output_type": "stream",
     "text": [
      ">> Accuracy: 90.41576937276717 %\n",
      "-- Loss: 1.4686543941497803\n",
      "-- Complete optimized function value: 2.7972230911254883\n"
     ]
    },
    {
     "name": "stderr",
     "output_type": "stream",
     "text": [
      "Epoch [51/90]: 100%|██████████████████████████████████████████████████████████████| 5005/5005 [00:36<00:00, 136.18it/s]\n"
     ]
    },
    {
     "name": "stdout",
     "output_type": "stream",
     "text": [
      ">> Accuracy: 90.45128386853548 %\n",
      "-- Loss: 1.4397635459899902\n",
      "-- Complete optimized function value: 2.749833106994629\n"
     ]
    },
    {
     "name": "stderr",
     "output_type": "stream",
     "text": [
      "Epoch [52/90]: 100%|██████████████████████████████████████████████████████████████| 5005/5005 [00:36<00:00, 135.61it/s]\n"
     ]
    },
    {
     "name": "stdout",
     "output_type": "stream",
     "text": [
      ">> Accuracy: 90.48554950291414 %\n",
      "-- Loss: 1.4117521047592163\n",
      "-- Complete optimized function value: 2.703625202178955\n"
     ]
    },
    {
     "name": "stderr",
     "output_type": "stream",
     "text": [
      "Epoch [53/90]: 100%|██████████████████████████████████████████████████████████████| 5005/5005 [00:37<00:00, 134.57it/s]\n"
     ]
    },
    {
     "name": "stdout",
     "output_type": "stream",
     "text": [
      ">> Accuracy: 90.52207869856154 %\n",
      "-- Loss: 1.384358286857605\n",
      "-- Complete optimized function value: 2.6583309173583984\n"
     ]
    },
    {
     "name": "stderr",
     "output_type": "stream",
     "text": [
      "Epoch [54/90]: 100%|██████████████████████████████████████████████████████████████| 5005/5005 [00:36<00:00, 136.24it/s]\n"
     ]
    },
    {
     "name": "stdout",
     "output_type": "stream",
     "text": [
      ">> Accuracy: 90.55072445668675 %\n",
      "-- Loss: 1.357494592666626\n",
      "-- Complete optimized function value: 2.613856315612793\n"
     ]
    },
    {
     "name": "stderr",
     "output_type": "stream",
     "text": [
      "Epoch [55/90]: 100%|██████████████████████████████████████████████████████████████| 5005/5005 [00:37<00:00, 135.10it/s]\n"
     ]
    },
    {
     "name": "stdout",
     "output_type": "stream",
     "text": [
      ">> Accuracy: 90.57905799946455 %\n",
      "-- Loss: 1.3311671018600464\n",
      "-- Complete optimized function value: 2.570199489593506\n"
     ]
    },
    {
     "name": "stderr",
     "output_type": "stream",
     "text": [
      "Epoch [56/90]: 100%|██████████████████████████████████████████████████████████████| 5005/5005 [00:36<00:00, 138.44it/s]\n"
     ]
    },
    {
     "name": "stdout",
     "output_type": "stream",
     "text": [
      ">> Accuracy: 90.60895261897942 %\n",
      "-- Loss: 1.3054499626159668\n",
      "-- Complete optimized function value: 2.5274291038513184\n"
     ]
    },
    {
     "name": "stderr",
     "output_type": "stream",
     "text": [
      "Epoch [57/90]: 100%|██████████████████████████████████████████████████████████████| 5005/5005 [00:37<00:00, 134.97it/s]\n"
     ]
    },
    {
     "name": "stdout",
     "output_type": "stream",
     "text": [
      ">> Accuracy: 90.63806670012575 %\n",
      "-- Loss: 1.2802373170852661\n",
      "-- Complete optimized function value: 2.485433578491211\n"
     ]
    },
    {
     "name": "stderr",
     "output_type": "stream",
     "text": [
      "Epoch [58/90]: 100%|██████████████████████████████████████████████████████████████| 5005/5005 [00:37<00:00, 134.62it/s]\n"
     ]
    },
    {
     "name": "stdout",
     "output_type": "stream",
     "text": [
      ">> Accuracy: 90.67092736544105 %\n",
      "-- Loss: 1.255466341972351\n",
      "-- Complete optimized function value: 2.444149971008301\n"
     ]
    },
    {
     "name": "stderr",
     "output_type": "stream",
     "text": [
      "Epoch [59/90]: 100%|██████████████████████████████████████████████████████████████| 5005/5005 [00:36<00:00, 135.87it/s]\n"
     ]
    },
    {
     "name": "stdout",
     "output_type": "stream",
     "text": [
      ">> Accuracy: 90.69855842368716 %\n",
      "-- Loss: 1.2312177419662476\n",
      "-- Complete optimized function value: 2.4036498069763184\n"
     ]
    },
    {
     "name": "stderr",
     "output_type": "stream",
     "text": [
      "Epoch [60/90]: 100%|██████████████████████████████████████████████████████████████| 5005/5005 [00:36<00:00, 135.76it/s]\n"
     ]
    },
    {
     "name": "stdout",
     "output_type": "stream",
     "text": [
      ">> Accuracy: 90.72759445099663 %\n",
      "-- Loss: 1.2072726488113403\n",
      "-- Complete optimized function value: 2.363706350326538\n"
     ]
    },
    {
     "name": "stderr",
     "output_type": "stream",
     "text": [
      "Epoch [61/90]: 100%|██████████████████████████████████████████████████████████████| 5005/5005 [00:37<00:00, 134.34it/s]\n"
     ]
    },
    {
     "name": "stdout",
     "output_type": "stream",
     "text": [
      ">> Accuracy: 91.60008023934428 %\n",
      "-- Loss: 1.1635011434555054\n",
      "-- Complete optimized function value: 2.3183531761169434\n"
     ]
    },
    {
     "name": "stderr",
     "output_type": "stream",
     "text": [
      "Epoch [62/90]: 100%|██████████████████████████████████████████████████████████████| 5005/5005 [00:35<00:00, 139.25it/s]\n"
     ]
    },
    {
     "name": "stdout",
     "output_type": "stream",
     "text": [
      ">> Accuracy: 91.62615022085333 %\n",
      "-- Loss: 1.153815746307373\n",
      "-- Complete optimized function value: 2.3070945739746094\n"
     ]
    },
    {
     "name": "stderr",
     "output_type": "stream",
     "text": [
      "Epoch [63/90]: 100%|██████████████████████████████████████████████████████████████| 5005/5005 [00:37<00:00, 134.85it/s]\n"
     ]
    },
    {
     "name": "stdout",
     "output_type": "stream",
     "text": [
      ">> Accuracy: 91.65596678653134 %\n",
      "-- Loss: 1.1449161767959595\n",
      "-- Complete optimized function value: 2.296626091003418\n"
     ]
    },
    {
     "name": "stderr",
     "output_type": "stream",
     "text": [
      "Epoch [64/90]: 100%|██████████████████████████████████████████████████████████████| 5005/5005 [00:37<00:00, 134.80it/s]\n"
     ]
    },
    {
     "name": "stdout",
     "output_type": "stream",
     "text": [
      ">> Accuracy: 91.67829018387143 %\n",
      "-- Loss: 1.1367040872573853\n",
      "-- Complete optimized function value: 2.286848306655884\n"
     ]
    },
    {
     "name": "stderr",
     "output_type": "stream",
     "text": [
      "Epoch [65/90]: 100%|██████████████████████████████████████████████████████████████| 5005/5005 [00:37<00:00, 134.86it/s]\n"
     ]
    },
    {
     "name": "stdout",
     "output_type": "stream",
     "text": [
      ">> Accuracy: 91.69132517462594 %\n",
      "-- Loss: 1.1291013956069946\n",
      "-- Complete optimized function value: 2.2776834964752197\n"
     ]
    },
    {
     "name": "stderr",
     "output_type": "stream",
     "text": [
      "Epoch [66/90]: 100%|██████████████████████████████████████████████████████████████| 5005/5005 [00:36<00:00, 135.60it/s]\n"
     ]
    },
    {
     "name": "stdout",
     "output_type": "stream",
     "text": [
      ">> Accuracy: 91.7106825261656 %\n",
      "-- Loss: 1.1220322847366333\n",
      "-- Complete optimized function value: 2.2690553665161133\n"
     ]
    },
    {
     "name": "stderr",
     "output_type": "stream",
     "text": [
      "Epoch [67/90]: 100%|██████████████████████████████████████████████████████████████| 5005/5005 [00:37<00:00, 134.86it/s]\n"
     ]
    },
    {
     "name": "stdout",
     "output_type": "stream",
     "text": [
      ">> Accuracy: 91.72707383190482 %\n",
      "-- Loss: 1.1154356002807617\n",
      "-- Complete optimized function value: 2.2609028816223145\n"
     ]
    },
    {
     "name": "stderr",
     "output_type": "stream",
     "text": [
      "Epoch [68/90]: 100%|██████████████████████████████████████████████████████████████| 5005/5005 [00:36<00:00, 135.79it/s]\n"
     ]
    },
    {
     "name": "stdout",
     "output_type": "stream",
     "text": [
      ">> Accuracy: 91.73753304604318 %\n",
      "-- Loss: 1.1092631816864014\n",
      "-- Complete optimized function value: 2.2531771659851074\n"
     ]
    },
    {
     "name": "stderr",
     "output_type": "stream",
     "text": [
      "Epoch [69/90]: 100%|██████████████████████████████████████████████████████████████| 5005/5005 [00:35<00:00, 139.28it/s]\n"
     ]
    },
    {
     "name": "stdout",
     "output_type": "stream",
     "text": [
      ">> Accuracy: 91.74346513764404 %\n",
      "-- Loss: 1.1034642457962036\n",
      "-- Complete optimized function value: 2.2458279132843018\n"
     ]
    },
    {
     "name": "stderr",
     "output_type": "stream",
     "text": [
      "Epoch [70/90]: 100%|██████████████████████████████████████████████████████████████| 5005/5005 [00:37<00:00, 135.04it/s]\n"
     ]
    },
    {
     "name": "stdout",
     "output_type": "stream",
     "text": [
      ">> Accuracy: 91.75119246749253 %\n",
      "-- Loss: 1.0980095863342285\n",
      "-- Complete optimized function value: 2.238825798034668\n"
     ]
    },
    {
     "name": "stderr",
     "output_type": "stream",
     "text": [
      "Epoch [71/90]: 100%|██████████████████████████████████████████████████████████████| 5005/5005 [00:36<00:00, 136.36it/s]\n"
     ]
    },
    {
     "name": "stdout",
     "output_type": "stream",
     "text": [
      ">> Accuracy: 91.75899785117787 %\n",
      "-- Loss: 1.0928584337234497\n",
      "-- Complete optimized function value: 2.2321300506591797\n"
     ]
    },
    {
     "name": "stderr",
     "output_type": "stream",
     "text": [
      "Epoch [72/90]: 100%|██████████████████████████████████████████████████████████████| 5005/5005 [00:37<00:00, 133.74it/s]\n"
     ]
    },
    {
     "name": "stdout",
     "output_type": "stream",
     "text": [
      ">> Accuracy: 91.7641494044102 %\n",
      "-- Loss: 1.087979793548584\n",
      "-- Complete optimized function value: 2.2257094383239746\n"
     ]
    },
    {
     "name": "stderr",
     "output_type": "stream",
     "text": [
      "Epoch [73/90]: 100%|██████████████████████████████████████████████████████████████| 5005/5005 [00:36<00:00, 135.56it/s]\n"
     ]
    },
    {
     "name": "stdout",
     "output_type": "stream",
     "text": [
      ">> Accuracy: 91.76898874229511 %\n",
      "-- Loss: 1.083346962928772\n",
      "-- Complete optimized function value: 2.2195377349853516\n"
     ]
    },
    {
     "name": "stderr",
     "output_type": "stream",
     "text": [
      "Epoch [74/90]: 100%|██████████████████████████████████████████████████████████████| 5005/5005 [00:36<00:00, 137.09it/s]\n"
     ]
    },
    {
     "name": "stdout",
     "output_type": "stream",
     "text": [
      ">> Accuracy: 91.77250116495351 %\n",
      "-- Loss: 1.0789356231689453\n",
      "-- Complete optimized function value: 2.213589668273926\n"
     ]
    },
    {
     "name": "stderr",
     "output_type": "stream",
     "text": [
      "Epoch [75/90]: 100%|██████████████████████████████████████████████████████████████| 5005/5005 [00:35<00:00, 141.41it/s]\n"
     ]
    },
    {
     "name": "stdout",
     "output_type": "stream",
     "text": [
      ">> Accuracy: 91.7755452645908 %\n",
      "-- Loss: 1.0747263431549072\n",
      "-- Complete optimized function value: 2.2078466415405273\n"
     ]
    },
    {
     "name": "stderr",
     "output_type": "stream",
     "text": [
      "Epoch [76/90]: 100%|██████████████████████████████████████████████████████████████| 5005/5005 [00:36<00:00, 135.65it/s]\n"
     ]
    },
    {
     "name": "stdout",
     "output_type": "stream",
     "text": [
      ">> Accuracy: 91.77718439516472 %\n",
      "-- Loss: 1.0706990957260132\n",
      "-- Complete optimized function value: 2.2022881507873535\n"
     ]
    },
    {
     "name": "stderr",
     "output_type": "stream",
     "text": [
      "Epoch [77/90]: 100%|██████████████████████████████████████████████████████████████| 5005/5005 [00:36<00:00, 136.77it/s]\n"
     ]
    },
    {
     "name": "stdout",
     "output_type": "stream",
     "text": [
      ">> Accuracy: 91.78116514084425 %\n",
      "-- Loss: 1.0668381452560425\n",
      "-- Complete optimized function value: 2.1968984603881836\n"
     ]
    },
    {
     "name": "stderr",
     "output_type": "stream",
     "text": [
      "Epoch [78/90]: 100%|██████████████████████████████████████████████████████████████| 5005/5005 [00:37<00:00, 135.23it/s]\n"
     ]
    },
    {
     "name": "stdout",
     "output_type": "stream",
     "text": [
      ">> Accuracy: 91.78483367117636 %\n",
      "-- Loss: 1.0631260871887207\n",
      "-- Complete optimized function value: 2.1916606426239014\n"
     ]
    },
    {
     "name": "stderr",
     "output_type": "stream",
     "text": [
      "Epoch [79/90]: 100%|██████████████████████████████████████████████████████████████| 5005/5005 [00:37<00:00, 134.98it/s]\n"
     ]
    },
    {
     "name": "stdout",
     "output_type": "stream",
     "text": [
      ">> Accuracy: 91.7904535474298 %\n",
      "-- Loss: 1.0595486164093018\n",
      "-- Complete optimized function value: 2.1865596771240234\n"
     ]
    },
    {
     "name": "stderr",
     "output_type": "stream",
     "text": [
      "Epoch [80/90]: 100%|██████████████████████████████████████████████████████████████| 5005/5005 [00:36<00:00, 135.74it/s]\n"
     ]
    },
    {
     "name": "stdout",
     "output_type": "stream",
     "text": [
      ">> Accuracy: 91.79310737788282 %\n",
      "-- Loss: 1.056097149848938\n",
      "-- Complete optimized function value: 2.1815872192382812\n"
     ]
    },
    {
     "name": "stderr",
     "output_type": "stream",
     "text": [
      "Epoch [81/90]: 100%|██████████████████████████████████████████████████████████████| 5005/5005 [00:36<00:00, 135.94it/s]\n"
     ]
    },
    {
     "name": "stdout",
     "output_type": "stream",
     "text": [
      ">> Accuracy: 91.79622953135696 %\n",
      "-- Loss: 1.0527610778808594\n",
      "-- Complete optimized function value: 2.1767327785491943\n"
     ]
    },
    {
     "name": "stderr",
     "output_type": "stream",
     "text": [
      "Epoch [82/90]: 100%|██████████████████████████████████████████████████████████████| 5005/5005 [00:35<00:00, 139.30it/s]\n"
     ]
    },
    {
     "name": "stdout",
     "output_type": "stream",
     "text": [
      ">> Accuracy: 91.79942973866795 %\n",
      "-- Loss: 1.04952871799469\n",
      "-- Complete optimized function value: 2.1719841957092285\n"
     ]
    },
    {
     "name": "stderr",
     "output_type": "stream",
     "text": [
      "Epoch [83/90]: 100%|██████████████████████████████████████████████████████████████| 5005/5005 [00:36<00:00, 135.67it/s]\n"
     ]
    },
    {
     "name": "stdout",
     "output_type": "stream",
     "text": [
      ">> Accuracy: 91.80473739957398 %\n",
      "-- Loss: 1.0463883876800537\n",
      "-- Complete optimized function value: 2.167330026626587\n"
     ]
    },
    {
     "name": "stderr",
     "output_type": "stream",
     "text": [
      "Epoch [84/90]: 100%|██████████████████████████████████████████████████████████████| 5005/5005 [00:36<00:00, 136.62it/s]\n"
     ]
    },
    {
     "name": "stdout",
     "output_type": "stream",
     "text": [
      ">> Accuracy: 91.80879619909037 %\n",
      "-- Loss: 1.0433340072631836\n",
      "-- Complete optimized function value: 2.162764310836792\n"
     ]
    },
    {
     "name": "stderr",
     "output_type": "stream",
     "text": [
      "Epoch [85/90]: 100%|██████████████████████████████████████████████████████████████| 5005/5005 [00:37<00:00, 132.04it/s]\n"
     ]
    },
    {
     "name": "stdout",
     "output_type": "stream",
     "text": [
      ">> Accuracy: 91.80903036060091 %\n",
      "-- Loss: 1.0403558015823364\n",
      "-- Complete optimized function value: 2.1582770347595215\n"
     ]
    },
    {
     "name": "stderr",
     "output_type": "stream",
     "text": [
      "Epoch [86/90]: 100%|██████████████████████████████████████████████████████████████| 5005/5005 [00:39<00:00, 127.34it/s]\n"
     ]
    },
    {
     "name": "stdout",
     "output_type": "stream",
     "text": [
      ">> Accuracy: 91.81254278325933 %\n",
      "-- Loss: 1.0374470949172974\n",
      "-- Complete optimized function value: 2.1538615226745605\n"
     ]
    },
    {
     "name": "stderr",
     "output_type": "stream",
     "text": [
      "Epoch [87/90]: 100%|██████████████████████████████████████████████████████████████| 5005/5005 [00:37<00:00, 134.87it/s]\n"
     ]
    },
    {
     "name": "stdout",
     "output_type": "stream",
     "text": [
      ">> Accuracy: 91.81621131359144 %\n",
      "-- Loss: 1.034604787826538\n",
      "-- Complete optimized function value: 2.149514675140381\n"
     ]
    },
    {
     "name": "stderr",
     "output_type": "stream",
     "text": [
      "Epoch [88/90]: 100%|██████████████████████████████████████████████████████████████| 5005/5005 [00:36<00:00, 138.45it/s]\n"
     ]
    },
    {
     "name": "stdout",
     "output_type": "stream",
     "text": [
      ">> Accuracy: 91.81831876718648 %\n",
      "-- Loss: 1.0318241119384766\n",
      "-- Complete optimized function value: 2.1452317237854004\n"
     ]
    },
    {
     "name": "stderr",
     "output_type": "stream",
     "text": [
      "Epoch [89/90]: 100%|██████████████████████████████████████████████████████████████| 5005/5005 [00:37<00:00, 133.31it/s]\n"
     ]
    },
    {
     "name": "stdout",
     "output_type": "stream",
     "text": [
      ">> Accuracy: 91.82089454380264 %\n",
      "-- Loss: 1.0290988683700562\n",
      "-- Complete optimized function value: 2.1410069465637207\n"
     ]
    },
    {
     "name": "stderr",
     "output_type": "stream",
     "text": [
      "Epoch [90/90]: 100%|██████████████████████████████████████████████████████████████| 5005/5005 [00:36<00:00, 135.42it/s]\n"
     ]
    },
    {
     "name": "stdout",
     "output_type": "stream",
     "text": [
      ">> Accuracy: 91.82370448192937 %\n",
      "-- Loss: 1.0264217853546143\n",
      "-- Complete optimized function value: 2.1368324756622314\n",
      "Step 3/9 completed.\n",
      "Processing step 4/9, weight decay = 3.162e-05.\n"
     ]
    },
    {
     "name": "stderr",
     "output_type": "stream",
     "text": [
      "Epoch [1/90]: 100%|███████████████████████████████████████████████████████████████| 5005/5005 [00:38<00:00, 131.15it/s]\n"
     ]
    },
    {
     "name": "stdout",
     "output_type": "stream",
     "text": [
      ">> Accuracy: 8.645321023722902 %\n",
      "-- Loss: 36.32307052612305\n",
      "-- Complete optimized function value: 43.22431182861328\n"
     ]
    },
    {
     "name": "stderr",
     "output_type": "stream",
     "text": [
      "Epoch [2/90]: 100%|███████████████████████████████████████████████████████████████| 5005/5005 [00:37<00:00, 131.97it/s]\n"
     ]
    },
    {
     "name": "stdout",
     "output_type": "stream",
     "text": [
      ">> Accuracy: 60.36871071452824 %\n",
      "-- Loss: 16.820035934448242\n",
      "-- Complete optimized function value: 23.375904083251953\n"
     ]
    },
    {
     "name": "stderr",
     "output_type": "stream",
     "text": [
      "Epoch [3/90]: 100%|███████████████████████████████████████████████████████████████| 5005/5005 [00:37<00:00, 131.81it/s]\n"
     ]
    },
    {
     "name": "stdout",
     "output_type": "stream",
     "text": [
      ">> Accuracy: 69.3950905697696 %\n",
      "-- Loss: 11.470683097839355\n",
      "-- Complete optimized function value: 17.135648727416992\n"
     ]
    },
    {
     "name": "stderr",
     "output_type": "stream",
     "text": [
      "Epoch [4/90]: 100%|███████████████████████████████████████████████████████████████| 5005/5005 [00:37<00:00, 133.31it/s]\n"
     ]
    },
    {
     "name": "stdout",
     "output_type": "stream",
     "text": [
      ">> Accuracy: 72.56267137695554 %\n",
      "-- Loss: 9.224225997924805\n",
      "-- Complete optimized function value: 14.015045166015625\n"
     ]
    },
    {
     "name": "stderr",
     "output_type": "stream",
     "text": [
      "Epoch [5/90]: 100%|███████████████████████████████████████████████████████████████| 5005/5005 [00:37<00:00, 135.15it/s]\n"
     ]
    },
    {
     "name": "stdout",
     "output_type": "stream",
     "text": [
      ">> Accuracy: 72.97549812007334 %\n",
      "-- Loss: 8.448929786682129\n",
      "-- Complete optimized function value: 12.630712509155273\n"
     ]
    },
    {
     "name": "stderr",
     "output_type": "stream",
     "text": [
      "Epoch [6/90]: 100%|███████████████████████████████████████████████████████████████| 5005/5005 [00:38<00:00, 131.30it/s]\n"
     ]
    },
    {
     "name": "stdout",
     "output_type": "stream",
     "text": [
      ">> Accuracy: 72.48828607043423 %\n",
      "-- Loss: 8.018098831176758\n",
      "-- Complete optimized function value: 11.794944763183594\n"
     ]
    },
    {
     "name": "stderr",
     "output_type": "stream",
     "text": [
      "Epoch [7/90]: 100%|███████████████████████████████████████████████████████████████| 5005/5005 [00:37<00:00, 134.12it/s]\n"
     ]
    },
    {
     "name": "stdout",
     "output_type": "stream",
     "text": [
      ">> Accuracy: 71.0591203176479 %\n",
      "-- Loss: 8.079493522644043\n",
      "-- Complete optimized function value: 11.678563117980957\n"
     ]
    },
    {
     "name": "stderr",
     "output_type": "stream",
     "text": [
      "Epoch [8/90]: 100%|███████████████████████████████████████████████████████████████| 5005/5005 [00:37<00:00, 133.18it/s]\n"
     ]
    },
    {
     "name": "stdout",
     "output_type": "stream",
     "text": [
      ">> Accuracy: 70.12309870610154 %\n",
      "-- Loss: 7.718095302581787\n",
      "-- Complete optimized function value: 11.229890823364258\n"
     ]
    },
    {
     "name": "stderr",
     "output_type": "stream",
     "text": [
      "Epoch [9/90]: 100%|███████████████████████████████████████████████████████████████| 5005/5005 [00:37<00:00, 132.23it/s]\n"
     ]
    },
    {
     "name": "stdout",
     "output_type": "stream",
     "text": [
      ">> Accuracy: 69.01949550683088 %\n",
      "-- Loss: 7.774407386779785\n",
      "-- Complete optimized function value: 11.298511505126953\n"
     ]
    },
    {
     "name": "stderr",
     "output_type": "stream",
     "text": [
      "Epoch [10/90]: 100%|██████████████████████████████████████████████████████████████| 5005/5005 [00:37<00:00, 132.81it/s]\n"
     ]
    },
    {
     "name": "stdout",
     "output_type": "stream",
     "text": [
      ">> Accuracy: 69.17552512670089 %\n",
      "-- Loss: 7.617346286773682\n",
      "-- Complete optimized function value: 11.122154235839844\n"
     ]
    },
    {
     "name": "stderr",
     "output_type": "stream",
     "text": [
      "Epoch [11/90]: 100%|██████████████████████████████████████████████████████████████| 5005/5005 [00:37<00:00, 135.17it/s]\n"
     ]
    },
    {
     "name": "stdout",
     "output_type": "stream",
     "text": [
      ">> Accuracy: 69.24187088802631 %\n",
      "-- Loss: 7.737529277801514\n",
      "-- Complete optimized function value: 11.246771812438965\n"
     ]
    },
    {
     "name": "stderr",
     "output_type": "stream",
     "text": [
      "Epoch [12/90]: 100%|██████████████████████████████████████████████████████████████| 5005/5005 [00:37<00:00, 132.30it/s]\n"
     ]
    },
    {
     "name": "stdout",
     "output_type": "stream",
     "text": [
      ">> Accuracy: 69.33475495388188 %\n",
      "-- Loss: 7.641648292541504\n",
      "-- Complete optimized function value: 11.129140853881836\n"
     ]
    },
    {
     "name": "stderr",
     "output_type": "stream",
     "text": [
      "Epoch [13/90]: 100%|██████████████████████████████████████████████████████████████| 5005/5005 [00:37<00:00, 132.62it/s]\n"
     ]
    },
    {
     "name": "stdout",
     "output_type": "stream",
     "text": [
      ">> Accuracy: 68.86846133251949 %\n",
      "-- Loss: 7.864055633544922\n",
      "-- Complete optimized function value: 11.368904113769531\n"
     ]
    },
    {
     "name": "stderr",
     "output_type": "stream",
     "text": [
      "Epoch [14/90]: 100%|██████████████████████████████████████████████████████████████| 5005/5005 [00:37<00:00, 134.18it/s]\n"
     ]
    },
    {
     "name": "stdout",
     "output_type": "stream",
     "text": [
      ">> Accuracy: 69.00614830072894 %\n",
      "-- Loss: 7.713681221008301\n",
      "-- Complete optimized function value: 11.218764305114746\n"
     ]
    },
    {
     "name": "stderr",
     "output_type": "stream",
     "text": [
      "Epoch [15/90]: 100%|██████████████████████████████████████████████████████████████| 5005/5005 [00:37<00:00, 133.47it/s]\n"
     ]
    },
    {
     "name": "stdout",
     "output_type": "stream",
     "text": [
      ">> Accuracy: 68.85113338073803 %\n",
      "-- Loss: 7.641901016235352\n",
      "-- Complete optimized function value: 11.177850723266602\n"
     ]
    },
    {
     "name": "stderr",
     "output_type": "stream",
     "text": [
      "Epoch [16/90]: 100%|██████████████████████████████████████████████████████████████| 5005/5005 [00:37<00:00, 134.88it/s]\n"
     ]
    },
    {
     "name": "stdout",
     "output_type": "stream",
     "text": [
      ">> Accuracy: 69.0415847426604 %\n",
      "-- Loss: 7.514760494232178\n",
      "-- Complete optimized function value: 11.052446365356445\n"
     ]
    },
    {
     "name": "stderr",
     "output_type": "stream",
     "text": [
      "Epoch [17/90]: 100%|██████████████████████████████████████████████████████████████| 5005/5005 [00:36<00:00, 136.60it/s]\n"
     ]
    },
    {
     "name": "stdout",
     "output_type": "stream",
     "text": [
      ">> Accuracy: 68.87267623970958 %\n",
      "-- Loss: 7.491588115692139\n",
      "-- Complete optimized function value: 11.041118621826172\n"
     ]
    },
    {
     "name": "stderr",
     "output_type": "stream",
     "text": [
      "Epoch [18/90]: 100%|██████████████████████████████████████████████████████████████| 5005/5005 [00:38<00:00, 129.34it/s]\n"
     ]
    },
    {
     "name": "stdout",
     "output_type": "stream",
     "text": [
      ">> Accuracy: 69.07272822356492 %\n",
      "-- Loss: 7.386676788330078\n",
      "-- Complete optimized function value: 10.929466247558594\n"
     ]
    },
    {
     "name": "stderr",
     "output_type": "stream",
     "text": [
      "Epoch [19/90]: 100%|██████████████████████████████████████████████████████████████| 5005/5005 [00:37<00:00, 132.81it/s]\n"
     ]
    },
    {
     "name": "stdout",
     "output_type": "stream",
     "text": [
      ">> Accuracy: 68.88258907698996 %\n",
      "-- Loss: 7.42946720123291\n",
      "-- Complete optimized function value: 10.99332332611084\n"
     ]
    },
    {
     "name": "stderr",
     "output_type": "stream",
     "text": [
      "Epoch [20/90]: 100%|██████████████████████████████████████████████████████████████| 5005/5005 [00:37<00:00, 132.95it/s]\n"
     ]
    },
    {
     "name": "stdout",
     "output_type": "stream",
     "text": [
      ">> Accuracy: 69.27379490729936 %\n",
      "-- Loss: 7.47490119934082\n",
      "-- Complete optimized function value: 11.016948699951172\n"
     ]
    },
    {
     "name": "stderr",
     "output_type": "stream",
     "text": [
      "Epoch [21/90]: 100%|██████████████████████████████████████████████████████████████| 5005/5005 [00:37<00:00, 133.95it/s]\n"
     ]
    },
    {
     "name": "stdout",
     "output_type": "stream",
     "text": [
      ">> Accuracy: 68.86213897173437 %\n",
      "-- Loss: 7.638151168823242\n",
      "-- Complete optimized function value: 11.200332641601562\n"
     ]
    },
    {
     "name": "stderr",
     "output_type": "stream",
     "text": [
      "Epoch [22/90]: 100%|██████████████████████████████████████████████████████████████| 5005/5005 [00:37<00:00, 134.67it/s]\n"
     ]
    },
    {
     "name": "stdout",
     "output_type": "stream",
     "text": [
      ">> Accuracy: 68.79563710273524 %\n",
      "-- Loss: 7.569766998291016\n",
      "-- Complete optimized function value: 11.140621185302734\n"
     ]
    },
    {
     "name": "stderr",
     "output_type": "stream",
     "text": [
      "Epoch [23/90]: 100%|██████████████████████████████████████████████████████████████| 5005/5005 [00:37<00:00, 134.34it/s]\n"
     ]
    },
    {
     "name": "stdout",
     "output_type": "stream",
     "text": [
      ">> Accuracy: 68.74326297820659 %\n",
      "-- Loss: 7.476420879364014\n",
      "-- Complete optimized function value: 11.062566757202148\n"
     ]
    },
    {
     "name": "stderr",
     "output_type": "stream",
     "text": [
      "Epoch [24/90]: 100%|██████████████████████████████████████████████████████████████| 5005/5005 [00:36<00:00, 138.09it/s]\n"
     ]
    },
    {
     "name": "stdout",
     "output_type": "stream",
     "text": [
      ">> Accuracy: 69.30517254971444 %\n",
      "-- Loss: 7.440333366394043\n",
      "-- Complete optimized function value: 10.99624252319336\n"
     ]
    },
    {
     "name": "stderr",
     "output_type": "stream",
     "text": [
      "Epoch [25/90]: 100%|██████████████████████████████████████████████████████████████| 5005/5005 [00:37<00:00, 134.06it/s]\n"
     ]
    },
    {
     "name": "stdout",
     "output_type": "stream",
     "text": [
      ">> Accuracy: 69.18801374059744 %\n",
      "-- Loss: 7.373476982116699\n",
      "-- Complete optimized function value: 10.922174453735352\n"
     ]
    },
    {
     "name": "stderr",
     "output_type": "stream",
     "text": [
      "Epoch [26/90]: 100%|██████████████████████████████████████████████████████████████| 5005/5005 [00:36<00:00, 135.75it/s]\n"
     ]
    },
    {
     "name": "stdout",
     "output_type": "stream",
     "text": [
      ">> Accuracy: 69.20495142319463 %\n",
      "-- Loss: 7.335398197174072\n",
      "-- Complete optimized function value: 10.875489234924316\n"
     ]
    },
    {
     "name": "stderr",
     "output_type": "stream",
     "text": [
      "Epoch [27/90]: 100%|██████████████████████████████████████████████████████████████| 5005/5005 [00:37<00:00, 134.36it/s]\n"
     ]
    },
    {
     "name": "stdout",
     "output_type": "stream",
     "text": [
      ">> Accuracy: 68.82615615294493 %\n",
      "-- Loss: 7.355216026306152\n",
      "-- Complete optimized function value: 10.923728942871094\n"
     ]
    },
    {
     "name": "stderr",
     "output_type": "stream",
     "text": [
      "Epoch [28/90]: 100%|██████████████████████████████████████████████████████████████| 5005/5005 [00:37<00:00, 134.31it/s]\n"
     ]
    },
    {
     "name": "stdout",
     "output_type": "stream",
     "text": [
      ">> Accuracy: 68.8331029444249 %\n",
      "-- Loss: 7.391863822937012\n",
      "-- Complete optimized function value: 10.972833633422852\n"
     ]
    },
    {
     "name": "stderr",
     "output_type": "stream",
     "text": [
      "Epoch [29/90]: 100%|██████████████████████████████████████████████████████████████| 5005/5005 [00:37<00:00, 134.71it/s]\n"
     ]
    },
    {
     "name": "stdout",
     "output_type": "stream",
     "text": [
      ">> Accuracy: 68.66294558008441 %\n",
      "-- Loss: 7.504148006439209\n",
      "-- Complete optimized function value: 11.106891632080078\n"
     ]
    },
    {
     "name": "stderr",
     "output_type": "stream",
     "text": [
      "Epoch [30/90]: 100%|██████████████████████████████████████████████████████████████| 5005/5005 [00:36<00:00, 136.41it/s]\n"
     ]
    },
    {
     "name": "stdout",
     "output_type": "stream",
     "text": [
      ">> Accuracy: 69.13602988525305 %\n",
      "-- Loss: 7.533761501312256\n",
      "-- Complete optimized function value: 11.109821319580078\n"
     ]
    },
    {
     "name": "stderr",
     "output_type": "stream",
     "text": [
      "Epoch [31/90]: 100%|██████████████████████████████████████████████████████████████| 5005/5005 [00:37<00:00, 133.81it/s]\n"
     ]
    },
    {
     "name": "stdout",
     "output_type": "stream",
     "text": [
      ">> Accuracy: 75.85779215356 %\n",
      "-- Loss: 2.2920262813568115\n",
      "-- Complete optimized function value: 5.671224594116211\n"
     ]
    },
    {
     "name": "stderr",
     "output_type": "stream",
     "text": [
      "Epoch [32/90]: 100%|██████████████████████████████████████████████████████████████| 5005/5005 [00:37<00:00, 134.69it/s]\n"
     ]
    },
    {
     "name": "stdout",
     "output_type": "stream",
     "text": [
      ">> Accuracy: 83.83895307949705 %\n",
      "-- Loss: 2.4104647636413574\n",
      "-- Complete optimized function value: 5.635051727294922\n"
     ]
    },
    {
     "name": "stderr",
     "output_type": "stream",
     "text": [
      "Epoch [33/90]: 100%|██████████████████████████████████████████████████████████████| 5005/5005 [00:37<00:00, 134.12it/s]\n"
     ]
    },
    {
     "name": "stdout",
     "output_type": "stream",
     "text": [
      ">> Accuracy: 85.71271348700053 %\n",
      "-- Loss: 2.356377124786377\n",
      "-- Complete optimized function value: 5.4428558349609375\n"
     ]
    },
    {
     "name": "stderr",
     "output_type": "stream",
     "text": [
      "Epoch [34/90]: 100%|██████████████████████████████████████████████████████████████| 5005/5005 [00:37<00:00, 134.33it/s]\n"
     ]
    },
    {
     "name": "stdout",
     "output_type": "stream",
     "text": [
      ">> Accuracy: 86.51838519100164 %\n",
      "-- Loss: 2.2754969596862793\n",
      "-- Complete optimized function value: 5.234012603759766\n"
     ]
    },
    {
     "name": "stderr",
     "output_type": "stream",
     "text": [
      "Epoch [35/90]: 100%|██████████████████████████████████████████████████████████████| 5005/5005 [00:37<00:00, 134.76it/s]\n"
     ]
    },
    {
     "name": "stdout",
     "output_type": "stream",
     "text": [
      ">> Accuracy: 87.06608896420217 %\n",
      "-- Loss: 2.1915886402130127\n",
      "-- Complete optimized function value: 5.029645919799805\n"
     ]
    },
    {
     "name": "stderr",
     "output_type": "stream",
     "text": [
      "Epoch [36/90]: 100%|██████████████████████████████████████████████████████████████| 5005/5005 [00:37<00:00, 134.95it/s]\n"
     ]
    },
    {
     "name": "stdout",
     "output_type": "stream",
     "text": [
      ">> Accuracy: 87.36003971379219 %\n",
      "-- Loss: 2.105961561203003\n",
      "-- Complete optimized function value: 4.829744815826416\n"
     ]
    },
    {
     "name": "stderr",
     "output_type": "stream",
     "text": [
      "Epoch [37/90]: 100%|██████████████████████████████████████████████████████████████| 5005/5005 [00:36<00:00, 137.35it/s]\n"
     ]
    },
    {
     "name": "stdout",
     "output_type": "stream",
     "text": [
      ">> Accuracy: 87.649307233171 %\n",
      "-- Loss: 2.0199108123779297\n",
      "-- Complete optimized function value: 4.634849548339844\n"
     ]
    },
    {
     "name": "stderr",
     "output_type": "stream",
     "text": [
      "Epoch [38/90]: 100%|██████████████████████████████████████████████████████████████| 5005/5005 [00:37<00:00, 134.41it/s]\n"
     ]
    },
    {
     "name": "stdout",
     "output_type": "stream",
     "text": [
      ">> Accuracy: 87.78863333195439 %\n",
      "-- Loss: 1.9355063438415527\n",
      "-- Complete optimized function value: 4.446552276611328\n"
     ]
    },
    {
     "name": "stderr",
     "output_type": "stream",
     "text": [
      "Epoch [39/90]: 100%|██████████████████████████████████████████████████████████████| 5005/5005 [00:37<00:00, 135.17it/s]\n"
     ]
    },
    {
     "name": "stdout",
     "output_type": "stream",
     "text": [
      ">> Accuracy: 87.96253728046382 %\n",
      "-- Loss: 1.85751211643219\n",
      "-- Complete optimized function value: 4.2692365646362305\n"
     ]
    },
    {
     "name": "stderr",
     "output_type": "stream",
     "text": [
      "Epoch [40/90]: 100%|██████████████████████████████████████████████████████████████| 5005/5005 [00:37<00:00, 134.47it/s]\n"
     ]
    },
    {
     "name": "stdout",
     "output_type": "stream",
     "text": [
      ">> Accuracy: 88.04121554801209 %\n",
      "-- Loss: 1.7897415161132812\n",
      "-- Complete optimized function value: 4.106433391571045\n"
     ]
    },
    {
     "name": "stderr",
     "output_type": "stream",
     "text": [
      "Epoch [41/90]: 100%|██████████████████████████████████████████████████████████████| 5005/5005 [00:37<00:00, 134.16it/s]\n"
     ]
    },
    {
     "name": "stdout",
     "output_type": "stream",
     "text": [
      ">> Accuracy: 88.2019283980933 %\n",
      "-- Loss: 1.7303012609481812\n",
      "-- Complete optimized function value: 3.955991744995117\n"
     ]
    },
    {
     "name": "stderr",
     "output_type": "stream",
     "text": [
      "Epoch [42/90]: 100%|██████████████████████████████████████████████████████████████| 5005/5005 [00:37<00:00, 135.10it/s]\n"
     ]
    },
    {
     "name": "stdout",
     "output_type": "stream",
     "text": [
      ">> Accuracy: 88.24095531652002 %\n",
      "-- Loss: 1.6750231981277466\n",
      "-- Complete optimized function value: 3.81353759765625\n"
     ]
    },
    {
     "name": "stderr",
     "output_type": "stream",
     "text": [
      "Epoch [43/90]: 100%|██████████████████████████████████████████████████████████████| 5005/5005 [00:39<00:00, 127.31it/s]\n"
     ]
    },
    {
     "name": "stdout",
     "output_type": "stream",
     "text": [
      ">> Accuracy: 88.37700315415555 %\n",
      "-- Loss: 1.6216137409210205\n",
      "-- Complete optimized function value: 3.6765708923339844\n"
     ]
    },
    {
     "name": "stderr",
     "output_type": "stream",
     "text": [
      "Epoch [44/90]: 100%|██████████████████████████████████████████████████████████████| 5005/5005 [00:41<00:00, 119.28it/s]\n"
     ]
    },
    {
     "name": "stdout",
     "output_type": "stream",
     "text": [
      ">> Accuracy: 88.38090584599821 %\n",
      "-- Loss: 1.5703341960906982\n",
      "-- Complete optimized function value: 3.5451955795288086\n"
     ]
    },
    {
     "name": "stderr",
     "output_type": "stream",
     "text": [
      "Epoch [45/90]: 100%|██████████████████████████████████████████████████████████████| 5005/5005 [00:42<00:00, 116.43it/s]\n"
     ]
    },
    {
     "name": "stdout",
     "output_type": "stream",
     "text": [
      ">> Accuracy: 88.50922635378527 %\n",
      "-- Loss: 1.5211069583892822\n",
      "-- Complete optimized function value: 3.4191527366638184\n"
     ]
    },
    {
     "name": "stderr",
     "output_type": "stream",
     "text": [
      "Epoch [46/90]: 100%|██████████████████████████████████████████████████████████████| 5005/5005 [00:41<00:00, 119.61it/s]\n"
     ]
    },
    {
     "name": "stdout",
     "output_type": "stream",
     "text": [
      ">> Accuracy: 88.49494250164108 %\n",
      "-- Loss: 1.4739750623703003\n",
      "-- Complete optimized function value: 3.298351287841797\n"
     ]
    },
    {
     "name": "stderr",
     "output_type": "stream",
     "text": [
      "Epoch [47/90]: 100%|██████████████████████████████████████████████████████████████| 5005/5005 [00:43<00:00, 115.86it/s]\n"
     ]
    },
    {
     "name": "stdout",
     "output_type": "stream",
     "text": [
      ">> Accuracy: 88.60484230393071 %\n",
      "-- Loss: 1.428276777267456\n",
      "-- Complete optimized function value: 3.1819777488708496\n"
     ]
    },
    {
     "name": "stderr",
     "output_type": "stream",
     "text": [
      "Epoch [48/90]: 100%|██████████████████████████████████████████████████████████████| 5005/5005 [00:43<00:00, 113.88it/s]\n"
     ]
    },
    {
     "name": "stdout",
     "output_type": "stream",
     "text": [
      ">> Accuracy: 88.58649965227016 %\n",
      "-- Loss: 1.3833891153335571\n",
      "-- Complete optimized function value: 3.069289445877075\n"
     ]
    },
    {
     "name": "stderr",
     "output_type": "stream",
     "text": [
      "Epoch [49/90]: 100%|██████████████████████████████████████████████████████████████| 5005/5005 [00:42<00:00, 116.91it/s]\n"
     ]
    },
    {
     "name": "stdout",
     "output_type": "stream",
     "text": [
      ">> Accuracy: 88.69007709377466 %\n",
      "-- Loss: 1.3394464254379272\n",
      "-- Complete optimized function value: 2.960282325744629\n"
     ]
    },
    {
     "name": "stderr",
     "output_type": "stream",
     "text": [
      "Epoch [50/90]: 100%|██████████████████████████████████████████████████████████████| 5005/5005 [00:39<00:00, 125.78it/s]\n"
     ]
    },
    {
     "name": "stdout",
     "output_type": "stream",
     "text": [
      ">> Accuracy: 88.6521429290639 %\n",
      "-- Loss: 1.2970142364501953\n",
      "-- Complete optimized function value: 2.8554234504699707\n"
     ]
    },
    {
     "name": "stderr",
     "output_type": "stream",
     "text": [
      "Epoch [51/90]: 100%|██████████████████████████████████████████████████████████████| 5005/5005 [00:37<00:00, 134.75it/s]\n"
     ]
    },
    {
     "name": "stdout",
     "output_type": "stream",
     "text": [
      ">> Accuracy: 88.75657896277379 %\n",
      "-- Loss: 1.2561653852462769\n",
      "-- Complete optimized function value: 2.7546534538269043\n"
     ]
    },
    {
     "name": "stderr",
     "output_type": "stream",
     "text": [
      "Epoch [52/90]: 100%|██████████████████████████████████████████████████████████████| 5005/5005 [00:38<00:00, 128.98it/s]\n"
     ]
    },
    {
     "name": "stdout",
     "output_type": "stream",
     "text": [
      ">> Accuracy: 88.71645929063112 %\n",
      "-- Loss: 1.2167577743530273\n",
      "-- Complete optimized function value: 2.6577491760253906\n"
     ]
    },
    {
     "name": "stderr",
     "output_type": "stream",
     "text": [
      "Epoch [53/90]: 100%|██████████████████████████████████████████████████████████████| 5005/5005 [00:40<00:00, 124.11it/s]\n"
     ]
    },
    {
     "name": "stdout",
     "output_type": "stream",
     "text": [
      ">> Accuracy: 88.80786033358649 %\n",
      "-- Loss: 1.1787259578704834\n",
      "-- Complete optimized function value: 2.564525604248047\n"
     ]
    },
    {
     "name": "stderr",
     "output_type": "stream",
     "text": [
      "Epoch [54/90]: 100%|██████████████████████████████████████████████████████████████| 5005/5005 [00:39<00:00, 126.09it/s]\n"
     ]
    },
    {
     "name": "stdout",
     "output_type": "stream",
     "text": [
      ">> Accuracy: 88.7558764782421 %\n",
      "-- Loss: 1.1420222520828247\n",
      "-- Complete optimized function value: 2.474860668182373\n"
     ]
    },
    {
     "name": "stderr",
     "output_type": "stream",
     "text": [
      "Epoch [55/90]: 100%|██████████████████████████████████████████████████████████████| 5005/5005 [00:40<00:00, 124.16it/s]\n"
     ]
    },
    {
     "name": "stdout",
     "output_type": "stream",
     "text": [
      ">> Accuracy: 88.83900381449101 %\n",
      "-- Loss: 1.1066523790359497\n",
      "-- Complete optimized function value: 2.3886566162109375\n"
     ]
    },
    {
     "name": "stderr",
     "output_type": "stream",
     "text": [
      "Epoch [56/90]: 100%|██████████████████████████████████████████████████████████████| 5005/5005 [00:39<00:00, 126.13it/s]\n"
     ]
    },
    {
     "name": "stdout",
     "output_type": "stream",
     "text": [
      ">> Accuracy: 88.77960484464555 %\n",
      "-- Loss: 1.0726038217544556\n",
      "-- Complete optimized function value: 2.305833578109741\n"
     ]
    },
    {
     "name": "stderr",
     "output_type": "stream",
     "text": [
      "Epoch [57/90]: 100%|██████████████████████████████████████████████████████████████| 5005/5005 [00:42<00:00, 117.07it/s]\n"
     ]
    },
    {
     "name": "stdout",
     "output_type": "stream",
     "text": [
      ">> Accuracy: 88.86109305032053 %\n",
      "-- Loss: 1.0398317575454712\n",
      "-- Complete optimized function value: 2.2262473106384277\n"
     ]
    },
    {
     "name": "stderr",
     "output_type": "stream",
     "text": [
      "Epoch [58/90]: 100%|██████████████████████████████████████████████████████████████| 5005/5005 [00:42<00:00, 118.46it/s]\n"
     ]
    },
    {
     "name": "stdout",
     "output_type": "stream",
     "text": [
      ">> Accuracy: 88.79178124319468 %\n",
      "-- Loss: 1.0082720518112183\n",
      "-- Complete optimized function value: 2.1497788429260254\n"
     ]
    },
    {
     "name": "stderr",
     "output_type": "stream",
     "text": [
      "Epoch [59/90]: 100%|██████████████████████████████████████████████████████████████| 5005/5005 [00:39<00:00, 127.24it/s]\n"
     ]
    },
    {
     "name": "stdout",
     "output_type": "stream",
     "text": [
      ">> Accuracy: 88.86530795751061 %\n",
      "-- Loss: 0.9778510928153992\n",
      "-- Complete optimized function value: 2.076261281967163\n"
     ]
    },
    {
     "name": "stderr",
     "output_type": "stream",
     "text": [
      "Epoch [60/90]: 100%|██████████████████████████████████████████████████████████████| 5005/5005 [00:38<00:00, 131.42it/s]\n"
     ]
    },
    {
     "name": "stdout",
     "output_type": "stream",
     "text": [
      ">> Accuracy: 88.79435701981085 %\n",
      "-- Loss: 0.9485352039337158\n",
      "-- Complete optimized function value: 2.005608558654785\n"
     ]
    },
    {
     "name": "stderr",
     "output_type": "stream",
     "text": [
      "Epoch [61/90]: 100%|██████████████████████████████████████████████████████████████| 5005/5005 [00:39<00:00, 127.69it/s]\n"
     ]
    },
    {
     "name": "stdout",
     "output_type": "stream",
     "text": [
      ">> Accuracy: 90.5188004374137 %\n",
      "-- Loss: 0.8599655032157898\n",
      "-- Complete optimized function value: 1.9127616882324219\n"
     ]
    },
    {
     "name": "stderr",
     "output_type": "stream",
     "text": [
      "Epoch [62/90]: 100%|██████████████████████████████████████████████████████████████| 5005/5005 [00:40<00:00, 123.99it/s]\n"
     ]
    },
    {
     "name": "stdout",
     "output_type": "stream",
     "text": [
      ">> Accuracy: 90.72564310507529 %\n",
      "-- Loss: 0.8404375314712524\n",
      "-- Complete optimized function value: 1.889020323753357\n"
     ]
    },
    {
     "name": "stderr",
     "output_type": "stream",
     "text": [
      "Epoch [63/90]: 100%|██████████████████████████████████████████████████████████████| 5005/5005 [00:40<00:00, 123.66it/s]\n"
     ]
    },
    {
     "name": "stdout",
     "output_type": "stream",
     "text": [
      ">> Accuracy: 90.85380750518863 %\n",
      "-- Loss: 0.8242536783218384\n",
      "-- Complete optimized function value: 1.8686628341674805\n"
     ]
    },
    {
     "name": "stderr",
     "output_type": "stream",
     "text": [
      "Epoch [64/90]: 100%|██████████████████████████████████████████████████████████████| 5005/5005 [00:40<00:00, 124.76it/s]\n"
     ]
    },
    {
     "name": "stdout",
     "output_type": "stream",
     "text": [
      ">> Accuracy: 90.93607624923214 %\n",
      "-- Loss: 0.810716986656189\n",
      "-- Complete optimized function value: 1.850983738899231\n"
     ]
    },
    {
     "name": "stderr",
     "output_type": "stream",
     "text": [
      "Epoch [65/90]: 100%|██████████████████████████████████████████████████████████████| 5005/5005 [00:40<00:00, 123.53it/s]\n"
     ]
    },
    {
     "name": "stdout",
     "output_type": "stream",
     "text": [
      ">> Accuracy: 90.98837231992394 %\n",
      "-- Loss: 0.7992703914642334\n",
      "-- Complete optimized function value: 1.835420846939087\n"
     ]
    },
    {
     "name": "stderr",
     "output_type": "stream",
     "text": [
      "Epoch [66/90]: 100%|██████████████████████████████████████████████████████████████| 5005/5005 [00:38<00:00, 129.24it/s]\n"
     ]
    },
    {
     "name": "stdout",
     "output_type": "stream",
     "text": [
      ">> Accuracy: 91.0295066919457 %\n",
      "-- Loss: 0.7894809246063232\n",
      "-- Complete optimized function value: 1.8215374946594238\n"
     ]
    },
    {
     "name": "stderr",
     "output_type": "stream",
     "text": [
      "Epoch [67/90]: 100%|██████████████████████████████████████████████████████████████| 5005/5005 [00:39<00:00, 126.86it/s]\n"
     ]
    },
    {
     "name": "stdout",
     "output_type": "stream",
     "text": [
      ">> Accuracy: 91.05877688076573 %\n",
      "-- Loss: 0.781018853187561\n",
      "-- Complete optimized function value: 1.8090028762817383\n"
     ]
    },
    {
     "name": "stderr",
     "output_type": "stream",
     "text": [
      "Epoch [68/90]: 100%|██████████████████████████████████████████████████████████████| 5005/5005 [00:39<00:00, 125.91it/s]\n"
     ]
    },
    {
     "name": "stdout",
     "output_type": "stream",
     "text": [
      ">> Accuracy: 91.08289551635345 %\n",
      "-- Loss: 0.7736025452613831\n",
      "-- Complete optimized function value: 1.7975337505340576\n"
     ]
    },
    {
     "name": "stderr",
     "output_type": "stream",
     "text": [
      "Epoch [69/90]: 100%|██████████████████████████████████████████████████████████████| 5005/5005 [00:40<00:00, 124.67it/s]\n"
     ]
    },
    {
     "name": "stdout",
     "output_type": "stream",
     "text": [
      ">> Accuracy: 91.10037957580862 %\n",
      "-- Loss: 0.7670577168464661\n",
      "-- Complete optimized function value: 1.7869553565979004\n"
     ]
    },
    {
     "name": "stderr",
     "output_type": "stream",
     "text": [
      "Epoch [70/90]: 100%|██████████████████████████████████████████████████████████████| 5005/5005 [00:40<00:00, 124.95it/s]\n"
     ]
    },
    {
     "name": "stdout",
     "output_type": "stream",
     "text": [
      ">> Accuracy: 91.11786363526379 %\n",
      "-- Loss: 0.7612137794494629\n",
      "-- Complete optimized function value: 1.777096152305603\n"
     ]
    },
    {
     "name": "stderr",
     "output_type": "stream",
     "text": [
      "Epoch [71/90]: 100%|██████████████████████████████████████████████████████████████| 5005/5005 [00:39<00:00, 125.46it/s]\n"
     ]
    },
    {
     "name": "stdout",
     "output_type": "stream",
     "text": [
      ">> Accuracy: 91.12957171079181 %\n",
      "-- Loss: 0.7559403777122498\n",
      "-- Complete optimized function value: 1.7678248882293701\n"
     ]
    },
    {
     "name": "stderr",
     "output_type": "stream",
     "text": [
      "Epoch [72/90]: 100%|██████████████████████████████████████████████████████████████| 5005/5005 [00:39<00:00, 125.14it/s]\n"
     ]
    },
    {
     "name": "stdout",
     "output_type": "stream",
     "text": [
      ">> Accuracy: 91.13901622505107 %\n",
      "-- Loss: 0.7511292695999146\n",
      "-- Complete optimized function value: 1.7590328454971313\n"
     ]
    },
    {
     "name": "stderr",
     "output_type": "stream",
     "text": [
      "Epoch [73/90]: 100%|██████████████████████████████████████████████████████████████| 5005/5005 [00:39<00:00, 125.66it/s]\n"
     ]
    },
    {
     "name": "stdout",
     "output_type": "stream",
     "text": [
      ">> Accuracy: 91.14939738535257 %\n",
      "-- Loss: 0.7467015385627747\n",
      "-- Complete optimized function value: 1.750640630722046\n"
     ]
    },
    {
     "name": "stderr",
     "output_type": "stream",
     "text": [
      "Epoch [74/90]: 100%|██████████████████████████████████████████████████████████████| 5005/5005 [00:40<00:00, 124.94it/s]\n"
     ]
    },
    {
     "name": "stdout",
     "output_type": "stream",
     "text": [
      ">> Accuracy: 91.15868579193813 %\n",
      "-- Loss: 0.7425915598869324\n",
      "-- Complete optimized function value: 1.7425835132598877\n"
     ]
    },
    {
     "name": "stderr",
     "output_type": "stream",
     "text": [
      "Epoch [75/90]: 100%|██████████████████████████████████████████████████████████████| 5005/5005 [00:40<00:00, 122.92it/s]\n"
     ]
    },
    {
     "name": "stdout",
     "output_type": "stream",
     "text": [
      ">> Accuracy: 91.16446177586529 %\n",
      "-- Loss: 0.7387381196022034\n",
      "-- Complete optimized function value: 1.7348004579544067\n"
     ]
    },
    {
     "name": "stderr",
     "output_type": "stream",
     "text": [
      "Epoch [76/90]: 100%|██████████████████████████████████████████████████████████████| 5005/5005 [00:40<00:00, 124.85it/s]\n"
     ]
    },
    {
     "name": "stdout",
     "output_type": "stream",
     "text": [
      ">> Accuracy: 91.17312575175602 %\n",
      "-- Loss: 0.7351034283638\n",
      "-- Complete optimized function value: 1.7272522449493408\n"
     ]
    },
    {
     "name": "stderr",
     "output_type": "stream",
     "text": [
      "Epoch [77/90]: 100%|██████████████████████████████████████████████████████████████| 5005/5005 [00:39<00:00, 125.40it/s]\n"
     ]
    },
    {
     "name": "stdout",
     "output_type": "stream",
     "text": [
      ">> Accuracy: 91.17991643556226 %\n",
      "-- Loss: 0.7316496968269348\n",
      "-- Complete optimized function value: 1.7199008464813232\n"
     ]
    },
    {
     "name": "stderr",
     "output_type": "stream",
     "text": [
      "Epoch [78/90]: 100%|██████████████████████████████████████████████████████████████| 5005/5005 [00:39<00:00, 125.43it/s]\n"
     ]
    },
    {
     "name": "stdout",
     "output_type": "stream",
     "text": [
      ">> Accuracy: 91.18553631181571 %\n",
      "-- Loss: 0.7283316254615784\n",
      "-- Complete optimized function value: 1.7127010822296143\n"
     ]
    },
    {
     "name": "stderr",
     "output_type": "stream",
     "text": [
      "Epoch [79/90]: 100%|██████████████████████████████████████████████████████████████| 5005/5005 [00:39<00:00, 126.08it/s]\n"
     ]
    },
    {
     "name": "stdout",
     "output_type": "stream",
     "text": [
      ">> Accuracy: 91.19263921096938 %\n",
      "-- Loss: 0.7251365184783936\n",
      "-- Complete optimized function value: 1.7056406736373901\n"
     ]
    },
    {
     "name": "stderr",
     "output_type": "stream",
     "text": [
      "Epoch [80/90]: 100%|██████████████████████████████████████████████████████████████| 5005/5005 [00:41<00:00, 120.40it/s]\n"
     ]
    },
    {
     "name": "stdout",
     "output_type": "stream",
     "text": [
      ">> Accuracy: 91.197634656528 %\n",
      "-- Loss: 0.7219051718711853\n",
      "-- Complete optimized function value: 1.6985609531402588\n"
     ]
    },
    {
     "name": "stderr",
     "output_type": "stream",
     "text": [
      "Epoch [81/90]: 100%|██████████████████████████████████████████████████████████████| 5005/5005 [00:37<00:00, 133.99it/s]\n"
     ]
    },
    {
     "name": "stdout",
     "output_type": "stream",
     "text": [
      ">> Accuracy: 91.20372285580257 %\n",
      "-- Loss: 0.7187665104866028\n",
      "-- Complete optimized function value: 1.6915898323059082\n"
     ]
    },
    {
     "name": "stderr",
     "output_type": "stream",
     "text": [
      "Epoch [82/90]: 100%|██████████████████████████████████████████████████████████████| 5005/5005 [00:38<00:00, 128.46it/s]\n"
     ]
    },
    {
     "name": "stdout",
     "output_type": "stream",
     "text": [
      ">> Accuracy: 91.20864024752433 %\n",
      "-- Loss: 0.7157090306282043\n",
      "-- Complete optimized function value: 1.684715986251831\n"
     ]
    },
    {
     "name": "stderr",
     "output_type": "stream",
     "text": [
      "Epoch [83/90]: 100%|██████████████████████████████████████████████████████████████| 5005/5005 [00:40<00:00, 125.05it/s]\n"
     ]
    },
    {
     "name": "stdout",
     "output_type": "stream",
     "text": [
      ">> Accuracy: 91.21285515471442 %\n",
      "-- Loss: 0.7127440571784973\n",
      "-- Complete optimized function value: 1.6779506206512451\n"
     ]
    },
    {
     "name": "stderr",
     "output_type": "stream",
     "text": [
      "Epoch [84/90]: 100%|██████████████████████████████████████████████████████████████| 5005/5005 [00:40<00:00, 124.62it/s]\n"
     ]
    },
    {
     "name": "stdout",
     "output_type": "stream",
     "text": [
      ">> Accuracy: 91.21667979272023 %\n",
      "-- Loss: 0.7098461389541626\n",
      "-- Complete optimized function value: 1.6712677478790283\n"
     ]
    },
    {
     "name": "stderr",
     "output_type": "stream",
     "text": [
      "Epoch [85/90]: 100%|██████████████████████████████████████████████████████████████| 5005/5005 [00:39<00:00, 126.07it/s]\n"
     ]
    },
    {
     "name": "stdout",
     "output_type": "stream",
     "text": [
      ">> Accuracy: 91.22128496909458 %\n",
      "-- Loss: 0.7070085406303406\n",
      "-- Complete optimized function value: 1.6646612882614136\n"
     ]
    },
    {
     "name": "stderr",
     "output_type": "stream",
     "text": [
      "Epoch [86/90]: 100%|██████████████████████████████████████████████████████████████| 5005/5005 [00:39<00:00, 125.64it/s]\n"
     ]
    },
    {
     "name": "stdout",
     "output_type": "stream",
     "text": [
      ">> Accuracy: 91.22534376861095 %\n",
      "-- Loss: 0.7042217254638672\n",
      "-- Complete optimized function value: 1.6581213474273682\n"
     ]
    },
    {
     "name": "stderr",
     "output_type": "stream",
     "text": [
      "Epoch [87/90]: 100%|██████████████████████████████████████████████████████████████| 5005/5005 [00:40<00:00, 124.16it/s]\n"
     ]
    },
    {
     "name": "stdout",
     "output_type": "stream",
     "text": [
      ">> Accuracy: 91.23213445241721 %\n",
      "-- Loss: 0.7014830708503723\n",
      "-- Complete optimized function value: 1.6516451835632324\n"
     ]
    },
    {
     "name": "stderr",
     "output_type": "stream",
     "text": [
      "Epoch [88/90]: 100%|██████████████████████████████████████████████████████████████| 5005/5005 [00:39<00:00, 125.71it/s]\n"
     ]
    },
    {
     "name": "stdout",
     "output_type": "stream",
     "text": [
      ">> Accuracy: 91.23673962879157 %\n",
      "-- Loss: 0.6987790465354919\n",
      "-- Complete optimized function value: 1.6452187299728394\n"
     ]
    },
    {
     "name": "stderr",
     "output_type": "stream",
     "text": [
      "Epoch [89/90]: 100%|██████████████████████████████████████████████████████████████| 5005/5005 [00:40<00:00, 125.12it/s]\n"
     ]
    },
    {
     "name": "stdout",
     "output_type": "stream",
     "text": [
      ">> Accuracy: 91.24009594377625 %\n",
      "-- Loss: 0.6961097717285156\n",
      "-- Complete optimized function value: 1.6388421058654785\n"
     ]
    },
    {
     "name": "stderr",
     "output_type": "stream",
     "text": [
      "Epoch [90/90]: 100%|██████████████████████████████████████████████████████████████| 5005/5005 [00:38<00:00, 128.72it/s]\n"
     ]
    },
    {
     "name": "stdout",
     "output_type": "stream",
     "text": [
      ">> Accuracy: 91.24532555084544 %\n",
      "-- Loss: 0.6934758424758911\n",
      "-- Complete optimized function value: 1.6325165033340454\n",
      "Step 4/9 completed.\n",
      "Processing step 5/9, weight decay = 1.000e-04.\n"
     ]
    },
    {
     "name": "stderr",
     "output_type": "stream",
     "text": [
      "Epoch [1/90]: 100%|███████████████████████████████████████████████████████████████| 5005/5005 [00:39<00:00, 128.03it/s]\n"
     ]
    },
    {
     "name": "stdout",
     "output_type": "stream",
     "text": [
      ">> Accuracy: 9.090696216808581 %\n",
      "-- Loss: 30.316120147705078\n",
      "-- Complete optimized function value: 46.752471923828125\n"
     ]
    },
    {
     "name": "stderr",
     "output_type": "stream",
     "text": [
      "Epoch [2/90]: 100%|███████████████████████████████████████████████████████████████| 5005/5005 [00:38<00:00, 130.71it/s]\n"
     ]
    },
    {
     "name": "stdout",
     "output_type": "stream",
     "text": [
      ">> Accuracy: 55.732156697760715 %\n",
      "-- Loss: 10.067773818969727\n",
      "-- Complete optimized function value: 21.264324188232422\n"
     ]
    },
    {
     "name": "stderr",
     "output_type": "stream",
     "text": [
      "Epoch [3/90]: 100%|███████████████████████████████████████████████████████████████| 5005/5005 [00:37<00:00, 134.97it/s]\n"
     ]
    },
    {
     "name": "stdout",
     "output_type": "stream",
     "text": [
      ">> Accuracy: 60.99353167853996 %\n",
      "-- Loss: 7.378097057342529\n",
      "-- Complete optimized function value: 15.795415878295898\n"
     ]
    },
    {
     "name": "stderr",
     "output_type": "stream",
     "text": [
      "Epoch [4/90]: 100%|███████████████████████████████████████████████████████████████| 5005/5005 [00:37<00:00, 134.29it/s]\n"
     ]
    },
    {
     "name": "stdout",
     "output_type": "stream",
     "text": [
      ">> Accuracy: 58.759708921631606 %\n",
      "-- Loss: 6.884037494659424\n",
      "-- Complete optimized function value: 14.690762519836426\n"
     ]
    },
    {
     "name": "stderr",
     "output_type": "stream",
     "text": [
      "Epoch [5/90]: 100%|███████████████████████████████████████████████████████████████| 5005/5005 [00:37<00:00, 134.39it/s]\n"
     ]
    },
    {
     "name": "stdout",
     "output_type": "stream",
     "text": [
      ">> Accuracy: 55.52336268417778 %\n",
      "-- Loss: 6.786367416381836\n",
      "-- Complete optimized function value: 14.889758110046387\n"
     ]
    },
    {
     "name": "stderr",
     "output_type": "stream",
     "text": [
      "Epoch [6/90]: 100%|███████████████████████████████████████████████████████████████| 5005/5005 [00:34<00:00, 146.20it/s]\n"
     ]
    },
    {
     "name": "stdout",
     "output_type": "stream",
     "text": [
      ">> Accuracy: 55.03857030348112 %\n",
      "-- Loss: 6.73188591003418\n",
      "-- Complete optimized function value: 14.94478702545166\n"
     ]
    },
    {
     "name": "stderr",
     "output_type": "stream",
     "text": [
      "Epoch [7/90]: 100%|███████████████████████████████████████████████████████████████| 5005/5005 [00:34<00:00, 146.61it/s]\n"
     ]
    },
    {
     "name": "stdout",
     "output_type": "stream",
     "text": [
      ">> Accuracy: 55.40378420611833 %\n",
      "-- Loss: 6.704213619232178\n",
      "-- Complete optimized function value: 14.890487670898438\n"
     ]
    },
    {
     "name": "stderr",
     "output_type": "stream",
     "text": [
      "Epoch [8/90]: 100%|███████████████████████████████████████████████████████████████| 5005/5005 [00:36<00:00, 135.52it/s]\n"
     ]
    },
    {
     "name": "stdout",
     "output_type": "stream",
     "text": [
      ">> Accuracy: 56.32560001935735 %\n",
      "-- Loss: 6.7596540451049805\n",
      "-- Complete optimized function value: 14.79127311706543\n"
     ]
    },
    {
     "name": "stderr",
     "output_type": "stream",
     "text": [
      "Epoch [9/90]: 100%|███████████████████████████████████████████████████████████████| 5005/5005 [00:37<00:00, 132.68it/s]\n"
     ]
    },
    {
     "name": "stdout",
     "output_type": "stream",
     "text": [
      ">> Accuracy: 55.58190306181786 %\n",
      "-- Loss: 6.800243854522705\n",
      "-- Complete optimized function value: 14.942554473876953\n"
     ]
    },
    {
     "name": "stderr",
     "output_type": "stream",
     "text": [
      "Epoch [10/90]: 100%|██████████████████████████████████████████████████████████████| 5005/5005 [00:36<00:00, 135.61it/s]\n"
     ]
    },
    {
     "name": "stdout",
     "output_type": "stream",
     "text": [
      ">> Accuracy: 55.8002196434969 %\n",
      "-- Loss: 6.777696132659912\n",
      "-- Complete optimized function value: 14.909242630004883\n"
     ]
    },
    {
     "name": "stderr",
     "output_type": "stream",
     "text": [
      "Epoch [11/90]: 100%|██████████████████████████████████████████████████████████████| 5005/5005 [00:36<00:00, 135.31it/s]\n"
     ]
    },
    {
     "name": "stdout",
     "output_type": "stream",
     "text": [
      ">> Accuracy: 55.262272599903056 %\n",
      "-- Loss: 6.807068824768066\n",
      "-- Complete optimized function value: 15.055072784423828\n"
     ]
    },
    {
     "name": "stderr",
     "output_type": "stream",
     "text": [
      "Epoch [12/90]: 100%|██████████████████████████████████████████████████████████████| 5005/5005 [00:36<00:00, 135.87it/s]\n"
     ]
    },
    {
     "name": "stdout",
     "output_type": "stream",
     "text": [
      ">> Accuracy: 55.47746702810797 %\n",
      "-- Loss: 6.698460102081299\n",
      "-- Complete optimized function value: 14.910749435424805\n"
     ]
    },
    {
     "name": "stderr",
     "output_type": "stream",
     "text": [
      "Epoch [13/90]: 100%|██████████████████████████████████████████████████████████████| 5005/5005 [00:36<00:00, 135.99it/s]\n"
     ]
    },
    {
     "name": "stdout",
     "output_type": "stream",
     "text": [
      ">> Accuracy: 55.700076570813955 %\n",
      "-- Loss: 6.700534343719482\n",
      "-- Complete optimized function value: 14.858640670776367\n"
     ]
    },
    {
     "name": "stderr",
     "output_type": "stream",
     "text": [
      "Epoch [14/90]: 100%|██████████████████████████████████████████████████████████████| 5005/5005 [00:36<00:00, 138.89it/s]\n"
     ]
    },
    {
     "name": "stdout",
     "output_type": "stream",
     "text": [
      ">> Accuracy: 55.98801717496626 %\n",
      "-- Loss: 6.753918170928955\n",
      "-- Complete optimized function value: 14.84559440612793\n"
     ]
    },
    {
     "name": "stderr",
     "output_type": "stream",
     "text": [
      "Epoch [15/90]: 100%|██████████████████████████████████████████████████████████████| 5005/5005 [00:36<00:00, 135.58it/s]\n"
     ]
    },
    {
     "name": "stdout",
     "output_type": "stream",
     "text": [
      ">> Accuracy: 55.685168287974946 %\n",
      "-- Loss: 6.697136878967285\n",
      "-- Complete optimized function value: 14.825100898742676\n"
     ]
    },
    {
     "name": "stderr",
     "output_type": "stream",
     "text": [
      "Epoch [16/90]: 100%|██████████████████████████████████████████████████████████████| 5005/5005 [00:37<00:00, 134.85it/s]\n"
     ]
    },
    {
     "name": "stdout",
     "output_type": "stream",
     "text": [
      ">> Accuracy: 55.58088836193876 %\n",
      "-- Loss: 6.718567371368408\n",
      "-- Complete optimized function value: 14.867164611816406\n"
     ]
    },
    {
     "name": "stderr",
     "output_type": "stream",
     "text": [
      "Epoch [17/90]: 100%|██████████████████████████████████████████████████████████████| 5005/5005 [00:37<00:00, 134.04it/s]\n"
     ]
    },
    {
     "name": "stdout",
     "output_type": "stream",
     "text": [
      ">> Accuracy: 55.68680741854887 %\n",
      "-- Loss: 6.723609447479248\n",
      "-- Complete optimized function value: 14.871988296508789\n"
     ]
    },
    {
     "name": "stderr",
     "output_type": "stream",
     "text": [
      "Epoch [18/90]: 100%|██████████████████████████████████████████████████████████████| 5005/5005 [00:37<00:00, 135.08it/s]\n"
     ]
    },
    {
     "name": "stdout",
     "output_type": "stream",
     "text": [
      ">> Accuracy: 55.50736164762283 %\n",
      "-- Loss: 6.763362884521484\n",
      "-- Complete optimized function value: 14.937167167663574\n"
     ]
    },
    {
     "name": "stderr",
     "output_type": "stream",
     "text": [
      "Epoch [19/90]: 100%|██████████████████████████████████████████████████████████████| 5005/5005 [00:37<00:00, 131.89it/s]\n"
     ]
    },
    {
     "name": "stdout",
     "output_type": "stream",
     "text": [
      ">> Accuracy: 55.73668382029821 %\n",
      "-- Loss: 6.713622570037842\n",
      "-- Complete optimized function value: 14.847394943237305\n"
     ]
    },
    {
     "name": "stderr",
     "output_type": "stream",
     "text": [
      "Epoch [20/90]: 100%|██████████████████████████████████████████████████████████████| 5005/5005 [00:38<00:00, 130.42it/s]\n"
     ]
    },
    {
     "name": "stdout",
     "output_type": "stream",
     "text": [
      ">> Accuracy: 55.640521493294784 %\n",
      "-- Loss: 6.747063159942627\n",
      "-- Complete optimized function value: 14.9073486328125\n"
     ]
    },
    {
     "name": "stderr",
     "output_type": "stream",
     "text": [
      "Epoch [21/90]: 100%|██████████████████████████████████████████████████████████████| 5005/5005 [00:37<00:00, 131.94it/s]\n"
     ]
    },
    {
     "name": "stdout",
     "output_type": "stream",
     "text": [
      ">> Accuracy: 55.263833676640125 %\n",
      "-- Loss: 6.890750885009766\n",
      "-- Complete optimized function value: 15.183436393737793\n"
     ]
    },
    {
     "name": "stderr",
     "output_type": "stream",
     "text": [
      "Epoch [22/90]: 100%|██████████████████████████████████████████████████████████████| 5005/5005 [00:37<00:00, 134.71it/s]\n"
     ]
    },
    {
     "name": "stdout",
     "output_type": "stream",
     "text": [
      ">> Accuracy: 55.85961861334237 %\n",
      "-- Loss: 6.64307165145874\n",
      "-- Complete optimized function value: 14.78173828125\n"
     ]
    },
    {
     "name": "stderr",
     "output_type": "stream",
     "text": [
      "Epoch [23/90]: 100%|██████████████████████████████████████████████████████████████| 5005/5005 [00:36<00:00, 135.55it/s]\n"
     ]
    },
    {
     "name": "stdout",
     "output_type": "stream",
     "text": [
      ">> Accuracy: 55.832924201138496 %\n",
      "-- Loss: 6.737165927886963\n",
      "-- Complete optimized function value: 14.84251594543457\n"
     ]
    },
    {
     "name": "stderr",
     "output_type": "stream",
     "text": [
      "Epoch [24/90]: 100%|██████████████████████████████████████████████████████████████| 5005/5005 [00:37<00:00, 135.14it/s]\n"
     ]
    },
    {
     "name": "stdout",
     "output_type": "stream",
     "text": [
      ">> Accuracy: 55.62381797220815 %\n",
      "-- Loss: 6.679389953613281\n",
      "-- Complete optimized function value: 14.811836242675781\n"
     ]
    },
    {
     "name": "stderr",
     "output_type": "stream",
     "text": [
      "Epoch [25/90]: 100%|██████████████████████████████████████████████████████████████| 5005/5005 [00:37<00:00, 134.69it/s]\n"
     ]
    },
    {
     "name": "stdout",
     "output_type": "stream",
     "text": [
      ">> Accuracy: 55.64013122411052 %\n",
      "-- Loss: 6.701090335845947\n",
      "-- Complete optimized function value: 14.831199645996094\n"
     ]
    },
    {
     "name": "stderr",
     "output_type": "stream",
     "text": [
      "Epoch [26/90]: 100%|██████████████████████████████████████████████████████████████| 5005/5005 [00:36<00:00, 136.40it/s]\n"
     ]
    },
    {
     "name": "stdout",
     "output_type": "stream",
     "text": [
      ">> Accuracy: 55.76119272507019 %\n",
      "-- Loss: 6.782956123352051\n",
      "-- Complete optimized function value: 14.921244621276855\n"
     ]
    },
    {
     "name": "stderr",
     "output_type": "stream",
     "text": [
      "Epoch [27/90]: 100%|██████████████████████████████████████████████████████████████| 5005/5005 [00:36<00:00, 138.89it/s]\n"
     ]
    },
    {
     "name": "stdout",
     "output_type": "stream",
     "text": [
      ">> Accuracy: 55.535929351911186 %\n",
      "-- Loss: 6.762697219848633\n",
      "-- Complete optimized function value: 14.919730186462402\n"
     ]
    },
    {
     "name": "stderr",
     "output_type": "stream",
     "text": [
      "Epoch [28/90]: 100%|██████████████████████████████████████████████████████████████| 5005/5005 [00:36<00:00, 135.38it/s]\n"
     ]
    },
    {
     "name": "stdout",
     "output_type": "stream",
     "text": [
      ">> Accuracy: 55.65597615299176 %\n",
      "-- Loss: 6.758286476135254\n",
      "-- Complete optimized function value: 14.928092002868652\n"
     ]
    },
    {
     "name": "stderr",
     "output_type": "stream",
     "text": [
      "Epoch [29/90]: 100%|██████████████████████████████████████████████████████████████| 5005/5005 [00:36<00:00, 135.49it/s]\n"
     ]
    },
    {
     "name": "stdout",
     "output_type": "stream",
     "text": [
      ">> Accuracy: 55.755182579632475 %\n",
      "-- Loss: 6.649852752685547\n",
      "-- Complete optimized function value: 14.778903007507324\n"
     ]
    },
    {
     "name": "stderr",
     "output_type": "stream",
     "text": [
      "Epoch [30/90]: 100%|██████████████████████████████████████████████████████████████| 5005/5005 [00:36<00:00, 135.59it/s]\n"
     ]
    },
    {
     "name": "stdout",
     "output_type": "stream",
     "text": [
      ">> Accuracy: 55.641380085500174 %\n",
      "-- Loss: 6.729222297668457\n",
      "-- Complete optimized function value: 14.881257057189941\n"
     ]
    },
    {
     "name": "stderr",
     "output_type": "stream",
     "text": [
      "Epoch [31/90]: 100%|██████████████████████████████████████████████████████████████| 5005/5005 [00:36<00:00, 135.68it/s]\n"
     ]
    },
    {
     "name": "stdout",
     "output_type": "stream",
     "text": [
      ">> Accuracy: 69.05727356386794 %\n",
      "-- Loss: 1.643328070640564\n",
      "-- Complete optimized function value: 8.713598251342773\n"
     ]
    },
    {
     "name": "stderr",
     "output_type": "stream",
     "text": [
      "Epoch [32/90]: 100%|██████████████████████████████████████████████████████████████| 5005/5005 [00:36<00:00, 136.42it/s]\n"
     ]
    },
    {
     "name": "stdout",
     "output_type": "stream",
     "text": [
      ">> Accuracy: 80.71266275200657 %\n",
      "-- Loss: 1.9238311052322388\n",
      "-- Complete optimized function value: 8.168075561523438\n"
     ]
    },
    {
     "name": "stderr",
     "output_type": "stream",
     "text": [
      "Epoch [33/90]: 100%|██████████████████████████████████████████████████████████████| 5005/5005 [00:36<00:00, 135.36it/s]\n"
     ]
    },
    {
     "name": "stdout",
     "output_type": "stream",
     "text": [
      ">> Accuracy: 83.18696938026034 %\n",
      "-- Loss: 1.8489360809326172\n",
      "-- Complete optimized function value: 7.3930344581604\n"
     ]
    },
    {
     "name": "stderr",
     "output_type": "stream",
     "text": [
      "Epoch [34/90]: 100%|██████████████████████████████████████████████████████████████| 5005/5005 [00:37<00:00, 132.79it/s]\n"
     ]
    },
    {
     "name": "stdout",
     "output_type": "stream",
     "text": [
      ">> Accuracy: 84.39875519740986 %\n",
      "-- Loss: 1.7084543704986572\n",
      "-- Complete optimized function value: 6.642088890075684\n"
     ]
    },
    {
     "name": "stderr",
     "output_type": "stream",
     "text": [
      "Epoch [35/90]: 100%|██████████████████████████████████████████████████████████████| 5005/5005 [00:37<00:00, 135.08it/s]\n"
     ]
    },
    {
     "name": "stdout",
     "output_type": "stream",
     "text": [
      ">> Accuracy: 84.98907636553236 %\n",
      "-- Loss: 1.5823533535003662\n",
      "-- Complete optimized function value: 5.97747802734375\n"
     ]
    },
    {
     "name": "stderr",
     "output_type": "stream",
     "text": [
      "Epoch [36/90]: 100%|██████████████████████████████████████████████████████████████| 5005/5005 [00:37<00:00, 135.10it/s]\n"
     ]
    },
    {
     "name": "stdout",
     "output_type": "stream",
     "text": [
      ">> Accuracy: 85.40081035493421 %\n",
      "-- Loss: 1.4754358530044556\n",
      "-- Complete optimized function value: 5.393257141113281\n"
     ]
    },
    {
     "name": "stderr",
     "output_type": "stream",
     "text": [
      "Epoch [37/90]: 100%|██████████████████████████████████████████████████████████████| 5005/5005 [00:37<00:00, 135.02it/s]\n"
     ]
    },
    {
     "name": "stdout",
     "output_type": "stream",
     "text": [
      ">> Accuracy: 85.5880615095456 %\n",
      "-- Loss: 1.3815698623657227\n",
      "-- Complete optimized function value: 4.875175476074219\n"
     ]
    },
    {
     "name": "stderr",
     "output_type": "stream",
     "text": [
      "Epoch [38/90]: 100%|██████████████████████████████████████████████████████████████| 5005/5005 [00:37<00:00, 132.53it/s]\n"
     ]
    },
    {
     "name": "stdout",
     "output_type": "stream",
     "text": [
      ">> Accuracy: 85.77429796427788 %\n",
      "-- Loss: 1.3001948595046997\n",
      "-- Complete optimized function value: 4.416799068450928\n"
     ]
    },
    {
     "name": "stderr",
     "output_type": "stream",
     "text": [
      "Epoch [39/90]: 100%|██████████████████████████████████████████████████████████████| 5005/5005 [00:36<00:00, 135.70it/s]\n"
     ]
    },
    {
     "name": "stdout",
     "output_type": "stream",
     "text": [
      ">> Accuracy: 85.84212674850352 %\n",
      "-- Loss: 1.2309105396270752\n",
      "-- Complete optimized function value: 4.011837005615234\n"
     ]
    },
    {
     "name": "stderr",
     "output_type": "stream",
     "text": [
      "Epoch [40/90]: 100%|██████████████████████████████████████████████████████████████| 5005/5005 [00:36<00:00, 138.63it/s]\n"
     ]
    },
    {
     "name": "stdout",
     "output_type": "stream",
     "text": [
      ">> Accuracy: 85.93664994493302 %\n",
      "-- Loss: 1.1706891059875488\n",
      "-- Complete optimized function value: 3.6531951427459717\n"
     ]
    },
    {
     "name": "stderr",
     "output_type": "stream",
     "text": [
      "Epoch [41/90]: 100%|██████████████████████████████████████████████████████████████| 5005/5005 [00:37<00:00, 134.57it/s]\n"
     ]
    },
    {
     "name": "stdout",
     "output_type": "stream",
     "text": [
      ">> Accuracy: 85.91448265526664 %\n",
      "-- Loss: 1.118556261062622\n",
      "-- Complete optimized function value: 3.3353164196014404\n"
     ]
    },
    {
     "name": "stderr",
     "output_type": "stream",
     "text": [
      "Epoch [42/90]: 100%|██████████████████████████████████████████████████████████████| 5005/5005 [00:36<00:00, 136.30it/s]\n"
     ]
    },
    {
     "name": "stdout",
     "output_type": "stream",
     "text": [
      ">> Accuracy: 85.94039652910199 %\n",
      "-- Loss: 1.0694563388824463\n",
      "-- Complete optimized function value: 3.0501914024353027\n"
     ]
    },
    {
     "name": "stderr",
     "output_type": "stream",
     "text": [
      "Epoch [43/90]: 100%|██████████████████████████████████████████████████████████████| 5005/5005 [00:37<00:00, 134.72it/s]\n"
     ]
    },
    {
     "name": "stdout",
     "output_type": "stream",
     "text": [
      ">> Accuracy: 85.8780315134561 %\n",
      "-- Loss: 1.0250805616378784\n",
      "-- Complete optimized function value: 2.7957544326782227\n"
     ]
    },
    {
     "name": "stderr",
     "output_type": "stream",
     "text": [
      "Epoch [44/90]: 100%|██████████████████████████████████████████████████████████████| 5005/5005 [00:36<00:00, 135.55it/s]\n"
     ]
    },
    {
     "name": "stdout",
     "output_type": "stream",
     "text": [
      ">> Accuracy: 85.83908264886622 %\n",
      "-- Loss: 0.983816921710968\n",
      "-- Complete optimized function value: 2.5683023929595947\n"
     ]
    },
    {
     "name": "stderr",
     "output_type": "stream",
     "text": [
      "Epoch [45/90]: 100%|██████████████████████████████████████████████████████████████| 5005/5005 [00:36<00:00, 135.62it/s]\n"
     ]
    },
    {
     "name": "stdout",
     "output_type": "stream",
     "text": [
      ">> Accuracy: 85.71177684095828 %\n",
      "-- Loss: 0.9477745890617371\n",
      "-- Complete optimized function value: 2.3669426441192627\n"
     ]
    },
    {
     "name": "stderr",
     "output_type": "stream",
     "text": [
      "Epoch [46/90]: 100%|██████████████████████████████████████████████████████████████| 5005/5005 [00:36<00:00, 138.91it/s]\n"
     ]
    },
    {
     "name": "stdout",
     "output_type": "stream",
     "text": [
      ">> Accuracy: 85.60585778434817 %\n",
      "-- Loss: 0.9168689250946045\n",
      "-- Complete optimized function value: 2.190113067626953\n"
     ]
    },
    {
     "name": "stderr",
     "output_type": "stream",
     "text": [
      "Epoch [47/90]: 100%|██████████████████████████████████████████████████████████████| 5005/5005 [00:37<00:00, 134.95it/s]\n"
     ]
    },
    {
     "name": "stdout",
     "output_type": "stream",
     "text": [
      ">> Accuracy: 85.42602174423787 %\n",
      "-- Loss: 0.8922458291053772\n",
      "-- Complete optimized function value: 2.036369562149048\n"
     ]
    },
    {
     "name": "stderr",
     "output_type": "stream",
     "text": [
      "Epoch [48/90]: 100%|██████████████████████████████████████████████████████████████| 5005/5005 [00:36<00:00, 135.75it/s]\n"
     ]
    },
    {
     "name": "stdout",
     "output_type": "stream",
     "text": [
      ">> Accuracy: 85.26382587125644 %\n",
      "-- Loss: 0.8742246031761169\n",
      "-- Complete optimized function value: 1.9050414562225342\n"
     ]
    },
    {
     "name": "stderr",
     "output_type": "stream",
     "text": [
      "Epoch [49/90]: 100%|██████████████████████████████████████████████████████████████| 5005/5005 [00:37<00:00, 135.18it/s]\n"
     ]
    },
    {
     "name": "stdout",
     "output_type": "stream",
     "text": [
      ">> Accuracy: 85.02107843864226 %\n",
      "-- Loss: 0.8636471033096313\n",
      "-- Complete optimized function value: 1.794912338256836\n"
     ]
    },
    {
     "name": "stderr",
     "output_type": "stream",
     "text": [
      "Epoch [50/90]: 100%|██████████████████████████████████████████████████████████████| 5005/5005 [00:37<00:00, 135.23it/s]\n"
     ]
    },
    {
     "name": "stdout",
     "output_type": "stream",
     "text": [
      ">> Accuracy: 84.79362955805136 %\n",
      "-- Loss: 0.8605332970619202\n",
      "-- Complete optimized function value: 1.7052747011184692\n"
     ]
    },
    {
     "name": "stderr",
     "output_type": "stream",
     "text": [
      "Epoch [51/90]: 100%|██████████████████████████████████████████████████████████████| 5005/5005 [00:36<00:00, 135.75it/s]\n"
     ]
    },
    {
     "name": "stdout",
     "output_type": "stream",
     "text": [
      ">> Accuracy: 84.4873463022385 %\n",
      "-- Loss: 0.8645564913749695\n",
      "-- Complete optimized function value: 1.6338061094284058\n"
     ]
    },
    {
     "name": "stderr",
     "output_type": "stream",
     "text": [
      "Epoch [52/90]: 100%|██████████████████████████████████████████████████████████████| 5005/5005 [00:37<00:00, 134.52it/s]\n"
     ]
    },
    {
     "name": "stdout",
     "output_type": "stream",
     "text": [
      ">> Accuracy: 84.20869410467175 %\n",
      "-- Loss: 0.873776912689209\n",
      "-- Complete optimized function value: 1.5780900716781616\n"
     ]
    },
    {
     "name": "stderr",
     "output_type": "stream",
     "text": [
      "Epoch [53/90]: 100%|██████████████████████████████████████████████████████████████| 5005/5005 [00:36<00:00, 139.00it/s]\n"
     ]
    },
    {
     "name": "stdout",
     "output_type": "stream",
     "text": [
      ">> Accuracy: 83.85643713895222 %\n",
      "-- Loss: 0.8862912058830261\n",
      "-- Complete optimized function value: 1.534693956375122\n"
     ]
    },
    {
     "name": "stderr",
     "output_type": "stream",
     "text": [
      "Epoch [54/90]: 100%|██████████████████████████████████████████████████████████████| 5005/5005 [00:37<00:00, 134.56it/s]\n"
     ]
    },
    {
     "name": "stdout",
     "output_type": "stream",
     "text": [
      ">> Accuracy: 83.54297293014884 %\n",
      "-- Loss: 0.8998799324035645\n",
      "-- Complete optimized function value: 1.5009567737579346\n"
     ]
    },
    {
     "name": "stderr",
     "output_type": "stream",
     "text": [
      "Epoch [55/90]: 100%|██████████████████████████████████████████████████████████████| 5005/5005 [00:37<00:00, 135.00it/s]\n"
     ]
    },
    {
     "name": "stdout",
     "output_type": "stream",
     "text": [
      ">> Accuracy: 83.19688221754073 %\n",
      "-- Loss: 0.9130266308784485\n",
      "-- Complete optimized function value: 1.473665475845337\n"
     ]
    },
    {
     "name": "stderr",
     "output_type": "stream",
     "text": [
      "Epoch [56/90]: 100%|██████████████████████████████████████████████████████████████| 5005/5005 [00:36<00:00, 135.71it/s]\n"
     ]
    },
    {
     "name": "stdout",
     "output_type": "stream",
     "text": [
      ">> Accuracy: 82.92010331205846 %\n",
      "-- Loss: 0.9239558577537537\n",
      "-- Complete optimized function value: 1.4508647918701172\n"
     ]
    },
    {
     "name": "stderr",
     "output_type": "stream",
     "text": [
      "Epoch [57/90]: 100%|██████████████████████████████████████████████████████████████| 5005/5005 [00:38<00:00, 131.62it/s]\n"
     ]
    },
    {
     "name": "stdout",
     "output_type": "stream",
     "text": [
      ">> Accuracy: 82.55371860186845 %\n",
      "-- Loss: 0.9319186806678772\n",
      "-- Complete optimized function value: 1.4305591583251953\n"
     ]
    },
    {
     "name": "stderr",
     "output_type": "stream",
     "text": [
      "Epoch [58/90]: 100%|██████████████████████████████████████████████████████████████| 5005/5005 [00:36<00:00, 135.42it/s]\n"
     ]
    },
    {
     "name": "stdout",
     "output_type": "stream",
     "text": [
      ">> Accuracy: 82.28903804109846 %\n",
      "-- Loss: 0.9367847442626953\n",
      "-- Complete optimized function value: 1.412357211112976\n"
     ]
    },
    {
     "name": "stderr",
     "output_type": "stream",
     "text": [
      "Epoch [59/90]: 100%|██████████████████████████████████████████████████████████████| 5005/5005 [00:35<00:00, 139.33it/s]\n"
     ]
    },
    {
     "name": "stdout",
     "output_type": "stream",
     "text": [
      ">> Accuracy: 81.98837466153905 %\n",
      "-- Loss: 0.9391663074493408\n",
      "-- Complete optimized function value: 1.3953535556793213\n"
     ]
    },
    {
     "name": "stderr",
     "output_type": "stream",
     "text": [
      "Epoch [60/90]: 100%|██████████████████████████████████████████████████████████████| 5005/5005 [00:37<00:00, 134.26it/s]\n"
     ]
    },
    {
     "name": "stdout",
     "output_type": "stream",
     "text": [
      ">> Accuracy: 81.78137588620375 %\n",
      "-- Loss: 0.9398553967475891\n",
      "-- Complete optimized function value: 1.380373239517212\n"
     ]
    },
    {
     "name": "stderr",
     "output_type": "stream",
     "text": [
      "Epoch [61/90]: 100%|██████████████████████████████████████████████████████████████| 5005/5005 [00:37<00:00, 134.65it/s]\n"
     ]
    },
    {
     "name": "stdout",
     "output_type": "stream",
     "text": [
      ">> Accuracy: 85.93204476855867 %\n",
      "-- Loss: 0.4892141819000244\n",
      "-- Complete optimized function value: 0.9244617223739624\n"
     ]
    },
    {
     "name": "stderr",
     "output_type": "stream",
     "text": [
      "Epoch [62/90]: 100%|██████████████████████████████████████████████████████████████| 5005/5005 [00:37<00:00, 134.81it/s]\n"
     ]
    },
    {
     "name": "stdout",
     "output_type": "stream",
     "text": [
      ">> Accuracy: 88.31760418431008 %\n",
      "-- Loss: 0.46693703532218933\n",
      "-- Complete optimized function value: 0.8976362943649292\n"
     ]
    },
    {
     "name": "stderr",
     "output_type": "stream",
     "text": [
      "Epoch [63/90]: 100%|██████████████████████████████████████████████████████████████| 5005/5005 [00:37<00:00, 134.74it/s]\n"
     ]
    },
    {
     "name": "stdout",
     "output_type": "stream",
     "text": [
      ">> Accuracy: 89.40481607784153 %\n",
      "-- Loss: 0.45500603318214417\n",
      "-- Complete optimized function value: 0.8814836740493774\n"
     ]
    },
    {
     "name": "stderr",
     "output_type": "stream",
     "text": [
      "Epoch [64/90]: 100%|██████████████████████████████████████████████████████████████| 5005/5005 [00:36<00:00, 136.96it/s]\n"
     ]
    },
    {
     "name": "stdout",
     "output_type": "stream",
     "text": [
      ">> Accuracy: 89.91958113188991 %\n",
      "-- Loss: 0.4463960528373718\n",
      "-- Complete optimized function value: 0.8688392639160156\n"
     ]
    },
    {
     "name": "stderr",
     "output_type": "stream",
     "text": [
      "Epoch [65/90]: 100%|██████████████████████████████████████████████████████████████| 5005/5005 [00:37<00:00, 134.61it/s]\n"
     ]
    },
    {
     "name": "stdout",
     "output_type": "stream",
     "text": [
      ">> Accuracy: 90.19838943713037 %\n",
      "-- Loss: 0.43952909111976624\n",
      "-- Complete optimized function value: 0.8580695390701294\n"
     ]
    },
    {
     "name": "stderr",
     "output_type": "stream",
     "text": [
      "Epoch [66/90]: 100%|██████████████████████████████████████████████████████████████| 5005/5005 [00:36<00:00, 138.21it/s]\n"
     ]
    },
    {
     "name": "stdout",
     "output_type": "stream",
     "text": [
      ">> Accuracy: 90.35613624141115 %\n",
      "-- Loss: 0.4337838590145111\n",
      "-- Complete optimized function value: 0.8485280871391296\n"
     ]
    },
    {
     "name": "stderr",
     "output_type": "stream",
     "text": [
      "Epoch [67/90]: 100%|██████████████████████████████████████████████████████████████| 5005/5005 [00:36<00:00, 136.10it/s]\n"
     ]
    },
    {
     "name": "stdout",
     "output_type": "stream",
     "text": [
      ">> Accuracy: 90.45674763711523 %\n",
      "-- Loss: 0.42883285880088806\n",
      "-- Complete optimized function value: 0.8398748636245728\n"
     ]
    },
    {
     "name": "stderr",
     "output_type": "stream",
     "text": [
      "Epoch [68/90]: 100%|██████████████████████████████████████████████████████████████| 5005/5005 [00:37<00:00, 135.24it/s]\n"
     ]
    },
    {
     "name": "stdout",
     "output_type": "stream",
     "text": [
      ">> Accuracy: 90.52949381306262 %\n",
      "-- Loss: 0.42453786730766296\n",
      "-- Complete optimized function value: 0.8319637775421143\n"
     ]
    },
    {
     "name": "stderr",
     "output_type": "stream",
     "text": [
      "Epoch [69/90]: 100%|██████████████████████████████████████████████████████████████| 5005/5005 [00:37<00:00, 135.05it/s]\n"
     ]
    },
    {
     "name": "stdout",
     "output_type": "stream",
     "text": [
      ">> Accuracy: 90.57999464550679 %\n",
      "-- Loss: 0.4208109676837921\n",
      "-- Complete optimized function value: 0.8247023820877075\n"
     ]
    },
    {
     "name": "stderr",
     "output_type": "stream",
     "text": [
      "Epoch [70/90]: 100%|██████████████████████████████████████████████████████████████| 5005/5005 [00:37<00:00, 135.12it/s]\n"
     ]
    },
    {
     "name": "stdout",
     "output_type": "stream",
     "text": [
      ">> Accuracy: 90.62347063263415 %\n",
      "-- Loss: 0.41759052872657776\n",
      "-- Complete optimized function value: 0.8180248737335205\n"
     ]
    },
    {
     "name": "stderr",
     "output_type": "stream",
     "text": [
      "Epoch [71/90]: 100%|██████████████████████████████████████████████████████████████| 5005/5005 [00:37<00:00, 134.73it/s]\n"
     ]
    },
    {
     "name": "stdout",
     "output_type": "stream",
     "text": [
      ">> Accuracy: 90.65430189819126 %\n",
      "-- Loss: 0.4148125946521759\n",
      "-- Complete optimized function value: 0.8118639588356018\n"
     ]
    },
    {
     "name": "stderr",
     "output_type": "stream",
     "text": [
      "Epoch [72/90]: 100%|██████████████████████████████████████████████████████████████| 5005/5005 [00:35<00:00, 139.04it/s]\n"
     ]
    },
    {
     "name": "stdout",
     "output_type": "stream",
     "text": [
      ">> Accuracy: 90.68029382586344 %\n",
      "-- Loss: 0.41241586208343506\n",
      "-- Complete optimized function value: 0.8061556816101074\n"
     ]
    },
    {
     "name": "stderr",
     "output_type": "stream",
     "text": [
      "Epoch [73/90]: 100%|██████████████████████████████████████████████████████████████| 5005/5005 [00:37<00:00, 134.12it/s]\n"
     ]
    },
    {
     "name": "stdout",
     "output_type": "stream",
     "text": [
      ">> Accuracy: 90.7062076996988 %\n",
      "-- Loss: 0.41037026047706604\n",
      "-- Complete optimized function value: 0.8008677959442139\n"
     ]
    },
    {
     "name": "stderr",
     "output_type": "stream",
     "text": [
      "Epoch [74/90]: 100%|██████████████████████████████████████████████████████████████| 5005/5005 [00:37<00:00, 134.98it/s]\n"
     ]
    },
    {
     "name": "stdout",
     "output_type": "stream",
     "text": [
      ">> Accuracy: 90.72587726658585 %\n",
      "-- Loss: 0.40863388776779175\n",
      "-- Complete optimized function value: 0.7959558963775635\n"
     ]
    },
    {
     "name": "stderr",
     "output_type": "stream",
     "text": [
      "Epoch [75/90]: 100%|██████████████████████████████████████████████████████████████| 5005/5005 [00:36<00:00, 135.68it/s]\n"
     ]
    },
    {
     "name": "stdout",
     "output_type": "stream",
     "text": [
      ">> Accuracy: 90.7405513879143 %\n",
      "-- Loss: 0.40717148780822754\n",
      "-- Complete optimized function value: 0.7913826704025269\n"
     ]
    },
    {
     "name": "stderr",
     "output_type": "stream",
     "text": [
      "Epoch [76/90]: 100%|██████████████████████████████████████████████████████████████| 5005/5005 [00:37<00:00, 134.75it/s]\n"
     ]
    },
    {
     "name": "stdout",
     "output_type": "stream",
     "text": [
      ">> Accuracy: 90.75553772459016 %\n",
      "-- Loss: 0.4059380888938904\n",
      "-- Complete optimized function value: 0.7871015071868896\n"
     ]
    },
    {
     "name": "stderr",
     "output_type": "stream",
     "text": [
      "Epoch [77/90]: 100%|██████████████████████████████████████████████████████████████| 5005/5005 [00:37<00:00, 134.97it/s]\n"
     ]
    },
    {
     "name": "stdout",
     "output_type": "stream",
     "text": [
      ">> Accuracy: 90.7690410383658 %\n",
      "-- Loss: 0.4048991799354553\n",
      "-- Complete optimized function value: 0.7830764055252075\n"
     ]
    },
    {
     "name": "stderr",
     "output_type": "stream",
     "text": [
      "Epoch [78/90]: 100%|██████████████████████████████████████████████████████████████| 5005/5005 [00:37<00:00, 135.20it/s]\n"
     ]
    },
    {
     "name": "stdout",
     "output_type": "stream",
     "text": [
      ">> Accuracy: 90.78910087443714 %\n",
      "-- Loss: 0.40403515100479126\n",
      "-- Complete optimized function value: 0.77928626537323\n"
     ]
    },
    {
     "name": "stderr",
     "output_type": "stream",
     "text": [
      "Epoch [79/90]: 100%|██████████████████████████████████████████████████████████████| 5005/5005 [00:35<00:00, 139.43it/s]\n"
     ]
    },
    {
     "name": "stdout",
     "output_type": "stream",
     "text": [
      ">> Accuracy: 90.79956008857549 %\n",
      "-- Loss: 0.403313547372818\n",
      "-- Complete optimized function value: 0.7756973505020142\n"
     ]
    },
    {
     "name": "stderr",
     "output_type": "stream",
     "text": [
      "Epoch [80/90]: 100%|██████████████████████████████████████████████████████████████| 5005/5005 [00:37<00:00, 134.99it/s]\n"
     ]
    },
    {
     "name": "stdout",
     "output_type": "stream",
     "text": [
      ">> Accuracy: 90.81079984108239 %\n",
      "-- Loss: 0.40271708369255066\n",
      "-- Complete optimized function value: 0.772291362285614\n"
     ]
    },
    {
     "name": "stderr",
     "output_type": "stream",
     "text": [
      "Epoch [81/90]: 100%|██████████████████████████████████████████████████████████████| 5005/5005 [00:37<00:00, 134.16it/s]\n"
     ]
    },
    {
     "name": "stdout",
     "output_type": "stream",
     "text": [
      ">> Accuracy: 90.82203959358928 %\n",
      "-- Loss: 0.40223053097724915\n",
      "-- Complete optimized function value: 0.7690518498420715\n"
     ]
    },
    {
     "name": "stderr",
     "output_type": "stream",
     "text": [
      "Epoch [82/90]: 100%|██████████████████████████████████████████████████████████████| 5005/5005 [00:37<00:00, 134.39it/s]\n"
     ]
    },
    {
     "name": "stdout",
     "output_type": "stream",
     "text": [
      ">> Accuracy: 90.82992303111148 %\n",
      "-- Loss: 0.4018387198448181\n",
      "-- Complete optimized function value: 0.7659624814987183\n"
     ]
    },
    {
     "name": "stderr",
     "output_type": "stream",
     "text": [
      "Epoch [83/90]: 100%|██████████████████████████████████████████████████████████████| 5005/5005 [00:36<00:00, 135.75it/s]\n"
     ]
    },
    {
     "name": "stdout",
     "output_type": "stream",
     "text": [
      ">> Accuracy: 90.83772841479683 %\n",
      "-- Loss: 0.40152379870414734\n",
      "-- Complete optimized function value: 0.7630038261413574\n"
     ]
    },
    {
     "name": "stderr",
     "output_type": "stream",
     "text": [
      "Epoch [84/90]: 100%|██████████████████████████████████████████████████████████████| 5005/5005 [00:37<00:00, 134.99it/s]\n"
     ]
    },
    {
     "name": "stdout",
     "output_type": "stream",
     "text": [
      ">> Accuracy: 90.84327023721342 %\n",
      "-- Loss: 0.40127331018447876\n",
      "-- Complete optimized function value: 0.7601622939109802\n"
     ]
    },
    {
     "name": "stderr",
     "output_type": "stream",
     "text": [
      "Epoch [85/90]: 100%|██████████████████████████████████████████████████████████████| 5005/5005 [00:35<00:00, 139.26it/s]\n"
     ]
    },
    {
     "name": "stdout",
     "output_type": "stream",
     "text": [
      ">> Accuracy: 90.85310502065695 %\n",
      "-- Loss: 0.4010689854621887\n",
      "-- Complete optimized function value: 0.7574188709259033\n"
     ]
    },
    {
     "name": "stderr",
     "output_type": "stream",
     "text": [
      "Epoch [86/90]: 100%|██████████████████████████████████████████████████████████████| 5005/5005 [00:37<00:00, 134.68it/s]\n"
     ]
    },
    {
     "name": "stdout",
     "output_type": "stream",
     "text": [
      ">> Accuracy: 90.86067624283173 %\n",
      "-- Loss: 0.4009029269218445\n",
      "-- Complete optimized function value: 0.7547642588615417\n"
     ]
    },
    {
     "name": "stderr",
     "output_type": "stream",
     "text": [
      "Epoch [87/90]: 100%|██████████████████████████████████████████████████████████████| 5005/5005 [00:37<00:00, 134.69it/s]\n"
     ]
    },
    {
     "name": "stdout",
     "output_type": "stream",
     "text": [
      ">> Accuracy: 90.86614001141147 %\n",
      "-- Loss: 0.4007727801799774\n",
      "-- Complete optimized function value: 0.7521950006484985\n"
     ]
    },
    {
     "name": "stderr",
     "output_type": "stream",
     "text": [
      "Epoch [88/90]: 100%|██████████████████████████████████████████████████████████████| 5005/5005 [00:37<00:00, 134.69it/s]\n"
     ]
    },
    {
     "name": "stdout",
     "output_type": "stream",
     "text": [
      ">> Accuracy: 90.87199404917548 %\n",
      "-- Loss: 0.4006757438182831\n",
      "-- Complete optimized function value: 0.7497072815895081\n"
     ]
    },
    {
     "name": "stderr",
     "output_type": "stream",
     "text": [
      "Epoch [89/90]: 100%|██████████████████████████████████████████████████████████████| 5005/5005 [00:37<00:00, 135.03it/s]\n"
     ]
    },
    {
     "name": "stdout",
     "output_type": "stream",
     "text": [
      ">> Accuracy: 90.8783164099606 %\n",
      "-- Loss: 0.4006120264530182\n",
      "-- Complete optimized function value: 0.7473004460334778\n"
     ]
    },
    {
     "name": "stderr",
     "output_type": "stream",
     "text": [
      "Epoch [90/90]: 100%|██████████████████████████████████████████████████████████████| 5005/5005 [00:36<00:00, 135.79it/s]\n"
     ]
    },
    {
     "name": "stdout",
     "output_type": "stream",
     "text": [
      ">> Accuracy: 90.88026775588195 %\n",
      "-- Loss: 0.40057945251464844\n",
      "-- Complete optimized function value: 0.7449711561203003\n",
      "Step 5/9 completed.\n",
      "Processing step 6/9, weight decay = 3.162e-04.\n"
     ]
    },
    {
     "name": "stderr",
     "output_type": "stream",
     "text": [
      "Epoch [1/90]: 100%|███████████████████████████████████████████████████████████████| 5005/5005 [00:37<00:00, 135.01it/s]\n"
     ]
    },
    {
     "name": "stdout",
     "output_type": "stream",
     "text": [
      ">> Accuracy: 10.3547781046499 %\n",
      "-- Loss: 18.090974807739258\n",
      "-- Complete optimized function value: 44.17815399169922\n"
     ]
    },
    {
     "name": "stderr",
     "output_type": "stream",
     "text": [
      "Epoch [2/90]: 100%|███████████████████████████████████████████████████████████████| 5005/5005 [00:37<00:00, 135.11it/s]\n"
     ]
    },
    {
     "name": "stdout",
     "output_type": "stream",
     "text": [
      ">> Accuracy: 29.580530875365977 %\n",
      "-- Loss: 6.755928993225098\n",
      "-- Complete optimized function value: 27.280540466308594\n"
     ]
    },
    {
     "name": "stderr",
     "output_type": "stream",
     "text": [
      "Epoch [3/90]: 100%|███████████████████████████████████████████████████████████████| 5005/5005 [00:37<00:00, 134.78it/s]\n"
     ]
    },
    {
     "name": "stdout",
     "output_type": "stream",
     "text": [
      ">> Accuracy: 27.384486175494686 %\n",
      "-- Loss: 7.113131046295166\n",
      "-- Complete optimized function value: 28.77845573425293\n"
     ]
    },
    {
     "name": "stderr",
     "output_type": "stream",
     "text": [
      "Epoch [4/90]: 100%|███████████████████████████████████████████████████████████████| 5005/5005 [00:35<00:00, 141.72it/s]\n"
     ]
    },
    {
     "name": "stdout",
     "output_type": "stream",
     "text": [
      ">> Accuracy: 26.96237102579133 %\n",
      "-- Loss: 6.872817516326904\n",
      "-- Complete optimized function value: 28.14784049987793\n"
     ]
    },
    {
     "name": "stderr",
     "output_type": "stream",
     "text": [
      "Epoch [5/90]: 100%|███████████████████████████████████████████████████████████████| 5005/5005 [00:34<00:00, 143.08it/s]\n"
     ]
    },
    {
     "name": "stdout",
     "output_type": "stream",
     "text": [
      ">> Accuracy: 27.871307955949536 %\n",
      "-- Loss: 6.949552059173584\n",
      "-- Complete optimized function value: 28.31478500366211\n"
     ]
    },
    {
     "name": "stderr",
     "output_type": "stream",
     "text": [
      "Epoch [6/90]: 100%|███████████████████████████████████████████████████████████████| 5005/5005 [00:37<00:00, 134.39it/s]\n"
     ]
    },
    {
     "name": "stdout",
     "output_type": "stream",
     "text": [
      ">> Accuracy: 27.079529834908328 %\n",
      "-- Loss: 6.921653747558594\n",
      "-- Complete optimized function value: 28.29722023010254\n"
     ]
    },
    {
     "name": "stderr",
     "output_type": "stream",
     "text": [
      "Epoch [7/90]: 100%|███████████████████████████████████████████████████████████████| 5005/5005 [00:36<00:00, 135.97it/s]\n"
     ]
    },
    {
     "name": "stdout",
     "output_type": "stream",
     "text": [
      ">> Accuracy: 27.635117045631052 %\n",
      "-- Loss: 6.921307563781738\n",
      "-- Complete optimized function value: 28.257164001464844\n"
     ]
    },
    {
     "name": "stderr",
     "output_type": "stream",
     "text": [
      "Epoch [8/90]: 100%|███████████████████████████████████████████████████████████████| 5005/5005 [00:37<00:00, 135.26it/s]\n"
     ]
    },
    {
     "name": "stdout",
     "output_type": "stream",
     "text": [
      ">> Accuracy: 27.292148486497076 %\n",
      "-- Loss: 6.936559200286865\n",
      "-- Complete optimized function value: 28.30553436279297\n"
     ]
    },
    {
     "name": "stderr",
     "output_type": "stream",
     "text": [
      "Epoch [9/90]: 100%|███████████████████████████████████████████████████████████████| 5005/5005 [00:37<00:00, 134.07it/s]\n"
     ]
    },
    {
     "name": "stdout",
     "output_type": "stream",
     "text": [
      ">> Accuracy: 27.488375832346602 %\n",
      "-- Loss: 6.915616035461426\n",
      "-- Complete optimized function value: 28.25992202758789\n"
     ]
    },
    {
     "name": "stderr",
     "output_type": "stream",
     "text": [
      "Epoch [10/90]: 100%|██████████████████████████████████████████████████████████████| 5005/5005 [00:37<00:00, 134.76it/s]\n"
     ]
    },
    {
     "name": "stdout",
     "output_type": "stream",
     "text": [
      ">> Accuracy: 27.40142385809188 %\n",
      "-- Loss: 6.937506198883057\n",
      "-- Complete optimized function value: 28.294219970703125\n"
     ]
    },
    {
     "name": "stderr",
     "output_type": "stream",
     "text": [
      "Epoch [11/90]: 100%|██████████████████████████████████████████████████████████████| 5005/5005 [00:36<00:00, 136.61it/s]\n"
     ]
    },
    {
     "name": "stdout",
     "output_type": "stream",
     "text": [
      ">> Accuracy: 27.43170874679101 %\n",
      "-- Loss: 6.917473316192627\n",
      "-- Complete optimized function value: 28.27132797241211\n"
     ]
    },
    {
     "name": "stderr",
     "output_type": "stream",
     "text": [
      "Epoch [12/90]: 100%|██████████████████████████████████████████████████████████████| 5005/5005 [00:36<00:00, 137.01it/s]\n"
     ]
    },
    {
     "name": "stdout",
     "output_type": "stream",
     "text": [
      ">> Accuracy: 27.434908954102003 %\n",
      "-- Loss: 6.936200141906738\n",
      "-- Complete optimized function value: 28.287521362304688\n"
     ]
    },
    {
     "name": "stderr",
     "output_type": "stream",
     "text": [
      "Epoch [13/90]: 100%|██████████████████████████████████████████████████████████████| 5005/5005 [00:36<00:00, 136.16it/s]\n"
     ]
    },
    {
     "name": "stdout",
     "output_type": "stream",
     "text": [
      ">> Accuracy: 27.41984456358929 %\n",
      "-- Loss: 6.91647481918335\n",
      "-- Complete optimized function value: 28.268287658691406\n"
     ]
    },
    {
     "name": "stderr",
     "output_type": "stream",
     "text": [
      "Epoch [14/90]: 100%|██████████████████████████████████████████████████████████████| 5005/5005 [00:37<00:00, 134.65it/s]\n"
     ]
    },
    {
     "name": "stdout",
     "output_type": "stream",
     "text": [
      ">> Accuracy: 27.439436076639502 %\n",
      "-- Loss: 6.937190532684326\n",
      "-- Complete optimized function value: 28.290117263793945\n"
     ]
    },
    {
     "name": "stderr",
     "output_type": "stream",
     "text": [
      "Epoch [15/90]: 100%|██████████████████████████████████████████████████████████████| 5005/5005 [00:37<00:00, 135.25it/s]\n"
     ]
    },
    {
     "name": "stdout",
     "output_type": "stream",
     "text": [
      ">> Accuracy: 27.424527793800497 %\n",
      "-- Loss: 6.915954113006592\n",
      "-- Complete optimized function value: 28.266311645507812\n"
     ]
    },
    {
     "name": "stderr",
     "output_type": "stream",
     "text": [
      "Epoch [16/90]: 100%|██████████████████████████████████████████████████████████████| 5005/5005 [00:38<00:00, 131.57it/s]\n"
     ]
    },
    {
     "name": "stdout",
     "output_type": "stream",
     "text": [
      ">> Accuracy: 27.432489285159544 %\n",
      "-- Loss: 6.937504768371582\n",
      "-- Complete optimized function value: 28.29166030883789\n"
     ]
    },
    {
     "name": "stderr",
     "output_type": "stream",
     "text": [
      "Epoch [17/90]: 100%|██████████████████████████████████████████████████████████████| 5005/5005 [00:37<00:00, 135.10it/s]\n"
     ]
    },
    {
     "name": "stdout",
     "output_type": "stream",
     "text": [
      ">> Accuracy: 27.432957608180665 %\n",
      "-- Loss: 6.915620803833008\n",
      "-- Complete optimized function value: 28.264530181884766\n"
     ]
    },
    {
     "name": "stderr",
     "output_type": "stream",
     "text": [
      "Epoch [18/90]: 100%|██████████████████████████████████████████████████████████████| 5005/5005 [00:36<00:00, 138.00it/s]\n"
     ]
    },
    {
     "name": "stdout",
     "output_type": "stream",
     "text": [
      ">> Accuracy: 27.428118270295755 %\n",
      "-- Loss: 6.9377312660217285\n",
      "-- Complete optimized function value: 28.293062210083008\n"
     ]
    },
    {
     "name": "stderr",
     "output_type": "stream",
     "text": [
      "Epoch [19/90]: 100%|██████████████████████████████████████████████████████████████| 5005/5005 [00:37<00:00, 134.85it/s]\n"
     ]
    },
    {
     "name": "stdout",
     "output_type": "stream",
     "text": [
      ">> Accuracy: 27.43912386129209 %\n",
      "-- Loss: 6.915503978729248\n",
      "-- Complete optimized function value: 28.2635440826416\n"
     ]
    },
    {
     "name": "stderr",
     "output_type": "stream",
     "text": [
      "Epoch [20/90]: 100%|██████████████████████████████████████████████████████████████| 5005/5005 [00:37<00:00, 134.29it/s]\n"
     ]
    },
    {
     "name": "stdout",
     "output_type": "stream",
     "text": [
      ">> Accuracy: 27.42304477090028 %\n",
      "-- Loss: 6.937726020812988\n",
      "-- Complete optimized function value: 28.293514251708984\n"
     ]
    },
    {
     "name": "stderr",
     "output_type": "stream",
     "text": [
      "Epoch [21/90]: 100%|██████████████████████████████████████████████████████████████| 5005/5005 [00:36<00:00, 135.30it/s]\n"
     ]
    },
    {
     "name": "stdout",
     "output_type": "stream",
     "text": [
      ">> Accuracy: 27.442246014766226 %\n",
      "-- Loss: 6.9156107902526855\n",
      "-- Complete optimized function value: 28.263568878173828\n"
     ]
    },
    {
     "name": "stderr",
     "output_type": "stream",
     "text": [
      "Epoch [22/90]: 100%|██████████████████████████████████████████████████████████████| 5005/5005 [00:37<00:00, 134.74it/s]\n"
     ]
    },
    {
     "name": "stdout",
     "output_type": "stream",
     "text": [
      ">> Accuracy: 27.420000671262997 %\n",
      "-- Loss: 6.937527656555176\n",
      "-- Complete optimized function value: 28.293113708496094\n"
     ]
    },
    {
     "name": "stderr",
     "output_type": "stream",
     "text": [
      "Epoch [23/90]: 100%|██████████████████████████████████████████████████████████████| 5005/5005 [00:37<00:00, 134.56it/s]\n"
     ]
    },
    {
     "name": "stdout",
     "output_type": "stream",
     "text": [
      ">> Accuracy: 27.442011853255664 %\n",
      "-- Loss: 6.915872573852539\n",
      "-- Complete optimized function value: 28.26432991027832\n"
     ]
    },
    {
     "name": "stderr",
     "output_type": "stream",
     "text": [
      "Epoch [24/90]: 100%|██████████████████████████████████████████████████████████████| 5005/5005 [00:36<00:00, 136.51it/s]\n"
     ]
    },
    {
     "name": "stdout",
     "output_type": "stream",
     "text": [
      ">> Accuracy: 27.420156778936704 %\n",
      "-- Loss: 6.937191486358643\n",
      "-- Complete optimized function value: 28.292232513427734\n"
     ]
    },
    {
     "name": "stderr",
     "output_type": "stream",
     "text": [
      "Epoch [25/90]: 100%|██████████████████████████████████████████████████████████████| 5005/5005 [00:38<00:00, 129.23it/s]\n"
     ]
    },
    {
     "name": "stdout",
     "output_type": "stream",
     "text": [
      ">> Accuracy: 27.441543530234544 %\n",
      "-- Loss: 6.916207790374756\n",
      "-- Complete optimized function value: 28.265331268310547\n"
     ]
    },
    {
     "name": "stderr",
     "output_type": "stream",
     "text": [
      "Epoch [26/90]: 100%|██████████████████████████████████████████████████████████████| 5005/5005 [00:40<00:00, 122.57it/s]\n"
     ]
    },
    {
     "name": "stdout",
     "output_type": "stream",
     "text": [
      ">> Accuracy: 27.421639801836918 %\n",
      "-- Loss: 6.936840057373047\n",
      "-- Complete optimized function value: 28.291366577148438\n"
     ]
    },
    {
     "name": "stderr",
     "output_type": "stream",
     "text": [
      "Epoch [27/90]: 100%|██████████████████████████████████████████████████████████████| 5005/5005 [00:37<00:00, 133.07it/s]\n"
     ]
    },
    {
     "name": "stdout",
     "output_type": "stream",
     "text": [
      ">> Accuracy: 27.439045807455233 %\n",
      "-- Loss: 6.916494846343994\n",
      "-- Complete optimized function value: 28.26605796813965\n"
     ]
    },
    {
     "name": "stderr",
     "output_type": "stream",
     "text": [
      "Epoch [28/90]: 100%|██████████████████████████████████████████████████████████████| 5005/5005 [00:37<00:00, 133.11it/s]\n"
     ]
    },
    {
     "name": "stdout",
     "output_type": "stream",
     "text": [
      ">> Accuracy: 27.42187396334748 %\n",
      "-- Loss: 6.936602592468262\n",
      "-- Complete optimized function value: 28.29092788696289\n"
     ]
    },
    {
     "name": "stderr",
     "output_type": "stream",
     "text": [
      "Epoch [29/90]: 100%|██████████████████████████████████████████████████████████████| 5005/5005 [00:36<00:00, 135.70it/s]\n"
     ]
    },
    {
     "name": "stdout",
     "output_type": "stream",
     "text": [
      ">> Accuracy: 27.439904399660623 %\n",
      "-- Loss: 6.916635990142822\n",
      "-- Complete optimized function value: 28.26622200012207\n"
     ]
    },
    {
     "name": "stderr",
     "output_type": "stream",
     "text": [
      "Epoch [30/90]: 100%|██████████████████████████████████████████████████████████████| 5005/5005 [00:37<00:00, 135.02it/s]\n"
     ]
    },
    {
     "name": "stdout",
     "output_type": "stream",
     "text": [
      ">> Accuracy: 27.420625101957825 %\n",
      "-- Loss: 6.936567783355713\n",
      "-- Complete optimized function value: 28.291059494018555\n"
     ]
    },
    {
     "name": "stderr",
     "output_type": "stream",
     "text": [
      "Epoch [31/90]: 100%|██████████████████████████████████████████████████████████████| 5005/5005 [00:37<00:00, 134.20it/s]\n"
     ]
    },
    {
     "name": "stdout",
     "output_type": "stream",
     "text": [
      ">> Accuracy: 57.30392681047826 %\n",
      "-- Loss: 4.013111114501953\n",
      "-- Complete optimized function value: 18.825489044189453\n"
     ]
    },
    {
     "name": "stderr",
     "output_type": "stream",
     "text": [
      "Epoch [32/90]: 100%|██████████████████████████████████████████████████████████████| 5005/5005 [00:37<00:00, 134.80it/s]\n"
     ]
    },
    {
     "name": "stdout",
     "output_type": "stream",
     "text": [
      ">> Accuracy: 77.64499085599302 %\n",
      "-- Loss: 2.633390426635742\n",
      "-- Complete optimized function value: 13.16824722290039\n"
     ]
    },
    {
     "name": "stderr",
     "output_type": "stream",
     "text": [
      "Epoch [33/90]: 100%|██████████████████████████████████████████████████████████████| 5005/5005 [00:34<00:00, 146.26it/s]\n"
     ]
    },
    {
     "name": "stdout",
     "output_type": "stream",
     "text": [
      ">> Accuracy: 80.50121490797062 %\n",
      "-- Loss: 1.7842196226119995\n",
      "-- Complete optimized function value: 9.31404972076416\n"
     ]
    },
    {
     "name": "stderr",
     "output_type": "stream",
     "text": [
      "Epoch [34/90]: 100%|██████████████████████████████████████████████████████████████| 5005/5005 [00:34<00:00, 145.16it/s]\n"
     ]
    },
    {
     "name": "stdout",
     "output_type": "stream",
     "text": [
      ">> Accuracy: 81.26903050109783 %\n",
      "-- Loss: 1.348233699798584\n",
      "-- Complete optimized function value: 6.7456793785095215\n"
     ]
    },
    {
     "name": "stderr",
     "output_type": "stream",
     "text": [
      "Epoch [35/90]: 100%|██████████████████████████████████████████████████████████████| 5005/5005 [00:37<00:00, 132.83it/s]\n"
     ]
    },
    {
     "name": "stdout",
     "output_type": "stream",
     "text": [
      ">> Accuracy: 81.20073339385108 %\n",
      "-- Loss: 1.151231050491333\n",
      "-- Complete optimized function value: 5.037685394287109\n"
     ]
    },
    {
     "name": "stderr",
     "output_type": "stream",
     "text": [
      "Epoch [36/90]: 100%|██████████████████████████████████████████████████████████████| 5005/5005 [00:36<00:00, 136.66it/s]\n"
     ]
    },
    {
     "name": "stdout",
     "output_type": "stream",
     "text": [
      ">> Accuracy: 80.82326503882788 %\n",
      "-- Loss: 1.0830435752868652\n",
      "-- Complete optimized function value: 3.9049315452575684\n"
     ]
    },
    {
     "name": "stderr",
     "output_type": "stream",
     "text": [
      "Epoch [37/90]: 100%|██████████████████████████████████████████████████████████████| 5005/5005 [00:37<00:00, 135.11it/s]\n"
     ]
    },
    {
     "name": "stdout",
     "output_type": "stream",
     "text": [
      ">> Accuracy: 79.96194094915026 %\n",
      "-- Loss: 1.1090487241744995\n",
      "-- Complete optimized function value: 3.1944069862365723\n"
     ]
    },
    {
     "name": "stderr",
     "output_type": "stream",
     "text": [
      "Epoch [38/90]: 100%|██████████████████████████████████████████████████████████████| 5005/5005 [00:36<00:00, 135.68it/s]\n"
     ]
    },
    {
     "name": "stdout",
     "output_type": "stream",
     "text": [
      ">> Accuracy: 78.90602864419705 %\n",
      "-- Loss: 1.1868757009506226\n",
      "-- Complete optimized function value: 2.7743496894836426\n"
     ]
    },
    {
     "name": "stderr",
     "output_type": "stream",
     "text": [
      "Epoch [39/90]: 100%|██████████████████████████████████████████████████████████████| 5005/5005 [00:37<00:00, 134.60it/s]\n"
     ]
    },
    {
     "name": "stdout",
     "output_type": "stream",
     "text": [
      ">> Accuracy: 77.5856699399844 %\n",
      "-- Loss: 1.252333641052246\n",
      "-- Complete optimized function value: 2.5172617435455322\n"
     ]
    },
    {
     "name": "stderr",
     "output_type": "stream",
     "text": [
      "Epoch [40/90]: 100%|██████████████████████████████████████████████████████████████| 5005/5005 [00:37<00:00, 132.75it/s]\n"
     ]
    },
    {
     "name": "stdout",
     "output_type": "stream",
     "text": [
      ">> Accuracy: 76.38044064513058 %\n",
      "-- Loss: 1.2724153995513916\n",
      "-- Complete optimized function value: 2.3358960151672363\n"
     ]
    },
    {
     "name": "stderr",
     "output_type": "stream",
     "text": [
      "Epoch [41/90]: 100%|██████████████████████████████████████████████████████████████| 5005/5005 [00:36<00:00, 138.48it/s]\n"
     ]
    },
    {
     "name": "stdout",
     "output_type": "stream",
     "text": [
      ">> Accuracy: 75.3437295840433 %\n",
      "-- Loss: 1.2681045532226562\n",
      "-- Complete optimized function value: 2.214102268218994\n"
     ]
    },
    {
     "name": "stderr",
     "output_type": "stream",
     "text": [
      "Epoch [42/90]: 100%|██████████████████████████████████████████████████████████████| 5005/5005 [00:37<00:00, 134.09it/s]\n"
     ]
    },
    {
     "name": "stdout",
     "output_type": "stream",
     "text": [
      ">> Accuracy: 74.67636927894647 %\n",
      "-- Loss: 1.270380973815918\n",
      "-- Complete optimized function value: 2.1489322185516357\n"
     ]
    },
    {
     "name": "stderr",
     "output_type": "stream",
     "text": [
      "Epoch [43/90]: 100%|██████████████████████████████████████████████████████████████| 5005/5005 [00:37<00:00, 134.73it/s]\n"
     ]
    },
    {
     "name": "stdout",
     "output_type": "stream",
     "text": [
      ">> Accuracy: 74.22162762543837 %\n",
      "-- Loss: 1.2831498384475708\n",
      "-- Complete optimized function value: 2.124904155731201\n"
     ]
    },
    {
     "name": "stderr",
     "output_type": "stream",
     "text": [
      "Epoch [44/90]: 100%|██████████████████████████████████████████████████████████████| 5005/5005 [00:37<00:00, 135.05it/s]\n"
     ]
    },
    {
     "name": "stdout",
     "output_type": "stream",
     "text": [
      ">> Accuracy: 74.01353609638713 %\n",
      "-- Loss: 1.3005505800247192\n",
      "-- Complete optimized function value: 2.120090961456299\n"
     ]
    },
    {
     "name": "stderr",
     "output_type": "stream",
     "text": [
      "Epoch [45/90]: 100%|██████████████████████████████████████████████████████████████| 5005/5005 [00:37<00:00, 135.16it/s]\n"
     ]
    },
    {
     "name": "stdout",
     "output_type": "stream",
     "text": [
      ">> Accuracy: 73.81114249742618 %\n",
      "-- Loss: 1.3151313066482544\n",
      "-- Complete optimized function value: 2.1229095458984375\n"
     ]
    },
    {
     "name": "stderr",
     "output_type": "stream",
     "text": [
      "Epoch [46/90]: 100%|██████████████████████████████████████████████████████████████| 5005/5005 [00:36<00:00, 135.49it/s]\n"
     ]
    },
    {
     "name": "stdout",
     "output_type": "stream",
     "text": [
      ">> Accuracy: 73.78717996951217 %\n",
      "-- Loss: 1.32306969165802\n",
      "-- Complete optimized function value: 2.122415542602539\n"
     ]
    },
    {
     "name": "stderr",
     "output_type": "stream",
     "text": [
      "Epoch [47/90]: 100%|██████████████████████████████████████████████████████████████| 5005/5005 [00:36<00:00, 137.34it/s]\n"
     ]
    },
    {
     "name": "stdout",
     "output_type": "stream",
     "text": [
      ">> Accuracy: 73.71693151634409 %\n",
      "-- Loss: 1.324620008468628\n",
      "-- Complete optimized function value: 2.1194710731506348\n"
     ]
    },
    {
     "name": "stderr",
     "output_type": "stream",
     "text": [
      "Epoch [48/90]: 100%|██████████████████████████████████████████████████████████████| 5005/5005 [00:37<00:00, 134.48it/s]\n"
     ]
    },
    {
     "name": "stdout",
     "output_type": "stream",
     "text": [
      ">> Accuracy: 73.76485657217209 %\n",
      "-- Loss: 1.3234848976135254\n",
      "-- Complete optimized function value: 2.1139583587646484\n"
     ]
    },
    {
     "name": "stderr",
     "output_type": "stream",
     "text": [
      "Epoch [49/90]: 100%|██████████████████████████████████████████████████████████████| 5005/5005 [00:36<00:00, 135.48it/s]\n"
     ]
    },
    {
     "name": "stdout",
     "output_type": "stream",
     "text": [
      ">> Accuracy: 73.70904807882188 %\n",
      "-- Loss: 1.321215271949768\n",
      "-- Complete optimized function value: 2.1098875999450684\n"
     ]
    },
    {
     "name": "stderr",
     "output_type": "stream",
     "text": [
      "Epoch [50/90]: 100%|██████████████████████████████████████████████████████████████| 5005/5005 [00:37<00:00, 134.41it/s]\n"
     ]
    },
    {
     "name": "stdout",
     "output_type": "stream",
     "text": [
      ">> Accuracy: 73.7524460121124 %\n",
      "-- Loss: 1.3194597959518433\n",
      "-- Complete optimized function value: 2.105755567550659\n"
     ]
    },
    {
     "name": "stderr",
     "output_type": "stream",
     "text": [
      "Epoch [51/90]: 100%|██████████████████████████████████████████████████████████████| 5005/5005 [00:39<00:00, 126.91it/s]\n"
     ]
    },
    {
     "name": "stdout",
     "output_type": "stream",
     "text": [
      ">> Accuracy: 73.68430501253935 %\n",
      "-- Loss: 1.3180721998214722\n",
      "-- Complete optimized function value: 2.104130268096924\n"
     ]
    },
    {
     "name": "stderr",
     "output_type": "stream",
     "text": [
      "Epoch [52/90]: 100%|██████████████████████████████████████████████████████████████| 5005/5005 [00:37<00:00, 134.53it/s]\n"
     ]
    },
    {
     "name": "stdout",
     "output_type": "stream",
     "text": [
      ">> Accuracy: 73.72465884619257 %\n",
      "-- Loss: 1.316869854927063\n",
      "-- Complete optimized function value: 2.1016149520874023\n"
     ]
    },
    {
     "name": "stderr",
     "output_type": "stream",
     "text": [
      "Epoch [53/90]: 100%|██████████████████████████████████████████████████████████████| 5005/5005 [00:37<00:00, 134.36it/s]\n"
     ]
    },
    {
     "name": "stdout",
     "output_type": "stream",
     "text": [
      ">> Accuracy: 73.67087975260056 %\n",
      "-- Loss: 1.3153800964355469\n",
      "-- Complete optimized function value: 2.1004793643951416\n"
     ]
    },
    {
     "name": "stderr",
     "output_type": "stream",
     "text": [
      "Epoch [54/90]: 100%|██████████████████████████████████████████████████████████████| 5005/5005 [00:36<00:00, 136.90it/s]\n"
     ]
    },
    {
     "name": "stdout",
     "output_type": "stream",
     "text": [
      ">> Accuracy: 73.72317582329235 %\n",
      "-- Loss: 1.3139605522155762\n",
      "-- Complete optimized function value: 2.0980405807495117\n"
     ]
    },
    {
     "name": "stderr",
     "output_type": "stream",
     "text": [
      "Epoch [55/90]: 100%|██████████████████████████████████████████████████████████████| 5005/5005 [00:37<00:00, 134.58it/s]\n"
     ]
    },
    {
     "name": "stdout",
     "output_type": "stream",
     "text": [
      ">> Accuracy: 73.67704600571199 %\n",
      "-- Loss: 1.3126144409179688\n",
      "-- Complete optimized function value: 2.097174644470215\n"
     ]
    },
    {
     "name": "stderr",
     "output_type": "stream",
     "text": [
      "Epoch [56/90]: 100%|██████████████████████████████████████████████████████████████| 5005/5005 [00:37<00:00, 134.98it/s]\n"
     ]
    },
    {
     "name": "stdout",
     "output_type": "stream",
     "text": [
      ">> Accuracy: 73.73043483011973 %\n",
      "-- Loss: 1.311627745628357\n",
      "-- Complete optimized function value: 2.095191478729248\n"
     ]
    },
    {
     "name": "stderr",
     "output_type": "stream",
     "text": [
      "Epoch [57/90]: 100%|██████████████████████████████████████████████████████████████| 5005/5005 [00:37<00:00, 134.24it/s]\n"
     ]
    },
    {
     "name": "stdout",
     "output_type": "stream",
     "text": [
      ">> Accuracy: 73.68446112021306 %\n",
      "-- Loss: 1.310948133468628\n",
      "-- Complete optimized function value: 2.095090389251709\n"
     ]
    },
    {
     "name": "stderr",
     "output_type": "stream",
     "text": [
      "Epoch [58/90]: 100%|██████████████████████████████████████████████████████████████| 5005/5005 [00:37<00:00, 134.41it/s]\n"
     ]
    },
    {
     "name": "stdout",
     "output_type": "stream",
     "text": [
      ">> Accuracy: 73.72902986105636 %\n",
      "-- Loss: 1.3104995489120483\n",
      "-- Complete optimized function value: 2.09385347366333\n"
     ]
    },
    {
     "name": "stderr",
     "output_type": "stream",
     "text": [
      "Epoch [59/90]: 100%|██████████████████████████████████████████████████████████████| 5005/5005 [00:37<00:00, 134.35it/s]\n"
     ]
    },
    {
     "name": "stdout",
     "output_type": "stream",
     "text": [
      ">> Accuracy: 73.67774849024366 %\n",
      "-- Loss: 1.31011164188385\n",
      "-- Complete optimized function value: 2.0942327976226807\n"
     ]
    },
    {
     "name": "stderr",
     "output_type": "stream",
     "text": [
      "Epoch [60/90]: 100%|██████████████████████████████████████████████████████████████| 5005/5005 [00:36<00:00, 138.16it/s]\n"
     ]
    },
    {
     "name": "stdout",
     "output_type": "stream",
     "text": [
      ">> Accuracy: 73.72809321501413 %\n",
      "-- Loss: 1.3096967935562134\n",
      "-- Complete optimized function value: 2.0930566787719727\n"
     ]
    },
    {
     "name": "stderr",
     "output_type": "stream",
     "text": [
      "Epoch [61/90]: 100%|██████████████████████████████████████████████████████████████| 5005/5005 [00:37<00:00, 134.97it/s]\n"
     ]
    },
    {
     "name": "stdout",
     "output_type": "stream",
     "text": [
      ">> Accuracy: 81.02175594594615 %\n",
      "-- Loss: 0.5083069205284119\n",
      "-- Complete optimized function value: 1.2661113739013672\n"
     ]
    },
    {
     "name": "stderr",
     "output_type": "stream",
     "text": [
      "Epoch [62/90]: 100%|██████████████████████████████████████████████████████████████| 5005/5005 [00:37<00:00, 134.88it/s]\n"
     ]
    },
    {
     "name": "stdout",
     "output_type": "stream",
     "text": [
      ">> Accuracy: 85.41275259197279 %\n",
      "-- Loss: 0.5177822113037109\n",
      "-- Complete optimized function value: 1.254577398300171\n"
     ]
    },
    {
     "name": "stderr",
     "output_type": "stream",
     "text": [
      "Epoch [63/90]: 100%|██████████████████████████████████████████████████████████████| 5005/5005 [00:37<00:00, 133.29it/s]\n"
     ]
    },
    {
     "name": "stdout",
     "output_type": "stream",
     "text": [
      ">> Accuracy: 87.01597840094226 %\n",
      "-- Loss: 0.5312212705612183\n",
      "-- Complete optimized function value: 1.2492382526397705\n"
     ]
    },
    {
     "name": "stderr",
     "output_type": "stream",
     "text": [
      "Epoch [64/90]: 100%|██████████████████████████████████████████████████████████████| 5005/5005 [00:37<00:00, 132.15it/s]\n"
     ]
    },
    {
     "name": "stdout",
     "output_type": "stream",
     "text": [
      ">> Accuracy: 87.75046500573305 %\n",
      "-- Loss: 0.5400784611701965\n",
      "-- Complete optimized function value: 1.2408454418182373\n"
     ]
    },
    {
     "name": "stderr",
     "output_type": "stream",
     "text": [
      "Epoch [65/90]: 100%|██████████████████████████████████████████████████████████████| 5005/5005 [00:37<00:00, 135.24it/s]\n"
     ]
    },
    {
     "name": "stdout",
     "output_type": "stream",
     "text": [
      ">> Accuracy: 88.13409961386768 %\n",
      "-- Loss: 0.5451993346214294\n",
      "-- Complete optimized function value: 1.2299516201019287\n"
     ]
    },
    {
     "name": "stderr",
     "output_type": "stream",
     "text": [
      "Epoch [66/90]: 100%|██████████████████████████████████████████████████████████████| 5005/5005 [00:36<00:00, 136.29it/s]\n"
     ]
    },
    {
     "name": "stdout",
     "output_type": "stream",
     "text": [
      ">> Accuracy: 88.35905077167926 %\n",
      "-- Loss: 0.5483233332633972\n",
      "-- Complete optimized function value: 1.218150019645691\n"
     ]
    },
    {
     "name": "stderr",
     "output_type": "stream",
     "text": [
      "Epoch [67/90]: 100%|██████████████████████████████████████████████████████████████| 5005/5005 [00:36<00:00, 136.12it/s]\n"
     ]
    },
    {
     "name": "stdout",
     "output_type": "stream",
     "text": [
      ">> Accuracy: 88.50337231602126 %\n",
      "-- Loss: 0.5507155656814575\n",
      "-- Complete optimized function value: 1.2066195011138916\n"
     ]
    },
    {
     "name": "stderr",
     "output_type": "stream",
     "text": [
      "Epoch [68/90]: 100%|██████████████████████████████████████████████████████████████| 5005/5005 [00:37<00:00, 134.50it/s]\n"
     ]
    },
    {
     "name": "stdout",
     "output_type": "stream",
     "text": [
      ">> Accuracy: 88.59914437384042 %\n",
      "-- Loss: 0.5531339049339294\n",
      "-- Complete optimized function value: 1.1960549354553223\n"
     ]
    },
    {
     "name": "stderr",
     "output_type": "stream",
     "text": [
      "Epoch [69/90]: 100%|██████████████████████████████████████████████████████████████| 5005/5005 [00:37<00:00, 135.14it/s]\n"
     ]
    },
    {
     "name": "stdout",
     "output_type": "stream",
     "text": [
      ">> Accuracy: 88.67017336537704 %\n",
      "-- Loss: 0.5559109449386597\n",
      "-- Complete optimized function value: 1.1867314577102661\n"
     ]
    },
    {
     "name": "stderr",
     "output_type": "stream",
     "text": [
      "Epoch [70/90]: 100%|██████████████████████████████████████████████████████████████| 5005/5005 [00:37<00:00, 135.11it/s]\n"
     ]
    },
    {
     "name": "stdout",
     "output_type": "stream",
     "text": [
      ">> Accuracy: 88.71926922875784 %\n",
      "-- Loss: 0.5591598153114319\n",
      "-- Complete optimized function value: 1.1787097454071045\n"
     ]
    },
    {
     "name": "stderr",
     "output_type": "stream",
     "text": [
      "Epoch [71/90]: 100%|██████████████████████████████████████████████████████████████| 5005/5005 [00:37<00:00, 134.79it/s]\n"
     ]
    },
    {
     "name": "stdout",
     "output_type": "stream",
     "text": [
      ">> Accuracy: 88.75767171648972 %\n",
      "-- Loss: 0.5628448128700256\n",
      "-- Complete optimized function value: 1.1719050407409668\n"
     ]
    },
    {
     "name": "stderr",
     "output_type": "stream",
     "text": [
      "Epoch [72/90]: 100%|██████████████████████████████████████████████████████████████| 5005/5005 [00:34<00:00, 145.73it/s]\n"
     ]
    },
    {
     "name": "stdout",
     "output_type": "stream",
     "text": [
      ">> Accuracy: 88.78608331310438 %\n",
      "-- Loss: 0.5669087767601013\n",
      "-- Complete optimized function value: 1.1662123203277588\n"
     ]
    },
    {
     "name": "stderr",
     "output_type": "stream",
     "text": [
      "Epoch [73/90]: 100%|██████████████████████████████████████████████████████████████| 5005/5005 [00:35<00:00, 142.83it/s]\n"
     ]
    },
    {
     "name": "stdout",
     "output_type": "stream",
     "text": [
      ">> Accuracy: 88.8066895260337 %\n",
      "-- Loss: 0.5712285041809082\n",
      "-- Complete optimized function value: 1.1614612340927124\n"
     ]
    },
    {
     "name": "stderr",
     "output_type": "stream",
     "text": [
      "Epoch [74/90]: 100%|██████████████████████████████████████████████████████████████| 5005/5005 [00:37<00:00, 133.82it/s]\n"
     ]
    },
    {
     "name": "stdout",
     "output_type": "stream",
     "text": [
      ">> Accuracy: 88.82901292337377 %\n",
      "-- Loss: 0.5757237672805786\n",
      "-- Complete optimized function value: 1.1575278043746948\n"
     ]
    },
    {
     "name": "stderr",
     "output_type": "stream",
     "text": [
      "Epoch [75/90]: 100%|██████████████████████████████████████████████████████████████| 5005/5005 [00:36<00:00, 136.22it/s]\n"
     ]
    },
    {
     "name": "stdout",
     "output_type": "stream",
     "text": [
      ">> Accuracy: 88.84524812143928 %\n",
      "-- Loss: 0.5803350210189819\n",
      "-- Complete optimized function value: 1.1543080806732178\n"
     ]
    },
    {
     "name": "stderr",
     "output_type": "stream",
     "text": [
      "Epoch [76/90]: 100%|██████████████████████████████████████████████████████████████| 5005/5005 [00:37<00:00, 134.41it/s]\n"
     ]
    },
    {
     "name": "stdout",
     "output_type": "stream",
     "text": [
      ">> Accuracy: 88.8537559896563 %\n",
      "-- Loss: 0.584955096244812\n",
      "-- Complete optimized function value: 1.1516542434692383\n"
     ]
    },
    {
     "name": "stderr",
     "output_type": "stream",
     "text": [
      "Epoch [77/90]: 100%|██████████████████████████████████████████████████████████████| 5005/5005 [00:37<00:00, 134.72it/s]\n"
     ]
    },
    {
     "name": "stdout",
     "output_type": "stream",
     "text": [
      ">> Accuracy: 88.85453652802484 %\n",
      "-- Loss: 0.5895413756370544\n",
      "-- Complete optimized function value: 1.1494834423065186\n"
     ]
    },
    {
     "name": "stderr",
     "output_type": "stream",
     "text": [
      "Epoch [78/90]: 100%|██████████████████████████████████████████████████████████████| 5005/5005 [00:37<00:00, 134.55it/s]\n"
     ]
    },
    {
     "name": "stdout",
     "output_type": "stream",
     "text": [
      ">> Accuracy: 88.85648787394618 %\n",
      "-- Loss: 0.5940870642662048\n",
      "-- Complete optimized function value: 1.1477515697479248\n"
     ]
    },
    {
     "name": "stderr",
     "output_type": "stream",
     "text": [
      "Epoch [79/90]: 100%|██████████████████████████████████████████████████████████████| 5005/5005 [00:36<00:00, 136.21it/s]\n"
     ]
    },
    {
     "name": "stdout",
     "output_type": "stream",
     "text": [
      ">> Accuracy: 88.85789284300954 %\n",
      "-- Loss: 0.5985314249992371\n",
      "-- Complete optimized function value: 1.1463630199432373\n"
     ]
    },
    {
     "name": "stderr",
     "output_type": "stream",
     "text": [
      "Epoch [80/90]: 100%|██████████████████████████████████████████████████████████████| 5005/5005 [00:37<00:00, 134.83it/s]\n"
     ]
    },
    {
     "name": "stdout",
     "output_type": "stream",
     "text": [
      ">> Accuracy: 88.84868249026083 %\n",
      "-- Loss: 0.6028172969818115\n",
      "-- Complete optimized function value: 1.1452281475067139\n"
     ]
    },
    {
     "name": "stderr",
     "output_type": "stream",
     "text": [
      "Epoch [81/90]: 100%|██████████████████████████████████████████████████████████████| 5005/5005 [00:37<00:00, 135.04it/s]\n"
     ]
    },
    {
     "name": "stdout",
     "output_type": "stream",
     "text": [
      ">> Accuracy: 88.84470174458131 %\n",
      "-- Loss: 0.6069695353507996\n",
      "-- Complete optimized function value: 1.1443407535552979\n"
     ]
    },
    {
     "name": "stderr",
     "output_type": "stream",
     "text": [
      "Epoch [82/90]: 100%|██████████████████████████████████████████████████████████████| 5005/5005 [00:37<00:00, 135.02it/s]\n"
     ]
    },
    {
     "name": "stdout",
     "output_type": "stream",
     "text": [
      ">> Accuracy: 88.84142348343346 %\n",
      "-- Loss: 0.6109845638275146\n",
      "-- Complete optimized function value: 1.1436673402786255\n"
     ]
    },
    {
     "name": "stderr",
     "output_type": "stream",
     "text": [
      "Epoch [83/90]: 100%|██████████████████████████████████████████████████████████████| 5005/5005 [00:37<00:00, 134.53it/s]\n"
     ]
    },
    {
     "name": "stdout",
     "output_type": "stream",
     "text": [
      ">> Accuracy: 88.83595971485373 %\n",
      "-- Loss: 0.6148582696914673\n",
      "-- Complete optimized function value: 1.1431772708892822\n"
     ]
    },
    {
     "name": "stderr",
     "output_type": "stream",
     "text": [
      "Epoch [84/90]: 100%|██████████████████████████████████████████████████████████████| 5005/5005 [00:37<00:00, 134.41it/s]\n"
     ]
    },
    {
     "name": "stdout",
     "output_type": "stream",
     "text": [
      ">> Accuracy: 88.83002762325286 %\n",
      "-- Loss: 0.6185485124588013\n",
      "-- Complete optimized function value: 1.1428039073944092\n"
     ]
    },
    {
     "name": "stderr",
     "output_type": "stream",
     "text": [
      "Epoch [85/90]: 100%|██████████████████████████████████████████████████████████████| 5005/5005 [00:37<00:00, 133.87it/s]\n"
     ]
    },
    {
     "name": "stdout",
     "output_type": "stream",
     "text": [
      ">> Accuracy: 88.82245640107809 %\n",
      "-- Loss: 0.6220754384994507\n",
      "-- Complete optimized function value: 1.1425442695617676\n"
     ]
    },
    {
     "name": "stderr",
     "output_type": "stream",
     "text": [
      "Epoch [86/90]: 100%|██████████████████████████████████████████████████████████████| 5005/5005 [00:35<00:00, 139.60it/s]\n"
     ]
    },
    {
     "name": "stdout",
     "output_type": "stream",
     "text": [
      ">> Accuracy: 88.81348020983994 %\n",
      "-- Loss: 0.6254428625106812\n",
      "-- Complete optimized function value: 1.142380714416504\n"
     ]
    },
    {
     "name": "stderr",
     "output_type": "stream",
     "text": [
      "Epoch [87/90]: 100%|██████████████████████████████████████████████████████████████| 5005/5005 [00:37<00:00, 134.99it/s]\n"
     ]
    },
    {
     "name": "stdout",
     "output_type": "stream",
     "text": [
      ">> Accuracy: 88.8046601262755 %\n",
      "-- Loss: 0.6286637187004089\n",
      "-- Complete optimized function value: 1.1423065662384033\n"
     ]
    },
    {
     "name": "stderr",
     "output_type": "stream",
     "text": [
      "Epoch [88/90]: 100%|██████████████████████████████████████████████████████████████| 5005/5005 [00:37<00:00, 134.84it/s]\n"
     ]
    },
    {
     "name": "stdout",
     "output_type": "stream",
     "text": [
      ">> Accuracy: 88.79568393503735 %\n",
      "-- Loss: 0.6317329406738281\n",
      "-- Complete optimized function value: 1.1422991752624512\n"
     ]
    },
    {
     "name": "stderr",
     "output_type": "stream",
     "text": [
      "Epoch [89/90]: 100%|██████████████████████████████████████████████████████████████| 5005/5005 [00:37<00:00, 133.08it/s]\n"
     ]
    },
    {
     "name": "stdout",
     "output_type": "stream",
     "text": [
      ">> Accuracy: 88.78780049751515 %\n",
      "-- Loss: 0.6346567869186401\n",
      "-- Complete optimized function value: 1.142347812652588\n"
     ]
    },
    {
     "name": "stderr",
     "output_type": "stream",
     "text": [
      "Epoch [90/90]: 100%|██████████████████████████████████████████████████████████████| 5005/5005 [00:37<00:00, 134.82it/s]\n"
     ]
    },
    {
     "name": "stdout",
     "output_type": "stream",
     "text": [
      ">> Accuracy: 88.77320443002357 %\n",
      "-- Loss: 0.6374436616897583\n",
      "-- Complete optimized function value: 1.14244544506073\n",
      "Step 6/9 completed.\n",
      "Processing step 7/9, weight decay = 1.000e-03.\n"
     ]
    },
    {
     "name": "stderr",
     "output_type": "stream",
     "text": [
      "Epoch [1/90]: 100%|███████████████████████████████████████████████████████████████| 5005/5005 [00:37<00:00, 134.50it/s]\n"
     ]
    },
    {
     "name": "stdout",
     "output_type": "stream",
     "text": [
      ">> Accuracy: 13.487234685251806 %\n",
      "-- Loss: 4.846372604370117\n",
      "-- Complete optimized function value: 31.734905242919922\n"
     ]
    },
    {
     "name": "stderr",
     "output_type": "stream",
     "text": [
      "Epoch [2/90]: 100%|███████████████████████████████████████████████████████████████| 5005/5005 [00:36<00:00, 137.22it/s]\n"
     ]
    },
    {
     "name": "stdout",
     "output_type": "stream",
     "text": [
      ">> Accuracy: 12.96232263241248 %\n",
      "-- Loss: 4.632853031158447\n",
      "-- Complete optimized function value: 31.31617546081543\n"
     ]
    },
    {
     "name": "stderr",
     "output_type": "stream",
     "text": [
      "Epoch [3/90]: 100%|███████████████████████████████████████████████████████████████| 5005/5005 [00:36<00:00, 136.26it/s]\n"
     ]
    },
    {
     "name": "stdout",
     "output_type": "stream",
     "text": [
      ">> Accuracy: 12.986129052652776 %\n",
      "-- Loss: 4.6338372230529785\n",
      "-- Complete optimized function value: 31.319387435913086\n"
     ]
    },
    {
     "name": "stderr",
     "output_type": "stream",
     "text": [
      "Epoch [4/90]: 100%|███████████████████████████████████████████████████████████████| 5005/5005 [00:37<00:00, 134.68it/s]\n"
     ]
    },
    {
     "name": "stdout",
     "output_type": "stream",
     "text": [
      ">> Accuracy: 12.985582675794802 %\n",
      "-- Loss: 4.633831977844238\n",
      "-- Complete optimized function value: 31.319355010986328\n"
     ]
    },
    {
     "name": "stderr",
     "output_type": "stream",
     "text": [
      "Epoch [5/90]: 100%|███████████████████████████████████████████████████████████████| 5005/5005 [00:37<00:00, 134.90it/s]\n"
     ]
    },
    {
     "name": "stdout",
     "output_type": "stream",
     "text": [
      ">> Accuracy: 12.985582675794802 %\n",
      "-- Loss: 4.6338324546813965\n",
      "-- Complete optimized function value: 31.31935691833496\n"
     ]
    },
    {
     "name": "stderr",
     "output_type": "stream",
     "text": [
      "Epoch [6/90]: 100%|███████████████████████████████████████████████████████████████| 5005/5005 [00:37<00:00, 134.05it/s]\n"
     ]
    },
    {
     "name": "stdout",
     "output_type": "stream",
     "text": [
      ">> Accuracy: 12.985582675794802 %\n",
      "-- Loss: 4.6338324546813965\n",
      "-- Complete optimized function value: 31.31935691833496\n"
     ]
    },
    {
     "name": "stderr",
     "output_type": "stream",
     "text": [
      "Epoch [7/90]: 100%|███████████████████████████████████████████████████████████████| 5005/5005 [00:37<00:00, 134.61it/s]\n"
     ]
    },
    {
     "name": "stdout",
     "output_type": "stream",
     "text": [
      ">> Accuracy: 12.985582675794802 %\n",
      "-- Loss: 4.6338324546813965\n",
      "-- Complete optimized function value: 31.31935691833496\n"
     ]
    },
    {
     "name": "stderr",
     "output_type": "stream",
     "text": [
      "Epoch [8/90]: 100%|███████████████████████████████████████████████████████████████| 5005/5005 [00:37<00:00, 135.01it/s]\n"
     ]
    },
    {
     "name": "stdout",
     "output_type": "stream",
     "text": [
      ">> Accuracy: 12.985582675794802 %\n",
      "-- Loss: 4.6338324546813965\n",
      "-- Complete optimized function value: 31.31935691833496\n"
     ]
    },
    {
     "name": "stderr",
     "output_type": "stream",
     "text": [
      "Epoch [9/90]: 100%|███████████████████████████████████████████████████████████████| 5005/5005 [00:35<00:00, 139.19it/s]\n"
     ]
    },
    {
     "name": "stdout",
     "output_type": "stream",
     "text": [
      ">> Accuracy: 12.985582675794802 %\n",
      "-- Loss: 4.6338324546813965\n",
      "-- Complete optimized function value: 31.31935691833496\n"
     ]
    },
    {
     "name": "stderr",
     "output_type": "stream",
     "text": [
      "Epoch [10/90]: 100%|██████████████████████████████████████████████████████████████| 5005/5005 [00:37<00:00, 134.57it/s]\n"
     ]
    },
    {
     "name": "stdout",
     "output_type": "stream",
     "text": [
      ">> Accuracy: 12.985582675794802 %\n",
      "-- Loss: 4.633831977844238\n",
      "-- Complete optimized function value: 31.319355010986328\n"
     ]
    },
    {
     "name": "stderr",
     "output_type": "stream",
     "text": [
      "Epoch [11/90]: 100%|██████████████████████████████████████████████████████████████| 5005/5005 [00:37<00:00, 134.78it/s]\n"
     ]
    },
    {
     "name": "stdout",
     "output_type": "stream",
     "text": [
      ">> Accuracy: 12.985582675794802 %\n",
      "-- Loss: 4.633831977844238\n",
      "-- Complete optimized function value: 31.319355010986328\n"
     ]
    },
    {
     "name": "stderr",
     "output_type": "stream",
     "text": [
      "Epoch [12/90]: 100%|██████████████████████████████████████████████████████████████| 5005/5005 [00:36<00:00, 135.47it/s]\n"
     ]
    },
    {
     "name": "stdout",
     "output_type": "stream",
     "text": [
      ">> Accuracy: 12.985582675794802 %\n",
      "-- Loss: 4.6338324546813965\n",
      "-- Complete optimized function value: 31.31935691833496\n"
     ]
    },
    {
     "name": "stderr",
     "output_type": "stream",
     "text": [
      "Epoch [13/90]: 100%|██████████████████████████████████████████████████████████████| 5005/5005 [00:37<00:00, 134.84it/s]\n"
     ]
    },
    {
     "name": "stdout",
     "output_type": "stream",
     "text": [
      ">> Accuracy: 12.985582675794802 %\n",
      "-- Loss: 4.6338324546813965\n",
      "-- Complete optimized function value: 31.31935691833496\n"
     ]
    },
    {
     "name": "stderr",
     "output_type": "stream",
     "text": [
      "Epoch [14/90]: 100%|██████████████████████████████████████████████████████████████| 5005/5005 [00:37<00:00, 133.45it/s]\n"
     ]
    },
    {
     "name": "stdout",
     "output_type": "stream",
     "text": [
      ">> Accuracy: 12.985582675794802 %\n",
      "-- Loss: 4.6338324546813965\n",
      "-- Complete optimized function value: 31.31935691833496\n"
     ]
    },
    {
     "name": "stderr",
     "output_type": "stream",
     "text": [
      "Epoch [15/90]: 100%|██████████████████████████████████████████████████████████████| 5005/5005 [00:36<00:00, 136.40it/s]\n"
     ]
    },
    {
     "name": "stdout",
     "output_type": "stream",
     "text": [
      ">> Accuracy: 12.985582675794802 %\n",
      "-- Loss: 4.633831977844238\n",
      "-- Complete optimized function value: 31.319355010986328\n"
     ]
    },
    {
     "name": "stderr",
     "output_type": "stream",
     "text": [
      "Epoch [16/90]: 100%|██████████████████████████████████████████████████████████████| 5005/5005 [00:36<00:00, 136.06it/s]\n"
     ]
    },
    {
     "name": "stdout",
     "output_type": "stream",
     "text": [
      ">> Accuracy: 12.985582675794802 %\n",
      "-- Loss: 4.6338324546813965\n",
      "-- Complete optimized function value: 31.31935691833496\n"
     ]
    },
    {
     "name": "stderr",
     "output_type": "stream",
     "text": [
      "Epoch [17/90]: 100%|██████████████████████████████████████████████████████████████| 5005/5005 [00:37<00:00, 134.80it/s]\n"
     ]
    },
    {
     "name": "stdout",
     "output_type": "stream",
     "text": [
      ">> Accuracy: 12.985582675794802 %\n",
      "-- Loss: 4.633831977844238\n",
      "-- Complete optimized function value: 31.319355010986328\n"
     ]
    },
    {
     "name": "stderr",
     "output_type": "stream",
     "text": [
      "Epoch [18/90]: 100%|██████████████████████████████████████████████████████████████| 5005/5005 [00:37<00:00, 134.59it/s]\n"
     ]
    },
    {
     "name": "stdout",
     "output_type": "stream",
     "text": [
      ">> Accuracy: 12.985582675794802 %\n",
      "-- Loss: 4.633831977844238\n",
      "-- Complete optimized function value: 31.319355010986328\n"
     ]
    },
    {
     "name": "stderr",
     "output_type": "stream",
     "text": [
      "Epoch [19/90]: 100%|██████████████████████████████████████████████████████████████| 5005/5005 [00:37<00:00, 134.95it/s]\n"
     ]
    },
    {
     "name": "stdout",
     "output_type": "stream",
     "text": [
      ">> Accuracy: 12.985582675794802 %\n",
      "-- Loss: 4.6338324546813965\n",
      "-- Complete optimized function value: 31.31935691833496\n"
     ]
    },
    {
     "name": "stderr",
     "output_type": "stream",
     "text": [
      "Epoch [20/90]: 100%|██████████████████████████████████████████████████████████████| 5005/5005 [00:37<00:00, 134.94it/s]\n"
     ]
    },
    {
     "name": "stdout",
     "output_type": "stream",
     "text": [
      ">> Accuracy: 12.985582675794802 %\n",
      "-- Loss: 4.633831977844238\n",
      "-- Complete optimized function value: 31.319355010986328\n"
     ]
    },
    {
     "name": "stderr",
     "output_type": "stream",
     "text": [
      "Epoch [21/90]: 100%|██████████████████████████████████████████████████████████████| 5005/5005 [00:34<00:00, 146.40it/s]\n"
     ]
    },
    {
     "name": "stdout",
     "output_type": "stream",
     "text": [
      ">> Accuracy: 12.985582675794802 %\n",
      "-- Loss: 4.6338324546813965\n",
      "-- Complete optimized function value: 31.31935691833496\n"
     ]
    },
    {
     "name": "stderr",
     "output_type": "stream",
     "text": [
      "Epoch [22/90]: 100%|██████████████████████████████████████████████████████████████| 5005/5005 [00:35<00:00, 142.89it/s]\n"
     ]
    },
    {
     "name": "stdout",
     "output_type": "stream",
     "text": [
      ">> Accuracy: 12.985582675794802 %\n",
      "-- Loss: 4.6338324546813965\n",
      "-- Complete optimized function value: 31.31935691833496\n"
     ]
    },
    {
     "name": "stderr",
     "output_type": "stream",
     "text": [
      "Epoch [23/90]: 100%|██████████████████████████████████████████████████████████████| 5005/5005 [00:38<00:00, 131.19it/s]\n"
     ]
    },
    {
     "name": "stdout",
     "output_type": "stream",
     "text": [
      ">> Accuracy: 12.985582675794802 %\n",
      "-- Loss: 4.633831977844238\n",
      "-- Complete optimized function value: 31.319355010986328\n"
     ]
    },
    {
     "name": "stderr",
     "output_type": "stream",
     "text": [
      "Epoch [24/90]: 100%|██████████████████████████████████████████████████████████████| 5005/5005 [00:36<00:00, 135.31it/s]\n"
     ]
    },
    {
     "name": "stdout",
     "output_type": "stream",
     "text": [
      ">> Accuracy: 12.985582675794802 %\n",
      "-- Loss: 4.633831977844238\n",
      "-- Complete optimized function value: 31.319355010986328\n"
     ]
    },
    {
     "name": "stderr",
     "output_type": "stream",
     "text": [
      "Epoch [25/90]: 100%|██████████████████████████████████████████████████████████████| 5005/5005 [00:36<00:00, 135.41it/s]\n"
     ]
    },
    {
     "name": "stdout",
     "output_type": "stream",
     "text": [
      ">> Accuracy: 12.985582675794802 %\n",
      "-- Loss: 4.633831977844238\n",
      "-- Complete optimized function value: 31.319355010986328\n"
     ]
    },
    {
     "name": "stderr",
     "output_type": "stream",
     "text": [
      "Epoch [26/90]: 100%|██████████████████████████████████████████████████████████████| 5005/5005 [00:37<00:00, 135.03it/s]\n"
     ]
    },
    {
     "name": "stdout",
     "output_type": "stream",
     "text": [
      ">> Accuracy: 12.985582675794802 %\n",
      "-- Loss: 4.633831977844238\n",
      "-- Complete optimized function value: 31.319355010986328\n"
     ]
    },
    {
     "name": "stderr",
     "output_type": "stream",
     "text": [
      "Epoch [27/90]: 100%|██████████████████████████████████████████████████████████████| 5005/5005 [00:36<00:00, 138.32it/s]\n"
     ]
    },
    {
     "name": "stdout",
     "output_type": "stream",
     "text": [
      ">> Accuracy: 12.985582675794802 %\n",
      "-- Loss: 4.6338324546813965\n",
      "-- Complete optimized function value: 31.31935691833496\n"
     ]
    },
    {
     "name": "stderr",
     "output_type": "stream",
     "text": [
      "Epoch [28/90]: 100%|██████████████████████████████████████████████████████████████| 5005/5005 [00:34<00:00, 145.73it/s]\n"
     ]
    },
    {
     "name": "stdout",
     "output_type": "stream",
     "text": [
      ">> Accuracy: 12.985582675794802 %\n",
      "-- Loss: 4.6338324546813965\n",
      "-- Complete optimized function value: 31.31935691833496\n"
     ]
    },
    {
     "name": "stderr",
     "output_type": "stream",
     "text": [
      "Epoch [29/90]: 100%|██████████████████████████████████████████████████████████████| 5005/5005 [00:36<00:00, 138.20it/s]\n"
     ]
    },
    {
     "name": "stdout",
     "output_type": "stream",
     "text": [
      ">> Accuracy: 12.985582675794802 %\n",
      "-- Loss: 4.633831977844238\n",
      "-- Complete optimized function value: 31.319355010986328\n"
     ]
    },
    {
     "name": "stderr",
     "output_type": "stream",
     "text": [
      "Epoch [30/90]: 100%|██████████████████████████████████████████████████████████████| 5005/5005 [00:36<00:00, 135.96it/s]\n"
     ]
    },
    {
     "name": "stdout",
     "output_type": "stream",
     "text": [
      ">> Accuracy: 12.985582675794802 %\n",
      "-- Loss: 4.6338324546813965\n",
      "-- Complete optimized function value: 31.31935691833496\n"
     ]
    },
    {
     "name": "stderr",
     "output_type": "stream",
     "text": [
      "Epoch [31/90]: 100%|██████████████████████████████████████████████████████████████| 5005/5005 [00:37<00:00, 135.00it/s]\n"
     ]
    },
    {
     "name": "stdout",
     "output_type": "stream",
     "text": [
      ">> Accuracy: 29.436521546371395 %\n",
      "-- Loss: 2.0280113220214844\n",
      "-- Complete optimized function value: 11.724918365478516\n"
     ]
    },
    {
     "name": "stderr",
     "output_type": "stream",
     "text": [
      "Epoch [32/90]: 100%|██████████████████████████████████████████████████████████████| 5005/5005 [00:36<00:00, 135.67it/s]\n"
     ]
    },
    {
     "name": "stdout",
     "output_type": "stream",
     "text": [
      ">> Accuracy: 67.66565170660812 %\n",
      "-- Loss: 1.051732063293457\n",
      "-- Complete optimized function value: 4.997045516967773\n"
     ]
    },
    {
     "name": "stderr",
     "output_type": "stream",
     "text": [
      "Epoch [33/90]: 100%|██████████████████████████████████████████████████████████████| 5005/5005 [00:37<00:00, 135.19it/s]\n"
     ]
    },
    {
     "name": "stdout",
     "output_type": "stream",
     "text": [
      ">> Accuracy: 61.37201473344224 %\n",
      "-- Loss: 1.0608625411987305\n",
      "-- Complete optimized function value: 3.456143856048584\n"
     ]
    },
    {
     "name": "stderr",
     "output_type": "stream",
     "text": [
      "Epoch [34/90]: 100%|██████████████████████████████████████████████████████████████| 5005/5005 [00:37<00:00, 133.63it/s]\n"
     ]
    },
    {
     "name": "stdout",
     "output_type": "stream",
     "text": [
      ">> Accuracy: 60.138920218831736 %\n",
      "-- Loss: 1.2944445610046387\n",
      "-- Complete optimized function value: 3.285804271697998\n"
     ]
    },
    {
     "name": "stderr",
     "output_type": "stream",
     "text": [
      "Epoch [35/90]: 100%|██████████████████████████████████████████████████████████████| 5005/5005 [00:36<00:00, 138.97it/s]\n"
     ]
    },
    {
     "name": "stdout",
     "output_type": "stream",
     "text": [
      ">> Accuracy: 59.260892608067486 %\n",
      "-- Loss: 1.502733826637268\n",
      "-- Complete optimized function value: 3.4391074180603027\n"
     ]
    },
    {
     "name": "stderr",
     "output_type": "stream",
     "text": [
      "Epoch [36/90]: 100%|██████████████████████████████████████████████████████████████| 5005/5005 [00:37<00:00, 132.68it/s]\n"
     ]
    },
    {
     "name": "stdout",
     "output_type": "stream",
     "text": [
      ">> Accuracy: 59.30335389531575 %\n",
      "-- Loss: 1.5814663171768188\n",
      "-- Complete optimized function value: 3.487288236618042\n"
     ]
    },
    {
     "name": "stderr",
     "output_type": "stream",
     "text": [
      "Epoch [37/90]: 100%|██████████████████████████████████████████████████████████████| 5005/5005 [00:37<00:00, 134.93it/s]\n"
     ]
    },
    {
     "name": "stdout",
     "output_type": "stream",
     "text": [
      ">> Accuracy: 59.14607541405609 %\n",
      "-- Loss: 1.5921962261199951\n",
      "-- Complete optimized function value: 3.5018396377563477\n"
     ]
    },
    {
     "name": "stderr",
     "output_type": "stream",
     "text": [
      "Epoch [38/90]: 100%|██████████████████████████████████████████████████████████████| 5005/5005 [00:37<00:00, 134.44it/s]\n"
     ]
    },
    {
     "name": "stdout",
     "output_type": "stream",
     "text": [
      ">> Accuracy: 59.27345927580089 %\n",
      "-- Loss: 1.5916823148727417\n",
      "-- Complete optimized function value: 3.4906716346740723\n"
     ]
    },
    {
     "name": "stderr",
     "output_type": "stream",
     "text": [
      "Epoch [39/90]: 100%|██████████████████████████████████████████████████████████████| 5005/5005 [00:37<00:00, 133.67it/s]\n"
     ]
    },
    {
     "name": "stdout",
     "output_type": "stream",
     "text": [
      ">> Accuracy: 59.099789488802 %\n",
      "-- Loss: 1.5888543128967285\n",
      "-- Complete optimized function value: 3.4950945377349854\n"
     ]
    },
    {
     "name": "stderr",
     "output_type": "stream",
     "text": [
      "Epoch [40/90]: 100%|██████████████████████████████████████████████████████████████| 5005/5005 [00:37<00:00, 134.86it/s]\n"
     ]
    },
    {
     "name": "stdout",
     "output_type": "stream",
     "text": [
      ">> Accuracy: 59.20859653737569 %\n",
      "-- Loss: 1.5859075784683228\n",
      "-- Complete optimized function value: 3.4862191677093506\n"
     ]
    },
    {
     "name": "stderr",
     "output_type": "stream",
     "text": [
      "Epoch [41/90]: 100%|██████████████████████████████████████████████████████████████| 5005/5005 [00:37<00:00, 133.70it/s]\n"
     ]
    },
    {
     "name": "stdout",
     "output_type": "stream",
     "text": [
      ">> Accuracy: 59.072860915087574 %\n",
      "-- Loss: 1.5839157104492188\n",
      "-- Complete optimized function value: 3.4900386333465576\n"
     ]
    },
    {
     "name": "stderr",
     "output_type": "stream",
     "text": [
      "Epoch [42/90]: 100%|██████████████████████████████████████████████████████████████| 5005/5005 [00:36<00:00, 138.05it/s]\n"
     ]
    },
    {
     "name": "stdout",
     "output_type": "stream",
     "text": [
      ">> Accuracy: 59.245984325228484 %\n",
      "-- Loss: 1.5820460319519043\n",
      "-- Complete optimized function value: 3.480929374694824\n"
     ]
    },
    {
     "name": "stderr",
     "output_type": "stream",
     "text": [
      "Epoch [43/90]: 100%|██████████████████████████████████████████████████████████████| 5005/5005 [00:37<00:00, 133.97it/s]\n"
     ]
    },
    {
     "name": "stdout",
     "output_type": "stream",
     "text": [
      ">> Accuracy: 59.146153467892944 %\n",
      "-- Loss: 1.5831741094589233\n",
      "-- Complete optimized function value: 3.4847006797790527\n"
     ]
    },
    {
     "name": "stderr",
     "output_type": "stream",
     "text": [
      "Epoch [44/90]: 100%|██████████████████████████████████████████████████████████████| 5005/5005 [00:37<00:00, 134.85it/s]\n"
     ]
    },
    {
     "name": "stdout",
     "output_type": "stream",
     "text": [
      ">> Accuracy: 59.25269695519788 %\n",
      "-- Loss: 1.582114577293396\n",
      "-- Complete optimized function value: 3.4801883697509766\n"
     ]
    },
    {
     "name": "stderr",
     "output_type": "stream",
     "text": [
      "Epoch [45/90]: 100%|██████████████████████████████████████████████████████████████| 5005/5005 [00:37<00:00, 132.77it/s]\n"
     ]
    },
    {
     "name": "stdout",
     "output_type": "stream",
     "text": [
      ">> Accuracy: 59.14022137629208 %\n",
      "-- Loss: 1.582902431488037\n",
      "-- Complete optimized function value: 3.4846158027648926\n"
     ]
    },
    {
     "name": "stderr",
     "output_type": "stream",
     "text": [
      "Epoch [46/90]: 100%|██████████████████████████████████████████████████████████████| 5005/5005 [00:37<00:00, 134.18it/s]\n"
     ]
    },
    {
     "name": "stdout",
     "output_type": "stream",
     "text": [
      ">> Accuracy: 59.184321794114275 %\n",
      "-- Loss: 1.5828996896743774\n",
      "-- Complete optimized function value: 3.4833669662475586\n"
     ]
    },
    {
     "name": "stderr",
     "output_type": "stream",
     "text": [
      "Epoch [47/90]: 100%|██████████████████████████████████████████████████████████████| 5005/5005 [00:38<00:00, 131.57it/s]\n"
     ]
    },
    {
     "name": "stdout",
     "output_type": "stream",
     "text": [
      ">> Accuracy: 59.0813687833046 %\n",
      "-- Loss: 1.5831151008605957\n",
      "-- Complete optimized function value: 3.4877188205718994\n"
     ]
    },
    {
     "name": "stderr",
     "output_type": "stream",
     "text": [
      "Epoch [48/90]: 100%|██████████████████████████████████████████████████████████████| 5005/5005 [00:36<00:00, 138.73it/s]\n"
     ]
    },
    {
     "name": "stdout",
     "output_type": "stream",
     "text": [
      ">> Accuracy: 59.20680129912806 %\n",
      "-- Loss: 1.5822975635528564\n",
      "-- Complete optimized function value: 3.482976198196411\n"
     ]
    },
    {
     "name": "stderr",
     "output_type": "stream",
     "text": [
      "Epoch [49/90]: 100%|██████████████████████████████████████████████████████████████| 5005/5005 [00:37<00:00, 134.38it/s]\n"
     ]
    },
    {
     "name": "stdout",
     "output_type": "stream",
     "text": [
      ">> Accuracy: 59.14068969931321 %\n",
      "-- Loss: 1.5822089910507202\n",
      "-- Complete optimized function value: 3.4845805168151855\n"
     ]
    },
    {
     "name": "stderr",
     "output_type": "stream",
     "text": [
      "Epoch [50/90]: 100%|██████████████████████████████████████████████████████████████| 5005/5005 [00:37<00:00, 134.61it/s]\n"
     ]
    },
    {
     "name": "stdout",
     "output_type": "stream",
     "text": [
      ">> Accuracy: 59.25870710063559 %\n",
      "-- Loss: 1.5818004608154297\n",
      "-- Complete optimized function value: 3.480074405670166\n"
     ]
    },
    {
     "name": "stderr",
     "output_type": "stream",
     "text": [
      "Epoch [51/90]: 100%|██████████████████████████████████████████████████████████████| 5005/5005 [00:37<00:00, 134.65it/s]\n"
     ]
    },
    {
     "name": "stdout",
     "output_type": "stream",
     "text": [
      ">> Accuracy: 59.1314793465645 %\n",
      "-- Loss: 1.5826512575149536\n",
      "-- Complete optimized function value: 3.484410285949707\n"
     ]
    },
    {
     "name": "stderr",
     "output_type": "stream",
     "text": [
      "Epoch [52/90]: 100%|██████████████████████████████████████████████████████████████| 5005/5005 [00:37<00:00, 133.45it/s]\n"
     ]
    },
    {
     "name": "stdout",
     "output_type": "stream",
     "text": [
      ">> Accuracy: 59.23146631157375 %\n",
      "-- Loss: 1.5820952653884888\n",
      "-- Complete optimized function value: 3.4810192584991455\n"
     ]
    },
    {
     "name": "stderr",
     "output_type": "stream",
     "text": [
      "Epoch [53/90]: 100%|██████████████████████████████████████████████████████████████| 5005/5005 [00:37<00:00, 134.40it/s]\n"
     ]
    },
    {
     "name": "stdout",
     "output_type": "stream",
     "text": [
      ">> Accuracy: 59.11212199502485 %\n",
      "-- Loss: 1.5829944610595703\n",
      "-- Complete optimized function value: 3.486058235168457\n"
     ]
    },
    {
     "name": "stderr",
     "output_type": "stream",
     "text": [
      "Epoch [54/90]: 100%|██████████████████████████████████████████████████████████████| 5005/5005 [00:37<00:00, 134.19it/s]\n"
     ]
    },
    {
     "name": "stdout",
     "output_type": "stream",
     "text": [
      ">> Accuracy: 59.22085098976168 %\n",
      "-- Loss: 1.5827833414077759\n",
      "-- Complete optimized function value: 3.482656478881836\n"
     ]
    },
    {
     "name": "stderr",
     "output_type": "stream",
     "text": [
      "Epoch [55/90]: 100%|██████████████████████████████████████████████████████████████| 5005/5005 [00:36<00:00, 135.52it/s]\n"
     ]
    },
    {
     "name": "stdout",
     "output_type": "stream",
     "text": [
      ">> Accuracy: 59.092530481974634 %\n",
      "-- Loss: 1.5832021236419678\n",
      "-- Complete optimized function value: 3.4878129959106445\n"
     ]
    },
    {
     "name": "stderr",
     "output_type": "stream",
     "text": [
      "Epoch [56/90]: 100%|██████████████████████████████████████████████████████████████| 5005/5005 [00:37<00:00, 133.80it/s]\n"
     ]
    },
    {
     "name": "stdout",
     "output_type": "stream",
     "text": [
      ">> Accuracy: 59.23294933447396 %\n",
      "-- Loss: 1.5819337368011475\n",
      "-- Complete optimized function value: 3.4817252159118652\n"
     ]
    },
    {
     "name": "stderr",
     "output_type": "stream",
     "text": [
      "Epoch [57/90]: 100%|██████████████████████████████████████████████████████████████| 5005/5005 [00:37<00:00, 133.78it/s]\n"
     ]
    },
    {
     "name": "stdout",
     "output_type": "stream",
     "text": [
      ">> Accuracy: 59.11274642571968 %\n",
      "-- Loss: 1.5824180841445923\n",
      "-- Complete optimized function value: 3.4853010177612305\n"
     ]
    },
    {
     "name": "stderr",
     "output_type": "stream",
     "text": [
      "Epoch [58/90]: 100%|██████████████████████████████████████████████████████████████| 5005/5005 [00:37<00:00, 134.46it/s]\n"
     ]
    },
    {
     "name": "stdout",
     "output_type": "stream",
     "text": [
      ">> Accuracy: 59.248482048007794 %\n",
      "-- Loss: 1.5815964937210083\n",
      "-- Complete optimized function value: 3.4802660942077637\n"
     ]
    },
    {
     "name": "stderr",
     "output_type": "stream",
     "text": [
      "Epoch [59/90]: 100%|██████████████████████████████████████████████████████████████| 5005/5005 [00:37<00:00, 133.31it/s]\n"
     ]
    },
    {
     "name": "stdout",
     "output_type": "stream",
     "text": [
      ">> Accuracy: 59.137255330491655 %\n",
      "-- Loss: 1.5827678442001343\n",
      "-- Complete optimized function value: 3.484574794769287\n"
     ]
    },
    {
     "name": "stderr",
     "output_type": "stream",
     "text": [
      "Epoch [60/90]: 100%|██████████████████████████████████████████████████████████████| 5005/5005 [00:37<00:00, 133.71it/s]\n"
     ]
    },
    {
     "name": "stdout",
     "output_type": "stream",
     "text": [
      ">> Accuracy: 59.24816983266038 %\n",
      "-- Loss: 1.5822348594665527\n",
      "-- Complete optimized function value: 3.4808192253112793\n"
     ]
    },
    {
     "name": "stderr",
     "output_type": "stream",
     "text": [
      "Epoch [61/90]: 100%|██████████████████████████████████████████████████████████████| 5005/5005 [00:36<00:00, 136.10it/s]\n"
     ]
    },
    {
     "name": "stdout",
     "output_type": "stream",
     "text": [
      ">> Accuracy: 75.31804987171851 %\n",
      "-- Loss: 0.5653884410858154\n",
      "-- Complete optimized function value: 2.2990894317626953\n"
     ]
    },
    {
     "name": "stderr",
     "output_type": "stream",
     "text": [
      "Epoch [62/90]: 100%|██████████████████████████████████████████████████████████████| 5005/5005 [00:37<00:00, 134.93it/s]\n"
     ]
    },
    {
     "name": "stdout",
     "output_type": "stream",
     "text": [
      ">> Accuracy: 82.30917593100665 %\n",
      "-- Loss: 0.6915597915649414\n",
      "-- Complete optimized function value: 2.297327756881714\n"
     ]
    },
    {
     "name": "stderr",
     "output_type": "stream",
     "text": [
      "Epoch [63/90]: 100%|██████████████████████████████████████████████████████████████| 5005/5005 [00:37<00:00, 134.82it/s]\n"
     ]
    },
    {
     "name": "stdout",
     "output_type": "stream",
     "text": [
      ">> Accuracy: 84.64985439056736 %\n",
      "-- Loss: 0.7645237445831299\n",
      "-- Complete optimized function value: 2.264751434326172\n"
     ]
    },
    {
     "name": "stderr",
     "output_type": "stream",
     "text": [
      "Epoch [64/90]: 100%|██████████████████████████████████████████████████████████████| 5005/5005 [00:37<00:00, 134.09it/s]\n"
     ]
    },
    {
     "name": "stdout",
     "output_type": "stream",
     "text": [
      ">> Accuracy: 85.58884204791413 %\n",
      "-- Loss: 0.8117865920066833\n",
      "-- Complete optimized function value: 2.2241241931915283\n"
     ]
    },
    {
     "name": "stderr",
     "output_type": "stream",
     "text": [
      "Epoch [65/90]: 100%|██████████████████████████████████████████████████████████████| 5005/5005 [00:37<00:00, 134.30it/s]\n"
     ]
    },
    {
     "name": "stdout",
     "output_type": "stream",
     "text": [
      ">> Accuracy: 86.03819798667934 %\n",
      "-- Loss: 0.8504774570465088\n",
      "-- Complete optimized function value: 2.1899147033691406\n"
     ]
    },
    {
     "name": "stderr",
     "output_type": "stream",
     "text": [
      "Epoch [66/90]: 100%|██████████████████████████████████████████████████████████████| 5005/5005 [00:37<00:00, 134.02it/s]\n"
     ]
    },
    {
     "name": "stdout",
     "output_type": "stream",
     "text": [
      ">> Accuracy: 86.23145928672842 %\n",
      "-- Loss: 0.8857629895210266\n",
      "-- Complete optimized function value: 2.1651697158813477\n"
     ]
    },
    {
     "name": "stderr",
     "output_type": "stream",
     "text": [
      "Epoch [67/90]: 100%|██████████████████████████████████████████████████████████████| 5005/5005 [00:36<00:00, 136.82it/s]\n"
     ]
    },
    {
     "name": "stdout",
     "output_type": "stream",
     "text": [
      ">> Accuracy: 86.3250458371157 %\n",
      "-- Loss: 0.9181579351425171\n",
      "-- Complete optimized function value: 2.1484856605529785\n"
     ]
    },
    {
     "name": "stderr",
     "output_type": "stream",
     "text": [
      "Epoch [68/90]: 100%|██████████████████████████████████████████████████████████████| 5005/5005 [00:36<00:00, 135.64it/s]\n"
     ]
    },
    {
     "name": "stdout",
     "output_type": "stream",
     "text": [
      ">> Accuracy: 86.34651064225038 %\n",
      "-- Loss: 0.947234034538269\n",
      "-- Complete optimized function value: 2.1376535892486572\n"
     ]
    },
    {
     "name": "stderr",
     "output_type": "stream",
     "text": [
      "Epoch [69/90]: 100%|██████████████████████████████████████████████████████████████| 5005/5005 [00:37<00:00, 134.46it/s]\n"
     ]
    },
    {
     "name": "stdout",
     "output_type": "stream",
     "text": [
      ">> Accuracy: 86.33659780497 %\n",
      "-- Loss: 0.9727262258529663\n",
      "-- Complete optimized function value: 2.130786180496216\n"
     ]
    },
    {
     "name": "stderr",
     "output_type": "stream",
     "text": [
      "Epoch [70/90]: 100%|██████████████████████████████████████████████████████████████| 5005/5005 [00:37<00:00, 133.50it/s]\n"
     ]
    },
    {
     "name": "stdout",
     "output_type": "stream",
     "text": [
      ">> Accuracy: 86.30537627022862 %\n",
      "-- Loss: 0.9946232438087463\n",
      "-- Complete optimized function value: 2.1264498233795166\n"
     ]
    },
    {
     "name": "stderr",
     "output_type": "stream",
     "text": [
      "Epoch [71/90]: 100%|██████████████████████████████████████████████████████████████| 5005/5005 [00:38<00:00, 131.22it/s]\n"
     ]
    },
    {
     "name": "stdout",
     "output_type": "stream",
     "text": [
      ">> Accuracy: 86.26533465192281 %\n",
      "-- Loss: 1.0131560564041138\n",
      "-- Complete optimized function value: 2.123673439025879\n"
     ]
    },
    {
     "name": "stderr",
     "output_type": "stream",
     "text": [
      "Epoch [72/90]: 100%|██████████████████████████████████████████████████████████████| 5005/5005 [00:37<00:00, 134.62it/s]\n"
     ]
    },
    {
     "name": "stdout",
     "output_type": "stream",
     "text": [
      ">> Accuracy: 86.22427833373791 %\n",
      "-- Loss: 1.0286622047424316\n",
      "-- Complete optimized function value: 2.1218066215515137\n"
     ]
    },
    {
     "name": "stderr",
     "output_type": "stream",
     "text": [
      "Epoch [73/90]: 100%|██████████████████████████████████████████████████████████████| 5005/5005 [00:37<00:00, 133.64it/s]\n"
     ]
    },
    {
     "name": "stdout",
     "output_type": "stream",
     "text": [
      ">> Accuracy: 86.17978764673146 %\n",
      "-- Loss: 1.0415512323379517\n",
      "-- Complete optimized function value: 2.1204640865325928\n"
     ]
    },
    {
     "name": "stderr",
     "output_type": "stream",
     "text": [
      "Epoch [74/90]: 100%|██████████████████████████████████████████████████████████████| 5005/5005 [00:36<00:00, 138.18it/s]\n"
     ]
    },
    {
     "name": "stdout",
     "output_type": "stream",
     "text": [
      ">> Accuracy: 86.13053567567694 %\n",
      "-- Loss: 1.052203893661499\n",
      "-- Complete optimized function value: 2.119394302368164\n"
     ]
    },
    {
     "name": "stderr",
     "output_type": "stream",
     "text": [
      "Epoch [75/90]: 100%|██████████████████████████████████████████████████████████████| 5005/5005 [00:37<00:00, 133.83it/s]\n"
     ]
    },
    {
     "name": "stdout",
     "output_type": "stream",
     "text": [
      ">> Accuracy: 86.08331310438062 %\n",
      "-- Loss: 1.060999870300293\n",
      "-- Complete optimized function value: 2.118476390838623\n"
     ]
    },
    {
     "name": "stderr",
     "output_type": "stream",
     "text": [
      "Epoch [76/90]: 100%|██████████████████████████████████████████████████████████████| 5005/5005 [00:37<00:00, 134.80it/s]\n"
     ]
    },
    {
     "name": "stdout",
     "output_type": "stream",
     "text": [
      ">> Accuracy: 86.03655885610542 %\n",
      "-- Loss: 1.0682573318481445\n",
      "-- Complete optimized function value: 2.1176364421844482\n"
     ]
    },
    {
     "name": "stderr",
     "output_type": "stream",
     "text": [
      "Epoch [77/90]: 100%|██████████████████████████████████████████████████████████████| 5005/5005 [00:37<00:00, 133.34it/s]\n"
     ]
    },
    {
     "name": "stdout",
     "output_type": "stream",
     "text": [
      ">> Accuracy: 85.99464394571511 %\n",
      "-- Loss: 1.074235439300537\n",
      "-- Complete optimized function value: 2.116823196411133\n"
     ]
    },
    {
     "name": "stderr",
     "output_type": "stream",
     "text": [
      "Epoch [78/90]: 100%|██████████████████████████████████████████████████████████████| 5005/5005 [00:37<00:00, 135.07it/s]\n"
     ]
    },
    {
     "name": "stdout",
     "output_type": "stream",
     "text": [
      ">> Accuracy: 85.95085574324034 %\n",
      "-- Loss: 1.079178810119629\n",
      "-- Complete optimized function value: 2.116037130355835\n"
     ]
    },
    {
     "name": "stderr",
     "output_type": "stream",
     "text": [
      "Epoch [79/90]: 100%|██████████████████████████████████████████████████████████████| 5005/5005 [00:37<00:00, 134.05it/s]\n"
     ]
    },
    {
     "name": "stdout",
     "output_type": "stream",
     "text": [
      ">> Accuracy: 85.90714559460243 %\n",
      "-- Loss: 1.0832759141921997\n",
      "-- Complete optimized function value: 2.1152732372283936\n"
     ]
    },
    {
     "name": "stderr",
     "output_type": "stream",
     "text": [
      "Epoch [80/90]: 100%|██████████████████████████████████████████████████████████████| 5005/5005 [00:36<00:00, 137.27it/s]\n"
     ]
    },
    {
     "name": "stdout",
     "output_type": "stream",
     "text": [
      ">> Accuracy: 85.8704602912813 %\n",
      "-- Loss: 1.0866749286651611\n",
      "-- Complete optimized function value: 2.11452579498291\n"
     ]
    },
    {
     "name": "stderr",
     "output_type": "stream",
     "text": [
      "Epoch [81/90]: 100%|██████████████████████████████████████████████████████████████| 5005/5005 [00:37<00:00, 133.09it/s]\n"
     ]
    },
    {
     "name": "stdout",
     "output_type": "stream",
     "text": [
      ">> Accuracy: 85.82971618844381 %\n",
      "-- Loss: 1.0895047187805176\n",
      "-- Complete optimized function value: 2.1138014793395996\n"
     ]
    },
    {
     "name": "stderr",
     "output_type": "stream",
     "text": [
      "Epoch [82/90]: 100%|██████████████████████████████████████████████████████████████| 5005/5005 [00:37<00:00, 134.51it/s]\n"
     ]
    },
    {
     "name": "stdout",
     "output_type": "stream",
     "text": [
      ">> Accuracy: 85.79240645442788 %\n",
      "-- Loss: 1.0918643474578857\n",
      "-- Complete optimized function value: 2.113100051879883\n"
     ]
    },
    {
     "name": "stderr",
     "output_type": "stream",
     "text": [
      "Epoch [83/90]: 100%|██████████████████████████████████████████████████████████████| 5005/5005 [00:37<00:00, 133.96it/s]\n"
     ]
    },
    {
     "name": "stdout",
     "output_type": "stream",
     "text": [
      ">> Accuracy: 85.75595531261733 %\n",
      "-- Loss: 1.093833088874817\n",
      "-- Complete optimized function value: 2.1124212741851807\n"
     ]
    },
    {
     "name": "stderr",
     "output_type": "stream",
     "text": [
      "Epoch [84/90]: 100%|██████████████████████████████████████████████████████████████| 5005/5005 [00:37<00:00, 134.62it/s]\n"
     ]
    },
    {
     "name": "stdout",
     "output_type": "stream",
     "text": [
      ">> Accuracy: 85.72598263926561 %\n",
      "-- Loss: 1.0954890251159668\n",
      "-- Complete optimized function value: 2.1117782592773438\n"
     ]
    },
    {
     "name": "stderr",
     "output_type": "stream",
     "text": [
      "Epoch [85/90]: 100%|██████████████████████████████████████████████████████████████| 5005/5005 [00:36<00:00, 135.33it/s]\n"
     ]
    },
    {
     "name": "stdout",
     "output_type": "stream",
     "text": [
      ">> Accuracy: 85.69897601171432 %\n",
      "-- Loss: 1.0968786478042603\n",
      "-- Complete optimized function value: 2.111163854598999\n"
     ]
    },
    {
     "name": "stderr",
     "output_type": "stream",
     "text": [
      "Epoch [86/90]: 100%|██████████████████████████████████████████████████████████████| 5005/5005 [00:37<00:00, 133.48it/s]\n"
     ]
    },
    {
     "name": "stdout",
     "output_type": "stream",
     "text": [
      ">> Accuracy: 85.66947166138372 %\n",
      "-- Loss: 1.0980433225631714\n",
      "-- Complete optimized function value: 2.1105756759643555\n"
     ]
    },
    {
     "name": "stderr",
     "output_type": "stream",
     "text": [
      "Epoch [87/90]: 100%|██████████████████████████████████████████████████████████████| 5005/5005 [00:36<00:00, 136.87it/s]\n"
     ]
    },
    {
     "name": "stdout",
     "output_type": "stream",
     "text": [
      ">> Accuracy: 85.64480664893804 %\n",
      "-- Loss: 1.0990259647369385\n",
      "-- Complete optimized function value: 2.110020875930786\n"
     ]
    },
    {
     "name": "stderr",
     "output_type": "stream",
     "text": [
      "Epoch [88/90]: 100%|██████████████████████████████████████████████████████████████| 5005/5005 [00:37<00:00, 135.07it/s]\n"
     ]
    },
    {
     "name": "stdout",
     "output_type": "stream",
     "text": [
      ">> Accuracy: 85.62037579800291 %\n",
      "-- Loss: 1.0998519659042358\n",
      "-- Complete optimized function value: 2.109494209289551\n"
     ]
    },
    {
     "name": "stderr",
     "output_type": "stream",
     "text": [
      "Epoch [89/90]: 100%|██████████████████████████████████████████████████████████████| 5005/5005 [00:37<00:00, 134.32it/s]\n"
     ]
    },
    {
     "name": "stdout",
     "output_type": "stream",
     "text": [
      ">> Accuracy: 85.5984426698471 %\n",
      "-- Loss: 1.1005535125732422\n",
      "-- Complete optimized function value: 2.109002113342285\n"
     ]
    },
    {
     "name": "stderr",
     "output_type": "stream",
     "text": [
      "Epoch [90/90]: 100%|██████████████████████████████████████████████████████████████| 5005/5005 [00:37<00:00, 133.72it/s]\n"
     ]
    },
    {
     "name": "stdout",
     "output_type": "stream",
     "text": [
      ">> Accuracy: 85.57549484181219 %\n",
      "-- Loss: 1.101142406463623\n",
      "-- Complete optimized function value: 2.1085357666015625\n",
      "Step 7/9 completed.\n",
      "Processing step 8/9, weight decay = 3.162e-03.\n"
     ]
    },
    {
     "name": "stderr",
     "output_type": "stream",
     "text": [
      "Epoch [1/90]: 100%|███████████████████████████████████████████████████████████████| 5005/5005 [00:37<00:00, 134.92it/s]\n"
     ]
    },
    {
     "name": "stdout",
     "output_type": "stream",
     "text": [
      ">> Accuracy: 19.28070267186089 %\n",
      "-- Loss: 0.5849072933197021\n",
      "-- Complete optimized function value: 23.178293228149414\n"
     ]
    },
    {
     "name": "stderr",
     "output_type": "stream",
     "text": [
      "Epoch [2/90]: 100%|███████████████████████████████████████████████████████████████| 5005/5005 [00:37<00:00, 134.70it/s]\n"
     ]
    },
    {
     "name": "stdout",
     "output_type": "stream",
     "text": [
      ">> Accuracy: 18.826585449047627 %\n",
      "-- Loss: 0.584907054901123\n",
      "-- Complete optimized function value: 23.178285598754883\n"
     ]
    },
    {
     "name": "stderr",
     "output_type": "stream",
     "text": [
      "Epoch [3/90]: 100%|███████████████████████████████████████████████████████████████| 5005/5005 [00:35<00:00, 139.70it/s]\n"
     ]
    },
    {
     "name": "stdout",
     "output_type": "stream",
     "text": [
      ">> Accuracy: 18.826585449047627 %\n",
      "-- Loss: 0.5849071145057678\n",
      "-- Complete optimized function value: 23.178285598754883\n"
     ]
    },
    {
     "name": "stderr",
     "output_type": "stream",
     "text": [
      "Epoch [4/90]: 100%|███████████████████████████████████████████████████████████████| 5005/5005 [00:37<00:00, 133.62it/s]\n"
     ]
    },
    {
     "name": "stdout",
     "output_type": "stream",
     "text": [
      ">> Accuracy: 18.826585449047627 %\n",
      "-- Loss: 0.5849071145057678\n",
      "-- Complete optimized function value: 23.178285598754883\n"
     ]
    },
    {
     "name": "stderr",
     "output_type": "stream",
     "text": [
      "Epoch [5/90]: 100%|███████████████████████████████████████████████████████████████| 5005/5005 [00:37<00:00, 134.53it/s]\n"
     ]
    },
    {
     "name": "stdout",
     "output_type": "stream",
     "text": [
      ">> Accuracy: 18.826585449047627 %\n",
      "-- Loss: 0.5849071145057678\n",
      "-- Complete optimized function value: 23.178285598754883\n"
     ]
    },
    {
     "name": "stderr",
     "output_type": "stream",
     "text": [
      "Epoch [6/90]: 100%|███████████████████████████████████████████████████████████████| 5005/5005 [00:37<00:00, 131.97it/s]\n"
     ]
    },
    {
     "name": "stdout",
     "output_type": "stream",
     "text": [
      ">> Accuracy: 18.826585449047627 %\n",
      "-- Loss: 0.584907054901123\n",
      "-- Complete optimized function value: 23.178285598754883\n"
     ]
    },
    {
     "name": "stderr",
     "output_type": "stream",
     "text": [
      "Epoch [7/90]: 100%|███████████████████████████████████████████████████████████████| 5005/5005 [00:37<00:00, 134.53it/s]\n"
     ]
    },
    {
     "name": "stdout",
     "output_type": "stream",
     "text": [
      ">> Accuracy: 18.826585449047627 %\n",
      "-- Loss: 0.584907054901123\n",
      "-- Complete optimized function value: 23.178285598754883\n"
     ]
    },
    {
     "name": "stderr",
     "output_type": "stream",
     "text": [
      "Epoch [8/90]: 100%|███████████████████████████████████████████████████████████████| 5005/5005 [00:36<00:00, 135.44it/s]\n"
     ]
    },
    {
     "name": "stdout",
     "output_type": "stream",
     "text": [
      ">> Accuracy: 18.826585449047627 %\n",
      "-- Loss: 0.584907054901123\n",
      "-- Complete optimized function value: 23.178285598754883\n"
     ]
    },
    {
     "name": "stderr",
     "output_type": "stream",
     "text": [
      "Epoch [9/90]: 100%|███████████████████████████████████████████████████████████████| 5005/5005 [00:37<00:00, 135.14it/s]\n"
     ]
    },
    {
     "name": "stdout",
     "output_type": "stream",
     "text": [
      ">> Accuracy: 18.826585449047627 %\n",
      "-- Loss: 0.5849071741104126\n",
      "-- Complete optimized function value: 23.178285598754883\n"
     ]
    },
    {
     "name": "stderr",
     "output_type": "stream",
     "text": [
      "Epoch [10/90]: 100%|██████████████████████████████████████████████████████████████| 5005/5005 [00:36<00:00, 136.94it/s]\n"
     ]
    },
    {
     "name": "stdout",
     "output_type": "stream",
     "text": [
      ">> Accuracy: 18.826585449047627 %\n",
      "-- Loss: 0.5849071741104126\n",
      "-- Complete optimized function value: 23.178285598754883\n"
     ]
    },
    {
     "name": "stderr",
     "output_type": "stream",
     "text": [
      "Epoch [11/90]: 100%|██████████████████████████████████████████████████████████████| 5005/5005 [00:37<00:00, 134.00it/s]\n"
     ]
    },
    {
     "name": "stdout",
     "output_type": "stream",
     "text": [
      ">> Accuracy: 18.826585449047627 %\n",
      "-- Loss: 0.5849071145057678\n",
      "-- Complete optimized function value: 23.178285598754883\n"
     ]
    },
    {
     "name": "stderr",
     "output_type": "stream",
     "text": [
      "Epoch [12/90]: 100%|██████████████████████████████████████████████████████████████| 5005/5005 [00:37<00:00, 134.21it/s]\n"
     ]
    },
    {
     "name": "stdout",
     "output_type": "stream",
     "text": [
      ">> Accuracy: 18.826585449047627 %\n",
      "-- Loss: 0.584907054901123\n",
      "-- Complete optimized function value: 23.178285598754883\n"
     ]
    },
    {
     "name": "stderr",
     "output_type": "stream",
     "text": [
      "Epoch [13/90]: 100%|██████████████████████████████████████████████████████████████| 5005/5005 [00:37<00:00, 133.83it/s]\n"
     ]
    },
    {
     "name": "stdout",
     "output_type": "stream",
     "text": [
      ">> Accuracy: 18.826585449047627 %\n",
      "-- Loss: 0.584907054901123\n",
      "-- Complete optimized function value: 23.178285598754883\n"
     ]
    },
    {
     "name": "stderr",
     "output_type": "stream",
     "text": [
      "Epoch [14/90]: 100%|██████████████████████████████████████████████████████████████| 5005/5005 [00:37<00:00, 134.96it/s]\n"
     ]
    },
    {
     "name": "stdout",
     "output_type": "stream",
     "text": [
      ">> Accuracy: 18.826585449047627 %\n",
      "-- Loss: 0.584907054901123\n",
      "-- Complete optimized function value: 23.178285598754883\n"
     ]
    },
    {
     "name": "stderr",
     "output_type": "stream",
     "text": [
      "Epoch [15/90]: 100%|██████████████████████████████████████████████████████████████| 5005/5005 [00:37<00:00, 134.61it/s]\n"
     ]
    },
    {
     "name": "stdout",
     "output_type": "stream",
     "text": [
      ">> Accuracy: 18.826585449047627 %\n",
      "-- Loss: 0.5849071145057678\n",
      "-- Complete optimized function value: 23.178285598754883\n"
     ]
    },
    {
     "name": "stderr",
     "output_type": "stream",
     "text": [
      "Epoch [16/90]: 100%|██████████████████████████████████████████████████████████████| 5005/5005 [00:36<00:00, 138.56it/s]\n"
     ]
    },
    {
     "name": "stdout",
     "output_type": "stream",
     "text": [
      ">> Accuracy: 18.826585449047627 %\n",
      "-- Loss: 0.5849071145057678\n",
      "-- Complete optimized function value: 23.178285598754883\n"
     ]
    },
    {
     "name": "stderr",
     "output_type": "stream",
     "text": [
      "Epoch [17/90]: 100%|██████████████████████████████████████████████████████████████| 5005/5005 [00:37<00:00, 134.38it/s]\n"
     ]
    },
    {
     "name": "stdout",
     "output_type": "stream",
     "text": [
      ">> Accuracy: 18.826585449047627 %\n",
      "-- Loss: 0.5849071741104126\n",
      "-- Complete optimized function value: 23.178285598754883\n"
     ]
    },
    {
     "name": "stderr",
     "output_type": "stream",
     "text": [
      "Epoch [18/90]: 100%|██████████████████████████████████████████████████████████████| 5005/5005 [00:37<00:00, 134.83it/s]\n"
     ]
    },
    {
     "name": "stdout",
     "output_type": "stream",
     "text": [
      ">> Accuracy: 18.826585449047627 %\n",
      "-- Loss: 0.5849071145057678\n",
      "-- Complete optimized function value: 23.178285598754883\n"
     ]
    },
    {
     "name": "stderr",
     "output_type": "stream",
     "text": [
      "Epoch [19/90]: 100%|██████████████████████████████████████████████████████████████| 5005/5005 [00:37<00:00, 133.84it/s]\n"
     ]
    },
    {
     "name": "stdout",
     "output_type": "stream",
     "text": [
      ">> Accuracy: 18.826585449047627 %\n",
      "-- Loss: 0.5849071741104126\n",
      "-- Complete optimized function value: 23.178285598754883\n"
     ]
    },
    {
     "name": "stderr",
     "output_type": "stream",
     "text": [
      "Epoch [20/90]: 100%|██████████████████████████████████████████████████████████████| 5005/5005 [00:37<00:00, 134.04it/s]\n"
     ]
    },
    {
     "name": "stdout",
     "output_type": "stream",
     "text": [
      ">> Accuracy: 18.826585449047627 %\n",
      "-- Loss: 0.5849071741104126\n",
      "-- Complete optimized function value: 23.178285598754883\n"
     ]
    },
    {
     "name": "stderr",
     "output_type": "stream",
     "text": [
      "Epoch [21/90]: 100%|██████████████████████████████████████████████████████████████| 5005/5005 [00:37<00:00, 134.37it/s]\n"
     ]
    },
    {
     "name": "stdout",
     "output_type": "stream",
     "text": [
      ">> Accuracy: 18.826585449047627 %\n",
      "-- Loss: 0.5849069952964783\n",
      "-- Complete optimized function value: 23.178285598754883\n"
     ]
    },
    {
     "name": "stderr",
     "output_type": "stream",
     "text": [
      "Epoch [22/90]: 100%|██████████████████████████████████████████████████████████████| 5005/5005 [00:37<00:00, 133.99it/s]\n"
     ]
    },
    {
     "name": "stdout",
     "output_type": "stream",
     "text": [
      ">> Accuracy: 18.826585449047627 %\n",
      "-- Loss: 0.584907054901123\n",
      "-- Complete optimized function value: 23.178285598754883\n"
     ]
    },
    {
     "name": "stderr",
     "output_type": "stream",
     "text": [
      "Epoch [23/90]: 100%|██████████████████████████████████████████████████████████████| 5005/5005 [00:36<00:00, 137.00it/s]\n"
     ]
    },
    {
     "name": "stdout",
     "output_type": "stream",
     "text": [
      ">> Accuracy: 18.826585449047627 %\n",
      "-- Loss: 0.584907054901123\n",
      "-- Complete optimized function value: 23.178285598754883\n"
     ]
    },
    {
     "name": "stderr",
     "output_type": "stream",
     "text": [
      "Epoch [24/90]: 100%|██████████████████████████████████████████████████████████████| 5005/5005 [00:37<00:00, 134.36it/s]\n"
     ]
    },
    {
     "name": "stdout",
     "output_type": "stream",
     "text": [
      ">> Accuracy: 18.826585449047627 %\n",
      "-- Loss: 0.5849071145057678\n",
      "-- Complete optimized function value: 23.178285598754883\n"
     ]
    },
    {
     "name": "stderr",
     "output_type": "stream",
     "text": [
      "Epoch [25/90]: 100%|██████████████████████████████████████████████████████████████| 5005/5005 [00:37<00:00, 134.67it/s]\n"
     ]
    },
    {
     "name": "stdout",
     "output_type": "stream",
     "text": [
      ">> Accuracy: 18.826585449047627 %\n",
      "-- Loss: 0.5849071741104126\n",
      "-- Complete optimized function value: 23.178285598754883\n"
     ]
    },
    {
     "name": "stderr",
     "output_type": "stream",
     "text": [
      "Epoch [26/90]: 100%|██████████████████████████████████████████████████████████████| 5005/5005 [00:37<00:00, 133.89it/s]\n"
     ]
    },
    {
     "name": "stdout",
     "output_type": "stream",
     "text": [
      ">> Accuracy: 18.826585449047627 %\n",
      "-- Loss: 0.5849071145057678\n",
      "-- Complete optimized function value: 23.178285598754883\n"
     ]
    },
    {
     "name": "stderr",
     "output_type": "stream",
     "text": [
      "Epoch [27/90]: 100%|██████████████████████████████████████████████████████████████| 5005/5005 [00:37<00:00, 134.39it/s]\n"
     ]
    },
    {
     "name": "stdout",
     "output_type": "stream",
     "text": [
      ">> Accuracy: 18.826585449047627 %\n",
      "-- Loss: 0.5849071145057678\n",
      "-- Complete optimized function value: 23.178285598754883\n"
     ]
    },
    {
     "name": "stderr",
     "output_type": "stream",
     "text": [
      "Epoch [28/90]: 100%|██████████████████████████████████████████████████████████████| 5005/5005 [00:37<00:00, 133.13it/s]\n"
     ]
    },
    {
     "name": "stdout",
     "output_type": "stream",
     "text": [
      ">> Accuracy: 18.826585449047627 %\n",
      "-- Loss: 0.584907054901123\n",
      "-- Complete optimized function value: 23.178285598754883\n"
     ]
    },
    {
     "name": "stderr",
     "output_type": "stream",
     "text": [
      "Epoch [29/90]: 100%|██████████████████████████████████████████████████████████████| 5005/5005 [00:36<00:00, 136.48it/s]\n"
     ]
    },
    {
     "name": "stdout",
     "output_type": "stream",
     "text": [
      ">> Accuracy: 18.826585449047627 %\n",
      "-- Loss: 0.584907054901123\n",
      "-- Complete optimized function value: 23.178285598754883\n"
     ]
    },
    {
     "name": "stderr",
     "output_type": "stream",
     "text": [
      "Epoch [30/90]: 100%|██████████████████████████████████████████████████████████████| 5005/5005 [00:38<00:00, 130.39it/s]\n"
     ]
    },
    {
     "name": "stdout",
     "output_type": "stream",
     "text": [
      ">> Accuracy: 18.826585449047627 %\n",
      "-- Loss: 0.5849071145057678\n",
      "-- Complete optimized function value: 23.178285598754883\n"
     ]
    },
    {
     "name": "stderr",
     "output_type": "stream",
     "text": [
      "Epoch [31/90]: 100%|██████████████████████████████████████████████████████████████| 5005/5005 [00:37<00:00, 133.05it/s]\n"
     ]
    },
    {
     "name": "stdout",
     "output_type": "stream",
     "text": [
      ">> Accuracy: 7.853542902681696 %\n",
      "-- Loss: 1.4677743911743164\n",
      "-- Complete optimized function value: 4.927853584289551\n"
     ]
    },
    {
     "name": "stderr",
     "output_type": "stream",
     "text": [
      "Epoch [32/90]: 100%|██████████████████████████████████████████████████████████████| 5005/5005 [00:37<00:00, 134.57it/s]\n"
     ]
    },
    {
     "name": "stdout",
     "output_type": "stream",
     "text": [
      ">> Accuracy: 17.374549922063245 %\n",
      "-- Loss: 2.6363983154296875\n",
      "-- Complete optimized function value: 6.150861740112305\n"
     ]
    },
    {
     "name": "stderr",
     "output_type": "stream",
     "text": [
      "Epoch [33/90]: 100%|██████████████████████████████████████████████████████████████| 5005/5005 [00:37<00:00, 133.17it/s]\n"
     ]
    },
    {
     "name": "stdout",
     "output_type": "stream",
     "text": [
      ">> Accuracy: 18.31689389439472 %\n",
      "-- Loss: 2.7240166664123535\n",
      "-- Complete optimized function value: 6.22956657409668\n"
     ]
    },
    {
     "name": "stderr",
     "output_type": "stream",
     "text": [
      "Epoch [34/90]: 100%|██████████████████████████████████████████████████████████████| 5005/5005 [00:37<00:00, 134.97it/s]\n"
     ]
    },
    {
     "name": "stdout",
     "output_type": "stream",
     "text": [
      ">> Accuracy: 18.451068439945768 %\n",
      "-- Loss: 2.726034641265869\n",
      "-- Complete optimized function value: 6.2329301834106445\n"
     ]
    },
    {
     "name": "stderr",
     "output_type": "stream",
     "text": [
      "Epoch [35/90]: 100%|██████████████████████████████████████████████████████████████| 5005/5005 [00:37<00:00, 134.33it/s]\n"
     ]
    },
    {
     "name": "stdout",
     "output_type": "stream",
     "text": [
      ">> Accuracy: 18.44974152471926 %\n",
      "-- Loss: 2.7265748977661133\n",
      "-- Complete optimized function value: 6.233345985412598\n"
     ]
    },
    {
     "name": "stderr",
     "output_type": "stream",
     "text": [
      "Epoch [36/90]: 100%|██████████████████████████████████████████████████████████████| 5005/5005 [00:36<00:00, 135.74it/s]\n"
     ]
    },
    {
     "name": "stdout",
     "output_type": "stream",
     "text": [
      ">> Accuracy: 18.451068439945768 %\n",
      "-- Loss: 2.7265501022338867\n",
      "-- Complete optimized function value: 6.233306407928467\n"
     ]
    },
    {
     "name": "stderr",
     "output_type": "stream",
     "text": [
      "Epoch [37/90]: 100%|██████████████████████████████████████████████████████████████| 5005/5005 [00:37<00:00, 134.04it/s]\n"
     ]
    },
    {
     "name": "stdout",
     "output_type": "stream",
     "text": [
      ">> Accuracy: 18.450678170761503 %\n",
      "-- Loss: 2.726562738418579\n",
      "-- Complete optimized function value: 6.23333740234375\n"
     ]
    },
    {
     "name": "stderr",
     "output_type": "stream",
     "text": [
      "Epoch [38/90]: 100%|██████████████████████████████████████████████████████████████| 5005/5005 [00:37<00:00, 133.95it/s]\n"
     ]
    },
    {
     "name": "stdout",
     "output_type": "stream",
     "text": [
      ">> Accuracy: 18.45091233227206 %\n",
      "-- Loss: 2.726567506790161\n",
      "-- Complete optimized function value: 6.233327865600586\n"
     ]
    },
    {
     "name": "stderr",
     "output_type": "stream",
     "text": [
      "Epoch [39/90]: 100%|██████████████████████████████████████████████████████████████| 5005/5005 [00:37<00:00, 134.05it/s]\n"
     ]
    },
    {
     "name": "stdout",
     "output_type": "stream",
     "text": [
      ">> Accuracy: 18.450990386108916 %\n",
      "-- Loss: 2.7265655994415283\n",
      "-- Complete optimized function value: 6.233333587646484\n"
     ]
    },
    {
     "name": "stderr",
     "output_type": "stream",
     "text": [
      "Epoch [40/90]: 100%|██████████████████████████████████████████████████████████████| 5005/5005 [00:37<00:00, 133.61it/s]\n"
     ]
    },
    {
     "name": "stdout",
     "output_type": "stream",
     "text": [
      ">> Accuracy: 18.450756224598354 %\n",
      "-- Loss: 2.7265677452087402\n",
      "-- Complete optimized function value: 6.233331680297852\n"
     ]
    },
    {
     "name": "stderr",
     "output_type": "stream",
     "text": [
      "Epoch [41/90]: 100%|██████████████████████████████████████████████████████████████| 5005/5005 [00:37<00:00, 134.75it/s]\n"
     ]
    },
    {
     "name": "stdout",
     "output_type": "stream",
     "text": [
      ">> Accuracy: 18.45091233227206 %\n",
      "-- Loss: 2.726567029953003\n",
      "-- Complete optimized function value: 6.233332633972168\n"
     ]
    },
    {
     "name": "stderr",
     "output_type": "stream",
     "text": [
      "Epoch [42/90]: 100%|██████████████████████████████████████████████████████████████| 5005/5005 [00:36<00:00, 138.15it/s]\n"
     ]
    },
    {
     "name": "stdout",
     "output_type": "stream",
     "text": [
      ">> Accuracy: 18.45091233227206 %\n",
      "-- Loss: 2.726567506790161\n",
      "-- Complete optimized function value: 6.233331680297852\n"
     ]
    },
    {
     "name": "stderr",
     "output_type": "stream",
     "text": [
      "Epoch [43/90]: 100%|██████████████████████████████████████████████████████████████| 5005/5005 [00:37<00:00, 132.81it/s]\n"
     ]
    },
    {
     "name": "stdout",
     "output_type": "stream",
     "text": [
      ">> Accuracy: 18.45083427843521 %\n",
      "-- Loss: 2.726567268371582\n",
      "-- Complete optimized function value: 6.233332633972168\n"
     ]
    },
    {
     "name": "stderr",
     "output_type": "stream",
     "text": [
      "Epoch [44/90]: 100%|██████████████████████████████████████████████████████████████| 5005/5005 [00:36<00:00, 135.40it/s]\n"
     ]
    },
    {
     "name": "stdout",
     "output_type": "stream",
     "text": [
      ">> Accuracy: 18.450990386108916 %\n",
      "-- Loss: 2.726567029953003\n",
      "-- Complete optimized function value: 6.23333215713501\n"
     ]
    },
    {
     "name": "stderr",
     "output_type": "stream",
     "text": [
      "Epoch [45/90]: 100%|██████████████████████████████████████████████████████████████| 5005/5005 [00:37<00:00, 133.69it/s]\n"
     ]
    },
    {
     "name": "stdout",
     "output_type": "stream",
     "text": [
      ">> Accuracy: 18.45083427843521 %\n",
      "-- Loss: 2.726567268371582\n",
      "-- Complete optimized function value: 6.233332633972168\n"
     ]
    },
    {
     "name": "stderr",
     "output_type": "stream",
     "text": [
      "Epoch [46/90]: 100%|██████████████████████████████████████████████████████████████| 5005/5005 [00:37<00:00, 133.61it/s]\n"
     ]
    },
    {
     "name": "stdout",
     "output_type": "stream",
     "text": [
      ">> Accuracy: 18.45091233227206 %\n",
      "-- Loss: 2.726567029953003\n",
      "-- Complete optimized function value: 6.23333215713501\n"
     ]
    },
    {
     "name": "stderr",
     "output_type": "stream",
     "text": [
      "Epoch [47/90]: 100%|██████████████████████████████████████████████████████████████| 5005/5005 [00:37<00:00, 133.34it/s]\n"
     ]
    },
    {
     "name": "stdout",
     "output_type": "stream",
     "text": [
      ">> Accuracy: 18.45083427843521 %\n",
      "-- Loss: 2.726567029953003\n",
      "-- Complete optimized function value: 6.23333215713501\n"
     ]
    },
    {
     "name": "stderr",
     "output_type": "stream",
     "text": [
      "Epoch [48/90]: 100%|██████████████████████████████████████████████████████████████| 5005/5005 [00:36<00:00, 135.79it/s]\n"
     ]
    },
    {
     "name": "stdout",
     "output_type": "stream",
     "text": [
      ">> Accuracy: 18.45083427843521 %\n",
      "-- Loss: 2.726567029953003\n",
      "-- Complete optimized function value: 6.23333215713501\n"
     ]
    },
    {
     "name": "stderr",
     "output_type": "stream",
     "text": [
      "Epoch [49/90]: 100%|██████████████████████████████████████████████████████████████| 5005/5005 [00:41<00:00, 120.39it/s]\n"
     ]
    },
    {
     "name": "stdout",
     "output_type": "stream",
     "text": [
      ">> Accuracy: 18.45083427843521 %\n",
      "-- Loss: 2.726567029953003\n",
      "-- Complete optimized function value: 6.23333215713501\n"
     ]
    },
    {
     "name": "stderr",
     "output_type": "stream",
     "text": [
      "Epoch [50/90]: 100%|██████████████████████████████████████████████████████████████| 5005/5005 [00:38<00:00, 131.46it/s]\n"
     ]
    },
    {
     "name": "stdout",
     "output_type": "stream",
     "text": [
      ">> Accuracy: 18.45083427843521 %\n",
      "-- Loss: 2.726567029953003\n",
      "-- Complete optimized function value: 6.23333215713501\n"
     ]
    },
    {
     "name": "stderr",
     "output_type": "stream",
     "text": [
      "Epoch [51/90]: 100%|██████████████████████████████████████████████████████████████| 5005/5005 [00:37<00:00, 134.53it/s]\n"
     ]
    },
    {
     "name": "stdout",
     "output_type": "stream",
     "text": [
      ">> Accuracy: 18.45083427843521 %\n",
      "-- Loss: 2.726567029953003\n",
      "-- Complete optimized function value: 6.23333215713501\n"
     ]
    },
    {
     "name": "stderr",
     "output_type": "stream",
     "text": [
      "Epoch [52/90]: 100%|██████████████████████████████████████████████████████████████| 5005/5005 [00:37<00:00, 132.87it/s]\n"
     ]
    },
    {
     "name": "stdout",
     "output_type": "stream",
     "text": [
      ">> Accuracy: 18.45083427843521 %\n",
      "-- Loss: 2.726567029953003\n",
      "-- Complete optimized function value: 6.23333215713501\n"
     ]
    },
    {
     "name": "stderr",
     "output_type": "stream",
     "text": [
      "Epoch [53/90]: 100%|██████████████████████████████████████████████████████████████| 5005/5005 [00:37<00:00, 134.43it/s]\n"
     ]
    },
    {
     "name": "stdout",
     "output_type": "stream",
     "text": [
      ">> Accuracy: 18.45083427843521 %\n",
      "-- Loss: 2.726567029953003\n",
      "-- Complete optimized function value: 6.23333215713501\n"
     ]
    },
    {
     "name": "stderr",
     "output_type": "stream",
     "text": [
      "Epoch [54/90]: 100%|██████████████████████████████████████████████████████████████| 5005/5005 [00:38<00:00, 131.38it/s]\n"
     ]
    },
    {
     "name": "stdout",
     "output_type": "stream",
     "text": [
      ">> Accuracy: 18.45083427843521 %\n",
      "-- Loss: 2.726567029953003\n",
      "-- Complete optimized function value: 6.233331680297852\n"
     ]
    },
    {
     "name": "stderr",
     "output_type": "stream",
     "text": [
      "Epoch [55/90]: 100%|██████████████████████████████████████████████████████████████| 5005/5005 [00:37<00:00, 134.02it/s]\n"
     ]
    },
    {
     "name": "stdout",
     "output_type": "stream",
     "text": [
      ">> Accuracy: 18.45083427843521 %\n",
      "-- Loss: 2.726567029953003\n",
      "-- Complete optimized function value: 6.23333215713501\n"
     ]
    },
    {
     "name": "stderr",
     "output_type": "stream",
     "text": [
      "Epoch [56/90]: 100%|██████████████████████████████████████████████████████████████| 5005/5005 [00:37<00:00, 133.75it/s]\n"
     ]
    },
    {
     "name": "stdout",
     "output_type": "stream",
     "text": [
      ">> Accuracy: 18.45083427843521 %\n",
      "-- Loss: 2.726567029953003\n",
      "-- Complete optimized function value: 6.233331680297852\n"
     ]
    },
    {
     "name": "stderr",
     "output_type": "stream",
     "text": [
      "Epoch [57/90]: 100%|██████████████████████████████████████████████████████████████| 5005/5005 [00:34<00:00, 145.52it/s]\n"
     ]
    },
    {
     "name": "stdout",
     "output_type": "stream",
     "text": [
      ">> Accuracy: 18.45083427843521 %\n",
      "-- Loss: 2.726567029953003\n",
      "-- Complete optimized function value: 6.23333215713501\n"
     ]
    },
    {
     "name": "stderr",
     "output_type": "stream",
     "text": [
      "Epoch [58/90]: 100%|██████████████████████████████████████████████████████████████| 5005/5005 [00:35<00:00, 141.77it/s]\n"
     ]
    },
    {
     "name": "stdout",
     "output_type": "stream",
     "text": [
      ">> Accuracy: 18.45083427843521 %\n",
      "-- Loss: 2.726567029953003\n",
      "-- Complete optimized function value: 6.23333215713501\n"
     ]
    },
    {
     "name": "stderr",
     "output_type": "stream",
     "text": [
      "Epoch [59/90]: 100%|██████████████████████████████████████████████████████████████| 5005/5005 [00:37<00:00, 134.12it/s]\n"
     ]
    },
    {
     "name": "stdout",
     "output_type": "stream",
     "text": [
      ">> Accuracy: 18.45083427843521 %\n",
      "-- Loss: 2.726567029953003\n",
      "-- Complete optimized function value: 6.23333215713501\n"
     ]
    },
    {
     "name": "stderr",
     "output_type": "stream",
     "text": [
      "Epoch [60/90]: 100%|██████████████████████████████████████████████████████████████| 5005/5005 [00:37<00:00, 133.86it/s]\n"
     ]
    },
    {
     "name": "stdout",
     "output_type": "stream",
     "text": [
      ">> Accuracy: 18.45083427843521 %\n",
      "-- Loss: 2.726567029953003\n",
      "-- Complete optimized function value: 6.233331680297852\n"
     ]
    },
    {
     "name": "stderr",
     "output_type": "stream",
     "text": [
      "Epoch [61/90]: 100%|██████████████████████████████████████████████████████████████| 5005/5005 [00:37<00:00, 133.16it/s]\n"
     ]
    },
    {
     "name": "stdout",
     "output_type": "stream",
     "text": [
      ">> Accuracy: 59.24052055664874 %\n",
      "-- Loss: 1.5155247449874878\n",
      "-- Complete optimized function value: 4.319000720977783\n"
     ]
    },
    {
     "name": "stderr",
     "output_type": "stream",
     "text": [
      "Epoch [62/90]: 100%|██████████████████████████████████████████████████████████████| 5005/5005 [00:37<00:00, 133.35it/s]\n"
     ]
    },
    {
     "name": "stdout",
     "output_type": "stream",
     "text": [
      ">> Accuracy: 75.67194596801198 %\n",
      "-- Loss: 1.86836576461792\n",
      "-- Complete optimized function value: 4.321150779724121\n"
     ]
    },
    {
     "name": "stderr",
     "output_type": "stream",
     "text": [
      "Epoch [63/90]: 100%|██████████████████████████████████████████████████████████████| 5005/5005 [00:37<00:00, 132.60it/s]\n"
     ]
    },
    {
     "name": "stdout",
     "output_type": "stream",
     "text": [
      ">> Accuracy: 79.17336303542005 %\n",
      "-- Loss: 1.9900826215744019\n",
      "-- Complete optimized function value: 4.2380852699279785\n"
     ]
    },
    {
     "name": "stderr",
     "output_type": "stream",
     "text": [
      "Epoch [64/90]: 100%|██████████████████████████████████████████████████████████████| 5005/5005 [00:36<00:00, 135.79it/s]\n"
     ]
    },
    {
     "name": "stdout",
     "output_type": "stream",
     "text": [
      ">> Accuracy: 80.14333806599764 %\n",
      "-- Loss: 2.0494158267974854\n",
      "-- Complete optimized function value: 4.174397945404053\n"
     ]
    },
    {
     "name": "stderr",
     "output_type": "stream",
     "text": [
      "Epoch [65/90]: 100%|██████████████████████████████████████████████████████████████| 5005/5005 [00:37<00:00, 134.23it/s]\n"
     ]
    },
    {
     "name": "stdout",
     "output_type": "stream",
     "text": [
      ">> Accuracy: 80.35517617921785 %\n",
      "-- Loss: 2.0842368602752686\n",
      "-- Complete optimized function value: 4.134525299072266\n"
     ]
    },
    {
     "name": "stderr",
     "output_type": "stream",
     "text": [
      "Epoch [66/90]: 100%|██████████████████████████████████████████████████████████████| 5005/5005 [00:37<00:00, 132.50it/s]\n"
     ]
    },
    {
     "name": "stdout",
     "output_type": "stream",
     "text": [
      ">> Accuracy: 80.30264594701549 %\n",
      "-- Loss: 2.105947732925415\n",
      "-- Complete optimized function value: 4.1098856925964355\n"
     ]
    },
    {
     "name": "stderr",
     "output_type": "stream",
     "text": [
      "Epoch [67/90]: 100%|██████████████████████████████████████████████████████████████| 5005/5005 [00:37<00:00, 133.27it/s]\n"
     ]
    },
    {
     "name": "stdout",
     "output_type": "stream",
     "text": [
      ">> Accuracy: 80.21210349626551 %\n",
      "-- Loss: 2.1194567680358887\n",
      "-- Complete optimized function value: 4.0936970710754395\n"
     ]
    },
    {
     "name": "stderr",
     "output_type": "stream",
     "text": [
      "Epoch [68/90]: 100%|██████████████████████████████████████████████████████████████| 5005/5005 [00:37<00:00, 133.29it/s]\n"
     ]
    },
    {
     "name": "stdout",
     "output_type": "stream",
     "text": [
      ">> Accuracy: 80.1209366148207 %\n",
      "-- Loss: 2.127700090408325\n",
      "-- Complete optimized function value: 4.082313537597656\n"
     ]
    },
    {
     "name": "stderr",
     "output_type": "stream",
     "text": [
      "Epoch [69/90]: 100%|██████████████████████████████████████████████████████████████| 5005/5005 [00:37<00:00, 133.50it/s]\n"
     ]
    },
    {
     "name": "stdout",
     "output_type": "stream",
     "text": [
      ">> Accuracy: 80.03398464056599 %\n",
      "-- Loss: 2.1326193809509277\n",
      "-- Complete optimized function value: 4.073920726776123\n"
     ]
    },
    {
     "name": "stderr",
     "output_type": "stream",
     "text": [
      "Epoch [70/90]: 100%|██████████████████████████████████████████████████████████████| 5005/5005 [00:37<00:00, 133.42it/s]\n"
     ]
    },
    {
     "name": "stdout",
     "output_type": "stream",
     "text": [
      ">> Accuracy: 79.9444568896951 %\n",
      "-- Loss: 2.1354994773864746\n",
      "-- Complete optimized function value: 4.067572116851807\n"
     ]
    },
    {
     "name": "stderr",
     "output_type": "stream",
     "text": [
      "Epoch [71/90]: 100%|██████████████████████████████████████████████████████████████| 5005/5005 [00:36<00:00, 136.75it/s]\n"
     ]
    },
    {
     "name": "stdout",
     "output_type": "stream",
     "text": [
      ">> Accuracy: 79.87366205966903 %\n",
      "-- Loss: 2.1371471881866455\n",
      "-- Complete optimized function value: 4.062699794769287\n"
     ]
    },
    {
     "name": "stderr",
     "output_type": "stream",
     "text": [
      "Epoch [72/90]: 100%|██████████████████████████████████████████████████████████████| 5005/5005 [00:37<00:00, 134.39it/s]\n"
     ]
    },
    {
     "name": "stdout",
     "output_type": "stream",
     "text": [
      ">> Accuracy: 79.81262395924965 %\n",
      "-- Loss: 2.138065814971924\n",
      "-- Complete optimized function value: 4.058933734893799\n"
     ]
    },
    {
     "name": "stderr",
     "output_type": "stream",
     "text": [
      "Epoch [73/90]: 100%|██████████████████████████████████████████████████████████████| 5005/5005 [00:37<00:00, 134.80it/s]\n"
     ]
    },
    {
     "name": "stdout",
     "output_type": "stream",
     "text": [
      ">> Accuracy: 79.76040594239471 %\n",
      "-- Loss: 2.1385653018951416\n",
      "-- Complete optimized function value: 4.05601692199707\n"
     ]
    },
    {
     "name": "stderr",
     "output_type": "stream",
     "text": [
      "Epoch [74/90]: 100%|██████████████████████████████████████████████████████████████| 5005/5005 [00:37<00:00, 133.97it/s]\n"
     ]
    },
    {
     "name": "stdout",
     "output_type": "stream",
     "text": [
      ">> Accuracy: 79.71474444783544 %\n",
      "-- Loss: 2.1388211250305176\n",
      "-- Complete optimized function value: 4.05374813079834\n"
     ]
    },
    {
     "name": "stderr",
     "output_type": "stream",
     "text": [
      "Epoch [75/90]: 100%|██████████████████████████████████████████████████████████████| 5005/5005 [00:37<00:00, 133.17it/s]\n"
     ]
    },
    {
     "name": "stdout",
     "output_type": "stream",
     "text": [
      ">> Accuracy: 79.6784494136986 %\n",
      "-- Loss: 2.1389341354370117\n",
      "-- Complete optimized function value: 4.051975250244141\n"
     ]
    },
    {
     "name": "stderr",
     "output_type": "stream",
     "text": [
      "Epoch [76/90]: 100%|██████████████████████████████████████████████████████████████| 5005/5005 [00:37<00:00, 133.79it/s]\n"
     ]
    },
    {
     "name": "stdout",
     "output_type": "stream",
     "text": [
      ">> Accuracy: 79.64777425581521 %\n",
      "-- Loss: 2.1389658451080322\n",
      "-- Complete optimized function value: 4.050583362579346\n"
     ]
    },
    {
     "name": "stderr",
     "output_type": "stream",
     "text": [
      "Epoch [77/90]: 100%|██████████████████████████████████████████████████████████████| 5005/5005 [00:37<00:00, 134.67it/s]\n"
     ]
    },
    {
     "name": "stdout",
     "output_type": "stream",
     "text": [
      ">> Accuracy: 79.62342145871693 %\n",
      "-- Loss: 2.138956069946289\n",
      "-- Complete optimized function value: 4.049489498138428\n"
     ]
    },
    {
     "name": "stderr",
     "output_type": "stream",
     "text": [
      "Epoch [78/90]: 100%|██████████████████████████████████████████████████████████████| 5005/5005 [00:38<00:00, 130.35it/s]\n"
     ]
    },
    {
     "name": "stdout",
     "output_type": "stream",
     "text": [
      ">> Accuracy: 79.59914671545552 %\n",
      "-- Loss: 2.1389267444610596\n",
      "-- Complete optimized function value: 4.048628330230713\n"
     ]
    },
    {
     "name": "stderr",
     "output_type": "stream",
     "text": [
      "Epoch [79/90]: 100%|██████████████████████████████████████████████████████████████| 5005/5005 [00:37<00:00, 134.19it/s]\n"
     ]
    },
    {
     "name": "stdout",
     "output_type": "stream",
     "text": [
      ">> Accuracy: 79.58470675563764 %\n",
      "-- Loss: 2.1388838291168213\n",
      "-- Complete optimized function value: 4.047942161560059\n"
     ]
    },
    {
     "name": "stderr",
     "output_type": "stream",
     "text": [
      "Epoch [80/90]: 100%|██████████████████████████████████████████████████████████████| 5005/5005 [00:37<00:00, 133.55it/s]\n"
     ]
    },
    {
     "name": "stdout",
     "output_type": "stream",
     "text": [
      ">> Accuracy: 79.57237424941479 %\n",
      "-- Loss: 2.138840913772583\n",
      "-- Complete optimized function value: 4.047399520874023\n"
     ]
    },
    {
     "name": "stderr",
     "output_type": "stream",
     "text": [
      "Epoch [81/90]: 100%|██████████████████████████████████████████████████████████████| 5005/5005 [00:37<00:00, 133.33it/s]\n"
     ]
    },
    {
     "name": "stdout",
     "output_type": "stream",
     "text": [
      ">> Accuracy: 79.5611344969079 %\n",
      "-- Loss: 2.138798952102661\n",
      "-- Complete optimized function value: 4.046967029571533\n"
     ]
    },
    {
     "name": "stderr",
     "output_type": "stream",
     "text": [
      "Epoch [82/90]: 100%|██████████████████████████████████████████████████████████████| 5005/5005 [00:37<00:00, 132.62it/s]\n"
     ]
    },
    {
     "name": "stdout",
     "output_type": "stream",
     "text": [
      ">> Accuracy: 79.55192414415919 %\n",
      "-- Loss: 2.1387572288513184\n",
      "-- Complete optimized function value: 4.046618938446045\n"
     ]
    },
    {
     "name": "stderr",
     "output_type": "stream",
     "text": [
      "Epoch [83/90]: 100%|██████████████████████████████████████████████████████████████| 5005/5005 [00:37<00:00, 133.55it/s]\n"
     ]
    },
    {
     "name": "stdout",
     "output_type": "stream",
     "text": [
      ">> Accuracy: 79.54349432977902 %\n",
      "-- Loss: 2.138721466064453\n",
      "-- Complete optimized function value: 4.0463409423828125\n"
     ]
    },
    {
     "name": "stderr",
     "output_type": "stream",
     "text": [
      "Epoch [84/90]: 100%|██████████████████████████████████████████████████████████████| 5005/5005 [00:36<00:00, 136.35it/s]\n"
     ]
    },
    {
     "name": "stdout",
     "output_type": "stream",
     "text": [
      ">> Accuracy: 79.53623532295165 %\n",
      "-- Loss: 2.13869047164917\n",
      "-- Complete optimized function value: 4.04611873626709\n"
     ]
    },
    {
     "name": "stderr",
     "output_type": "stream",
     "text": [
      "Epoch [85/90]: 100%|██████████████████████████████████████████████████████████████| 5005/5005 [00:37<00:00, 133.50it/s]\n"
     ]
    },
    {
     "name": "stdout",
     "output_type": "stream",
     "text": [
      ">> Accuracy: 79.53069350053507 %\n",
      "-- Loss: 2.1386642456054688\n",
      "-- Complete optimized function value: 4.045939922332764\n"
     ]
    },
    {
     "name": "stderr",
     "output_type": "stream",
     "text": [
      "Epoch [86/90]: 100%|██████████████████████████████████████████████████████████████| 5005/5005 [00:37<00:00, 133.86it/s]\n"
     ]
    },
    {
     "name": "stdout",
     "output_type": "stream",
     "text": [
      ">> Accuracy: 79.5271030240398 %\n",
      "-- Loss: 2.138639211654663\n",
      "-- Complete optimized function value: 4.045793533325195\n"
     ]
    },
    {
     "name": "stderr",
     "output_type": "stream",
     "text": [
      "Epoch [87/90]: 100%|██████████████████████████████████████████████████████████████| 5005/5005 [00:37<00:00, 133.88it/s]\n"
     ]
    },
    {
     "name": "stdout",
     "output_type": "stream",
     "text": [
      ">> Accuracy: 79.52335643987084 %\n",
      "-- Loss: 2.138618230819702\n",
      "-- Complete optimized function value: 4.045675277709961\n"
     ]
    },
    {
     "name": "stderr",
     "output_type": "stream",
     "text": [
      "Epoch [88/90]: 100%|██████████████████████████████████████████████████████████████| 5005/5005 [00:37<00:00, 133.93it/s]\n"
     ]
    },
    {
     "name": "stdout",
     "output_type": "stream",
     "text": [
      ">> Accuracy: 79.52249784766545 %\n",
      "-- Loss: 2.138601541519165\n",
      "-- Complete optimized function value: 4.045581340789795\n"
     ]
    },
    {
     "name": "stderr",
     "output_type": "stream",
     "text": [
      "Epoch [89/90]: 100%|██████████████████████████████████████████████████████████████| 5005/5005 [00:37<00:00, 134.17it/s]\n"
     ]
    },
    {
     "name": "stdout",
     "output_type": "stream",
     "text": [
      ">> Accuracy: 79.5203903940704 %\n",
      "-- Loss: 2.138587713241577\n",
      "-- Complete optimized function value: 4.045504570007324\n"
     ]
    },
    {
     "name": "stderr",
     "output_type": "stream",
     "text": [
      "Epoch [90/90]: 100%|██████████████████████████████████████████████████████████████| 5005/5005 [00:36<00:00, 138.57it/s]\n"
     ]
    },
    {
     "name": "stdout",
     "output_type": "stream",
     "text": [
      ">> Accuracy: 79.51960985570187 %\n",
      "-- Loss: 2.1385743618011475\n",
      "-- Complete optimized function value: 4.045440673828125\n",
      "Step 8/9 completed.\n",
      "Processing step 9/9, weight decay = 1.000e-02.\n"
     ]
    },
    {
     "name": "stderr",
     "output_type": "stream",
     "text": [
      "Epoch [1/90]: 100%|███████████████████████████████████████████████████████████████| 5005/5005 [00:37<00:00, 133.61it/s]\n"
     ]
    },
    {
     "name": "stdout",
     "output_type": "stream",
     "text": [
      ">> Accuracy: 27.757739623327794 %\n",
      "-- Loss: 0.010612474754452705\n",
      "-- Complete optimized function value: 15.813002586364746\n"
     ]
    },
    {
     "name": "stderr",
     "output_type": "stream",
     "text": [
      "Epoch [2/90]: 100%|███████████████████████████████████████████████████████████████| 5005/5005 [00:37<00:00, 134.43it/s]\n"
     ]
    },
    {
     "name": "stdout",
     "output_type": "stream",
     "text": [
      ">> Accuracy: 27.620599031976315 %\n",
      "-- Loss: 0.01061247568577528\n",
      "-- Complete optimized function value: 15.813002586364746\n"
     ]
    },
    {
     "name": "stderr",
     "output_type": "stream",
     "text": [
      "Epoch [3/90]: 100%|███████████████████████████████████████████████████████████████| 5005/5005 [00:37<00:00, 133.01it/s]\n"
     ]
    },
    {
     "name": "stdout",
     "output_type": "stream",
     "text": [
      ">> Accuracy: 27.620599031976315 %\n",
      "-- Loss: 0.010612474754452705\n",
      "-- Complete optimized function value: 15.813002586364746\n"
     ]
    },
    {
     "name": "stderr",
     "output_type": "stream",
     "text": [
      "Epoch [4/90]: 100%|███████████████████████████████████████████████████████████████| 5005/5005 [00:37<00:00, 134.06it/s]\n"
     ]
    },
    {
     "name": "stdout",
     "output_type": "stream",
     "text": [
      ">> Accuracy: 27.620599031976315 %\n",
      "-- Loss: 0.010612459853291512\n",
      "-- Complete optimized function value: 15.813002586364746\n"
     ]
    },
    {
     "name": "stderr",
     "output_type": "stream",
     "text": [
      "Epoch [5/90]: 100%|███████████████████████████████████████████████████████████████| 5005/5005 [00:37<00:00, 134.47it/s]\n"
     ]
    },
    {
     "name": "stdout",
     "output_type": "stream",
     "text": [
      ">> Accuracy: 27.620599031976315 %\n",
      "-- Loss: 0.010612474754452705\n",
      "-- Complete optimized function value: 15.813002586364746\n"
     ]
    },
    {
     "name": "stderr",
     "output_type": "stream",
     "text": [
      "Epoch [6/90]: 100%|███████████████████████████████████████████████████████████████| 5005/5005 [00:37<00:00, 134.55it/s]\n"
     ]
    },
    {
     "name": "stdout",
     "output_type": "stream",
     "text": [
      ">> Accuracy: 27.620599031976315 %\n",
      "-- Loss: 0.010612459853291512\n",
      "-- Complete optimized function value: 15.813002586364746\n"
     ]
    },
    {
     "name": "stderr",
     "output_type": "stream",
     "text": [
      "Epoch [7/90]: 100%|███████████████████████████████████████████████████████████████| 5005/5005 [00:36<00:00, 136.56it/s]\n"
     ]
    },
    {
     "name": "stdout",
     "output_type": "stream",
     "text": [
      ">> Accuracy: 27.620599031976315 %\n",
      "-- Loss: 0.010612474754452705\n",
      "-- Complete optimized function value: 15.813002586364746\n"
     ]
    },
    {
     "name": "stderr",
     "output_type": "stream",
     "text": [
      "Epoch [8/90]: 100%|███████████████████████████████████████████████████████████████| 5005/5005 [00:36<00:00, 135.49it/s]\n"
     ]
    },
    {
     "name": "stdout",
     "output_type": "stream",
     "text": [
      ">> Accuracy: 27.620599031976315 %\n",
      "-- Loss: 0.010612459853291512\n",
      "-- Complete optimized function value: 15.813002586364746\n"
     ]
    },
    {
     "name": "stderr",
     "output_type": "stream",
     "text": [
      "Epoch [9/90]: 100%|███████████████████████████████████████████████████████████████| 5005/5005 [00:37<00:00, 133.58it/s]\n"
     ]
    },
    {
     "name": "stdout",
     "output_type": "stream",
     "text": [
      ">> Accuracy: 27.620599031976315 %\n",
      "-- Loss: 0.010612474754452705\n",
      "-- Complete optimized function value: 15.813002586364746\n"
     ]
    },
    {
     "name": "stderr",
     "output_type": "stream",
     "text": [
      "Epoch [10/90]: 100%|██████████████████████████████████████████████████████████████| 5005/5005 [00:37<00:00, 133.54it/s]\n"
     ]
    },
    {
     "name": "stdout",
     "output_type": "stream",
     "text": [
      ">> Accuracy: 27.620599031976315 %\n",
      "-- Loss: 0.010612459853291512\n",
      "-- Complete optimized function value: 15.813002586364746\n"
     ]
    },
    {
     "name": "stderr",
     "output_type": "stream",
     "text": [
      "Epoch [11/90]: 100%|██████████████████████████████████████████████████████████████| 5005/5005 [00:37<00:00, 134.42it/s]\n"
     ]
    },
    {
     "name": "stdout",
     "output_type": "stream",
     "text": [
      ">> Accuracy: 27.620599031976315 %\n",
      "-- Loss: 0.010612474754452705\n",
      "-- Complete optimized function value: 15.813002586364746\n"
     ]
    },
    {
     "name": "stderr",
     "output_type": "stream",
     "text": [
      "Epoch [12/90]: 100%|██████████████████████████████████████████████████████████████| 5005/5005 [00:35<00:00, 140.13it/s]\n"
     ]
    },
    {
     "name": "stdout",
     "output_type": "stream",
     "text": [
      ">> Accuracy: 27.620599031976315 %\n",
      "-- Loss: 0.010612459853291512\n",
      "-- Complete optimized function value: 15.813002586364746\n"
     ]
    },
    {
     "name": "stderr",
     "output_type": "stream",
     "text": [
      "Epoch [13/90]: 100%|██████████████████████████████████████████████████████████████| 5005/5005 [00:35<00:00, 142.25it/s]\n"
     ]
    },
    {
     "name": "stdout",
     "output_type": "stream",
     "text": [
      ">> Accuracy: 27.620599031976315 %\n",
      "-- Loss: 0.010612474754452705\n",
      "-- Complete optimized function value: 15.813002586364746\n"
     ]
    },
    {
     "name": "stderr",
     "output_type": "stream",
     "text": [
      "Epoch [14/90]: 100%|██████████████████████████████████████████████████████████████| 5005/5005 [00:37<00:00, 133.93it/s]\n"
     ]
    },
    {
     "name": "stdout",
     "output_type": "stream",
     "text": [
      ">> Accuracy: 27.620599031976315 %\n",
      "-- Loss: 0.010612459853291512\n",
      "-- Complete optimized function value: 15.813002586364746\n"
     ]
    },
    {
     "name": "stderr",
     "output_type": "stream",
     "text": [
      "Epoch [15/90]: 100%|██████████████████████████████████████████████████████████████| 5005/5005 [00:37<00:00, 133.82it/s]\n"
     ]
    },
    {
     "name": "stdout",
     "output_type": "stream",
     "text": [
      ">> Accuracy: 27.620599031976315 %\n",
      "-- Loss: 0.010612474754452705\n",
      "-- Complete optimized function value: 15.813002586364746\n"
     ]
    },
    {
     "name": "stderr",
     "output_type": "stream",
     "text": [
      "Epoch [16/90]: 100%|██████████████████████████████████████████████████████████████| 5005/5005 [00:37<00:00, 134.37it/s]\n"
     ]
    },
    {
     "name": "stdout",
     "output_type": "stream",
     "text": [
      ">> Accuracy: 27.620599031976315 %\n",
      "-- Loss: 0.010612459853291512\n",
      "-- Complete optimized function value: 15.813002586364746\n"
     ]
    },
    {
     "name": "stderr",
     "output_type": "stream",
     "text": [
      "Epoch [17/90]: 100%|██████████████████████████████████████████████████████████████| 5005/5005 [00:37<00:00, 134.01it/s]\n"
     ]
    },
    {
     "name": "stdout",
     "output_type": "stream",
     "text": [
      ">> Accuracy: 27.620599031976315 %\n",
      "-- Loss: 0.010612474754452705\n",
      "-- Complete optimized function value: 15.813002586364746\n"
     ]
    },
    {
     "name": "stderr",
     "output_type": "stream",
     "text": [
      "Epoch [18/90]: 100%|██████████████████████████████████████████████████████████████| 5005/5005 [00:37<00:00, 134.36it/s]\n"
     ]
    },
    {
     "name": "stdout",
     "output_type": "stream",
     "text": [
      ">> Accuracy: 27.620599031976315 %\n",
      "-- Loss: 0.010612459853291512\n",
      "-- Complete optimized function value: 15.813002586364746\n"
     ]
    },
    {
     "name": "stderr",
     "output_type": "stream",
     "text": [
      "Epoch [19/90]: 100%|██████████████████████████████████████████████████████████████| 5005/5005 [00:37<00:00, 134.00it/s]\n"
     ]
    },
    {
     "name": "stdout",
     "output_type": "stream",
     "text": [
      ">> Accuracy: 27.620599031976315 %\n",
      "-- Loss: 0.010612474754452705\n",
      "-- Complete optimized function value: 15.813002586364746\n"
     ]
    },
    {
     "name": "stderr",
     "output_type": "stream",
     "text": [
      "Epoch [20/90]: 100%|██████████████████████████████████████████████████████████████| 5005/5005 [00:36<00:00, 135.58it/s]\n"
     ]
    },
    {
     "name": "stdout",
     "output_type": "stream",
     "text": [
      ">> Accuracy: 27.620599031976315 %\n",
      "-- Loss: 0.010612459853291512\n",
      "-- Complete optimized function value: 15.813002586364746\n"
     ]
    },
    {
     "name": "stderr",
     "output_type": "stream",
     "text": [
      "Epoch [21/90]: 100%|██████████████████████████████████████████████████████████████| 5005/5005 [00:37<00:00, 133.73it/s]\n"
     ]
    },
    {
     "name": "stdout",
     "output_type": "stream",
     "text": [
      ">> Accuracy: 27.620599031976315 %\n",
      "-- Loss: 0.010612474754452705\n",
      "-- Complete optimized function value: 15.813002586364746\n"
     ]
    },
    {
     "name": "stderr",
     "output_type": "stream",
     "text": [
      "Epoch [22/90]: 100%|██████████████████████████████████████████████████████████████| 5005/5005 [00:37<00:00, 132.50it/s]\n"
     ]
    },
    {
     "name": "stdout",
     "output_type": "stream",
     "text": [
      ">> Accuracy: 27.620599031976315 %\n",
      "-- Loss: 0.010612459853291512\n",
      "-- Complete optimized function value: 15.813002586364746\n"
     ]
    },
    {
     "name": "stderr",
     "output_type": "stream",
     "text": [
      "Epoch [23/90]: 100%|██████████████████████████████████████████████████████████████| 5005/5005 [00:37<00:00, 134.36it/s]\n"
     ]
    },
    {
     "name": "stdout",
     "output_type": "stream",
     "text": [
      ">> Accuracy: 27.620599031976315 %\n",
      "-- Loss: 0.010612474754452705\n",
      "-- Complete optimized function value: 15.813002586364746\n"
     ]
    },
    {
     "name": "stderr",
     "output_type": "stream",
     "text": [
      "Epoch [24/90]: 100%|██████████████████████████████████████████████████████████████| 5005/5005 [00:37<00:00, 133.75it/s]\n"
     ]
    },
    {
     "name": "stdout",
     "output_type": "stream",
     "text": [
      ">> Accuracy: 27.620599031976315 %\n",
      "-- Loss: 0.010612459853291512\n",
      "-- Complete optimized function value: 15.813002586364746\n"
     ]
    },
    {
     "name": "stderr",
     "output_type": "stream",
     "text": [
      "Epoch [25/90]: 100%|██████████████████████████████████████████████████████████████| 5005/5005 [00:39<00:00, 125.70it/s]\n"
     ]
    },
    {
     "name": "stdout",
     "output_type": "stream",
     "text": [
      ">> Accuracy: 27.620599031976315 %\n",
      "-- Loss: 0.010612474754452705\n",
      "-- Complete optimized function value: 15.813002586364746\n"
     ]
    },
    {
     "name": "stderr",
     "output_type": "stream",
     "text": [
      "Epoch [26/90]: 100%|██████████████████████████████████████████████████████████████| 5005/5005 [00:37<00:00, 134.99it/s]\n"
     ]
    },
    {
     "name": "stdout",
     "output_type": "stream",
     "text": [
      ">> Accuracy: 27.620599031976315 %\n",
      "-- Loss: 0.010612459853291512\n",
      "-- Complete optimized function value: 15.813002586364746\n"
     ]
    },
    {
     "name": "stderr",
     "output_type": "stream",
     "text": [
      "Epoch [27/90]: 100%|██████████████████████████████████████████████████████████████| 5005/5005 [00:37<00:00, 133.62it/s]\n"
     ]
    },
    {
     "name": "stdout",
     "output_type": "stream",
     "text": [
      ">> Accuracy: 27.620599031976315 %\n",
      "-- Loss: 0.010612474754452705\n",
      "-- Complete optimized function value: 15.813002586364746\n"
     ]
    },
    {
     "name": "stderr",
     "output_type": "stream",
     "text": [
      "Epoch [28/90]: 100%|██████████████████████████████████████████████████████████████| 5005/5005 [00:37<00:00, 134.82it/s]\n"
     ]
    },
    {
     "name": "stdout",
     "output_type": "stream",
     "text": [
      ">> Accuracy: 27.620599031976315 %\n",
      "-- Loss: 0.010612459853291512\n",
      "-- Complete optimized function value: 15.813002586364746\n"
     ]
    },
    {
     "name": "stderr",
     "output_type": "stream",
     "text": [
      "Epoch [29/90]: 100%|██████████████████████████████████████████████████████████████| 5005/5005 [00:37<00:00, 134.40it/s]\n"
     ]
    },
    {
     "name": "stdout",
     "output_type": "stream",
     "text": [
      ">> Accuracy: 27.620599031976315 %\n",
      "-- Loss: 0.010612474754452705\n",
      "-- Complete optimized function value: 15.813002586364746\n"
     ]
    },
    {
     "name": "stderr",
     "output_type": "stream",
     "text": [
      "Epoch [30/90]: 100%|██████████████████████████████████████████████████████████████| 5005/5005 [00:36<00:00, 135.60it/s]\n"
     ]
    },
    {
     "name": "stdout",
     "output_type": "stream",
     "text": [
      ">> Accuracy: 27.620599031976315 %\n",
      "-- Loss: 0.010612459853291512\n",
      "-- Complete optimized function value: 15.813002586364746\n"
     ]
    },
    {
     "name": "stderr",
     "output_type": "stream",
     "text": [
      "Epoch [31/90]: 100%|██████████████████████████████████████████████████████████████| 5005/5005 [00:37<00:00, 135.09it/s]\n"
     ]
    },
    {
     "name": "stdout",
     "output_type": "stream",
     "text": [
      ">> Accuracy: 3.295589099625576 %\n",
      "-- Loss: 3.737293243408203\n",
      "-- Complete optimized function value: 7.12615966796875\n"
     ]
    },
    {
     "name": "stderr",
     "output_type": "stream",
     "text": [
      "Epoch [32/90]: 100%|██████████████████████████████████████████████████████████████| 5005/5005 [00:36<00:00, 136.48it/s]\n"
     ]
    },
    {
     "name": "stdout",
     "output_type": "stream",
     "text": [
      ">> Accuracy: 3.7434620154905645 %\n",
      "-- Loss: 3.8242056369781494\n",
      "-- Complete optimized function value: 7.209925651550293\n"
     ]
    },
    {
     "name": "stderr",
     "output_type": "stream",
     "text": [
      "Epoch [33/90]: 100%|██████████████████████████████████████████████████████████████| 5005/5005 [00:37<00:00, 134.62it/s]\n"
     ]
    },
    {
     "name": "stdout",
     "output_type": "stream",
     "text": [
      ">> Accuracy: 3.7443206076959523 %\n",
      "-- Loss: 3.824601173400879\n",
      "-- Complete optimized function value: 7.2103047370910645\n"
     ]
    },
    {
     "name": "stderr",
     "output_type": "stream",
     "text": [
      "Epoch [34/90]: 100%|██████████████████████████████████████████████████████████████| 5005/5005 [00:37<00:00, 134.44it/s]\n"
     ]
    },
    {
     "name": "stdout",
     "output_type": "stream",
     "text": [
      ">> Accuracy: 3.744242553859099 %\n",
      "-- Loss: 3.824603796005249\n",
      "-- Complete optimized function value: 7.2103071212768555\n"
     ]
    },
    {
     "name": "stderr",
     "output_type": "stream",
     "text": [
      "Epoch [35/90]: 100%|██████████████████████████████████████████████████████████████| 5005/5005 [00:37<00:00, 133.28it/s]\n"
     ]
    },
    {
     "name": "stdout",
     "output_type": "stream",
     "text": [
      ">> Accuracy: 3.744242553859099 %\n",
      "-- Loss: 3.824603796005249\n",
      "-- Complete optimized function value: 7.2103071212768555\n"
     ]
    },
    {
     "name": "stderr",
     "output_type": "stream",
     "text": [
      "Epoch [36/90]: 100%|██████████████████████████████████████████████████████████████| 5005/5005 [00:38<00:00, 130.58it/s]\n"
     ]
    },
    {
     "name": "stdout",
     "output_type": "stream",
     "text": [
      ">> Accuracy: 3.744242553859099 %\n",
      "-- Loss: 3.824603796005249\n",
      "-- Complete optimized function value: 7.2103071212768555\n"
     ]
    },
    {
     "name": "stderr",
     "output_type": "stream",
     "text": [
      "Epoch [37/90]: 100%|██████████████████████████████████████████████████████████████| 5005/5005 [00:37<00:00, 133.63it/s]\n"
     ]
    },
    {
     "name": "stdout",
     "output_type": "stream",
     "text": [
      ">> Accuracy: 3.744242553859099 %\n",
      "-- Loss: 3.824603796005249\n",
      "-- Complete optimized function value: 7.2103071212768555\n"
     ]
    },
    {
     "name": "stderr",
     "output_type": "stream",
     "text": [
      "Epoch [38/90]: 100%|██████████████████████████████████████████████████████████████| 5005/5005 [00:37<00:00, 134.40it/s]\n"
     ]
    },
    {
     "name": "stdout",
     "output_type": "stream",
     "text": [
      ">> Accuracy: 3.744242553859099 %\n",
      "-- Loss: 3.824603796005249\n",
      "-- Complete optimized function value: 7.2103071212768555\n"
     ]
    },
    {
     "name": "stderr",
     "output_type": "stream",
     "text": [
      "Epoch [39/90]: 100%|██████████████████████████████████████████████████████████████| 5005/5005 [00:36<00:00, 136.86it/s]\n"
     ]
    },
    {
     "name": "stdout",
     "output_type": "stream",
     "text": [
      ">> Accuracy: 3.744242553859099 %\n",
      "-- Loss: 3.824603796005249\n",
      "-- Complete optimized function value: 7.2103071212768555\n"
     ]
    },
    {
     "name": "stderr",
     "output_type": "stream",
     "text": [
      "Epoch [40/90]: 100%|██████████████████████████████████████████████████████████████| 5005/5005 [00:37<00:00, 134.55it/s]\n"
     ]
    },
    {
     "name": "stdout",
     "output_type": "stream",
     "text": [
      ">> Accuracy: 3.744242553859099 %\n",
      "-- Loss: 3.824603796005249\n",
      "-- Complete optimized function value: 7.2103071212768555\n"
     ]
    },
    {
     "name": "stderr",
     "output_type": "stream",
     "text": [
      "Epoch [41/90]: 100%|██████████████████████████████████████████████████████████████| 5005/5005 [00:37<00:00, 134.29it/s]\n"
     ]
    },
    {
     "name": "stdout",
     "output_type": "stream",
     "text": [
      ">> Accuracy: 3.744242553859099 %\n",
      "-- Loss: 3.824603796005249\n",
      "-- Complete optimized function value: 7.2103071212768555\n"
     ]
    },
    {
     "name": "stderr",
     "output_type": "stream",
     "text": [
      "Epoch [42/90]: 100%|██████████████████████████████████████████████████████████████| 5005/5005 [00:37<00:00, 132.04it/s]\n"
     ]
    },
    {
     "name": "stdout",
     "output_type": "stream",
     "text": [
      ">> Accuracy: 3.744242553859099 %\n",
      "-- Loss: 3.824603796005249\n",
      "-- Complete optimized function value: 7.2103071212768555\n"
     ]
    },
    {
     "name": "stderr",
     "output_type": "stream",
     "text": [
      "Epoch [43/90]: 100%|██████████████████████████████████████████████████████████████| 5005/5005 [00:37<00:00, 134.40it/s]\n"
     ]
    },
    {
     "name": "stdout",
     "output_type": "stream",
     "text": [
      ">> Accuracy: 3.744242553859099 %\n",
      "-- Loss: 3.824603796005249\n",
      "-- Complete optimized function value: 7.2103071212768555\n"
     ]
    },
    {
     "name": "stderr",
     "output_type": "stream",
     "text": [
      "Epoch [44/90]: 100%|██████████████████████████████████████████████████████████████| 5005/5005 [00:37<00:00, 133.97it/s]\n"
     ]
    },
    {
     "name": "stdout",
     "output_type": "stream",
     "text": [
      ">> Accuracy: 3.744242553859099 %\n",
      "-- Loss: 3.824603796005249\n",
      "-- Complete optimized function value: 7.2103071212768555\n"
     ]
    },
    {
     "name": "stderr",
     "output_type": "stream",
     "text": [
      "Epoch [45/90]: 100%|██████████████████████████████████████████████████████████████| 5005/5005 [00:36<00:00, 137.48it/s]\n"
     ]
    },
    {
     "name": "stdout",
     "output_type": "stream",
     "text": [
      ">> Accuracy: 3.744242553859099 %\n",
      "-- Loss: 3.824603796005249\n",
      "-- Complete optimized function value: 7.2103071212768555\n"
     ]
    },
    {
     "name": "stderr",
     "output_type": "stream",
     "text": [
      "Epoch [46/90]: 100%|██████████████████████████████████████████████████████████████| 5005/5005 [00:37<00:00, 133.21it/s]\n"
     ]
    },
    {
     "name": "stdout",
     "output_type": "stream",
     "text": [
      ">> Accuracy: 3.744242553859099 %\n",
      "-- Loss: 3.824603796005249\n",
      "-- Complete optimized function value: 7.2103071212768555\n"
     ]
    },
    {
     "name": "stderr",
     "output_type": "stream",
     "text": [
      "Epoch [47/90]: 100%|██████████████████████████████████████████████████████████████| 5005/5005 [00:37<00:00, 132.97it/s]\n"
     ]
    },
    {
     "name": "stdout",
     "output_type": "stream",
     "text": [
      ">> Accuracy: 3.744242553859099 %\n",
      "-- Loss: 3.824603796005249\n",
      "-- Complete optimized function value: 7.2103071212768555\n"
     ]
    },
    {
     "name": "stderr",
     "output_type": "stream",
     "text": [
      "Epoch [48/90]: 100%|██████████████████████████████████████████████████████████████| 5005/5005 [00:37<00:00, 133.70it/s]\n"
     ]
    },
    {
     "name": "stdout",
     "output_type": "stream",
     "text": [
      ">> Accuracy: 3.744242553859099 %\n",
      "-- Loss: 3.824603796005249\n",
      "-- Complete optimized function value: 7.2103071212768555\n"
     ]
    },
    {
     "name": "stderr",
     "output_type": "stream",
     "text": [
      "Epoch [49/90]: 100%|██████████████████████████████████████████████████████████████| 5005/5005 [00:37<00:00, 132.43it/s]\n"
     ]
    },
    {
     "name": "stdout",
     "output_type": "stream",
     "text": [
      ">> Accuracy: 3.744242553859099 %\n",
      "-- Loss: 3.824603796005249\n",
      "-- Complete optimized function value: 7.2103071212768555\n"
     ]
    },
    {
     "name": "stderr",
     "output_type": "stream",
     "text": [
      "Epoch [50/90]: 100%|██████████████████████████████████████████████████████████████| 5005/5005 [00:37<00:00, 134.80it/s]\n"
     ]
    },
    {
     "name": "stdout",
     "output_type": "stream",
     "text": [
      ">> Accuracy: 3.744242553859099 %\n",
      "-- Loss: 3.824603796005249\n",
      "-- Complete optimized function value: 7.2103071212768555\n"
     ]
    },
    {
     "name": "stderr",
     "output_type": "stream",
     "text": [
      "Epoch [51/90]: 100%|██████████████████████████████████████████████████████████████| 5005/5005 [00:37<00:00, 133.90it/s]\n"
     ]
    },
    {
     "name": "stdout",
     "output_type": "stream",
     "text": [
      ">> Accuracy: 3.744242553859099 %\n",
      "-- Loss: 3.824603796005249\n",
      "-- Complete optimized function value: 7.2103071212768555\n"
     ]
    },
    {
     "name": "stderr",
     "output_type": "stream",
     "text": [
      "Epoch [52/90]: 100%|██████████████████████████████████████████████████████████████| 5005/5005 [00:37<00:00, 135.26it/s]\n"
     ]
    },
    {
     "name": "stdout",
     "output_type": "stream",
     "text": [
      ">> Accuracy: 3.744242553859099 %\n",
      "-- Loss: 3.824603796005249\n",
      "-- Complete optimized function value: 7.2103071212768555\n"
     ]
    },
    {
     "name": "stderr",
     "output_type": "stream",
     "text": [
      "Epoch [53/90]: 100%|██████████████████████████████████████████████████████████████| 5005/5005 [00:37<00:00, 133.10it/s]\n"
     ]
    },
    {
     "name": "stdout",
     "output_type": "stream",
     "text": [
      ">> Accuracy: 3.744242553859099 %\n",
      "-- Loss: 3.824603796005249\n",
      "-- Complete optimized function value: 7.2103071212768555\n"
     ]
    },
    {
     "name": "stderr",
     "output_type": "stream",
     "text": [
      "Epoch [54/90]: 100%|██████████████████████████████████████████████████████████████| 5005/5005 [00:37<00:00, 134.31it/s]\n"
     ]
    },
    {
     "name": "stdout",
     "output_type": "stream",
     "text": [
      ">> Accuracy: 3.744242553859099 %\n",
      "-- Loss: 3.824603796005249\n",
      "-- Complete optimized function value: 7.2103071212768555\n"
     ]
    },
    {
     "name": "stderr",
     "output_type": "stream",
     "text": [
      "Epoch [55/90]: 100%|██████████████████████████████████████████████████████████████| 5005/5005 [00:37<00:00, 133.60it/s]\n"
     ]
    },
    {
     "name": "stdout",
     "output_type": "stream",
     "text": [
      ">> Accuracy: 3.744242553859099 %\n",
      "-- Loss: 3.824603796005249\n",
      "-- Complete optimized function value: 7.2103071212768555\n"
     ]
    },
    {
     "name": "stderr",
     "output_type": "stream",
     "text": [
      "Epoch [56/90]: 100%|██████████████████████████████████████████████████████████████| 5005/5005 [00:37<00:00, 134.91it/s]\n"
     ]
    },
    {
     "name": "stdout",
     "output_type": "stream",
     "text": [
      ">> Accuracy: 3.744242553859099 %\n",
      "-- Loss: 3.824603796005249\n",
      "-- Complete optimized function value: 7.2103071212768555\n"
     ]
    },
    {
     "name": "stderr",
     "output_type": "stream",
     "text": [
      "Epoch [57/90]: 100%|██████████████████████████████████████████████████████████████| 5005/5005 [00:37<00:00, 134.01it/s]\n"
     ]
    },
    {
     "name": "stdout",
     "output_type": "stream",
     "text": [
      ">> Accuracy: 3.744242553859099 %\n",
      "-- Loss: 3.824603796005249\n",
      "-- Complete optimized function value: 7.2103071212768555\n"
     ]
    },
    {
     "name": "stderr",
     "output_type": "stream",
     "text": [
      "Epoch [58/90]: 100%|██████████████████████████████████████████████████████████████| 5005/5005 [00:36<00:00, 136.44it/s]\n"
     ]
    },
    {
     "name": "stdout",
     "output_type": "stream",
     "text": [
      ">> Accuracy: 3.744242553859099 %\n",
      "-- Loss: 3.824603796005249\n",
      "-- Complete optimized function value: 7.2103071212768555\n"
     ]
    },
    {
     "name": "stderr",
     "output_type": "stream",
     "text": [
      "Epoch [59/90]: 100%|██████████████████████████████████████████████████████████████| 5005/5005 [00:37<00:00, 132.88it/s]\n"
     ]
    },
    {
     "name": "stdout",
     "output_type": "stream",
     "text": [
      ">> Accuracy: 3.744242553859099 %\n",
      "-- Loss: 3.824603796005249\n",
      "-- Complete optimized function value: 7.2103071212768555\n"
     ]
    },
    {
     "name": "stderr",
     "output_type": "stream",
     "text": [
      "Epoch [60/90]: 100%|██████████████████████████████████████████████████████████████| 5005/5005 [00:37<00:00, 131.85it/s]\n"
     ]
    },
    {
     "name": "stdout",
     "output_type": "stream",
     "text": [
      ">> Accuracy: 3.744242553859099 %\n",
      "-- Loss: 3.824603796005249\n",
      "-- Complete optimized function value: 7.2103071212768555\n"
     ]
    },
    {
     "name": "stderr",
     "output_type": "stream",
     "text": [
      "Epoch [61/90]: 100%|██████████████████████████████████████████████████████████████| 5005/5005 [00:37<00:00, 132.65it/s]\n"
     ]
    },
    {
     "name": "stdout",
     "output_type": "stream",
     "text": [
      ">> Accuracy: 21.73971074809139 %\n",
      "-- Loss: 3.626171588897705\n",
      "-- Complete optimized function value: 5.457347393035889\n"
     ]
    },
    {
     "name": "stderr",
     "output_type": "stream",
     "text": [
      "Epoch [62/90]: 100%|██████████████████████████████████████████████████████████████| 5005/5005 [00:37<00:00, 134.09it/s]\n"
     ]
    },
    {
     "name": "stdout",
     "output_type": "stream",
     "text": [
      ">> Accuracy: 39.7208950901795 %\n",
      "-- Loss: 4.230508327484131\n",
      "-- Complete optimized function value: 5.804958820343018\n"
     ]
    },
    {
     "name": "stderr",
     "output_type": "stream",
     "text": [
      "Epoch [63/90]: 100%|██████████████████████████████████████████████████████████████| 5005/5005 [00:37<00:00, 134.21it/s]\n"
     ]
    },
    {
     "name": "stdout",
     "output_type": "stream",
     "text": [
      ">> Accuracy: 50.66771154736268 %\n",
      "-- Loss: 4.467899322509766\n",
      "-- Complete optimized function value: 6.00691032409668\n"
     ]
    },
    {
     "name": "stderr",
     "output_type": "stream",
     "text": [
      "Epoch [64/90]: 100%|██████████████████████████████████████████████████████████████| 5005/5005 [00:37<00:00, 134.32it/s]\n"
     ]
    },
    {
     "name": "stdout",
     "output_type": "stream",
     "text": [
      ">> Accuracy: 53.93004971248869 %\n",
      "-- Loss: 4.578857898712158\n",
      "-- Complete optimized function value: 6.124823570251465\n"
     ]
    },
    {
     "name": "stderr",
     "output_type": "stream",
     "text": [
      "Epoch [65/90]: 100%|██████████████████████████████████████████████████████████████| 5005/5005 [00:40<00:00, 122.77it/s]\n"
     ]
    },
    {
     "name": "stdout",
     "output_type": "stream",
     "text": [
      ">> Accuracy: 55.183906547702215 %\n",
      "-- Loss: 4.636111259460449\n",
      "-- Complete optimized function value: 6.1935343742370605\n"
     ]
    },
    {
     "name": "stderr",
     "output_type": "stream",
     "text": [
      "Epoch [66/90]: 100%|██████████████████████████████████████████████████████████████| 5005/5005 [00:39<00:00, 125.90it/s]\n"
     ]
    },
    {
     "name": "stdout",
     "output_type": "stream",
     "text": [
      ">> Accuracy: 55.70710141613076 %\n",
      "-- Loss: 4.66750431060791\n",
      "-- Complete optimized function value: 6.23344087600708\n"
     ]
    },
    {
     "name": "stderr",
     "output_type": "stream",
     "text": [
      "Epoch [67/90]: 100%|██████████████████████████████████████████████████████████████| 5005/5005 [00:38<00:00, 130.04it/s]\n"
     ]
    },
    {
     "name": "stdout",
     "output_type": "stream",
     "text": [
      ">> Accuracy: 55.93931158076972 %\n",
      "-- Loss: 4.6853227615356445\n",
      "-- Complete optimized function value: 6.256555080413818\n"
     ]
    },
    {
     "name": "stderr",
     "output_type": "stream",
     "text": [
      "Epoch [68/90]: 100%|██████████████████████████████████████████████████████████████| 5005/5005 [00:38<00:00, 131.63it/s]\n"
     ]
    },
    {
     "name": "stdout",
     "output_type": "stream",
     "text": [
      ">> Accuracy: 56.053816559433706 %\n",
      "-- Loss: 4.695623874664307\n",
      "-- Complete optimized function value: 6.269917964935303\n"
     ]
    },
    {
     "name": "stderr",
     "output_type": "stream",
     "text": [
      "Epoch [69/90]: 100%|██████████████████████████████████████████████████████████████| 5005/5005 [00:39<00:00, 126.60it/s]\n"
     ]
    },
    {
     "name": "stdout",
     "output_type": "stream",
     "text": [
      ">> Accuracy: 56.11415217532141 %\n",
      "-- Loss: 4.701634407043457\n",
      "-- Complete optimized function value: 6.277636528015137\n"
     ]
    },
    {
     "name": "stderr",
     "output_type": "stream",
     "text": [
      "Epoch [70/90]: 100%|██████████████████████████████████████████████████████████████| 5005/5005 [00:38<00:00, 130.50it/s]\n"
     ]
    },
    {
     "name": "stdout",
     "output_type": "stream",
     "text": [
      ">> Accuracy: 56.14498344087851 %\n",
      "-- Loss: 4.705162048339844\n",
      "-- Complete optimized function value: 6.282098293304443\n"
     ]
    },
    {
     "name": "stderr",
     "output_type": "stream",
     "text": [
      "Epoch [71/90]: 100%|██████████████████████████████████████████████████████████████| 5005/5005 [00:38<00:00, 130.83it/s]\n"
     ]
    },
    {
     "name": "stdout",
     "output_type": "stream",
     "text": [
      ">> Accuracy: 56.160906423596614 %\n",
      "-- Loss: 4.7072367668151855\n",
      "-- Complete optimized function value: 6.284677982330322\n"
     ]
    },
    {
     "name": "stderr",
     "output_type": "stream",
     "text": [
      "Epoch [72/90]: 100%|██████████████████████████████████████████████████████████████| 5005/5005 [00:38<00:00, 130.97it/s]\n"
     ]
    },
    {
     "name": "stdout",
     "output_type": "stream",
     "text": [
      ">> Accuracy: 56.17581470643562 %\n",
      "-- Loss: 4.708456993103027\n",
      "-- Complete optimized function value: 6.286169052124023\n"
     ]
    },
    {
     "name": "stderr",
     "output_type": "stream",
     "text": [
      "Epoch [73/90]: 100%|██████████████████████████████████████████████████████████████| 5005/5005 [00:38<00:00, 130.82it/s]\n"
     ]
    },
    {
     "name": "stdout",
     "output_type": "stream",
     "text": [
      ">> Accuracy: 56.18533727453173 %\n",
      "-- Loss: 4.709179878234863\n",
      "-- Complete optimized function value: 6.287036895751953\n"
     ]
    },
    {
     "name": "stderr",
     "output_type": "stream",
     "text": [
      "Epoch [74/90]: 100%|██████████████████████████████████████████████████████████████| 5005/5005 [00:37<00:00, 132.85it/s]\n"
     ]
    },
    {
     "name": "stdout",
     "output_type": "stream",
     "text": [
      ">> Accuracy: 56.18830332033217 %\n",
      "-- Loss: 4.709600925445557\n",
      "-- Complete optimized function value: 6.287535667419434\n"
     ]
    },
    {
     "name": "stderr",
     "output_type": "stream",
     "text": [
      "Epoch [75/90]: 100%|██████████████████████████████████████████████████████████████| 5005/5005 [00:37<00:00, 132.36it/s]\n"
     ]
    },
    {
     "name": "stdout",
     "output_type": "stream",
     "text": [
      ">> Accuracy: 56.18861553567958 %\n",
      "-- Loss: 4.709853172302246\n",
      "-- Complete optimized function value: 6.2878289222717285\n"
     ]
    },
    {
     "name": "stderr",
     "output_type": "stream",
     "text": [
      "Epoch [76/90]: 100%|██████████████████████████████████████████████████████████████| 5005/5005 [00:38<00:00, 130.98it/s]\n"
     ]
    },
    {
     "name": "stdout",
     "output_type": "stream",
     "text": [
      ">> Accuracy: 56.18939607404811 %\n",
      "-- Loss: 4.7099995613098145\n",
      "-- Complete optimized function value: 6.287997245788574\n"
     ]
    },
    {
     "name": "stderr",
     "output_type": "stream",
     "text": [
      "Epoch [77/90]: 100%|██████████████████████████████████████████████████████████████| 5005/5005 [00:37<00:00, 134.54it/s]\n"
     ]
    },
    {
     "name": "stdout",
     "output_type": "stream",
     "text": [
      ">> Accuracy: 56.189708289395526 %\n",
      "-- Loss: 4.71008825302124\n",
      "-- Complete optimized function value: 6.288097858428955\n"
     ]
    },
    {
     "name": "stderr",
     "output_type": "stream",
     "text": [
      "Epoch [78/90]: 100%|██████████████████████████████████████████████████████████████| 5005/5005 [00:37<00:00, 132.41it/s]\n"
     ]
    },
    {
     "name": "stdout",
     "output_type": "stream",
     "text": [
      ">> Accuracy: 56.19033272009035 %\n",
      "-- Loss: 4.710139751434326\n",
      "-- Complete optimized function value: 6.288155555725098\n"
     ]
    },
    {
     "name": "stderr",
     "output_type": "stream",
     "text": [
      "Epoch [79/90]: 100%|██████████████████████████████████████████████████████████████| 5005/5005 [00:37<00:00, 133.18it/s]\n"
     ]
    },
    {
     "name": "stdout",
     "output_type": "stream",
     "text": [
      ">> Accuracy: 56.19080104311148 %\n",
      "-- Loss: 4.710169315338135\n",
      "-- Complete optimized function value: 6.288188457489014\n"
     ]
    },
    {
     "name": "stderr",
     "output_type": "stream",
     "text": [
      "Epoch [80/90]: 100%|██████████████████████████████████████████████████████████████| 5005/5005 [00:37<00:00, 133.55it/s]\n"
     ]
    },
    {
     "name": "stdout",
     "output_type": "stream",
     "text": [
      ">> Accuracy: 56.19080104311148 %\n",
      "-- Loss: 4.710188388824463\n",
      "-- Complete optimized function value: 6.288209438323975\n"
     ]
    },
    {
     "name": "stderr",
     "output_type": "stream",
     "text": [
      "Epoch [81/90]: 100%|██████████████████████████████████████████████████████████████| 5005/5005 [00:37<00:00, 132.59it/s]\n"
     ]
    },
    {
     "name": "stdout",
     "output_type": "stream",
     "text": [
      ">> Accuracy: 56.19095715078518 %\n",
      "-- Loss: 4.710197925567627\n",
      "-- Complete optimized function value: 6.288219928741455\n"
     ]
    },
    {
     "name": "stderr",
     "output_type": "stream",
     "text": [
      "Epoch [82/90]: 100%|██████████████████████████████████████████████████████████████| 5005/5005 [00:37<00:00, 132.65it/s]\n"
     ]
    },
    {
     "name": "stdout",
     "output_type": "stream",
     "text": [
      ">> Accuracy: 56.19103520462203 %\n",
      "-- Loss: 4.710204124450684\n",
      "-- Complete optimized function value: 6.288226127624512\n"
     ]
    },
    {
     "name": "stderr",
     "output_type": "stream",
     "text": [
      "Epoch [83/90]: 100%|██████████████████████████████████████████████████████████████| 5005/5005 [00:37<00:00, 135.18it/s]\n"
     ]
    },
    {
     "name": "stdout",
     "output_type": "stream",
     "text": [
      ">> Accuracy: 56.19111325845889 %\n",
      "-- Loss: 4.710208892822266\n",
      "-- Complete optimized function value: 6.288231372833252\n"
     ]
    },
    {
     "name": "stderr",
     "output_type": "stream",
     "text": [
      "Epoch [84/90]: 100%|██████████████████████████████████████████████████████████████| 5005/5005 [00:38<00:00, 130.70it/s]\n"
     ]
    },
    {
     "name": "stdout",
     "output_type": "stream",
     "text": [
      ">> Accuracy: 56.191269366132595 %\n",
      "-- Loss: 4.710211277008057\n",
      "-- Complete optimized function value: 6.288234233856201\n"
     ]
    },
    {
     "name": "stderr",
     "output_type": "stream",
     "text": [
      "Epoch [85/90]: 100%|██████████████████████████████████████████████████████████████| 5005/5005 [00:37<00:00, 131.79it/s]\n"
     ]
    },
    {
     "name": "stdout",
     "output_type": "stream",
     "text": [
      ">> Accuracy: 56.191347419969446 %\n",
      "-- Loss: 4.710212707519531\n",
      "-- Complete optimized function value: 6.288235664367676\n"
     ]
    },
    {
     "name": "stderr",
     "output_type": "stream",
     "text": [
      "Epoch [86/90]: 100%|███████████████████████████████████████████████████████████████| 5005/5005 [00:55<00:00, 90.30it/s]\n"
     ]
    },
    {
     "name": "stdout",
     "output_type": "stream",
     "text": [
      ">> Accuracy: 56.191347419969446 %\n",
      "-- Loss: 4.7102131843566895\n",
      "-- Complete optimized function value: 6.288236141204834\n"
     ]
    },
    {
     "name": "stderr",
     "output_type": "stream",
     "text": [
      "Epoch [87/90]: 100%|███████████████████████████████████████████████████████████████| 5005/5005 [00:50<00:00, 98.15it/s]\n"
     ]
    },
    {
     "name": "stdout",
     "output_type": "stream",
     "text": [
      ">> Accuracy: 56.191269366132595 %\n",
      "-- Loss: 4.710213661193848\n",
      "-- Complete optimized function value: 6.288236618041992\n"
     ]
    },
    {
     "name": "stderr",
     "output_type": "stream",
     "text": [
      "Epoch [88/90]: 100%|██████████████████████████████████████████████████████████████| 5005/5005 [00:45<00:00, 111.00it/s]\n"
     ]
    },
    {
     "name": "stdout",
     "output_type": "stream",
     "text": [
      ">> Accuracy: 56.191269366132595 %\n",
      "-- Loss: 4.710214614868164\n",
      "-- Complete optimized function value: 6.288237571716309\n"
     ]
    },
    {
     "name": "stderr",
     "output_type": "stream",
     "text": [
      "Epoch [89/90]: 100%|██████████████████████████████████████████████████████████████| 5005/5005 [00:41<00:00, 119.92it/s]\n"
     ]
    },
    {
     "name": "stdout",
     "output_type": "stream",
     "text": [
      ">> Accuracy: 56.191269366132595 %\n",
      "-- Loss: 4.710214614868164\n",
      "-- Complete optimized function value: 6.288237571716309\n"
     ]
    },
    {
     "name": "stderr",
     "output_type": "stream",
     "text": [
      "Epoch [90/90]: 100%|██████████████████████████████████████████████████████████████| 5005/5005 [00:39<00:00, 127.08it/s]"
     ]
    },
    {
     "name": "stdout",
     "output_type": "stream",
     "text": [
      ">> Accuracy: 56.191269366132595 %\n",
      "-- Loss: 4.710214614868164\n",
      "-- Complete optimized function value: 6.288237571716309\n",
      "Step 9/9 completed.\n"
     ]
    },
    {
     "name": "stderr",
     "output_type": "stream",
     "text": [
      "\n"
     ]
    }
   ],
   "source": [
    "# Entraînement des modèles\n",
    "for training_index, weight_decay_parameter in enumerate(weight_decay_parameters) :\n",
    "\n",
    "    print(f\"Processing step {training_index+1}/{len(weight_decay_parameters)}, weight decay = {weight_decay_parameter:.3e}.\")\n",
    "    \n",
    "    # On définit le modèle\n",
    "    model = LogisticRegression(input_size=input_size, num_classes=num_classes) \n",
    "    model = model.to(DEVICE)\n",
    "\n",
    "    # Définition de la fonction de loss et de l'optimiseur\n",
    "    loss_function = nn.CrossEntropyLoss() \n",
    "    optimizer = torch.optim.SGD(model.parameters(), lr=learning_rate, momentum=momentum, weight_decay=weight_decay_parameter)\n",
    "    scheduler = torch.optim.lr_scheduler.StepLR(optimizer, step_size=lr_decay_step, gamma=decay_rate)\n",
    "\n",
    "    # Définition du répertoire associé\n",
    "    folder_path = os.path.join(models_folder, f\"weight_decay_{weight_decay_parameter:.3e}\")\n",
    "    if not os.path.exists(folder_path):\n",
    "        os.makedirs(folder_path)\n",
    "    \n",
    "    # Initialisation des différentes variables pour stocker les éléments intéressants\n",
    "    accuracy_history = []\n",
    "    loss_history = torch.tensor([]).to(DEVICE) \n",
    "    complete_optimized_function_value_history = torch.tensor([]).to(DEVICE) \n",
    "    mean_loss_class = torch.tensor([]).to(DEVICE) \n",
    "    weights_epoch = torch.tensor([]).to(DEVICE) \n",
    "\n",
    "    # Obtention du nombre d'images par classe\n",
    "    nb_image_class = torch.bincount(dataset.labels).to(DEVICE)\n",
    "    \n",
    "    for epoch in range(num_epochs): \n",
    "\n",
    "        # Définition des répertoires associés\n",
    "        models_path = os.path.join(folder_path, \"models\")\n",
    "        data_path = os.path.join(folder_path, \"data\")\n",
    "        if not os.path.exists(models_path):\n",
    "            os.makedirs(models_path)\n",
    "        if not os.path.exists(data_path):\n",
    "            os.makedirs(data_path)\n",
    "            \n",
    "        # Initialisation du nombre de prédictions correctes\n",
    "        correct_predictions = 0\n",
    "    \n",
    "        # Initialisation du vecteur de la somme des erreurs pour chaque classe\n",
    "        class_loss = torch.zeros(1000, device=DEVICE)\n",
    "        \n",
    "        for inputs, labels in tqdm(train_loader, desc=f\"Epoch [{epoch+1}/{num_epochs}]\"):\n",
    "            \n",
    "            # Chargement dans le bon appareil\n",
    "            inputs = inputs.to(DEVICE) \n",
    "            labels = labels.to(DEVICE)\n",
    "            \n",
    "            # Forward pass \n",
    "            outputs = model(inputs) \n",
    "            loss = loss_function(outputs, labels)\n",
    "            complete_optimized_function_value = loss + weight_decay_parameter * sum(t.pow(2).sum() for t in model.state_dict().values()) / 2\n",
    "    \n",
    "            # Calcul des erreurs pour chaque image et ajout dans class_loss\n",
    "            input_loss = nn.functional.cross_entropy(outputs,labels,reduction='none') + weight_decay_parameter * sum(t.pow(2).sum() for t in model.state_dict().values()) / 2\n",
    "            class_loss.index_add_(0,labels,input_loss)\n",
    "            \n",
    "            # Ajout des prédictions correctes au total\n",
    "            _, predicted = torch.max(outputs, 1)\n",
    "            correct_predictions += (predicted == labels).sum().item()\n",
    "    \n",
    "            # Backward and optimize \n",
    "            optimizer.zero_grad() \n",
    "            loss.backward() \n",
    "            optimizer.step()\n",
    "        \n",
    "        # Modification du lerning rate\n",
    "        scheduler.step()\n",
    "    \n",
    "        # Sauvegarde du modèle intermédiaire\n",
    "        torch.save(model.state_dict(), f'{models_path}/epoch-{epoch}.pt')\n",
    "    \n",
    "        # Calcul de la précision\n",
    "        accuracy = 100 * correct_predictions / len(dataset)\n",
    "    \n",
    "        # Sauvegarde des différentes mesures\n",
    "        accuracy_history.append(accuracy)\n",
    "        loss_history = torch.cat((loss_history, loss.unsqueeze(0)), dim=0)\n",
    "        complete_optimized_function_value_history = torch.cat((complete_optimized_function_value_history, complete_optimized_function_value.unsqueeze(0)), dim=0)\n",
    "        mean_loss_class = torch.cat((mean_loss_class, (class_loss/nb_image_class).detach().unsqueeze(0)), dim=0)\n",
    "        weights_epoch = torch.cat((weights_epoch, sum(t.abs().sum() for t in model.state_dict().values()).unsqueeze(0)), dim=0)\n",
    "        \n",
    "        # Affichage\n",
    "        print(f'>> Accuracy: {accuracy} %\\n-- Loss: {loss.item()}\\n-- Complete optimized function value: {complete_optimized_function_value.item()}')\n",
    "            \n",
    "    # Sauvegarde de toutes les données importantes liées à l'entraînement du modèle\n",
    "    torch.save(accuracy_history, f'{data_path}/accuracy.pt')\n",
    "    torch.save(loss_history, f'{data_path}/loss.pt')\n",
    "    torch.save(complete_optimized_function_value, f'{data_path}/complete_optimized_function_values.pt')\n",
    "    torch.save(mean_loss_class, f'{data_path}/mean_loss_class.pt')\n",
    "    torch.save(weights_epoch, f'{data_path}/weights.pt')\n",
    "\n",
    "    print(f\"Step {training_index+1}/{len(weight_decay_parameters)} completed.\")"
   ]
  },
  {
   "cell_type": "code",
   "execution_count": null,
   "id": "4246a372-f0de-4a7a-80e7-3cebefc1a419",
   "metadata": {},
   "outputs": [],
   "source": []
  },
  {
   "cell_type": "code",
   "execution_count": null,
   "id": "9fc12d89-f822-46b6-84a9-051b16575397",
   "metadata": {},
   "outputs": [],
   "source": []
  }
 ],
 "metadata": {
  "kernelspec": {
   "display_name": "Python 3 (ipykernel)",
   "language": "python",
   "name": "python3"
  },
  "language_info": {
   "codemirror_mode": {
    "name": "ipython",
    "version": 3
   },
   "file_extension": ".py",
   "mimetype": "text/x-python",
   "name": "python",
   "nbconvert_exporter": "python",
   "pygments_lexer": "ipython3",
   "version": "3.11.6"
  }
 },
 "nbformat": 4,
 "nbformat_minor": 5
}
