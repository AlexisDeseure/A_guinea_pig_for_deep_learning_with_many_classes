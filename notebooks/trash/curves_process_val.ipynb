{
 "cells": [
  {
   "cell_type": "code",
   "execution_count": 1,
   "id": "898a37ef-dc51-44e1-b695-b7f28c3c109d",
   "metadata": {},
   "outputs": [],
   "source": [
    "import torch\n",
    "import torch.nn as nn\n",
    "from torchvision import datasets, transforms\n",
    "from torchvision.models import resnet50, ResNet50_Weights\n",
    "from torch.utils.data import DataLoader, Dataset\n",
    "from tqdm import tqdm\n",
    "import matplotlib.pyplot as plt\n",
    "import json\n",
    "import os"
   ]
  },
  {
   "cell_type": "code",
   "execution_count": 2,
   "id": "07a50aaa-f76e-46e5-b49d-e6149859d3d7",
   "metadata": {},
   "outputs": [],
   "source": [
    "# Set device\n",
    "DEVICE = torch.device(\"cuda\" if torch.cuda.is_available() else \"cpu\")"
   ]
  },
  {
   "cell_type": "code",
   "execution_count": 3,
   "id": "8a709c25-8984-47e1-b1b6-62a0f9af01f8",
   "metadata": {},
   "outputs": [],
   "source": [
    "class PenultimateOutputsDataset(Dataset):\n",
    "    def __init__(self, folder_path, device='cpu'):\n",
    "        with open(f'{folder_path}/penultimate_layer_outputs/data.json') as data:\n",
    "            self.data_tensors = json.load(data)\n",
    "        self.file_list = [f'{folder_path}/penultimate_layer_outputs/penultimate_layer_outputs_{index}.pt' for index in range(self.data_tensors['last_file_indice']+1)]\n",
    "        self.labels = torch.load(f'{folder_path}/penultimate_layer_labels.pt', map_location=device)\n",
    "        self.length = self.data_tensors['min_size_segmentation']*self.data_tensors['last_file_indice']+torch.load(f'{folder_path}/penultimate_layer_outputs/penultimate_layer_outputs_{self.data_tensors[\"last_file_indice\"]}.pt', map_location=device).shape[0]\n",
    "        self.device = device\n",
    "        self.data_cache = None\n",
    "        \n",
    "    def __len__(self):\n",
    "        return self.length\n",
    "\n",
    "    def __getitem__(self, index):\n",
    "        if index < 0 or index >= self.length :\n",
    "           raise ValueError(f'Index need to be between 0 and {self.length-1}')\n",
    "        index_file = index//self.data_tensors['min_size_segmentation']\n",
    "        index_in_file = index%self.data_tensors['min_size_segmentation']\n",
    "        if (self.data_cache is None) or self.data_cache[0] != index_file :\n",
    "            file = self.file_list[index_file]\n",
    "            tensors = torch.load(file, map_location=self.device)\n",
    "            self.data_cache = (index_file, tensors)\n",
    "        tensor = self.data_cache[1][index_in_file]\n",
    "        label = self.labels[index]\n",
    "        return tensor, label\n"
   ]
  },
  {
   "cell_type": "code",
   "execution_count": 4,
   "id": "4dadb89e-b6ba-489f-95c9-40d61a078224",
   "metadata": {},
   "outputs": [],
   "source": [
    "outputs_folder = \"../data/saved_outputs/val\"\n",
    "folder_models = \"same_parameter_real_optimized_function\"\n",
    "sub_folder = \"validation_results\"\n",
    "batch_size = 256\n",
    "nb_epoque = 90\n",
    "nb_classe = 1000\n",
    "input_size = 2048\n",
    "\n",
    "\n",
    "weight_decay_parameter = 1e-4\n",
    "learning_rate = 0.1\n",
    "momentum = 0.9\n",
    "lr_decay_step = 30\n",
    "decay_rate = 0.1"
   ]
  },
  {
   "cell_type": "code",
   "execution_count": 5,
   "id": "1cddb3d1-794f-49b6-9fd4-8385289ec3dc",
   "metadata": {},
   "outputs": [],
   "source": [
    "moyenne_erreur_classe_model = []\n",
    "loss_epoch = []\n",
    "weights_epoch = []\n",
    "dataset = PenultimateOutputsDataset(outputs_folder)\n",
    "train_loader = DataLoader(dataset, batch_size=batch_size, pin_memory=True)\n",
    "nb_image_classe = torch.bincount(dataset.labels).to(DEVICE) # compte le nombre de tous les entiers compris entre 0 et l'entier maximum dans le tenseur d'origine"
   ]
  },
  {
   "cell_type": "code",
   "execution_count": 6,
   "id": "dbc9b9de-afd1-4a9c-a3be-cabf43ea263b",
   "metadata": {},
   "outputs": [],
   "source": [
    "class LogisticRegression(nn.Module): \n",
    "    def __init__(self, input_size, num_classes): \n",
    "        super(LogisticRegression, self).__init__() \n",
    "        self.linear = nn.Linear(input_size, num_classes) \n",
    "    def forward(self, x): \n",
    "        out = self.linear(x) \n",
    "        return out\n",
    "    def load_weights(self, weights) :\n",
    "        self.load_state_dict(weights)"
   ]
  },
  {
   "cell_type": "code",
   "execution_count": null,
   "id": "8902eb1d-baa4-4916-821a-4a72f5748434",
   "metadata": {},
   "outputs": [
    {
     "name": "stderr",
     "output_type": "stream",
     "text": [
      "Epoch [1/90]: 100%|█████████████████████████████████████████████████████████████████| 196/196 [00:01<00:00, 190.94it/s]\n"
     ]
    },
    {
     "name": "stdout",
     "output_type": "stream",
     "text": [
      "Accuracy : 52.444 %\n",
      "Global minimized function value : 36.010780334472656\n"
     ]
    },
    {
     "name": "stderr",
     "output_type": "stream",
     "text": [
      "Epoch [2/90]: 100%|█████████████████████████████████████████████████████████████████| 196/196 [00:00<00:00, 291.23it/s]\n"
     ]
    },
    {
     "name": "stdout",
     "output_type": "stream",
     "text": [
      "Accuracy : 59.318 %\n",
      "Global minimized function value : 27.158344268798828\n"
     ]
    },
    {
     "name": "stderr",
     "output_type": "stream",
     "text": [
      "Epoch [3/90]: 100%|█████████████████████████████████████████████████████████████████| 196/196 [00:00<00:00, 254.38it/s]\n"
     ]
    },
    {
     "name": "stdout",
     "output_type": "stream",
     "text": [
      "Accuracy : 57.668 %\n",
      "Global minimized function value : 21.90882110595703\n"
     ]
    },
    {
     "name": "stderr",
     "output_type": "stream",
     "text": [
      "Epoch [4/90]: 100%|█████████████████████████████████████████████████████████████████| 196/196 [00:00<00:00, 279.00it/s]\n"
     ]
    },
    {
     "name": "stdout",
     "output_type": "stream",
     "text": [
      "Accuracy : 54.896 %\n",
      "Global minimized function value : 20.321298599243164\n"
     ]
    },
    {
     "name": "stderr",
     "output_type": "stream",
     "text": [
      "Epoch [5/90]: 100%|█████████████████████████████████████████████████████████████████| 196/196 [00:00<00:00, 280.00it/s]\n"
     ]
    },
    {
     "name": "stdout",
     "output_type": "stream",
     "text": [
      "Accuracy : 54.122 %\n",
      "Global minimized function value : 20.33029556274414\n"
     ]
    },
    {
     "name": "stderr",
     "output_type": "stream",
     "text": [
      "Epoch [6/90]: 100%|█████████████████████████████████████████████████████████████████| 196/196 [00:00<00:00, 281.21it/s]\n"
     ]
    },
    {
     "name": "stdout",
     "output_type": "stream",
     "text": [
      "Accuracy : 54.428 %\n",
      "Global minimized function value : 20.56524085998535\n"
     ]
    },
    {
     "name": "stderr",
     "output_type": "stream",
     "text": [
      "Epoch [7/90]: 100%|█████████████████████████████████████████████████████████████████| 196/196 [00:00<00:00, 281.18it/s]\n"
     ]
    },
    {
     "name": "stdout",
     "output_type": "stream",
     "text": [
      "Accuracy : 54.952 %\n",
      "Global minimized function value : 20.555532455444336\n"
     ]
    },
    {
     "name": "stderr",
     "output_type": "stream",
     "text": [
      "Epoch [8/90]: 100%|█████████████████████████████████████████████████████████████████| 196/196 [00:00<00:00, 235.69it/s]\n"
     ]
    },
    {
     "name": "stdout",
     "output_type": "stream",
     "text": [
      "Accuracy : 54.41 %\n",
      "Global minimized function value : 20.39168357849121\n"
     ]
    },
    {
     "name": "stderr",
     "output_type": "stream",
     "text": [
      "Epoch [9/90]: 100%|█████████████████████████████████████████████████████████████████| 196/196 [00:00<00:00, 235.29it/s]\n"
     ]
    },
    {
     "name": "stdout",
     "output_type": "stream",
     "text": [
      "Accuracy : 54.246 %\n",
      "Global minimized function value : 20.57498550415039\n"
     ]
    },
    {
     "name": "stderr",
     "output_type": "stream",
     "text": [
      "Epoch [10/90]: 100%|████████████████████████████████████████████████████████████████| 196/196 [00:00<00:00, 249.94it/s]\n"
     ]
    },
    {
     "name": "stdout",
     "output_type": "stream",
     "text": [
      "Accuracy : 54.188 %\n",
      "Global minimized function value : 20.58087730407715\n"
     ]
    },
    {
     "name": "stderr",
     "output_type": "stream",
     "text": [
      "Epoch [11/90]: 100%|████████████████████████████████████████████████████████████████| 196/196 [00:00<00:00, 237.86it/s]\n"
     ]
    },
    {
     "name": "stdout",
     "output_type": "stream",
     "text": [
      "Accuracy : 54.316 %\n",
      "Global minimized function value : 20.77569580078125\n"
     ]
    },
    {
     "name": "stderr",
     "output_type": "stream",
     "text": [
      "Epoch [12/90]: 100%|████████████████████████████████████████████████████████████████| 196/196 [00:00<00:00, 214.32it/s]\n"
     ]
    },
    {
     "name": "stdout",
     "output_type": "stream",
     "text": [
      "Accuracy : 54.496 %\n",
      "Global minimized function value : 20.536945343017578\n"
     ]
    },
    {
     "name": "stderr",
     "output_type": "stream",
     "text": [
      "Epoch [13/90]: 100%|████████████████████████████████████████████████████████████████| 196/196 [00:00<00:00, 244.39it/s]\n"
     ]
    },
    {
     "name": "stdout",
     "output_type": "stream",
     "text": [
      "Accuracy : 54.566 %\n",
      "Global minimized function value : 20.493650436401367\n"
     ]
    },
    {
     "name": "stderr",
     "output_type": "stream",
     "text": [
      "Epoch [14/90]: 100%|████████████████████████████████████████████████████████████████| 196/196 [00:00<00:00, 213.85it/s]\n"
     ]
    },
    {
     "name": "stdout",
     "output_type": "stream",
     "text": [
      "Accuracy : 54.254 %\n",
      "Global minimized function value : 20.58327293395996\n"
     ]
    },
    {
     "name": "stderr",
     "output_type": "stream",
     "text": [
      "Epoch [15/90]: 100%|████████████████████████████████████████████████████████████████| 196/196 [00:00<00:00, 225.15it/s]\n"
     ]
    },
    {
     "name": "stdout",
     "output_type": "stream",
     "text": [
      "Accuracy : 54.428 %\n",
      "Global minimized function value : 20.394479751586914\n"
     ]
    },
    {
     "name": "stderr",
     "output_type": "stream",
     "text": [
      "Epoch [16/90]: 100%|████████████████████████████████████████████████████████████████| 196/196 [00:00<00:00, 210.75it/s]\n"
     ]
    },
    {
     "name": "stdout",
     "output_type": "stream",
     "text": [
      "Accuracy : 54.254 %\n",
      "Global minimized function value : 20.585134506225586\n"
     ]
    },
    {
     "name": "stderr",
     "output_type": "stream",
     "text": [
      "Epoch [17/90]: 100%|████████████████████████████████████████████████████████████████| 196/196 [00:00<00:00, 239.74it/s]\n"
     ]
    },
    {
     "name": "stdout",
     "output_type": "stream",
     "text": [
      "Accuracy : 54.338 %\n",
      "Global minimized function value : 20.51688575744629\n"
     ]
    },
    {
     "name": "stderr",
     "output_type": "stream",
     "text": [
      "Epoch [18/90]: 100%|████████████████████████████████████████████████████████████████| 196/196 [00:00<00:00, 226.72it/s]\n"
     ]
    },
    {
     "name": "stdout",
     "output_type": "stream",
     "text": [
      "Accuracy : 54.402 %\n",
      "Global minimized function value : 20.634939193725586\n"
     ]
    },
    {
     "name": "stderr",
     "output_type": "stream",
     "text": [
      "Epoch [19/90]: 100%|████████████████████████████████████████████████████████████████| 196/196 [00:00<00:00, 211.43it/s]\n"
     ]
    },
    {
     "name": "stdout",
     "output_type": "stream",
     "text": [
      "Accuracy : 54.588 %\n",
      "Global minimized function value : 20.551633834838867\n"
     ]
    },
    {
     "name": "stderr",
     "output_type": "stream",
     "text": [
      "Epoch [20/90]: 100%|████████████████████████████████████████████████████████████████| 196/196 [00:00<00:00, 232.19it/s]\n"
     ]
    },
    {
     "name": "stdout",
     "output_type": "stream",
     "text": [
      "Accuracy : 54.292 %\n",
      "Global minimized function value : 20.462432861328125\n"
     ]
    },
    {
     "name": "stderr",
     "output_type": "stream",
     "text": [
      "Epoch [21/90]: 100%|████████████████████████████████████████████████████████████████| 196/196 [00:00<00:00, 219.98it/s]\n"
     ]
    },
    {
     "name": "stdout",
     "output_type": "stream",
     "text": [
      "Accuracy : 54.152 %\n",
      "Global minimized function value : 20.531896591186523\n"
     ]
    },
    {
     "name": "stderr",
     "output_type": "stream",
     "text": [
      "Epoch [22/90]: 100%|████████████████████████████████████████████████████████████████| 196/196 [00:00<00:00, 223.87it/s]\n"
     ]
    },
    {
     "name": "stdout",
     "output_type": "stream",
     "text": [
      "Accuracy : 54.45 %\n",
      "Global minimized function value : 20.557849884033203\n"
     ]
    },
    {
     "name": "stderr",
     "output_type": "stream",
     "text": [
      "Epoch [23/90]: 100%|████████████████████████████████████████████████████████████████| 196/196 [00:00<00:00, 223.21it/s]\n"
     ]
    },
    {
     "name": "stdout",
     "output_type": "stream",
     "text": [
      "Accuracy : 54.586 %\n",
      "Global minimized function value : 20.513111114501953\n"
     ]
    },
    {
     "name": "stderr",
     "output_type": "stream",
     "text": [
      "Epoch [24/90]: 100%|████████████████████████████████████████████████████████████████| 196/196 [00:00<00:00, 220.97it/s]\n"
     ]
    },
    {
     "name": "stdout",
     "output_type": "stream",
     "text": [
      "Accuracy : 54.45 %\n",
      "Global minimized function value : 20.51276206970215\n"
     ]
    },
    {
     "name": "stderr",
     "output_type": "stream",
     "text": [
      "Epoch [25/90]: 100%|████████████████████████████████████████████████████████████████| 196/196 [00:00<00:00, 206.64it/s]\n"
     ]
    },
    {
     "name": "stdout",
     "output_type": "stream",
     "text": [
      "Accuracy : 54.248 %\n",
      "Global minimized function value : 20.46067237854004\n"
     ]
    },
    {
     "name": "stderr",
     "output_type": "stream",
     "text": [
      "Epoch [26/90]: 100%|████████████████████████████████████████████████████████████████| 196/196 [00:00<00:00, 197.67it/s]\n"
     ]
    },
    {
     "name": "stdout",
     "output_type": "stream",
     "text": [
      "Accuracy : 54.214 %\n",
      "Global minimized function value : 20.60856056213379\n"
     ]
    },
    {
     "name": "stderr",
     "output_type": "stream",
     "text": [
      "Epoch [27/90]: 100%|████████████████████████████████████████████████████████████████| 196/196 [00:00<00:00, 227.12it/s]\n"
     ]
    },
    {
     "name": "stdout",
     "output_type": "stream",
     "text": [
      "Accuracy : 54.33 %\n",
      "Global minimized function value : 20.727508544921875\n"
     ]
    },
    {
     "name": "stderr",
     "output_type": "stream",
     "text": [
      "Epoch [28/90]: 100%|████████████████████████████████████████████████████████████████| 196/196 [00:00<00:00, 213.85it/s]\n"
     ]
    },
    {
     "name": "stdout",
     "output_type": "stream",
     "text": [
      "Accuracy : 54.522 %\n",
      "Global minimized function value : 20.56366539001465\n"
     ]
    },
    {
     "name": "stderr",
     "output_type": "stream",
     "text": [
      "Epoch [29/90]: 100%|████████████████████████████████████████████████████████████████| 196/196 [00:00<00:00, 203.91it/s]\n"
     ]
    },
    {
     "name": "stdout",
     "output_type": "stream",
     "text": [
      "Accuracy : 54.538 %\n",
      "Global minimized function value : 20.441617965698242\n"
     ]
    },
    {
     "name": "stderr",
     "output_type": "stream",
     "text": [
      "Epoch [30/90]: 100%|████████████████████████████████████████████████████████████████| 196/196 [00:00<00:00, 244.09it/s]\n"
     ]
    },
    {
     "name": "stdout",
     "output_type": "stream",
     "text": [
      "Accuracy : 54.14 %\n",
      "Global minimized function value : 20.567800521850586\n"
     ]
    },
    {
     "name": "stderr",
     "output_type": "stream",
     "text": [
      "Epoch [31/90]: 100%|████████████████████████████████████████████████████████████████| 196/196 [00:00<00:00, 225.53it/s]\n"
     ]
    },
    {
     "name": "stdout",
     "output_type": "stream",
     "text": [
      "Accuracy : 72.754 %\n",
      "Global minimized function value : 14.10484790802002\n"
     ]
    },
    {
     "name": "stderr",
     "output_type": "stream",
     "text": [
      "Epoch [32/90]: 100%|████████████████████████████████████████████████████████████████| 196/196 [00:00<00:00, 242.57it/s]\n"
     ]
    },
    {
     "name": "stdout",
     "output_type": "stream",
     "text": [
      "Accuracy : 75.382 %\n",
      "Global minimized function value : 14.587653160095215\n"
     ]
    },
    {
     "name": "stderr",
     "output_type": "stream",
     "text": [
      "Epoch [33/90]: 100%|████████████████████████████████████████████████████████████████| 196/196 [00:00<00:00, 204.91it/s]\n"
     ]
    },
    {
     "name": "stdout",
     "output_type": "stream",
     "text": [
      "Accuracy : 76.47 %\n",
      "Global minimized function value : 13.952616691589355\n"
     ]
    },
    {
     "name": "stderr",
     "output_type": "stream",
     "text": [
      "Epoch [34/90]: 100%|████████████████████████████████████████████████████████████████| 196/196 [00:01<00:00, 195.70it/s]\n"
     ]
    },
    {
     "name": "stdout",
     "output_type": "stream",
     "text": [
      "Accuracy : 77.066 %\n",
      "Global minimized function value : 12.957083702087402\n"
     ]
    },
    {
     "name": "stderr",
     "output_type": "stream",
     "text": [
      "Epoch [35/90]: 100%|████████████████████████████████████████████████████████████████| 196/196 [00:00<00:00, 226.59it/s]\n"
     ]
    },
    {
     "name": "stdout",
     "output_type": "stream",
     "text": [
      "Accuracy : 77.492 %\n",
      "Global minimized function value : 11.898510932922363\n"
     ]
    },
    {
     "name": "stderr",
     "output_type": "stream",
     "text": [
      "Epoch [36/90]: 100%|████████████████████████████████████████████████████████████████| 196/196 [00:00<00:00, 222.34it/s]\n"
     ]
    },
    {
     "name": "stdout",
     "output_type": "stream",
     "text": [
      "Accuracy : 77.678 %\n",
      "Global minimized function value : 10.839289665222168\n"
     ]
    },
    {
     "name": "stderr",
     "output_type": "stream",
     "text": [
      "Epoch [37/90]: 100%|████████████████████████████████████████████████████████████████| 196/196 [00:00<00:00, 220.47it/s]\n"
     ]
    },
    {
     "name": "stdout",
     "output_type": "stream",
     "text": [
      "Accuracy : 77.908 %\n",
      "Global minimized function value : 9.80947208404541\n"
     ]
    },
    {
     "name": "stderr",
     "output_type": "stream",
     "text": [
      "Epoch [38/90]: 100%|████████████████████████████████████████████████████████████████| 196/196 [00:01<00:00, 187.64it/s]\n"
     ]
    },
    {
     "name": "stdout",
     "output_type": "stream",
     "text": [
      "Accuracy : 78.046 %\n",
      "Global minimized function value : 8.846040725708008\n"
     ]
    },
    {
     "name": "stderr",
     "output_type": "stream",
     "text": [
      "Epoch [39/90]: 100%|████████████████████████████████████████████████████████████████| 196/196 [00:00<00:00, 243.93it/s]\n"
     ]
    },
    {
     "name": "stdout",
     "output_type": "stream",
     "text": [
      "Accuracy : 78.198 %\n",
      "Global minimized function value : 7.973069667816162\n"
     ]
    },
    {
     "name": "stderr",
     "output_type": "stream",
     "text": [
      "Epoch [40/90]: 100%|████████████████████████████████████████████████████████████████| 196/196 [00:00<00:00, 248.41it/s]\n"
     ]
    },
    {
     "name": "stdout",
     "output_type": "stream",
     "text": [
      "Accuracy : 78.158 %\n",
      "Global minimized function value : 7.178330898284912\n"
     ]
    },
    {
     "name": "stderr",
     "output_type": "stream",
     "text": [
      "Epoch [41/90]: 100%|████████████████████████████████████████████████████████████████| 196/196 [00:00<00:00, 199.28it/s]\n"
     ]
    },
    {
     "name": "stdout",
     "output_type": "stream",
     "text": [
      "Accuracy : 78.348 %\n",
      "Global minimized function value : 6.471495151519775\n"
     ]
    },
    {
     "name": "stderr",
     "output_type": "stream",
     "text": [
      "Epoch [42/90]: 100%|████████████████████████████████████████████████████████████████| 196/196 [00:00<00:00, 198.35it/s]\n"
     ]
    },
    {
     "name": "stdout",
     "output_type": "stream",
     "text": [
      "Accuracy : 78.312 %\n",
      "Global minimized function value : 5.872254848480225\n"
     ]
    },
    {
     "name": "stderr",
     "output_type": "stream",
     "text": [
      "Epoch [43/90]: 100%|████████████████████████████████████████████████████████████████| 196/196 [00:00<00:00, 214.21it/s]\n"
     ]
    },
    {
     "name": "stdout",
     "output_type": "stream",
     "text": [
      "Accuracy : 78.34 %\n",
      "Global minimized function value : 5.380127906799316\n"
     ]
    },
    {
     "name": "stderr",
     "output_type": "stream",
     "text": [
      "Epoch [44/90]: 100%|████████████████████████████████████████████████████████████████| 196/196 [00:00<00:00, 199.49it/s]\n"
     ]
    },
    {
     "name": "stdout",
     "output_type": "stream",
     "text": [
      "Accuracy : 78.268 %\n",
      "Global minimized function value : 4.989279270172119\n"
     ]
    },
    {
     "name": "stderr",
     "output_type": "stream",
     "text": [
      "Epoch [45/90]: 100%|████████████████████████████████████████████████████████████████| 196/196 [00:00<00:00, 218.63it/s]\n"
     ]
    },
    {
     "name": "stdout",
     "output_type": "stream",
     "text": [
      "Accuracy : 78.298 %\n",
      "Global minimized function value : 4.671684265136719\n"
     ]
    },
    {
     "name": "stderr",
     "output_type": "stream",
     "text": [
      "Epoch [46/90]: 100%|████████████████████████████████████████████████████████████████| 196/196 [00:01<00:00, 191.97it/s]\n"
     ]
    },
    {
     "name": "stdout",
     "output_type": "stream",
     "text": [
      "Accuracy : 78.17 %\n",
      "Global minimized function value : 4.40420389175415\n"
     ]
    },
    {
     "name": "stderr",
     "output_type": "stream",
     "text": [
      "Epoch [47/90]: 100%|████████████████████████████████████████████████████████████████| 196/196 [00:01<00:00, 172.21it/s]\n"
     ]
    },
    {
     "name": "stdout",
     "output_type": "stream",
     "text": [
      "Accuracy : 78.138 %\n",
      "Global minimized function value : 4.174629211425781\n"
     ]
    },
    {
     "name": "stderr",
     "output_type": "stream",
     "text": [
      "Epoch [48/90]: 100%|████████████████████████████████████████████████████████████████| 196/196 [00:01<00:00, 193.01it/s]\n"
     ]
    },
    {
     "name": "stdout",
     "output_type": "stream",
     "text": [
      "Accuracy : 77.894 %\n",
      "Global minimized function value : 3.9777305126190186\n"
     ]
    },
    {
     "name": "stderr",
     "output_type": "stream",
     "text": [
      "Epoch [49/90]: 100%|████████████████████████████████████████████████████████████████| 196/196 [00:00<00:00, 208.51it/s]\n"
     ]
    },
    {
     "name": "stdout",
     "output_type": "stream",
     "text": [
      "Accuracy : 77.822 %\n",
      "Global minimized function value : 3.8093154430389404\n"
     ]
    },
    {
     "name": "stderr",
     "output_type": "stream",
     "text": [
      "Epoch [50/90]: 100%|████████████████████████████████████████████████████████████████| 196/196 [00:01<00:00, 192.66it/s]\n"
     ]
    },
    {
     "name": "stdout",
     "output_type": "stream",
     "text": [
      "Accuracy : 77.604 %\n",
      "Global minimized function value : 3.666182041168213\n"
     ]
    },
    {
     "name": "stderr",
     "output_type": "stream",
     "text": [
      "Epoch [51/90]: 100%|████████████████████████████████████████████████████████████████| 196/196 [00:01<00:00, 162.23it/s]\n"
     ]
    },
    {
     "name": "stdout",
     "output_type": "stream",
     "text": [
      "Accuracy : 77.412 %\n",
      "Global minimized function value : 3.544938325881958\n"
     ]
    },
    {
     "name": "stderr",
     "output_type": "stream",
     "text": [
      "Epoch [52/90]: 100%|████████████████████████████████████████████████████████████████| 196/196 [00:01<00:00, 192.85it/s]\n"
     ]
    },
    {
     "name": "stdout",
     "output_type": "stream",
     "text": [
      "Accuracy : 77.12 %\n",
      "Global minimized function value : 3.4427807331085205\n"
     ]
    },
    {
     "name": "stderr",
     "output_type": "stream",
     "text": [
      "Epoch [53/90]: 100%|████████████████████████████████████████████████████████████████| 196/196 [00:01<00:00, 183.22it/s]\n"
     ]
    },
    {
     "name": "stdout",
     "output_type": "stream",
     "text": [
      "Accuracy : 76.928 %\n",
      "Global minimized function value : 3.3569176197052\n"
     ]
    },
    {
     "name": "stderr",
     "output_type": "stream",
     "text": [
      "Epoch [54/90]: 100%|████████████████████████████████████████████████████████████████| 196/196 [00:00<00:00, 206.10it/s]\n"
     ]
    },
    {
     "name": "stdout",
     "output_type": "stream",
     "text": [
      "Accuracy : 76.574 %\n",
      "Global minimized function value : 3.2851123809814453\n"
     ]
    },
    {
     "name": "stderr",
     "output_type": "stream",
     "text": [
      "Epoch [55/90]: 100%|████████████████████████████████████████████████████████████████| 196/196 [00:01<00:00, 170.66it/s]\n"
     ]
    },
    {
     "name": "stdout",
     "output_type": "stream",
     "text": [
      "Accuracy : 76.362 %\n",
      "Global minimized function value : 3.224687337875366\n"
     ]
    },
    {
     "name": "stderr",
     "output_type": "stream",
     "text": [
      "Epoch [56/90]: 100%|████████████████████████████████████████████████████████████████| 196/196 [00:01<00:00, 190.65it/s]\n"
     ]
    },
    {
     "name": "stdout",
     "output_type": "stream",
     "text": [
      "Accuracy : 76.026 %\n",
      "Global minimized function value : 3.1729092597961426\n"
     ]
    },
    {
     "name": "stderr",
     "output_type": "stream",
     "text": [
      "Epoch [57/90]: 100%|████████████████████████████████████████████████████████████████| 196/196 [00:00<00:00, 205.88it/s]\n"
     ]
    },
    {
     "name": "stdout",
     "output_type": "stream",
     "text": [
      "Accuracy : 75.868 %\n",
      "Global minimized function value : 3.1278512477874756\n"
     ]
    },
    {
     "name": "stderr",
     "output_type": "stream",
     "text": [
      "Epoch [58/90]: 100%|████████████████████████████████████████████████████████████████| 196/196 [00:01<00:00, 182.89it/s]\n"
     ]
    },
    {
     "name": "stdout",
     "output_type": "stream",
     "text": [
      "Accuracy : 75.572 %\n",
      "Global minimized function value : 3.0884463787078857\n"
     ]
    },
    {
     "name": "stderr",
     "output_type": "stream",
     "text": [
      "Epoch [59/90]: 100%|████████████████████████████████████████████████████████████████| 196/196 [00:00<00:00, 199.49it/s]\n"
     ]
    },
    {
     "name": "stdout",
     "output_type": "stream",
     "text": [
      "Accuracy : 75.47 %\n",
      "Global minimized function value : 3.054417133331299\n"
     ]
    },
    {
     "name": "stderr",
     "output_type": "stream",
     "text": [
      "Epoch [60/90]: 100%|████████████████████████████████████████████████████████████████| 196/196 [00:01<00:00, 180.56it/s]\n"
     ]
    },
    {
     "name": "stdout",
     "output_type": "stream",
     "text": [
      "Accuracy : 75.274 %\n",
      "Global minimized function value : 3.0256927013397217\n"
     ]
    },
    {
     "name": "stderr",
     "output_type": "stream",
     "text": [
      "Epoch [61/90]: 100%|████████████████████████████████████████████████████████████████| 196/196 [00:01<00:00, 181.15it/s]\n"
     ]
    },
    {
     "name": "stdout",
     "output_type": "stream",
     "text": [
      "Accuracy : 77.908 %\n",
      "Global minimized function value : 2.607290744781494\n"
     ]
    },
    {
     "name": "stderr",
     "output_type": "stream",
     "text": [
      "Epoch [62/90]: 100%|████████████████████████████████████████████████████████████████| 196/196 [00:00<00:00, 208.17it/s]\n"
     ]
    },
    {
     "name": "stdout",
     "output_type": "stream",
     "text": [
      "Accuracy : 78.894 %\n",
      "Global minimized function value : 2.5815722942352295\n"
     ]
    },
    {
     "name": "stderr",
     "output_type": "stream",
     "text": [
      "Epoch [63/90]: 100%|████████████████████████████████████████████████████████████████| 196/196 [00:01<00:00, 178.09it/s]\n"
     ]
    },
    {
     "name": "stdout",
     "output_type": "stream",
     "text": [
      "Accuracy : 79.296 %\n",
      "Global minimized function value : 2.5909335613250732\n"
     ]
    },
    {
     "name": "stderr",
     "output_type": "stream",
     "text": [
      "Epoch [64/90]: 100%|████████████████████████████████████████████████████████████████| 196/196 [00:01<00:00, 171.93it/s]\n"
     ]
    },
    {
     "name": "stdout",
     "output_type": "stream",
     "text": [
      "Accuracy : 79.586 %\n",
      "Global minimized function value : 2.6052753925323486\n"
     ]
    },
    {
     "name": "stderr",
     "output_type": "stream",
     "text": [
      "Epoch [65/90]: 100%|████████████████████████████████████████████████████████████████| 196/196 [00:01<00:00, 175.83it/s]\n"
     ]
    },
    {
     "name": "stdout",
     "output_type": "stream",
     "text": [
      "Accuracy : 79.696 %\n",
      "Global minimized function value : 2.615417242050171\n"
     ]
    },
    {
     "name": "stderr",
     "output_type": "stream",
     "text": [
      "Epoch [66/90]: 100%|████████████████████████████████████████████████████████████████| 196/196 [00:01<00:00, 169.60it/s]\n"
     ]
    },
    {
     "name": "stdout",
     "output_type": "stream",
     "text": [
      "Accuracy : 79.764 %\n",
      "Global minimized function value : 2.6192688941955566\n"
     ]
    },
    {
     "name": "stderr",
     "output_type": "stream",
     "text": [
      "Epoch [67/90]: 100%|████████████████████████████████████████████████████████████████| 196/196 [00:01<00:00, 193.63it/s]\n"
     ]
    },
    {
     "name": "stdout",
     "output_type": "stream",
     "text": [
      "Accuracy : 79.816 %\n",
      "Global minimized function value : 2.616966962814331\n"
     ]
    },
    {
     "name": "stderr",
     "output_type": "stream",
     "text": [
      "Epoch [68/90]: 100%|████████████████████████████████████████████████████████████████| 196/196 [00:01<00:00, 172.76it/s]\n"
     ]
    },
    {
     "name": "stdout",
     "output_type": "stream",
     "text": [
      "Accuracy : 79.848 %\n",
      "Global minimized function value : 2.6094558238983154\n"
     ]
    },
    {
     "name": "stderr",
     "output_type": "stream",
     "text": [
      "Epoch [69/90]: 100%|████████████████████████████████████████████████████████████████| 196/196 [00:00<00:00, 206.97it/s]\n"
     ]
    },
    {
     "name": "stdout",
     "output_type": "stream",
     "text": [
      "Accuracy : 79.86 %\n",
      "Global minimized function value : 2.5978379249572754\n"
     ]
    },
    {
     "name": "stderr",
     "output_type": "stream",
     "text": [
      "Epoch [70/90]: 100%|████████████████████████████████████████████████████████████████| 196/196 [00:00<00:00, 200.51it/s]\n"
     ]
    },
    {
     "name": "stdout",
     "output_type": "stream",
     "text": [
      "Accuracy : 79.884 %\n",
      "Global minimized function value : 2.583040952682495\n"
     ]
    },
    {
     "name": "stderr",
     "output_type": "stream",
     "text": [
      "Epoch [71/90]: 100%|████████████████████████████████████████████████████████████████| 196/196 [00:01<00:00, 190.01it/s]\n"
     ]
    },
    {
     "name": "stdout",
     "output_type": "stream",
     "text": [
      "Accuracy : 79.894 %\n",
      "Global minimized function value : 2.5660898685455322\n"
     ]
    },
    {
     "name": "stderr",
     "output_type": "stream",
     "text": [
      "Epoch [72/90]:  92%|███████████████████████████████████████████████████████████     | 181/196 [00:00<00:00, 213.47it/s]"
     ]
    }
   ],
   "source": [
    "correct_predictions=0\n",
    "model = LogisticRegression(input_size=input_size, num_classes=nb_classe)\n",
    "model = model.to(DEVICE)\n",
    "for epoch in range(nb_epoque):\n",
    "\n",
    "    model.load_weights(torch.load(f'../data/saved_models/{folder_models}/epoch-{epoch}.pt', map_location=DEVICE))    \n",
    "    erreur_total_classe = torch.zeros(nb_classe, device=DEVICE)\n",
    "    \n",
    "    model.eval()\n",
    "    with torch.no_grad():\n",
    "        for inputs, labels in tqdm(train_loader, desc=f\"Epoch [{epoch+1}/{nb_epoque}]\"): \n",
    "            \n",
    "            # Move inputs and labels to the device \n",
    "            inputs = inputs.to(DEVICE) \n",
    "            labels = labels.to(DEVICE) \n",
    "            \n",
    "            # Forward pass \n",
    "            outputs = model(inputs) \n",
    "            erreur = torch.nn.functional.cross_entropy(outputs,labels,reduction='none') + weight_decay_parameter * sum(t.pow(2).sum() for t in model.state_dict().values()) / 2\n",
    "            vrai_loss = torch.mean(erreur).item() #recupère la loss du batch  \n",
    "\n",
    "            _, predicted = torch.max(outputs, 1)\n",
    "\n",
    "            # Ajout des prédictions correctes au total\n",
    "            correct_predictions += (predicted == labels).sum().item()\n",
    "        \n",
    "            erreur_total_classe.index_add_(0,labels,erreur)\n",
    "\n",
    "        # process accuracy\n",
    "        accuracy = 100 * correct_predictions / len(dataset)\n",
    "        correct_predictions=0\n",
    "        print(f\"Accuracy : {accuracy} %\")\n",
    "        print(f\"Global minimized function value : {vrai_loss}\") \n",
    "        loss_epoch.append(vrai_loss)\n",
    "        moyenne_erreur_classe_model.append((erreur_total_classe/nb_image_classe).tolist())\n",
    "        weights_epoch.append(sum(t.abs().sum() for t in model.state_dict().values()))\n",
    "            "
   ]
  },
  {
   "cell_type": "code",
   "execution_count": 8,
   "id": "227f5518-7318-4cba-a66c-618d74a49df9",
   "metadata": {},
   "outputs": [],
   "source": [
    "result_folder = f\"../data/saved_result/{sub_folder}\"\n",
    "if not os.path.exists(result_folder):\n",
    "    os.makedirs(result_folder)\n",
    "    \n",
    "torch.save(loss_epoch, f'{result_folder}/loss.pt')\n",
    "torch.save(moyenne_erreur_classe_model, f'{result_folder}/moyenne_erreur_classe_model.pt')\n",
    "torch.save(weights_epoch, f'{result_folder}/weights_epoch.pt')\n"
   ]
  },
  {
   "cell_type": "code",
   "execution_count": 9,
   "id": "cdf8839f-0813-49b3-a421-da10bffb3e93",
   "metadata": {},
   "outputs": [
    {
     "data": {
      "text/plain": [
       "[<matplotlib.lines.Line2D at 0x184688972d0>]"
      ]
     },
     "execution_count": 9,
     "metadata": {},
     "output_type": "execute_result"
    },
    {
     "data": {
      "image/png": "[encoded data removed]",
      "text/plain": [
       "<Figure size 640x480 with 1 Axes>"
      ]
     },
     "metadata": {},
     "output_type": "display_data"
    }
   ],
   "source": [
    "plt.plot(torch.tensor(weights_epoch).to('cpu'))\n"
   ]
  },
  {
   "cell_type": "code",
   "execution_count": 10,
   "id": "4de20ac8-2ee3-4109-a085-e6decef1f287",
   "metadata": {},
   "outputs": [],
   "source": [
    "moyenne_erreur_classe_model = torch.tensor(moyenne_erreur_classe_model)\n",
    "t_k = [torch.argmin(moyenne_erreur_classe_model[:,l]).item() for l in range(nb_classe)]\n",
    "r_k = [torch.min(moyenne_erreur_classe_model[:,m]).item() for m in range(nb_classe)]\n",
    "t = torch.argmin(torch.tensor(loss_epoch))\n",
    "r_t = torch.min(torch.tensor(loss_epoch))\n",
    "decalage = torch.abs(torch.tensor(t_k) - t)\n",
    "regret = torch.abs(torch.tensor(r_k) - r_k[t])"
   ]
  },
  {
   "cell_type": "code",
   "execution_count": 11,
   "id": "99251afa-ac33-4f46-9c19-8fb2db1f4946",
   "metadata": {},
   "outputs": [
    {
     "data": {
      "image/png": "[encoded data removed]",
      "text/plain": [
       "<Figure size 640x480 with 1 Axes>"
      ]
     },
     "metadata": {},
     "output_type": "display_data"
    }
   ],
   "source": [
    "plt.plot(loss_epoch,color='black')\n",
    "for n in range(0,1000):\n",
    "    plt.plot(moyenne_erreur_classe_model[:,n])"
   ]
  },
  {
   "cell_type": "code",
   "execution_count": 12,
   "id": "613eed65-076f-4d33-a1a5-444a34e7eab5",
   "metadata": {},
   "outputs": [
    {
     "data": {
      "text/plain": [
       "tensor([ 82,  25,  24,  13,   6,   8,   4,   1,   3,   1,   1,   1,   0,   2,\n",
       "          2,   3,   5,   0,   3,   1,   1,   0,   3,   2,   1,   1,   3,   6,\n",
       "         18,  61,  51,  26,  12,   5,   8,   6,   3,   3,   5,   2,   4,   1,\n",
       "          3,   1,   2,   1,   1,   2,   2,   2,   1,   1,   0,   1,   1,   0,\n",
       "          0,   0,   0,  61,   0,   0,   1,   1,   0,   0,   0,   0,   0,   1,\n",
       "          0,   0,   0,   0,   0,   1,   0,   0,   0,   0,   0,   0,   0,   0,\n",
       "          0,   1,   1,   1,   0, 507])"
      ]
     },
     "execution_count": 12,
     "metadata": {},
     "output_type": "execute_result"
    }
   ],
   "source": [
    "torch.bincount(torch.tensor(t_k))"
   ]
  },
  {
   "cell_type": "code",
   "execution_count": 13,
   "id": "5e5d1a6e-3111-4199-82e1-f7592cfd572b",
   "metadata": {},
   "outputs": [],
   "source": [
    "for tens in (torch.tensor(t_k)==59).nonzero()[93:94,0]:\n",
    "    plt.plot(moyenne_erreur_classe_model[:,tens])"
   ]
  },
  {
   "cell_type": "code",
   "execution_count": 14,
   "id": "8df1243d-0505-4ce7-9abd-c5ce0f7224cb",
   "metadata": {},
   "outputs": [
    {
     "data": {
      "text/plain": [
       "[<matplotlib.lines.Line2D at 0x18479a73a90>]"
      ]
     },
     "execution_count": 14,
     "metadata": {},
     "output_type": "execute_result"
    },
    {
     "data": {
      "image/png": "[encoded data removed]",
      "text/plain": [
       "<Figure size 640x480 with 1 Axes>"
      ]
     },
     "metadata": {},
     "output_type": "display_data"
    }
   ],
   "source": [
    "plt.plot(moyenne_erreur_classe_model[:,349])"
   ]
  },
  {
   "cell_type": "code",
   "execution_count": null,
   "id": "f97171b1-4e0e-4a65-be0a-aa7c8c96997c",
   "metadata": {},
   "outputs": [],
   "source": []
  },
  {
   "cell_type": "code",
   "execution_count": null,
   "id": "ff898b0c-787b-4cc8-a85c-981ed7f72d4d",
   "metadata": {},
   "outputs": [],
   "source": []
  },
  {
   "cell_type": "code",
   "execution_count": null,
   "id": "85f08046-6f5d-4d5c-a55a-3f0443cd1aa6",
   "metadata": {},
   "outputs": [],
   "source": []
  }
 ],
 "metadata": {
  "kernelspec": {
   "display_name": "Python 3 (ipykernel)",
   "language": "python",
   "name": "python3"
  },
  "language_info": {
   "codemirror_mode": {
    "name": "ipython",
    "version": 3
   },
   "file_extension": ".py",
   "mimetype": "text/x-python",
   "name": "python",
   "nbconvert_exporter": "python",
   "pygments_lexer": "ipython3",
   "version": "3.11.6"
  }
 },
 "nbformat": 4,
 "nbformat_minor": 5
}
