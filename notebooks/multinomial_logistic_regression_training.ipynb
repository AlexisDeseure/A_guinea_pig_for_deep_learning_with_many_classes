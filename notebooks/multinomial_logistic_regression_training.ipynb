{
 "cells": [
  {
   "cell_type": "code",
   "execution_count": 1,
   "id": "2c5b9edb-bec4-4c75-b9a7-33109c35ff2e",
   "metadata": {},
   "outputs": [],
   "source": [
    "import torch\n",
    "from torch.utils.data import Dataset, DataLoader \n",
    "import torch.nn as nn\n",
    "from torchinfo import summary \n",
    "from tqdm import tqdm\n",
    "import json\n",
    "import matplotlib.pyplot as plt\n",
    "import os"
   ]
  },
  {
   "cell_type": "code",
   "execution_count": 2,
   "id": "e4b2e2bd-88c1-49b6-8e7a-5ea1f5ecf93a",
   "metadata": {},
   "outputs": [],
   "source": [
    "# Set device\n",
    "DEVICE = torch.device(\"cuda\" if torch.cuda.is_available() else \"cpu\")"
   ]
  },
  {
   "cell_type": "code",
   "execution_count": 3,
   "id": "f193b49b-64d9-4059-8faa-e11bea16cd50",
   "metadata": {},
   "outputs": [],
   "source": [
    "class PenultimateOutputsDataset(Dataset):\n",
    "    def __init__(self, folder_path, device='cpu'):\n",
    "        with open(f'{folder_path}/penultimate_layer_outputs/data.json') as data:\n",
    "            self.data_tensors = json.load(data)\n",
    "        self.file_list = [f'{folder_path}/penultimate_layer_outputs/penultimate_layer_outputs_{index}.pt' for index in range(self.data_tensors['last_file_indice']+1)]\n",
    "        self.labels = torch.load(f'{folder_path}/penultimate_layer_labels.pt', map_location=device)\n",
    "        self.length = self.data_tensors['min_size_segmentation']*self.data_tensors['last_file_indice']+torch.load(f'{folder_path}/penultimate_layer_outputs/penultimate_layer_outputs_{self.data_tensors[\"last_file_indice\"]}.pt', map_location=device).shape[0]\n",
    "        self.device = device\n",
    "        self.data_cache = None\n",
    "        \n",
    "    def __len__(self):\n",
    "        return self.length\n",
    "\n",
    "    def __getitem__(self, index):\n",
    "        if index < 0 or index >= self.length :\n",
    "           raise ValueError(f'Index need to be between 0 and {self.length-1}')\n",
    "        index_file = index//self.data_tensors['min_size_segmentation']\n",
    "        index_in_file = index%self.data_tensors['min_size_segmentation']\n",
    "        if (self.data_cache is None) or self.data_cache[0] != index_file :\n",
    "            file = self.file_list[index_file]\n",
    "            tensors = torch.load(file, map_location=self.device)\n",
    "            self.data_cache = (index_file, tensors)\n",
    "        tensor = self.data_cache[1][index_in_file]\n",
    "        label = self.labels[index]\n",
    "        return tensor, label\n"
   ]
  },
  {
   "cell_type": "code",
   "execution_count": 4,
   "id": "ddbe9159-0647-45bc-ba6f-dc3405c05e12",
   "metadata": {},
   "outputs": [],
   "source": [
    "outputs_folder = \"../data/saved_outputs\"\n",
    "folder_model = \"same_parameter_real_optimized_function\"\n",
    "models_folder = f\"../data/saved_models/{folder_model}\"\n",
    "\n",
    "if not os.path.exists(models_folder):\n",
    "    os.makedirs(models_folder)\n",
    "    \n",
    "input_size = 2048\n",
    "num_classes = 1000\n",
    "\n",
    "batch_size = 256\n",
    "num_epochs = 60\n",
    "\n",
    "weight_decay_parameter = 1e-4\n",
    "learning_rate = 0.1\n",
    "momentum = 0.9\n",
    "lr_decay_step = 20\n",
    "decay_rate = 0.1\n"
   ]
  },
  {
   "cell_type": "code",
   "execution_count": 5,
   "id": "9d81593e-319d-41d0-b7f6-082bcf503355",
   "metadata": {},
   "outputs": [],
   "source": [
    "dataset = PenultimateOutputsDataset(outputs_folder)\n",
    "train_loader = DataLoader(dataset, batch_size=batch_size, pin_memory=True)"
   ]
  },
  {
   "cell_type": "code",
   "execution_count": 6,
   "id": "41dcef3b-9e53-45c1-9371-e06b594ef332",
   "metadata": {},
   "outputs": [
    {
     "data": {
      "text/plain": [
       "1281167"
      ]
     },
     "execution_count": 6,
     "metadata": {},
     "output_type": "execute_result"
    }
   ],
   "source": [
    "len(dataset)"
   ]
  },
  {
   "cell_type": "code",
   "execution_count": 7,
   "id": "b361da8f-0734-4df2-9eb1-cf9a229981db",
   "metadata": {},
   "outputs": [],
   "source": [
    "class LogisticRegression(nn.Module): \n",
    "    def __init__(self, input_size, num_classes): \n",
    "        super(LogisticRegression, self).__init__() \n",
    "        self.linear = nn.Linear(input_size, num_classes) \n",
    "  \n",
    "    def forward(self, x): \n",
    "        out = self.linear(x) \n",
    "        return out "
   ]
  },
  {
   "cell_type": "code",
   "execution_count": 8,
   "id": "a81e9023-21b7-4b20-861f-994d7e3e94bf",
   "metadata": {},
   "outputs": [
    {
     "data": {
      "text/plain": [
       "==========================================================================================\n",
       "Layer (type:depth-idx)                   Output Shape              Param #\n",
       "==========================================================================================\n",
       "LogisticRegression                       [256, 1000]               --\n",
       "├─Linear: 1-1                            [256, 1000]               2,049,000\n",
       "==========================================================================================\n",
       "Total params: 2,049,000\n",
       "Trainable params: 2,049,000\n",
       "Non-trainable params: 0\n",
       "Total mult-adds (Units.MEGABYTES): 524.54\n",
       "==========================================================================================\n",
       "Input size (MB): 2.10\n",
       "Forward/backward pass size (MB): 2.05\n",
       "Params size (MB): 8.20\n",
       "Estimated Total Size (MB): 12.34\n",
       "=========================================================================================="
      ]
     },
     "execution_count": 8,
     "metadata": {},
     "output_type": "execute_result"
    }
   ],
   "source": [
    "# On définit le model\n",
    "model = LogisticRegression(input_size=input_size, num_classes=num_classes) \n",
    "model = model.to(DEVICE)\n",
    "summary(model, input_size=(batch_size, input_size))"
   ]
  },
  {
   "cell_type": "code",
   "execution_count": 9,
   "id": "79dfbfcb-ed4f-43fd-a442-ce8813861437",
   "metadata": {},
   "outputs": [],
   "source": [
    "# milestones = []\n",
    "# i = 1\n",
    "# while (milestones[len(milestones)-1] if milestones != [] else 0) < num_epochs:\n",
    "#     milestones.append(lr_decay_step*i+(milestones[len(milestones)-1] if milestones != [] else 0))\n",
    "#     i += 1\n",
    "# milestones = milestones[:len(milestones)-1] if milestones[len(milestones)-1] > 100 else milestones\n",
    "# milestones"
   ]
  },
  {
   "cell_type": "code",
   "execution_count": 10,
   "id": "b11b4cb8-fac4-4ecc-8a73-d6c7a02a4026",
   "metadata": {},
   "outputs": [],
   "source": [
    "# Define the loss function and optimizer \n",
    "loss_function = nn.CrossEntropyLoss() \n",
    "optimizer = torch.optim.SGD(model.parameters(), lr=learning_rate, momentum=momentum, weight_decay=weight_decay_parameter)\n",
    "scheduler = torch.optim.lr_scheduler.StepLR(optimizer, step_size=lr_decay_step, gamma=decay_rate)"
   ]
  },
  {
   "cell_type": "code",
   "execution_count": 11,
   "id": "169ff55c-d13a-4450-92ff-495e64cf55b3",
   "metadata": {},
   "outputs": [
    {
     "name": "stderr",
     "output_type": "stream",
     "text": [
      "Epoch [1/60]: 100%|███████████████████████████████████████████████████████████████| 5005/5005 [00:34<00:00, 143.93it/s]\n"
     ]
    },
    {
     "name": "stdout",
     "output_type": "stream",
     "text": [
      ">> Accuracy: 9.087417955660737 %\n",
      "-- Loss: 30.23968505859375\n",
      "-- True loss 1: 46.67659874267578\n",
      "-- True loss 2: 46.60204443359375\n"
     ]
    },
    {
     "name": "stderr",
     "output_type": "stream",
     "text": [
      "Epoch [2/60]: 100%|████████████████████████████████████████████████████████████████| 5005/5005 [00:50<00:00, 98.77it/s]\n"
     ]
    },
    {
     "name": "stdout",
     "output_type": "stream",
     "text": [
      ">> Accuracy: 55.73137615939218 %\n",
      "-- Loss: 10.072610855102539\n",
      "-- True loss 1: 21.26947885131836\n",
      "-- True loss 2: 21.22918429260254\n"
     ]
    },
    {
     "name": "stderr",
     "output_type": "stream",
     "text": [
      "Epoch [3/60]: 100%|███████████████████████████████████████████████████████████████| 5005/5005 [00:42<00:00, 117.87it/s]\n"
     ]
    },
    {
     "name": "stdout",
     "output_type": "stream",
     "text": [
      ">> Accuracy: 60.98861428681819 %\n",
      "-- Loss: 7.3802995681762695\n",
      "-- True loss 1: 15.796780281066894\n",
      "-- True loss 2: 15.76426519317627\n"
     ]
    },
    {
     "name": "stderr",
     "output_type": "stream",
     "text": [
      "Epoch [4/60]: 100%|███████████████████████████████████████████████████████████████| 5005/5005 [00:38<00:00, 129.73it/s]\n"
     ]
    },
    {
     "name": "stdout",
     "output_type": "stream",
     "text": [
      ">> Accuracy: 58.7516693764357 %\n",
      "-- Loss: 6.889464855194092\n",
      "-- True loss 1: 14.696361992645265\n",
      "-- True loss 2: 14.665136730194092\n"
     ]
    },
    {
     "name": "stderr",
     "output_type": "stream",
     "text": [
      "Epoch [5/60]: 100%|███████████████████████████████████████████████████████████████| 5005/5005 [00:37<00:00, 132.91it/s]\n"
     ]
    },
    {
     "name": "stdout",
     "output_type": "stream",
     "text": [
      ">> Accuracy: 55.517820861761194 %\n",
      "-- Loss: 6.781591892242432\n",
      "-- True loss 1: 14.886268039703369\n",
      "-- True loss 2: 14.853428610992433\n"
     ]
    },
    {
     "name": "stderr",
     "output_type": "stream",
     "text": [
      "Epoch [6/60]: 100%|███████████████████████████████████████████████████████████████| 5005/5005 [00:48<00:00, 103.81it/s]\n"
     ]
    },
    {
     "name": "stdout",
     "output_type": "stream",
     "text": [
      ">> Accuracy: 55.05004421749858 %\n",
      "-- Loss: 6.734982013702393\n",
      "-- True loss 1: 14.946373389434815\n",
      "-- True loss 2: 14.913529669952393\n"
     ]
    },
    {
     "name": "stderr",
     "output_type": "stream",
     "text": [
      "Epoch [7/60]: 100%|███████████████████████████████████████████████████████████████| 5005/5005 [00:44<00:00, 111.59it/s]\n"
     ]
    },
    {
     "name": "stdout",
     "output_type": "stream",
     "text": [
      ">> Accuracy: 55.391685861406046 %\n",
      "-- Loss: 6.700133323669434\n",
      "-- True loss 1: 14.888587968444824\n",
      "-- True loss 2: 14.855291917419434\n"
     ]
    },
    {
     "name": "stderr",
     "output_type": "stream",
     "text": [
      "Epoch [8/60]: 100%|███████████████████████████████████████████████████████████████| 5005/5005 [00:46<00:00, 108.14it/s]\n"
     ]
    },
    {
     "name": "stdout",
     "output_type": "stream",
     "text": [
      ">> Accuracy: 56.32606834237847 %\n",
      "-- Loss: 6.7619547843933105\n",
      "-- True loss 1: 14.793623137664795\n",
      "-- True loss 2: 14.761021190643312\n"
     ]
    },
    {
     "name": "stderr",
     "output_type": "stream",
     "text": [
      "Epoch [9/60]: 100%|███████████████████████████████████████████████████████████████| 5005/5005 [00:49<00:00, 100.33it/s]\n"
     ]
    },
    {
     "name": "stdout",
     "output_type": "stream",
     "text": [
      ">> Accuracy: 55.59251838362992 %\n",
      "-- Loss: 6.795596122741699\n",
      "-- True loss 1: 14.935420903015137\n",
      "-- True loss 2: 14.902205497741699\n"
     ]
    },
    {
     "name": "stderr",
     "output_type": "stream",
     "text": [
      "Epoch [10/60]: 100%|██████████████████████████████████████████████████████████████| 5005/5005 [00:44<00:00, 111.53it/s]\n"
     ]
    },
    {
     "name": "stdout",
     "output_type": "stream",
     "text": [
      ">> Accuracy: 55.81575235703074 %\n",
      "-- Loss: 6.776031970977783\n",
      "-- True loss 1: 14.902221851348877\n",
      "-- True loss 2: 14.869255408477784\n"
     ]
    },
    {
     "name": "stderr",
     "output_type": "stream",
     "text": [
      "Epoch [11/60]: 100%|██████████████████████████████████████████████████████████████| 5005/5005 [00:39<00:00, 126.03it/s]\n"
     ]
    },
    {
     "name": "stdout",
     "output_type": "stream",
     "text": [
      ">> Accuracy: 55.23628067223086 %\n",
      "-- Loss: 6.815149307250977\n",
      "-- True loss 1: 15.066932806396485\n",
      "-- True loss 2: 15.033114932250976\n"
     ]
    },
    {
     "name": "stderr",
     "output_type": "stream",
     "text": [
      "Epoch [12/60]: 100%|██████████████████████████████████████████████████████████████| 5005/5005 [00:38<00:00, 130.41it/s]\n"
     ]
    },
    {
     "name": "stdout",
     "output_type": "stream",
     "text": [
      ">> Accuracy: 55.50829829366507 %\n",
      "-- Loss: 6.688011646270752\n",
      "-- True loss 1: 14.895643775177003\n",
      "-- True loss 2: 14.862321802520752\n"
     ]
    },
    {
     "name": "stderr",
     "output_type": "stream",
     "text": [
      "Epoch [13/60]: 100%|██████████████████████████████████████████████████████████████| 5005/5005 [00:38<00:00, 130.97it/s]\n"
     ]
    },
    {
     "name": "stdout",
     "output_type": "stream",
     "text": [
      ">> Accuracy: 55.69469085607107 %\n",
      "-- Loss: 6.696707725524902\n",
      "-- True loss 1: 14.849779386901856\n",
      "-- True loss 2: 14.816323350524902\n"
     ]
    },
    {
     "name": "stderr",
     "output_type": "stream",
     "text": [
      "Epoch [14/60]: 100%|██████████████████████████████████████████████████████████████| 5005/5005 [00:37<00:00, 132.10it/s]\n"
     ]
    },
    {
     "name": "stdout",
     "output_type": "stream",
     "text": [
      ">> Accuracy: 55.97498218421174 %\n",
      "-- Loss: 6.765446662902832\n",
      "-- True loss 1: 14.860857594299317\n",
      "-- True loss 2: 14.828007600402833\n"
     ]
    },
    {
     "name": "stderr",
     "output_type": "stream",
     "text": [
      "Epoch [15/60]: 100%|██████████████████████████████████████████████████████████████| 5005/5005 [00:38<00:00, 128.54it/s]\n"
     ]
    },
    {
     "name": "stdout",
     "output_type": "stream",
     "text": [
      ">> Accuracy: 55.67377242779435 %\n",
      "-- Loss: 6.68939733505249\n",
      "-- True loss 1: 14.81659533920288\n",
      "-- True loss 2: 14.78332233505249\n"
     ]
    },
    {
     "name": "stderr",
     "output_type": "stream",
     "text": [
      "Epoch [16/60]: 100%|██████████████████████████████████████████████████████████████| 5005/5005 [00:38<00:00, 130.29it/s]\n"
     ]
    },
    {
     "name": "stdout",
     "output_type": "stream",
     "text": [
      ">> Accuracy: 55.60727055879522 %\n",
      "-- Loss: 6.72731876373291\n",
      "-- True loss 1: 14.873794181823731\n",
      "-- True loss 2: 14.840716419982911\n"
     ]
    },
    {
     "name": "stderr",
     "output_type": "stream",
     "text": [
      "Epoch [17/60]: 100%|██████████████████████████████████████████████████████████████| 5005/5005 [00:37<00:00, 132.35it/s]\n"
     ]
    },
    {
     "name": "stdout",
     "output_type": "stream",
     "text": [
      ">> Accuracy: 55.67416269697861 %\n",
      "-- Loss: 6.711150169372559\n",
      "-- True loss 1: 14.860718492126466\n",
      "-- True loss 2: 14.82730173187256\n"
     ]
    },
    {
     "name": "stderr",
     "output_type": "stream",
     "text": [
      "Epoch [18/60]: 100%|██████████████████████████████████████████████████████████████| 5005/5005 [00:42<00:00, 117.16it/s]\n"
     ]
    },
    {
     "name": "stdout",
     "output_type": "stream",
     "text": [
      ">> Accuracy: 55.58018587740708 %\n",
      "-- Loss: 6.747411727905273\n",
      "-- True loss 1: 14.905315112304688\n",
      "-- True loss 2: 14.872196102905274\n"
     ]
    },
    {
     "name": "stderr",
     "output_type": "stream",
     "text": [
      "Epoch [19/60]: 100%|██████████████████████████████████████████████████████████████| 5005/5005 [00:47<00:00, 106.01it/s]\n"
     ]
    },
    {
     "name": "stdout",
     "output_type": "stream",
     "text": [
      ">> Accuracy: 55.75487036428506 %\n",
      "-- Loss: 6.716639041900635\n",
      "-- True loss 1: 14.83805130996704\n",
      "-- True loss 2: 14.804728104400635\n"
     ]
    },
    {
     "name": "stderr",
     "output_type": "stream",
     "text": [
      "Epoch [20/60]: 100%|██████████████████████████████████████████████████████████████| 5005/5005 [00:41<00:00, 121.37it/s]\n"
     ]
    },
    {
     "name": "stdout",
     "output_type": "stream",
     "text": [
      ">> Accuracy: 55.57519043184846 %\n",
      "-- Loss: 6.785477638244629\n",
      "-- True loss 1: 14.969167112731935\n",
      "-- True loss 2: 14.93599248199463\n"
     ]
    },
    {
     "name": "stderr",
     "output_type": "stream",
     "text": [
      "Epoch [21/60]: 100%|██████████████████████████████████████████████████████████████| 5005/5005 [00:42<00:00, 117.14it/s]\n"
     ]
    },
    {
     "name": "stdout",
     "output_type": "stream",
     "text": [
      ">> Accuracy: 68.87509590865203 %\n",
      "-- Loss: 1.6489081382751465\n",
      "-- True loss 1: 8.74872699661255\n",
      "-- True loss 2: 8.724161263275146\n"
     ]
    },
    {
     "name": "stderr",
     "output_type": "stream",
     "text": [
      "Epoch [22/60]: 100%|██████████████████████████████████████████████████████████████| 5005/5005 [00:43<00:00, 114.59it/s]\n"
     ]
    },
    {
     "name": "stdout",
     "output_type": "stream",
     "text": [
      ">> Accuracy: 80.72226337393954 %\n",
      "-- Loss: 1.9321283102035522\n",
      "-- True loss 1: 8.20302235622406\n",
      "-- True loss 2: 8.182842372703552\n"
     ]
    },
    {
     "name": "stderr",
     "output_type": "stream",
     "text": [
      "Epoch [23/60]: 100%|██████████████████████████████████████████████████████████████| 5005/5005 [00:39<00:00, 126.78it/s]\n"
     ]
    },
    {
     "name": "stdout",
     "output_type": "stream",
     "text": [
      ">> Accuracy: 83.19571140998792 %\n",
      "-- Loss: 1.8562268018722534\n",
      "-- True loss 1: 7.424315369987488\n",
      "-- True loss 2: 7.407034614372254\n"
     ]
    },
    {
     "name": "stderr",
     "output_type": "stream",
     "text": [
      "Epoch [24/60]: 100%|██████████████████████████████████████████████████████████████| 5005/5005 [00:42<00:00, 119.10it/s]\n"
     ]
    },
    {
     "name": "stdout",
     "output_type": "stream",
     "text": [
      ">> Accuracy: 84.39961378961524 %\n",
      "-- Loss: 1.7144584655761719\n",
      "-- True loss 1: 6.669662197875977\n",
      "-- True loss 2: 6.654536199951172\n"
     ]
    },
    {
     "name": "stderr",
     "output_type": "stream",
     "text": [
      "Epoch [25/60]: 100%|██████████████████████████████████████████████████████████████| 5005/5005 [00:42<00:00, 118.05it/s]\n"
     ]
    },
    {
     "name": "stdout",
     "output_type": "stream",
     "text": [
      ">> Accuracy: 84.98181735870499 %\n",
      "-- Loss: 1.5862133502960205\n",
      "-- True loss 1: 6.00072555885315\n",
      "-- True loss 2: 5.98730866279602\n"
     ]
    },
    {
     "name": "stderr",
     "output_type": "stream",
     "text": [
      "Epoch [26/60]: 100%|██████████████████████████████████████████████████████████████| 5005/5005 [00:40<00:00, 124.84it/s]\n"
     ]
    },
    {
     "name": "stdout",
     "output_type": "stream",
     "text": [
      ">> Accuracy: 85.38371656466332 %\n",
      "-- Loss: 1.4783087968826294\n",
      "-- True loss 1: 5.4135801218032835\n",
      "-- True loss 2: 5.40161582813263\n"
     ]
    },
    {
     "name": "stderr",
     "output_type": "stream",
     "text": [
      "Epoch [27/60]: 100%|██████████████████████████████████████████████████████████████| 5005/5005 [00:38<00:00, 129.62it/s]\n"
     ]
    },
    {
     "name": "stdout",
     "output_type": "stream",
     "text": [
      ">> Accuracy: 85.57393376507513 %\n",
      "-- Loss: 1.3843313455581665\n",
      "-- True loss 1: 4.893658400154115\n",
      "-- True loss 2: 4.882942673683166\n"
     ]
    },
    {
     "name": "stderr",
     "output_type": "stream",
     "text": [
      "Epoch [28/60]: 100%|██████████████████████████████████████████████████████████████| 5005/5005 [00:39<00:00, 125.16it/s]\n"
     ]
    },
    {
     "name": "stdout",
     "output_type": "stream",
     "text": [
      ">> Accuracy: 85.76539982687659 %\n",
      "-- Loss: 1.3032207489013672\n",
      "-- True loss 1: 4.4339941940307614\n",
      "-- True loss 2: 4.424401217651367\n"
     ]
    },
    {
     "name": "stderr",
     "output_type": "stream",
     "text": [
      "Epoch [29/60]: 100%|██████████████████████████████████████████████████████████████| 5005/5005 [00:40<00:00, 123.98it/s]\n"
     ]
    },
    {
     "name": "stdout",
     "output_type": "stream",
     "text": [
      ">> Accuracy: 85.83869237968196 %\n",
      "-- Loss: 1.2339160442352295\n",
      "-- True loss 1: 4.027613661575318\n",
      "-- True loss 2: 4.01900041923523\n"
     ]
    },
    {
     "name": "stderr",
     "output_type": "stream",
     "text": [
      "Epoch [30/60]: 100%|██████████████████████████████████████████████████████████████| 5005/5005 [00:40<00:00, 123.49it/s]\n"
     ]
    },
    {
     "name": "stdout",
     "output_type": "stream",
     "text": [
      ">> Accuracy: 85.93134228402698 %\n",
      "-- Loss: 1.1731711626052856\n",
      "-- True loss 1: 3.6671858781814577\n",
      "-- True loss 2: 3.659464912605286\n"
     ]
    },
    {
     "name": "stderr",
     "output_type": "stream",
     "text": [
      "Epoch [31/60]: 100%|██████████████████████████████████████████████████████████████| 5005/5005 [00:39<00:00, 125.37it/s]\n"
     ]
    },
    {
     "name": "stdout",
     "output_type": "stream",
     "text": [
      ">> Accuracy: 85.91245325550845 %\n",
      "-- Loss: 1.1204497814178467\n",
      "-- True loss 1: 3.347580181503296\n",
      "-- True loss 2: 3.340639039230347\n"
     ]
    },
    {
     "name": "stderr",
     "output_type": "stream",
     "text": [
      "Epoch [32/60]: 100%|██████████████████████████████████████████████████████████████| 5005/5005 [00:44<00:00, 113.62it/s]\n"
     ]
    },
    {
     "name": "stdout",
     "output_type": "stream",
     "text": [
      ">> Accuracy: 85.93789880632268 %\n",
      "-- Loss: 1.0709115266799927\n",
      "-- True loss 1: 3.0609833906173707\n",
      "-- True loss 2: 3.054754495429993\n"
     ]
    },
    {
     "name": "stderr",
     "output_type": "stream",
     "text": [
      "Epoch [33/60]: 100%|██████████████████████████████████████████████████████████████| 5005/5005 [00:41<00:00, 121.12it/s]\n"
     ]
    },
    {
     "name": "stdout",
     "output_type": "stream",
     "text": [
      ">> Accuracy: 85.87373855242915 %\n",
      "-- Loss: 1.0261821746826172\n",
      "-- True loss 1: 2.805259358215332\n",
      "-- True loss 2: 2.7996558074951174\n"
     ]
    },
    {
     "name": "stderr",
     "output_type": "stream",
     "text": [
      "Epoch [34/60]: 100%|██████████████████████████████████████████████████████████████| 5005/5005 [00:42<00:00, 116.73it/s]\n"
     ]
    },
    {
     "name": "stdout",
     "output_type": "stream",
     "text": [
      ">> Accuracy: 85.83666297992377 %\n",
      "-- Loss: 0.984626829624176\n",
      "-- True loss 1: 2.576667620944977\n",
      "-- True loss 2: 2.571636399936676\n"
     ]
    },
    {
     "name": "stderr",
     "output_type": "stream",
     "text": [
      "Epoch [35/60]: 100%|██████████████████████████████████████████████████████████████| 5005/5005 [00:41<00:00, 120.35it/s]\n"
     ]
    },
    {
     "name": "stdout",
     "output_type": "stream",
     "text": [
      ">> Accuracy: 85.71380624071647 %\n",
      "-- Loss: 0.9483069777488708\n",
      "-- True loss 1: 2.374263902950287\n",
      "-- True loss 2: 2.369736860561371\n"
     ]
    },
    {
     "name": "stderr",
     "output_type": "stream",
     "text": [
      "Epoch [36/60]: 100%|██████████████████████████████████████████████████████████████| 5005/5005 [00:41<00:00, 119.21it/s]\n"
     ]
    },
    {
     "name": "stdout",
     "output_type": "stream",
     "text": [
      ">> Accuracy: 85.6041405999374 %\n",
      "-- Loss: 0.9170965552330017\n",
      "-- True loss 1: 2.1964340231895445\n",
      "-- True loss 2: 2.192367844295502\n"
     ]
    },
    {
     "name": "stderr",
     "output_type": "stream",
     "text": [
      "Epoch [37/60]: 100%|██████████████████████████████████████████████████████████████| 5005/5005 [00:48<00:00, 102.91it/s]\n"
     ]
    },
    {
     "name": "stdout",
     "output_type": "stream",
     "text": [
      ">> Accuracy: 85.42773892864865 %\n",
      "-- Loss: 0.8921321630477905\n",
      "-- True loss 1: 2.0417213064193724\n",
      "-- True loss 2: 2.0380640966415404\n"
     ]
    },
    {
     "name": "stderr",
     "output_type": "stream",
     "text": [
      "Epoch [38/60]: 100%|██████████████████████████████████████████████████████████████| 5005/5005 [00:40<00:00, 124.42it/s]\n"
     ]
    },
    {
     "name": "stdout",
     "output_type": "stream",
     "text": [
      ">> Accuracy: 85.26733829391485 %\n",
      "-- Loss: 0.8737343549728394\n",
      "-- True loss 1: 1.9094438779830933\n",
      "-- True loss 2: 1.9061593549728395\n"
     ]
    },
    {
     "name": "stderr",
     "output_type": "stream",
     "text": [
      "Epoch [39/60]: 100%|██████████████████████████████████████████████████████████████| 5005/5005 [00:41<00:00, 121.13it/s]\n"
     ]
    },
    {
     "name": "stdout",
     "output_type": "stream",
     "text": [
      ">> Accuracy: 85.02466891513753 %\n",
      "-- Loss: 0.8627763390541077\n",
      "-- True loss 1: 1.7984177968025208\n",
      "-- True loss 2: 1.7954644249916076\n"
     ]
    },
    {
     "name": "stderr",
     "output_type": "stream",
     "text": [
      "Epoch [40/60]: 100%|██████████████████████████████████████████████████████████████| 5005/5005 [00:39<00:00, 125.75it/s]\n"
     ]
    },
    {
     "name": "stdout",
     "output_type": "stream",
     "text": [
      ">> Accuracy: 84.79300512735654 %\n",
      "-- Loss: 0.8592918515205383\n",
      "-- True loss 1: 1.707938152599335\n",
      "-- True loss 2: 1.7052839413642884\n"
     ]
    },
    {
     "name": "stderr",
     "output_type": "stream",
     "text": [
      "Epoch [41/60]: 100%|██████████████████████████████████████████████████████████████| 5005/5005 [00:38<00:00, 128.88it/s]\n"
     ]
    },
    {
     "name": "stdout",
     "output_type": "stream",
     "text": [
      ">> Accuracy: 87.79729730784511 %\n",
      "-- Loss: 0.5888626575469971\n",
      "-- True loss 1: 1.4272764600753785\n",
      "-- True loss 2: 1.424611583328247\n"
     ]
    },
    {
     "name": "stderr",
     "output_type": "stream",
     "text": [
      "Epoch [42/60]: 100%|██████████████████████████████████████████████████████████████| 5005/5005 [00:38<00:00, 129.72it/s]\n"
     ]
    },
    {
     "name": "stdout",
     "output_type": "stream",
     "text": [
      ">> Accuracy: 88.88482141672397 %\n",
      "-- Loss: 0.5698768496513367\n",
      "-- True loss 1: 1.398616374874115\n",
      "-- True loss 2: 1.3959505801200867\n"
     ]
    },
    {
     "name": "stderr",
     "output_type": "stream",
     "text": [
      "Epoch [43/60]: 100%|██████████████████████████████████████████████████████████████| 5005/5005 [00:38<00:00, 129.28it/s]\n"
     ]
    },
    {
     "name": "stdout",
     "output_type": "stream",
     "text": [
      ">> Accuracy: 89.4802941380788 %\n",
      "-- Loss: 0.5561695694923401\n",
      "-- True loss 1: 1.3755528584480285\n",
      "-- True loss 2: 1.372895692539215\n"
     ]
    },
    {
     "name": "stderr",
     "output_type": "stream",
     "text": [
      "Epoch [44/60]: 100%|██████████████████████████████████████████████████████████████| 5005/5005 [00:42<00:00, 117.61it/s]\n"
     ]
    },
    {
     "name": "stdout",
     "output_type": "stream",
     "text": [
      ">> Accuracy: 89.78712377074963 %\n",
      "-- Loss: 0.5455535054206848\n",
      "-- True loss 1: 1.355795939731598\n",
      "-- True loss 2: 1.3531539937019348\n"
     ]
    },
    {
     "name": "stderr",
     "output_type": "stream",
     "text": [
      "Epoch [45/60]: 100%|██████████████████████████████████████████████████████████████| 5005/5005 [00:42<00:00, 116.42it/s]\n"
     ]
    },
    {
     "name": "stdout",
     "output_type": "stream",
     "text": [
      ">> Accuracy: 89.96532068028603 %\n",
      "-- Loss: 0.5369656085968018\n",
      "-- True loss 1: 1.3382374172210694\n",
      "-- True loss 2: 1.3356149250030518\n"
     ]
    },
    {
     "name": "stderr",
     "output_type": "stream",
     "text": [
      "Epoch [46/60]: 100%|██████████████████████████████████████████████████████████████| 5005/5005 [00:40<00:00, 124.49it/s]\n"
     ]
    },
    {
     "name": "stdout",
     "output_type": "stream",
     "text": [
      ">> Accuracy: 90.0719422214278 %\n",
      "-- Loss: 0.5297878980636597\n",
      "-- True loss 1: 1.322238500404358\n",
      "-- True loss 2: 1.3196381910324098\n"
     ]
    },
    {
     "name": "stderr",
     "output_type": "stream",
     "text": [
      "Epoch [47/60]: 100%|██████████████████████████████████████████████████████████████| 5005/5005 [00:38<00:00, 128.36it/s]\n"
     ]
    },
    {
     "name": "stdout",
     "output_type": "stream",
     "text": [
      ">> Accuracy: 90.13977100565344 %\n",
      "-- Loss: 0.5236203670501709\n",
      "-- True loss 1: 1.307386208343506\n",
      "-- True loss 2: 1.304809917831421\n"
     ]
    },
    {
     "name": "stderr",
     "output_type": "stream",
     "text": [
      "Epoch [48/60]: 100%|██████████████████████████████████████████████████████████████| 5005/5005 [00:43<00:00, 116.10it/s]\n"
     ]
    },
    {
     "name": "stdout",
     "output_type": "stream",
     "text": [
      ">> Accuracy: 90.18293477743339 %\n",
      "-- Loss: 0.518187403678894\n",
      "-- True loss 1: 1.2933978090286256\n",
      "-- True loss 2: 1.290846827507019\n"
     ]
    },
    {
     "name": "stderr",
     "output_type": "stream",
     "text": [
      "Epoch [49/60]: 100%|██████████████████████████████████████████████████████████████| 5005/5005 [00:42<00:00, 116.89it/s]\n"
     ]
    },
    {
     "name": "stdout",
     "output_type": "stream",
     "text": [
      ">> Accuracy: 90.21602960425925 %\n",
      "-- Loss: 0.5133147239685059\n",
      "-- True loss 1: 1.2800948583602905\n",
      "-- True loss 2: 1.277570095062256\n"
     ]
    },
    {
     "name": "stderr",
     "output_type": "stream",
     "text": [
      "Epoch [50/60]: 100%|██████████████████████████████████████████████████████████████| 5005/5005 [00:42<00:00, 116.94it/s]\n"
     ]
    },
    {
     "name": "stdout",
     "output_type": "stream",
     "text": [
      ">> Accuracy: 90.24256790878941 %\n",
      "-- Loss: 0.5088752508163452\n",
      "-- True loss 1: 1.2673446592330933\n",
      "-- True loss 2: 1.2648467351913453\n"
     ]
    },
    {
     "name": "stderr",
     "output_type": "stream",
     "text": [
      "Epoch [51/60]: 100%|██████████████████████████████████████████████████████████████| 5005/5005 [00:42<00:00, 117.41it/s]\n"
     ]
    },
    {
     "name": "stdout",
     "output_type": "stream",
     "text": [
      ">> Accuracy: 90.25739813779155 %\n",
      "-- Loss: 0.5047894716262817\n",
      "-- True loss 1: 1.255066410636902\n",
      "-- True loss 2: 1.2525957216262817\n"
     ]
    },
    {
     "name": "stderr",
     "output_type": "stream",
     "text": [
      "Epoch [52/60]: 100%|██████████████████████████████████████████████████████████████| 5005/5005 [00:41<00:00, 120.81it/s]\n"
     ]
    },
    {
     "name": "stdout",
     "output_type": "stream",
     "text": [
      ">> Accuracy: 90.27987764280535 %\n",
      "-- Loss: 0.5009701251983643\n",
      "-- True loss 1: 1.24317004737854\n",
      "-- True loss 2: 1.2407268146514894\n"
     ]
    },
    {
     "name": "stderr",
     "output_type": "stream",
     "text": [
      "Epoch [53/60]: 100%|██████████████████████████████████████████████████████████████| 5005/5005 [00:47<00:00, 105.31it/s]\n"
     ]
    },
    {
     "name": "stdout",
     "output_type": "stream",
     "text": [
      ">> Accuracy: 90.29517619482863 %\n",
      "-- Loss: 0.49740174412727356\n",
      "-- True loss 1: 1.2316369049549103\n",
      "-- True loss 2: 1.2292212265491487\n"
     ]
    },
    {
     "name": "stderr",
     "output_type": "stream",
     "text": [
      "Epoch [54/60]: 100%|██████████████████████████████████████████████████████████████| 5005/5005 [00:44<00:00, 113.72it/s]\n"
     ]
    },
    {
     "name": "stdout",
     "output_type": "stream",
     "text": [
      ">> Accuracy: 90.31031863917819 %\n",
      "-- Loss: 0.4940677881240845\n",
      "-- True loss 1: 1.2204489768981934\n",
      "-- True loss 2: 1.2180608545303344\n"
     ]
    },
    {
     "name": "stderr",
     "output_type": "stream",
     "text": [
      "Epoch [55/60]: 100%|██████████████████████████████████████████████████████████████| 5005/5005 [00:42<00:00, 117.16it/s]\n"
     ]
    },
    {
     "name": "stdout",
     "output_type": "stream",
     "text": [
      ">> Accuracy: 90.3255391373646 %\n",
      "-- Loss: 0.4909338355064392\n",
      "-- True loss 1: 1.209570452785492\n",
      "-- True loss 2: 1.2072098120689394\n"
     ]
    },
    {
     "name": "stderr",
     "output_type": "stream",
     "text": [
      "Epoch [56/60]: 100%|██████████████████████████████████████████████████████████████| 5005/5005 [00:47<00:00, 105.12it/s]\n"
     ]
    },
    {
     "name": "stdout",
     "output_type": "stream",
     "text": [
      ">> Accuracy: 90.34005715101934 %\n",
      "-- Loss: 0.48797154426574707\n",
      "-- True loss 1: 1.1989716083526611\n",
      "-- True loss 2: 1.196638341140747\n"
     ]
    },
    {
     "name": "stderr",
     "output_type": "stream",
     "text": [
      "Epoch [57/60]: 100%|███████████████████████████████████████████████████████████████| 5005/5005 [01:07<00:00, 74.41it/s]\n"
     ]
    },
    {
     "name": "stdout",
     "output_type": "stream",
     "text": [
      ">> Accuracy: 90.35090663434197 %\n",
      "-- Loss: 0.4851624667644501\n",
      "-- True loss 1: 1.1886319991588592\n",
      "-- True loss 2: 1.18632594332695\n"
     ]
    },
    {
     "name": "stderr",
     "output_type": "stream",
     "text": [
      "Epoch [58/60]: 100%|███████████████████████████████████████████████████████████████| 5005/5005 [00:58<00:00, 85.04it/s]\n"
     ]
    },
    {
     "name": "stdout",
     "output_type": "stream",
     "text": [
      ">> Accuracy: 90.36472216346503 %\n",
      "-- Loss: 0.48248013854026794\n",
      "-- True loss 1: 1.1785235929012299\n",
      "-- True loss 2: 1.176244591665268\n"
     ]
    },
    {
     "name": "stderr",
     "output_type": "stream",
     "text": [
      "Epoch [59/60]: 100%|███████████████████████████████████████████████████████████████| 5005/5005 [00:50<00:00, 99.77it/s]\n"
     ]
    },
    {
     "name": "stdout",
     "output_type": "stream",
     "text": [
      ">> Accuracy: 90.37611802364563 %\n",
      "-- Loss: 0.479850709438324\n",
      "-- True loss 1: 1.168571097278595\n",
      "-- True loss 2: 1.166318971157074\n"
     ]
    },
    {
     "name": "stderr",
     "output_type": "stream",
     "text": [
      "Epoch [60/60]: 100%|██████████████████████████████████████████████████████████████| 5005/5005 [00:37<00:00, 131.92it/s]"
     ]
    },
    {
     "name": "stdout",
     "output_type": "stream",
     "text": [
      ">> Accuracy: 90.38642113011028 %\n",
      "-- Loss: 0.47732436656951904\n",
      "-- True loss 1: 1.158824118423462\n",
      "-- True loss 2: 1.156598682975769\n"
     ]
    },
    {
     "name": "stderr",
     "output_type": "stream",
     "text": [
      "\n"
     ]
    }
   ],
   "source": [
    "# Train the model\n",
    "correct_predictions=0\n",
    "loss_history = []\n",
    "true_loss_v1_history = []\n",
    "true_loss_v2_history = []\n",
    "accuracy_history = []\n",
    "for epoch in range(num_epochs): \n",
    "    for inputs, labels in tqdm(train_loader, desc=f\"Epoch [{epoch+1}/{num_epochs}]\"):\n",
    "        \n",
    "        # Move inputs and labels to the device \n",
    "        inputs = inputs.to(DEVICE) \n",
    "        labels = labels.to(DEVICE)\n",
    "        \n",
    "        # Forward pass \n",
    "        outputs = model(inputs) \n",
    "        loss = loss_function(outputs, labels)\n",
    "        true_loss_v1 = loss.item() + weight_decay_parameter * sum(t.pow(2).sum().item() for t in model.state_dict().values()) / 2\n",
    "        true_loss_v2 = loss.item() + weight_decay_parameter * model.state_dict()['linear.weight'].pow(2).sum().item() / 2\n",
    "        \n",
    "        _, predicted = torch.max(outputs, 1)\n",
    "\n",
    "        # Ajout des prédictions correctes au total\n",
    "        correct_predictions += (predicted == labels).sum().item()\n",
    "        \n",
    "        # Backward and optimize \n",
    "        optimizer.zero_grad() \n",
    "        loss.backward() \n",
    "        optimizer.step()\n",
    "\n",
    "    # update lr\n",
    "    scheduler.step()\n",
    "\n",
    "    # save intermediate models\n",
    "    torch.save(model.state_dict(), f'{models_folder}/epoch-{epoch}.pt')\n",
    "\n",
    "    # process accuracy\n",
    "    accuracy = 100 * correct_predictions / len(dataset)\n",
    "    correct_predictions=0\n",
    "    \n",
    "    print(f'>> Accuracy: {accuracy} %\\n-- Loss: {loss.item()}\\n-- True loss 1: {true_loss_v1}\\n-- True loss 2: {true_loss_v2}')\n",
    "\n",
    "    # save accuracy and loss\n",
    "    loss_history.append(loss.item())\n",
    "    accuracy_history.append(accuracy)\n",
    "    true_loss_v1_history.append(true_loss_v1)\n",
    "    true_loss_v2_history.append(true_loss_v2)    "
   ]
  },
  {
   "cell_type": "code",
   "execution_count": 12,
   "id": "892629d0-aa4e-4fb5-8bfc-f63facc6a8d6",
   "metadata": {},
   "outputs": [],
   "source": [
    "torch.save(accuracy_history, f'{models_folder}/accuracy.pt')\n",
    "torch.save(loss_history, f'{models_folder}/loss.pt')\n",
    "torch.save(true_loss_v1_history, f'{models_folder}/true_loss_v1.pt')\n",
    "torch.save(true_loss_v2_history, f'{models_folder}/true_loss_v2.pt')"
   ]
  },
  {
   "cell_type": "code",
   "execution_count": 13,
   "id": "939b3e9d-903f-45a7-929c-229fa558a1a5",
   "metadata": {},
   "outputs": [],
   "source": [
    "# acc = torch.load('../data/saved_models/constant_step_lr/accuracy.pt')\n",
    "# loss = torch.load('../data/saved_models/constant_step_lr/loss.pt')\n",
    "# params20 = torch.load('../data/saved_models/constant_step_lr/epoch-20.pt')\n",
    "# params40 = torch.load('../data/saved_models/constant_step_lr/epoch-40.pt')"
   ]
  },
  {
   "cell_type": "code",
   "execution_count": 14,
   "id": "fb288491-90f4-4a91-bb96-b0bd1044ab64",
   "metadata": {},
   "outputs": [
    {
     "data": {
      "text/plain": [
       "[<matplotlib.lines.Line2D at 0x28860856f10>]"
      ]
     },
     "execution_count": 14,
     "metadata": {},
     "output_type": "execute_result"
    },
    {
     "data": {
      "image/png": "[encoded data removed]",
      "text/plain": [
       "<Figure size 640x480 with 1 Axes>"
      ]
     },
     "metadata": {},
     "output_type": "display_data"
    }
   ],
   "source": [
    "plt.plot(accuracy_history)"
   ]
  },
  {
   "cell_type": "code",
   "execution_count": 15,
   "id": "d88cf90a-9672-430b-89ab-7df6e43d06b9",
   "metadata": {},
   "outputs": [
    {
     "data": {
      "text/plain": [
       "[<matplotlib.lines.Line2D at 0x28860933850>]"
      ]
     },
     "execution_count": 15,
     "metadata": {},
     "output_type": "execute_result"
    },
    {
     "data": {
      "image/png": "[encoded data removed]",
      "text/plain": [
       "<Figure size 640x480 with 1 Axes>"
      ]
     },
     "metadata": {},
     "output_type": "display_data"
    }
   ],
   "source": [
    "plt.plot(loss_history)"
   ]
  },
  {
   "cell_type": "code",
   "execution_count": 16,
   "id": "8992c72e-2984-4fca-8250-289d493d09d4",
   "metadata": {},
   "outputs": [
    {
     "data": {
      "text/plain": [
       "[<matplotlib.lines.Line2D at 0x2885284c090>]"
      ]
     },
     "execution_count": 16,
     "metadata": {},
     "output_type": "execute_result"
    },
    {
     "data": {
      "image/png": "[encoded data removed]",
      "text/plain": [
       "<Figure size 640x480 with 1 Axes>"
      ]
     },
     "metadata": {},
     "output_type": "display_data"
    }
   ],
   "source": [
    "plt.plot(true_loss_v1_history)"
   ]
  },
  {
   "cell_type": "code",
   "execution_count": 17,
   "id": "131ba6ee-24ee-49d7-9faa-23036f93fe15",
   "metadata": {},
   "outputs": [
    {
     "data": {
      "text/plain": [
       "[<matplotlib.lines.Line2D at 0x288528c3850>]"
      ]
     },
     "execution_count": 17,
     "metadata": {},
     "output_type": "execute_result"
    },
    {
     "data": {
      "image/png": "[encoded data removed]",
      "text/plain": [
       "<Figure size 640x480 with 1 Axes>"
      ]
     },
     "metadata": {},
     "output_type": "display_data"
    }
   ],
   "source": [
    "plt.plot(true_loss_v2_history)"
   ]
  },
  {
   "cell_type": "code",
   "execution_count": null,
   "id": "41013f21-620a-4b82-bdc6-41d2d0f9b1f5",
   "metadata": {},
   "outputs": [],
   "source": []
  },
  {
   "cell_type": "code",
   "execution_count": null,
   "id": "3117e5a7-a99c-43bd-b212-a752b151b855",
   "metadata": {},
   "outputs": [],
   "source": []
  }
 ],
 "metadata": {
  "kernelspec": {
   "display_name": "Python 3 (ipykernel)",
   "language": "python",
   "name": "python3"
  },
  "language_info": {
   "codemirror_mode": {
    "name": "ipython",
    "version": 3
   },
   "file_extension": ".py",
   "mimetype": "text/x-python",
   "name": "python",
   "nbconvert_exporter": "python",
   "pygments_lexer": "ipython3",
   "version": "3.11.6"
  }
 },
 "nbformat": 4,
 "nbformat_minor": 5
}
