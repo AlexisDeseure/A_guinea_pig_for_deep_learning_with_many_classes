{
 "cells": [
  {
   "cell_type": "code",
   "execution_count": 1,
   "id": "2c5b9edb-bec4-4c75-b9a7-33109c35ff2e",
   "metadata": {},
   "outputs": [],
   "source": [
    "import torch\n",
    "from torch.utils.data import Dataset, DataLoader \n",
    "import torch.nn as nn\n",
    "from torchinfo import summary \n",
    "from tqdm import tqdm\n",
    "import json\n",
    "import matplotlib.pyplot as plt\n",
    "import os"
   ]
  },
  {
   "cell_type": "code",
   "execution_count": 2,
   "id": "e4b2e2bd-88c1-49b6-8e7a-5ea1f5ecf93a",
   "metadata": {},
   "outputs": [],
   "source": [
    "# Set device\n",
    "DEVICE = torch.device(\"cuda\" if torch.cuda.is_available() else \"cpu\")"
   ]
  },
  {
   "cell_type": "code",
   "execution_count": 3,
   "id": "f193b49b-64d9-4059-8faa-e11bea16cd50",
   "metadata": {},
   "outputs": [],
   "source": [
    "class PenultimateOutputsDataset(Dataset):\n",
    "    def __init__(self, folder_path, device='cpu'):\n",
    "        with open(f'{folder_path}/penultimate_layer_outputs/data.json') as data:\n",
    "            self.data_tensors = json.load(data)\n",
    "        self.file_list = [f'{folder_path}/penultimate_layer_outputs/penultimate_layer_outputs_{index}.pt' for index in range(self.data_tensors['last_file_indice']+1)]\n",
    "        self.labels = torch.load(f'{folder_path}/penultimate_layer_labels.pt', map_location=device)\n",
    "        self.length = self.data_tensors['min_size_segmentation']*self.data_tensors['last_file_indice']+torch.load(f'{folder_path}/penultimate_layer_outputs/penultimate_layer_outputs_{self.data_tensors[\"last_file_indice\"]}.pt', map_location=device).shape[0]\n",
    "        self.device = device\n",
    "        self.data_cache = None\n",
    "        \n",
    "    def __len__(self):\n",
    "        return self.length\n",
    "\n",
    "    def __getitem__(self, index):\n",
    "        if index < 0 or index >= self.length :\n",
    "           raise ValueError(f'Index need to be between 0 and {self.length-1}')\n",
    "        index_file = index//self.data_tensors['min_size_segmentation']\n",
    "        index_in_file = index%self.data_tensors['min_size_segmentation']\n",
    "        if (self.data_cache is None) or self.data_cache[0] != index_file :\n",
    "            file = self.file_list[index_file]\n",
    "            tensors = torch.load(file, map_location=self.device)\n",
    "            self.data_cache = (index_file, tensors)\n",
    "        tensor = self.data_cache[1][index_in_file]\n",
    "        label = self.labels[index]\n",
    "        return tensor, label\n"
   ]
  },
  {
   "cell_type": "code",
   "execution_count": 4,
   "id": "ddbe9159-0647-45bc-ba6f-dc3405c05e12",
   "metadata": {},
   "outputs": [],
   "source": [
    "outputs_folder = \"../data/saved_outputs/train\"\n",
    "folder_model = \"\"\n",
    "models_folder = f\"../data/saved_models/{folder_model}\"\n",
    "\n",
    "if not os.path.exists(models_folder):\n",
    "    os.makedirs(models_folder)\n",
    "    \n",
    "input_size = 2048\n",
    "num_classes = 1000\n",
    "\n",
    "batch_size = 256\n",
    "num_epochs = 90\n",
    "\n",
    "weight_decay_parameter = 1e-4\n",
    "learning_rate = 0.1\n",
    "momentum = 0.9\n",
    "lr_decay_step = 30\n",
    "decay_rate = 0.1\n"
   ]
  },
  {
   "cell_type": "code",
   "execution_count": 5,
   "id": "9d81593e-319d-41d0-b7f6-082bcf503355",
   "metadata": {},
   "outputs": [],
   "source": [
    "dataset = PenultimateOutputsDataset(outputs_folder)\n",
    "train_loader = DataLoader(dataset, batch_size=batch_size, pin_memory=True)"
   ]
  },
  {
   "cell_type": "code",
   "execution_count": 6,
   "id": "41dcef3b-9e53-45c1-9371-e06b594ef332",
   "metadata": {},
   "outputs": [
    {
     "data": {
      "text/plain": [
       "1281167"
      ]
     },
     "execution_count": 6,
     "metadata": {},
     "output_type": "execute_result"
    }
   ],
   "source": [
    "len(dataset)"
   ]
  },
  {
   "cell_type": "code",
   "execution_count": 7,
   "id": "b361da8f-0734-4df2-9eb1-cf9a229981db",
   "metadata": {},
   "outputs": [],
   "source": [
    "class LogisticRegression(nn.Module): \n",
    "    def __init__(self, input_size, num_classes): \n",
    "        super(LogisticRegression, self).__init__() \n",
    "        self.linear = nn.Linear(input_size, num_classes) \n",
    "  \n",
    "    def forward(self, x): \n",
    "        out = self.linear(x) \n",
    "        return out "
   ]
  },
  {
   "cell_type": "code",
   "execution_count": 8,
   "id": "a81e9023-21b7-4b20-861f-994d7e3e94bf",
   "metadata": {},
   "outputs": [
    {
     "data": {
      "text/plain": [
       "==========================================================================================\n",
       "Layer (type:depth-idx)                   Output Shape              Param #\n",
       "==========================================================================================\n",
       "LogisticRegression                       [256, 1000]               --\n",
       "├─Linear: 1-1                            [256, 1000]               2,049,000\n",
       "==========================================================================================\n",
       "Total params: 2,049,000\n",
       "Trainable params: 2,049,000\n",
       "Non-trainable params: 0\n",
       "Total mult-adds (Units.MEGABYTES): 524.54\n",
       "==========================================================================================\n",
       "Input size (MB): 2.10\n",
       "Forward/backward pass size (MB): 2.05\n",
       "Params size (MB): 8.20\n",
       "Estimated Total Size (MB): 12.34\n",
       "=========================================================================================="
      ]
     },
     "execution_count": 8,
     "metadata": {},
     "output_type": "execute_result"
    }
   ],
   "source": [
    "# On définit le model\n",
    "model = LogisticRegression(input_size=input_size, num_classes=num_classes) \n",
    "model = model.to(DEVICE)\n",
    "summary(model, input_size=(batch_size, input_size))"
   ]
  },
  {
   "cell_type": "code",
   "execution_count": 9,
   "id": "79dfbfcb-ed4f-43fd-a442-ce8813861437",
   "metadata": {},
   "outputs": [],
   "source": [
    "# milestones = []\n",
    "# i = 1\n",
    "# while (milestones[len(milestones)-1] if milestones != [] else 0) < num_epochs:\n",
    "#     milestones.append(lr_decay_step*i+(milestones[len(milestones)-1] if milestones != [] else 0))\n",
    "#     i += 1\n",
    "# milestones = milestones[:len(milestones)-1] if milestones[len(milestones)-1] > 100 else milestones\n",
    "# milestones"
   ]
  },
  {
   "cell_type": "code",
   "execution_count": 10,
   "id": "b11b4cb8-fac4-4ecc-8a73-d6c7a02a4026",
   "metadata": {},
   "outputs": [],
   "source": [
    "# Define the loss function and optimizer \n",
    "loss_function = nn.CrossEntropyLoss() \n",
    "optimizer = torch.optim.SGD(model.parameters(), lr=learning_rate, momentum=momentum, weight_decay=weight_decay_parameter)\n",
    "scheduler = torch.optim.lr_scheduler.StepLR(optimizer, step_size=lr_decay_step, gamma=decay_rate)"
   ]
  },
  {
   "cell_type": "code",
   "execution_count": 11,
   "id": "169ff55c-d13a-4450-92ff-495e64cf55b3",
   "metadata": {},
   "outputs": [
    {
     "name": "stderr",
     "output_type": "stream",
     "text": [
      "Epoch [1/90]: 100%|███████████████████████████████████████████████████████████████| 5005/5005 [00:34<00:00, 146.34it/s]\n"
     ]
    },
    {
     "name": "stdout",
     "output_type": "stream",
     "text": [
      ">> Accuracy: 8.44893757019967 %\n",
      "-- Loss: 39.57790756225586\n",
      "-- True loss 1: 39.60306735230713\n",
      "-- True loss 2: 39.60295021694336\n"
     ]
    },
    {
     "name": "stderr",
     "output_type": "stream",
     "text": [
      "Epoch [2/90]: 100%|███████████████████████████████████████████████████████████████| 5005/5005 [00:36<00:00, 138.37it/s]\n"
     ]
    },
    {
     "name": "stdout",
     "output_type": "stream",
     "text": [
      ">> Accuracy: 61.941885796309144 %\n",
      "-- Loss: 21.353038787841797\n",
      "-- True loss 1: 21.382699173101805\n",
      "-- True loss 2: 21.382602715966797\n"
     ]
    },
    {
     "name": "stderr",
     "output_type": "stream",
     "text": [
      "Epoch [3/90]: 100%|███████████████████████████████████████████████████████████████| 5005/5005 [00:36<00:00, 137.27it/s]\n"
     ]
    },
    {
     "name": "stdout",
     "output_type": "stream",
     "text": [
      ">> Accuracy: 72.17856844579981 %\n",
      "-- Loss: 14.444923400878906\n",
      "-- True loss 1: 14.476335694616699\n",
      "-- True loss 2: 14.476245694628906\n"
     ]
    },
    {
     "name": "stderr",
     "output_type": "stream",
     "text": [
      "Epoch [4/90]: 100%|███████████████████████████████████████████████████████████████| 5005/5005 [00:35<00:00, 140.95it/s]\n"
     ]
    },
    {
     "name": "stdout",
     "output_type": "stream",
     "text": [
      ">> Accuracy: 76.55450070131373 %\n",
      "-- Loss: 10.828543663024902\n",
      "-- True loss 1: 10.860616558288575\n",
      "-- True loss 2: 10.860525894274902\n"
     ]
    },
    {
     "name": "stderr",
     "output_type": "stream",
     "text": [
      "Epoch [5/90]: 100%|███████████████████████████████████████████████████████████████| 5005/5005 [00:36<00:00, 135.95it/s]\n"
     ]
    },
    {
     "name": "stdout",
     "output_type": "stream",
     "text": [
      ">> Accuracy: 78.25888428284524 %\n",
      "-- Loss: 9.596907615661621\n",
      "-- True loss 1: 9.629436316711425\n",
      "-- True loss 2: 9.629347028161622\n"
     ]
    },
    {
     "name": "stderr",
     "output_type": "stream",
     "text": [
      "Epoch [6/90]: 100%|███████████████████████████████████████████████████████████████| 5005/5005 [00:40<00:00, 124.56it/s]\n"
     ]
    },
    {
     "name": "stdout",
     "output_type": "stream",
     "text": [
      ">> Accuracy: 79.47145063836331 %\n",
      "-- Loss: 9.2636079788208\n",
      "-- True loss 1: 9.296363908789063\n",
      "-- True loss 2: 9.296272816320801\n"
     ]
    },
    {
     "name": "stderr",
     "output_type": "stream",
     "text": [
      "Epoch [7/90]: 100%|███████████████████████████████████████████████████████████████| 5005/5005 [00:36<00:00, 138.59it/s]\n"
     ]
    },
    {
     "name": "stdout",
     "output_type": "stream",
     "text": [
      ">> Accuracy: 79.98894757670155 %\n",
      "-- Loss: 8.985137939453125\n",
      "-- True loss 1: 9.018152128039551\n",
      "-- True loss 2: 9.018061264453126\n"
     ]
    },
    {
     "name": "stderr",
     "output_type": "stream",
     "text": [
      "Epoch [8/90]: 100%|███████████████████████████████████████████████████████████████| 5005/5005 [00:39<00:00, 126.66it/s]\n"
     ]
    },
    {
     "name": "stdout",
     "output_type": "stream",
     "text": [
      ">> Accuracy: 80.52291387461588 %\n",
      "-- Loss: 8.78231430053711\n",
      "-- True loss 1: 8.815548192578126\n",
      "-- True loss 2: 8.81545466928711\n"
     ]
    },
    {
     "name": "stderr",
     "output_type": "stream",
     "text": [
      "Epoch [9/90]: 100%|███████████████████████████████████████████████████████████████| 5005/5005 [00:41<00:00, 121.16it/s]\n"
     ]
    },
    {
     "name": "stdout",
     "output_type": "stream",
     "text": [
      ">> Accuracy: 80.80734205610977 %\n",
      "-- Loss: 8.522904396057129\n",
      "-- True loss 1: 8.556364909350586\n",
      "-- True loss 2: 8.556271330432129\n"
     ]
    },
    {
     "name": "stderr",
     "output_type": "stream",
     "text": [
      "Epoch [10/90]: 100%|██████████████████████████████████████████████████████████████| 5005/5005 [00:38<00:00, 130.11it/s]\n"
     ]
    },
    {
     "name": "stdout",
     "output_type": "stream",
     "text": [
      ">> Accuracy: 81.21852966865366 %\n",
      "-- Loss: 8.07698917388916\n",
      "-- True loss 1: 8.110620352172852\n",
      "-- True loss 2: 8.11052411138916\n"
     ]
    },
    {
     "name": "stderr",
     "output_type": "stream",
     "text": [
      "Epoch [11/90]: 100%|██████████████████████████████████████████████████████████████| 5005/5005 [00:38<00:00, 128.99it/s]\n"
     ]
    },
    {
     "name": "stdout",
     "output_type": "stream",
     "text": [
      ">> Accuracy: 81.2878414757795 %\n",
      "-- Loss: 7.55620002746582\n",
      "-- True loss 1: 7.590125133636475\n",
      "-- True loss 2: 7.590027405590821\n"
     ]
    },
    {
     "name": "stderr",
     "output_type": "stream",
     "text": [
      "Epoch [12/90]: 100%|██████████████████████████████████████████████████████████████| 5005/5005 [00:43<00:00, 114.00it/s]\n"
     ]
    },
    {
     "name": "stdout",
     "output_type": "stream",
     "text": [
      ">> Accuracy: 81.69988768052876 %\n",
      "-- Loss: 7.164548873901367\n",
      "-- True loss 1: 7.198658913739013\n",
      "-- True loss 2: 7.198558955151367\n"
     ]
    },
    {
     "name": "stderr",
     "output_type": "stream",
     "text": [
      "Epoch [13/90]: 100%|██████████████████████████████████████████████████████████████| 5005/5005 [00:38<00:00, 129.07it/s]\n"
     ]
    },
    {
     "name": "stdout",
     "output_type": "stream",
     "text": [
      ">> Accuracy: 81.73969513732402 %\n",
      "-- Loss: 6.855236530303955\n",
      "-- True loss 1: 6.889607113024902\n",
      "-- True loss 2: 6.889505780303955\n"
     ]
    },
    {
     "name": "stderr",
     "output_type": "stream",
     "text": [
      "Epoch [14/90]: 100%|██████████████████████████████████████████████████████████████| 5005/5005 [00:39<00:00, 127.25it/s]\n"
     ]
    },
    {
     "name": "stdout",
     "output_type": "stream",
     "text": [
      ">> Accuracy: 82.0100736281843 %\n",
      "-- Loss: 6.5893425941467285\n",
      "-- True loss 1: 6.623973078961182\n",
      "-- True loss 2: 6.623868644146729\n"
     ]
    },
    {
     "name": "stderr",
     "output_type": "stream",
     "text": [
      "Epoch [15/90]: 100%|██████████████████████████████████████████████████████████████| 5005/5005 [00:43<00:00, 116.34it/s]\n"
     ]
    },
    {
     "name": "stdout",
     "output_type": "stream",
     "text": [
      ">> Accuracy: 82.0610427836496 %\n",
      "-- Loss: 6.296780586242676\n",
      "-- True loss 1: 6.331685069433593\n",
      "-- True loss 2: 6.331579498742676\n"
     ]
    },
    {
     "name": "stderr",
     "output_type": "stream",
     "text": [
      "Epoch [16/90]: 100%|██████████████████████████████████████████████████████████████| 5005/5005 [00:41<00:00, 120.06it/s]\n"
     ]
    },
    {
     "name": "stdout",
     "output_type": "stream",
     "text": [
      ">> Accuracy: 82.34976392617044 %\n",
      "-- Loss: 6.011739730834961\n",
      "-- True loss 1: 6.046887612121582\n",
      "-- True loss 2: 6.046779243334961\n"
     ]
    },
    {
     "name": "stderr",
     "output_type": "stream",
     "text": [
      "Epoch [17/90]: 100%|██████████████████████████████████████████████████████████████| 5005/5005 [00:40<00:00, 124.45it/s]\n"
     ]
    },
    {
     "name": "stdout",
     "output_type": "stream",
     "text": [
      ">> Accuracy: 82.26468524400019 %\n",
      "-- Loss: 5.725290775299072\n",
      "-- True loss 1: 5.760781202520752\n",
      "-- True loss 2: 5.760670672174072\n"
     ]
    },
    {
     "name": "stderr",
     "output_type": "stream",
     "text": [
      "Epoch [18/90]: 100%|██████████████████████████████████████████████████████████████| 5005/5005 [00:40<00:00, 123.39it/s]\n"
     ]
    },
    {
     "name": "stdout",
     "output_type": "stream",
     "text": [
      ">> Accuracy: 82.62459148573137 %\n",
      "-- Loss: 5.415072441101074\n",
      "-- True loss 1: 5.450819291394043\n",
      "-- True loss 2: 5.450706325476074\n"
     ]
    },
    {
     "name": "stderr",
     "output_type": "stream",
     "text": [
      "Epoch [19/90]: 100%|██████████████████████████████████████████████████████████████| 5005/5005 [00:38<00:00, 131.65it/s]\n"
     ]
    },
    {
     "name": "stdout",
     "output_type": "stream",
     "text": [
      ">> Accuracy: 82.5444301952829 %\n",
      "-- Loss: 5.133558750152588\n",
      "-- True loss 1: 5.169638817852783\n",
      "-- True loss 2: 5.169523812652588\n"
     ]
    },
    {
     "name": "stderr",
     "output_type": "stream",
     "text": [
      "Epoch [20/90]: 100%|██████████████████████████████████████████████████████████████| 5005/5005 [00:39<00:00, 126.61it/s]\n"
     ]
    },
    {
     "name": "stdout",
     "output_type": "stream",
     "text": [
      ">> Accuracy: 82.78873870463413 %\n",
      "-- Loss: 4.9144792556762695\n",
      "-- True loss 1: 4.950869323388672\n",
      "-- True loss 2: 4.9507514400512695\n"
     ]
    },
    {
     "name": "stderr",
     "output_type": "stream",
     "text": [
      "Epoch [21/90]: 100%|██████████████████████████████████████████████████████████████| 5005/5005 [00:41<00:00, 121.06it/s]\n"
     ]
    },
    {
     "name": "stdout",
     "output_type": "stream",
     "text": [
      ">> Accuracy: 82.76922524542077 %\n",
      "-- Loss: 4.7332844734191895\n",
      "-- True loss 1: 4.770020261260987\n",
      "-- True loss 2: 4.76990027966919\n"
     ]
    },
    {
     "name": "stderr",
     "output_type": "stream",
     "text": [
      "Epoch [22/90]: 100%|██████████████████████████████████████████████████████████████| 5005/5005 [00:37<00:00, 132.23it/s]\n"
     ]
    },
    {
     "name": "stdout",
     "output_type": "stream",
     "text": [
      ">> Accuracy: 82.9780192590037 %\n",
      "-- Loss: 4.547575950622559\n",
      "-- True loss 1: 4.5846593756469725\n",
      "-- True loss 2: 4.584536163122559\n"
     ]
    },
    {
     "name": "stderr",
     "output_type": "stream",
     "text": [
      "Epoch [23/90]: 100%|██████████████████████████████████████████████████████████████| 5005/5005 [00:38<00:00, 128.44it/s]\n"
     ]
    },
    {
     "name": "stdout",
     "output_type": "stream",
     "text": [
      ">> Accuracy: 82.95788136909552 %\n",
      "-- Loss: 4.368198871612549\n",
      "-- True loss 1: 4.4056425980041505\n",
      "-- True loss 2: 4.405517440362549\n"
     ]
    },
    {
     "name": "stderr",
     "output_type": "stream",
     "text": [
      "Epoch [24/90]: 100%|██████████████████████████████████████████████████████████████| 5005/5005 [00:43<00:00, 115.78it/s]\n"
     ]
    },
    {
     "name": "stdout",
     "output_type": "stream",
     "text": [
      ">> Accuracy: 83.19836524044094 %\n",
      "-- Loss: 4.1967244148254395\n",
      "-- True loss 1: 4.234501582989502\n",
      "-- True loss 2: 4.23437348670044\n"
     ]
    },
    {
     "name": "stderr",
     "output_type": "stream",
     "text": [
      "Epoch [25/90]: 100%|██████████████████████████████████████████████████████████████| 5005/5005 [00:42<00:00, 117.57it/s]\n"
     ]
    },
    {
     "name": "stdout",
     "output_type": "stream",
     "text": [
      ">> Accuracy: 83.10321761331662 %\n",
      "-- Loss: 4.034234046936035\n",
      "-- True loss 1: 4.072416211572266\n",
      "-- True loss 2: 4.072285709436035\n"
     ]
    },
    {
     "name": "stderr",
     "output_type": "stream",
     "text": [
      "Epoch [26/90]: 100%|██████████████████████████████████████████████████████████████| 5005/5005 [00:41<00:00, 121.84it/s]\n"
     ]
    },
    {
     "name": "stdout",
     "output_type": "stream",
     "text": [
      ">> Accuracy: 83.42479942115274 %\n",
      "-- Loss: 3.879697561264038\n",
      "-- True loss 1: 3.918214743417358\n",
      "-- True loss 2: 3.918081220639038\n"
     ]
    },
    {
     "name": "stderr",
     "output_type": "stream",
     "text": [
      "Epoch [27/90]: 100%|██████████████████████████████████████████████████████████████| 5005/5005 [00:42<00:00, 118.53it/s]\n"
     ]
    },
    {
     "name": "stdout",
     "output_type": "stream",
     "text": [
      ">> Accuracy: 83.27595075427325 %\n",
      "-- Loss: 3.6947669982910156\n",
      "-- True loss 1: 3.7337292892333984\n",
      "-- True loss 2: 3.7335932357910155\n"
     ]
    },
    {
     "name": "stderr",
     "output_type": "stream",
     "text": [
      "Epoch [28/90]: 100%|██████████████████████████████████████████████████████████████| 5005/5005 [00:42<00:00, 118.47it/s]\n"
     ]
    },
    {
     "name": "stdout",
     "output_type": "stream",
     "text": [
      ">> Accuracy: 83.54156796108548 %\n",
      "-- Loss: 3.5231008529663086\n",
      "-- True loss 1: 3.5624131129028322\n",
      "-- True loss 2: 3.562274012341309\n"
     ]
    },
    {
     "name": "stderr",
     "output_type": "stream",
     "text": [
      "Epoch [29/90]: 100%|██████████████████████████████████████████████████████████████| 5005/5005 [00:45<00:00, 110.12it/s]\n"
     ]
    },
    {
     "name": "stdout",
     "output_type": "stream",
     "text": [
      ">> Accuracy: 83.44493731106093 %\n",
      "-- Loss: 3.340261220932007\n",
      "-- True loss 1: 3.380005739828491\n",
      "-- True loss 2: 3.3798644928070067\n"
     ]
    },
    {
     "name": "stderr",
     "output_type": "stream",
     "text": [
      "Epoch [30/90]: 100%|██████████████████████████████████████████████████████████████| 5005/5005 [00:41<00:00, 122.06it/s]\n"
     ]
    },
    {
     "name": "stdout",
     "output_type": "stream",
     "text": [
      ">> Accuracy: 83.71578412494233 %\n",
      "-- Loss: 3.1761906147003174\n",
      "-- True loss 1: 3.2163102877716065\n",
      "-- True loss 2: 3.2161655772003175\n"
     ]
    },
    {
     "name": "stderr",
     "output_type": "stream",
     "text": [
      "Epoch [31/90]: 100%|██████████████████████████████████████████████████████████████| 5005/5005 [00:39<00:00, 126.89it/s]\n"
     ]
    },
    {
     "name": "stdout",
     "output_type": "stream",
     "text": [
      ">> Accuracy: 86.08214229682781 %\n",
      "-- Loss: 1.677002191543579\n",
      "-- True loss 1: 1.7169472825469971\n",
      "-- True loss 2: 1.716799694668579\n"
     ]
    },
    {
     "name": "stderr",
     "output_type": "stream",
     "text": [
      "Epoch [32/90]: 100%|██████████████████████████████████████████████████████████████| 5005/5005 [00:42<00:00, 118.78it/s]\n"
     ]
    },
    {
     "name": "stdout",
     "output_type": "stream",
     "text": [
      ">> Accuracy: 89.37148708950511 %\n",
      "-- Loss: 1.6628555059432983\n",
      "-- True loss 1: 1.7026742271591186\n",
      "-- True loss 2: 1.7025254184432983\n"
     ]
    },
    {
     "name": "stderr",
     "output_type": "stream",
     "text": [
      "Epoch [33/90]: 100%|██████████████████████████████████████████████████████████████| 5005/5005 [00:45<00:00, 109.74it/s]\n"
     ]
    },
    {
     "name": "stdout",
     "output_type": "stream",
     "text": [
      ">> Accuracy: 90.33802775126115 %\n",
      "-- Loss: 1.637952208518982\n",
      "-- True loss 1: 1.6776627493637084\n",
      "-- True loss 2: 1.6775133960189819\n"
     ]
    },
    {
     "name": "stderr",
     "output_type": "stream",
     "text": [
      "Epoch [34/90]: 100%|██████████████████████████████████████████████████████████████| 5005/5005 [00:45<00:00, 111.17it/s]\n"
     ]
    },
    {
     "name": "stdout",
     "output_type": "stream",
     "text": [
      ">> Accuracy: 90.78855449757916 %\n",
      "-- Loss: 1.6148439645767212\n",
      "-- True loss 1: 1.654455350453186\n",
      "-- True loss 2: 1.6543057708267213\n"
     ]
    },
    {
     "name": "stderr",
     "output_type": "stream",
     "text": [
      "Epoch [35/90]: 100%|██████████████████████████████████████████████████████████████| 5005/5005 [00:49<00:00, 101.88it/s]\n"
     ]
    },
    {
     "name": "stdout",
     "output_type": "stream",
     "text": [
      ">> Accuracy: 91.03067749949851 %\n",
      "-- Loss: 1.5916248559951782\n",
      "-- True loss 1: 1.6311423741104125\n",
      "-- True loss 2: 1.6309927497451782\n"
     ]
    },
    {
     "name": "stderr",
     "output_type": "stream",
     "text": [
      "Epoch [36/90]: 100%|██████████████████████████████████████████████████████████████| 5005/5005 [00:40<00:00, 122.77it/s]\n"
     ]
    },
    {
     "name": "stdout",
     "output_type": "stream",
     "text": [
      ">> Accuracy: 91.17726260510925 %\n",
      "-- Loss: 1.5684938430786133\n",
      "-- True loss 1: 1.60792104029541\n",
      "-- True loss 2: 1.6077714618286132\n"
     ]
    },
    {
     "name": "stderr",
     "output_type": "stream",
     "text": [
      "Epoch [37/90]: 100%|██████████████████████████████████████████████████████████████| 5005/5005 [00:40<00:00, 123.09it/s]\n"
     ]
    },
    {
     "name": "stdout",
     "output_type": "stream",
     "text": [
      ">> Accuracy: 91.27701540860794 %\n",
      "-- Loss: 1.545283317565918\n",
      "-- True loss 1: 1.5846228257446289\n",
      "-- True loss 2: 1.584473336315918\n"
     ]
    },
    {
     "name": "stderr",
     "output_type": "stream",
     "text": [
      "Epoch [38/90]: 100%|██████████████████████████████████████████████████████████████| 5005/5005 [00:45<00:00, 110.75it/s]\n"
     ]
    },
    {
     "name": "stdout",
     "output_type": "stream",
     "text": [
      ">> Accuracy: 91.35382038407171 %\n",
      "-- Loss: 1.5227123498916626\n",
      "-- True loss 1: 1.561966272279358\n",
      "-- True loss 2: 1.5618168936416625\n"
     ]
    },
    {
     "name": "stderr",
     "output_type": "stream",
     "text": [
      "Epoch [39/90]: 100%|██████████████████████████████████████████████████████████████| 5005/5005 [00:42<00:00, 117.97it/s]\n"
     ]
    },
    {
     "name": "stdout",
     "output_type": "stream",
     "text": [
      ">> Accuracy: 91.41649761506501 %\n",
      "-- Loss: 1.5013006925582886\n",
      "-- True loss 1: 1.5404707730270386\n",
      "-- True loss 2: 1.5403215206832885\n"
     ]
    },
    {
     "name": "stderr",
     "output_type": "stream",
     "text": [
      "Epoch [40/90]: 100%|██████████████████████████████████████████████████████████████| 5005/5005 [00:40<00:00, 123.37it/s]\n"
     ]
    },
    {
     "name": "stdout",
     "output_type": "stream",
     "text": [
      ">> Accuracy: 91.46426656321931 %\n",
      "-- Loss: 1.4813909530639648\n",
      "-- True loss 1: 1.5204786962768555\n",
      "-- True loss 2: 1.5203295780639647\n"
     ]
    },
    {
     "name": "stderr",
     "output_type": "stream",
     "text": [
      "Epoch [41/90]: 100%|██████████████████████████████████████████████████████████████| 5005/5005 [00:42<00:00, 118.96it/s]\n"
     ]
    },
    {
     "name": "stdout",
     "output_type": "stream",
     "text": [
      ">> Accuracy: 91.50446428919884 %\n",
      "-- Loss: 1.4626249074935913\n",
      "-- True loss 1: 1.5016316446273803\n",
      "-- True loss 2: 1.5014826668685912\n"
     ]
    },
    {
     "name": "stderr",
     "output_type": "stream",
     "text": [
      "Epoch [42/90]: 100%|██████████████████████████████████████████████████████████████| 5005/5005 [00:40<00:00, 123.90it/s]\n"
     ]
    },
    {
     "name": "stdout",
     "output_type": "stream",
     "text": [
      ">> Accuracy: 91.53912019276176 %\n",
      "-- Loss: 1.444398045539856\n",
      "-- True loss 1: 1.48332496620636\n",
      "-- True loss 2: 1.4831761330398558\n"
     ]
    },
    {
     "name": "stderr",
     "output_type": "stream",
     "text": [
      "Epoch [43/90]: 100%|██████████████████████████████████████████████████████████████| 5005/5005 [00:44<00:00, 112.57it/s]\n"
     ]
    },
    {
     "name": "stdout",
     "output_type": "stream",
     "text": [
      ">> Accuracy: 91.56963924297145 %\n",
      "-- Loss: 1.4264416694641113\n",
      "-- True loss 1: 1.4652898542175292\n",
      "-- True loss 2: 1.4651411663391114\n"
     ]
    },
    {
     "name": "stderr",
     "output_type": "stream",
     "text": [
      "Epoch [44/90]: 100%|██████████████████████████████████████████████████████████████| 5005/5005 [00:44<00:00, 113.71it/s]\n"
     ]
    },
    {
     "name": "stdout",
     "output_type": "stream",
     "text": [
      ">> Accuracy: 91.60062661620226 %\n",
      "-- Loss: 1.4085006713867188\n",
      "-- True loss 1: 1.4472711029052734\n",
      "-- True loss 2: 1.4471225588867187\n"
     ]
    },
    {
     "name": "stderr",
     "output_type": "stream",
     "text": [
      "Epoch [45/90]: 100%|██████████████████████████████████████████████████████████████| 5005/5005 [00:39<00:00, 127.47it/s]\n"
     ]
    },
    {
     "name": "stdout",
     "output_type": "stream",
     "text": [
      ">> Accuracy: 91.62240363668437 %\n",
      "-- Loss: 1.3907088041305542\n",
      "-- True loss 1: 1.4294024062423707\n",
      "-- True loss 2: 1.4292540041305541\n"
     ]
    },
    {
     "name": "stderr",
     "output_type": "stream",
     "text": [
      "Epoch [46/90]: 100%|██████████████████████████████████████████████████████████████| 5005/5005 [00:41<00:00, 121.53it/s]\n"
     ]
    },
    {
     "name": "stdout",
     "output_type": "stream",
     "text": [
      ">> Accuracy: 91.64823945668286 %\n",
      "-- Loss: 1.3735368251800537\n",
      "-- True loss 1: 1.412154472567749\n",
      "-- True loss 2: 1.4120062095550536\n"
     ]
    },
    {
     "name": "stderr",
     "output_type": "stream",
     "text": [
      "Epoch [47/90]: 100%|██████████████████████████████████████████████████████████████| 5005/5005 [00:43<00:00, 115.62it/s]\n"
     ]
    },
    {
     "name": "stdout",
     "output_type": "stream",
     "text": [
      ">> Accuracy: 91.6744655458656 %\n",
      "-- Loss: 1.3571299314498901\n",
      "-- True loss 1: 1.39567245332489\n",
      "-- True loss 2: 1.3955243251998901\n"
     ]
    },
    {
     "name": "stderr",
     "output_type": "stream",
     "text": [
      "Epoch [48/90]: 100%|██████████████████████████████████████████████████████████████| 5005/5005 [00:39<00:00, 127.80it/s]\n"
     ]
    },
    {
     "name": "stdout",
     "output_type": "stream",
     "text": [
      ">> Accuracy: 91.70115995806948 %\n",
      "-- Loss: 1.3412824869155884\n",
      "-- True loss 1: 1.3797506722671509\n",
      "-- True loss 2: 1.3796026744155885\n"
     ]
    },
    {
     "name": "stderr",
     "output_type": "stream",
     "text": [
      "Epoch [49/90]: 100%|██████████████████████████████████████████████████████████████| 5005/5005 [00:41<00:00, 121.85it/s]\n"
     ]
    },
    {
     "name": "stdout",
     "output_type": "stream",
     "text": [
      ">> Accuracy: 91.72457610912551 %\n",
      "-- Loss: 1.3258461952209473\n",
      "-- True loss 1: 1.3642408049499513\n",
      "-- True loss 2: 1.3640929327209472\n"
     ]
    },
    {
     "name": "stderr",
     "output_type": "stream",
     "text": [
      "Epoch [50/90]: 100%|██████████████████████████████████████████████████████████████| 5005/5005 [00:40<00:00, 122.11it/s]\n"
     ]
    },
    {
     "name": "stdout",
     "output_type": "stream",
     "text": [
      ">> Accuracy: 91.74682145262874 %\n",
      "-- Loss: 1.3107351064682007\n",
      "-- True loss 1: 1.349056869871521\n",
      "-- True loss 2: 1.3489091189682008\n"
     ]
    },
    {
     "name": "stderr",
     "output_type": "stream",
     "text": [
      "Epoch [51/90]: 100%|██████████████████████████████████████████████████████████████| 5005/5005 [00:41<00:00, 121.36it/s]\n"
     ]
    },
    {
     "name": "stdout",
     "output_type": "stream",
     "text": [
      ">> Accuracy: 91.765320211963 %\n",
      "-- Loss: 1.2958990335464478\n",
      "-- True loss 1: 1.3341486608413695\n",
      "-- True loss 2: 1.3340010272964478\n"
     ]
    },
    {
     "name": "stderr",
     "output_type": "stream",
     "text": [
      "Epoch [52/90]: 100%|██████████████████████████████████████████████████████████████| 5005/5005 [00:42<00:00, 116.40it/s]\n"
     ]
    },
    {
     "name": "stdout",
     "output_type": "stream",
     "text": [
      ">> Accuracy: 91.7813993023548 %\n",
      "-- Loss: 1.2813304662704468\n",
      "-- True loss 1: 1.31950863624115\n",
      "-- True loss 2: 1.3193611162704468\n"
     ]
    },
    {
     "name": "stderr",
     "output_type": "stream",
     "text": [
      "Epoch [53/90]: 100%|██████████████████████████████████████████████████████████████| 5005/5005 [00:40<00:00, 123.49it/s]\n"
     ]
    },
    {
     "name": "stdout",
     "output_type": "stream",
     "text": [
      ">> Accuracy: 91.80341048434748 %\n",
      "-- Loss: 1.2670209407806396\n",
      "-- True loss 1: 1.305128316329956\n",
      "-- True loss 2: 1.3049809064056397\n"
     ]
    },
    {
     "name": "stderr",
     "output_type": "stream",
     "text": [
      "Epoch [54/90]: 100%|██████████████████████████████████████████████████████████████| 5005/5005 [00:44<00:00, 112.18it/s]\n"
     ]
    },
    {
     "name": "stdout",
     "output_type": "stream",
     "text": [
      ">> Accuracy: 91.82487528948216 %\n",
      "-- Loss: 1.2529135942459106\n",
      "-- True loss 1: 1.2909508222854613\n",
      "-- True loss 2: 1.2908035192459106\n"
     ]
    },
    {
     "name": "stderr",
     "output_type": "stream",
     "text": [
      "Epoch [55/90]: 100%|██████████████████████████████████████████████████████████████| 5005/5005 [00:44<00:00, 112.63it/s]\n"
     ]
    },
    {
     "name": "stdout",
     "output_type": "stream",
     "text": [
      ">> Accuracy: 91.84353015649013 %\n",
      "-- Loss: 1.238961935043335\n",
      "-- True loss 1: 1.2769296402923584\n",
      "-- True loss 2: 1.276782441293335\n"
     ]
    },
    {
     "name": "stderr",
     "output_type": "stream",
     "text": [
      "Epoch [56/90]: 100%|██████████████████████████████████████████████████████████████| 5005/5005 [00:43<00:00, 116.20it/s]\n"
     ]
    },
    {
     "name": "stdout",
     "output_type": "stream",
     "text": [
      ">> Accuracy: 91.8575017932869 %\n",
      "-- Loss: 1.2251358032226562\n",
      "-- True loss 1: 1.263034597644043\n",
      "-- True loss 2: 1.2628875000976563\n"
     ]
    },
    {
     "name": "stderr",
     "output_type": "stream",
     "text": [
      "Epoch [57/90]: 100%|██████████████████████████████████████████████████████████████| 5005/5005 [00:42<00:00, 118.82it/s]\n"
     ]
    },
    {
     "name": "stdout",
     "output_type": "stream",
     "text": [
      ">> Accuracy: 91.87482974506837 %\n",
      "-- Loss: 1.2114306688308716\n",
      "-- True loss 1: 1.2492611486160279\n",
      "-- True loss 2: 1.2491141500808716\n"
     ]
    },
    {
     "name": "stderr",
     "output_type": "stream",
     "text": [
      "Epoch [58/90]: 100%|██████████████████████████████████████████████████████████████| 5005/5005 [00:44<00:00, 112.98it/s]\n"
     ]
    },
    {
     "name": "stdout",
     "output_type": "stream",
     "text": [
      ">> Accuracy: 91.8893477587231 %\n",
      "-- Loss: 1.1978498697280884\n",
      "-- True loss 1: 1.2356126120376587\n",
      "-- True loss 2: 1.2354657103530884\n"
     ]
    },
    {
     "name": "stderr",
     "output_type": "stream",
     "text": [
      "Epoch [59/90]: 100%|██████████████████████████████████████████████████████████████| 5005/5005 [00:41<00:00, 119.94it/s]\n"
     ]
    },
    {
     "name": "stdout",
     "output_type": "stream",
     "text": [
      ">> Accuracy: 91.90300718017245 %\n",
      "-- Loss: 1.1844040155410767\n",
      "-- True loss 1: 1.222099597303772\n",
      "-- True loss 2: 1.2219527905410767\n"
     ]
    },
    {
     "name": "stderr",
     "output_type": "stream",
     "text": [
      "Epoch [60/90]: 100%|██████████████████████████████████████████████████████████████| 5005/5005 [00:40<00:00, 124.28it/s]\n"
     ]
    },
    {
     "name": "stdout",
     "output_type": "stream",
     "text": [
      ">> Accuracy: 91.92158399334357 %\n",
      "-- Loss: 1.1710649728775024\n",
      "-- True loss 1: 1.2086939458023072\n",
      "-- True loss 2: 1.2085472322525024\n"
     ]
    },
    {
     "name": "stderr",
     "output_type": "stream",
     "text": [
      "Epoch [61/90]: 100%|██████████████████████████████████████████████████████████████| 5005/5005 [00:47<00:00, 106.35it/s]\n"
     ]
    },
    {
     "name": "stdout",
     "output_type": "stream",
     "text": [
      ">> Accuracy: 92.39419997549109 %\n",
      "-- Loss: 1.1521673202514648\n",
      "-- True loss 1: 1.1897897377075195\n",
      "-- True loss 2: 1.1896429890014648\n"
     ]
    },
    {
     "name": "stderr",
     "output_type": "stream",
     "text": [
      "Epoch [62/90]: 100%|██████████████████████████████████████████████████████████████| 5005/5005 [00:42<00:00, 117.59it/s]\n"
     ]
    },
    {
     "name": "stdout",
     "output_type": "stream",
     "text": [
      ">> Accuracy: 92.40208341301329 %\n",
      "-- Loss: 1.1486932039260864\n",
      "-- True loss 1: 1.186309104560852\n",
      "-- True loss 2: 1.1861623226760865\n"
     ]
    },
    {
     "name": "stderr",
     "output_type": "stream",
     "text": [
      "Epoch [63/90]: 100%|██████████████████████████████████████████████████████████████| 5005/5005 [00:39<00:00, 126.67it/s]\n"
     ]
    },
    {
     "name": "stdout",
     "output_type": "stream",
     "text": [
      ">> Accuracy: 92.40856188147212 %\n",
      "-- Loss: 1.145390272140503\n",
      "-- True loss 1: 1.1829996584808349\n",
      "-- True loss 2: 1.1828528471405029\n"
     ]
    },
    {
     "name": "stderr",
     "output_type": "stream",
     "text": [
      "Epoch [64/90]: 100%|██████████████████████████████████████████████████████████████| 5005/5005 [00:41<00:00, 121.19it/s]\n"
     ]
    },
    {
     "name": "stdout",
     "output_type": "stream",
     "text": [
      ">> Accuracy: 92.4148061884204 %\n",
      "-- Loss: 1.142240047454834\n",
      "-- True loss 1: 1.1798429317443848\n",
      "-- True loss 2: 1.179696094329834\n"
     ]
    },
    {
     "name": "stderr",
     "output_type": "stream",
     "text": [
      "Epoch [65/90]: 100%|██████████████████████████████████████████████████████████████| 5005/5005 [00:38<00:00, 129.11it/s]\n"
     ]
    },
    {
     "name": "stdout",
     "output_type": "stream",
     "text": [
      ">> Accuracy: 92.41753807271027 %\n",
      "-- Loss: 1.1392287015914917\n",
      "-- True loss 1: 1.1768250933151245\n",
      "-- True loss 2: 1.1766782328414918\n"
     ]
    },
    {
     "name": "stderr",
     "output_type": "stream",
     "text": [
      "Epoch [66/90]: 100%|██████████████████████████████████████████████████████████████| 5005/5005 [00:39<00:00, 127.35it/s]\n"
     ]
    },
    {
     "name": "stdout",
     "output_type": "stream",
     "text": [
      ">> Accuracy: 92.42120660304238 %\n",
      "-- Loss: 1.1363422870635986\n",
      "-- True loss 1: 1.1739321959991456\n",
      "-- True loss 2: 1.1737853151885986\n"
     ]
    },
    {
     "name": "stderr",
     "output_type": "stream",
     "text": [
      "Epoch [67/90]: 100%|██████████████████████████████████████████████████████████████| 5005/5005 [00:41<00:00, 121.11it/s]\n"
     ]
    },
    {
     "name": "stdout",
     "output_type": "stream",
     "text": [
      ">> Accuracy: 92.42596788709044 %\n",
      "-- Loss: 1.1335725784301758\n",
      "-- True loss 1: 1.1711560083862305\n",
      "-- True loss 2: 1.1710091096801758\n"
     ]
    },
    {
     "name": "stderr",
     "output_type": "stream",
     "text": [
      "Epoch [68/90]: 100%|██████████████████████████████████████████████████████████████| 5005/5005 [00:39<00:00, 126.52it/s]\n"
     ]
    },
    {
     "name": "stdout",
     "output_type": "stream",
     "text": [
      ">> Accuracy: 92.42729480231695 %\n",
      "-- Loss: 1.1309092044830322\n",
      "-- True loss 1: 1.168486168899536\n",
      "-- True loss 2: 1.1683392544830322\n"
     ]
    },
    {
     "name": "stderr",
     "output_type": "stream",
     "text": [
      "Epoch [69/90]: 100%|██████████████████████████████████████████████████████████████| 5005/5005 [00:39<00:00, 127.89it/s]\n"
     ]
    },
    {
     "name": "stdout",
     "output_type": "stream",
     "text": [
      ">> Accuracy: 92.42963641742256 %\n",
      "-- Loss: 1.1283468008041382\n",
      "-- True loss 1: 1.1659173039291382\n",
      "-- True loss 2: 1.1657703758041382\n"
     ]
    },
    {
     "name": "stderr",
     "output_type": "stream",
     "text": [
      "Epoch [70/90]: 100%|██████████████████████████████████████████████████████████████| 5005/5005 [00:42<00:00, 116.98it/s]\n"
     ]
    },
    {
     "name": "stdout",
     "output_type": "stream",
     "text": [
      ">> Accuracy: 92.43369521693893 %\n",
      "-- Loss: 1.1258747577667236\n",
      "-- True loss 1: 1.163438804043579\n",
      "-- True loss 2: 1.1632918640167236\n"
     ]
    },
    {
     "name": "stderr",
     "output_type": "stream",
     "text": [
      "Epoch [71/90]: 100%|██████████████████████████████████████████████████████████████| 5005/5005 [00:39<00:00, 125.64it/s]\n"
     ]
    },
    {
     "name": "stdout",
     "output_type": "stream",
     "text": [
      ">> Accuracy: 92.43884677017125 %\n",
      "-- Loss: 1.1234889030456543\n",
      "-- True loss 1: 1.161046503338623\n",
      "-- True loss 2: 1.1608995530456543\n"
     ]
    },
    {
     "name": "stderr",
     "output_type": "stream",
     "text": [
      "Epoch [72/90]: 100%|██████████████████████████████████████████████████████████████| 5005/5005 [00:40<00:00, 122.10it/s]\n"
     ]
    },
    {
     "name": "stdout",
     "output_type": "stream",
     "text": [
      ">> Accuracy: 92.43970536237664 %\n",
      "-- Loss: 1.1211835145950317\n",
      "-- True loss 1: 1.158734673677063\n",
      "-- True loss 2: 1.1585877145950318\n"
     ]
    },
    {
     "name": "stderr",
     "output_type": "stream",
     "text": [
      "Epoch [73/90]: 100%|██████████████████████████████████████████████████████████████| 5005/5005 [00:43<00:00, 114.52it/s]\n"
     ]
    },
    {
     "name": "stdout",
     "output_type": "stream",
     "text": [
      ">> Accuracy: 92.44501302328268 %\n",
      "-- Loss: 1.1189557313919067\n",
      "-- True loss 1: 1.156500454170227\n",
      "-- True loss 2: 1.1563534876419068\n"
     ]
    },
    {
     "name": "stderr",
     "output_type": "stream",
     "text": [
      "Epoch [74/90]: 100%|██████████████████████████████████████████████████████████████| 5005/5005 [00:40<00:00, 124.02it/s]\n"
     ]
    },
    {
     "name": "stdout",
     "output_type": "stream",
     "text": [
      ">> Accuracy: 92.44836933826738 %\n",
      "-- Loss: 1.1167948246002197\n",
      "-- True loss 1: 1.15433311612854\n",
      "-- True loss 2: 1.1541861433502196\n"
     ]
    },
    {
     "name": "stderr",
     "output_type": "stream",
     "text": [
      "Epoch [75/90]: 100%|██████████████████████████████████████████████████████████████| 5005/5005 [00:41<00:00, 119.19it/s]\n"
     ]
    },
    {
     "name": "stdout",
     "output_type": "stream",
     "text": [
      ">> Accuracy: 92.45071095337298 %\n",
      "-- Loss: 1.1147016286849976\n",
      "-- True loss 1: 1.152233497215271\n",
      "-- True loss 2: 1.1520865193099976\n"
     ]
    },
    {
     "name": "stderr",
     "output_type": "stream",
     "text": [
      "Epoch [76/90]: 100%|██████████████████████████████████████████████████████████████| 5005/5005 [00:42<00:00, 117.52it/s]\n"
     ]
    },
    {
     "name": "stdout",
     "output_type": "stream",
     "text": [
      ">> Accuracy: 92.45359894533655 %\n",
      "-- Loss: 1.1126700639724731\n",
      "-- True loss 1: 1.1501955147659302\n",
      "-- True loss 2: 1.1500485327224732\n"
     ]
    },
    {
     "name": "stderr",
     "output_type": "stream",
     "text": [
      "Epoch [77/90]: 100%|██████████████████████████████████████████████████████████████| 5005/5005 [00:40<00:00, 124.07it/s]\n"
     ]
    },
    {
     "name": "stdout",
     "output_type": "stream",
     "text": [
      ">> Accuracy: 92.4557063989316 %\n",
      "-- Loss: 1.1106947660446167\n",
      "-- True loss 1: 1.148213807585144\n",
      "-- True loss 2: 1.1480668222946167\n"
     ]
    },
    {
     "name": "stderr",
     "output_type": "stream",
     "text": [
      "Epoch [78/90]: 100%|██████████████████████████████████████████████████████████████| 5005/5005 [00:41<00:00, 120.36it/s]\n"
     ]
    },
    {
     "name": "stdout",
     "output_type": "stream",
     "text": [
      ">> Accuracy: 92.45633082962642 %\n",
      "-- Loss: 1.108774185180664\n",
      "-- True loss 1: 1.1462868228881835\n",
      "-- True loss 2: 1.146139835180664\n"
     ]
    },
    {
     "name": "stderr",
     "output_type": "stream",
     "text": [
      "Epoch [79/90]: 100%|██████████████████████████████████████████████████████████████| 5005/5005 [00:42<00:00, 118.94it/s]\n"
     ]
    },
    {
     "name": "stdout",
     "output_type": "stream",
     "text": [
      ">> Accuracy: 92.45921882159 %\n",
      "-- Loss: 1.106903314590454\n",
      "-- True loss 1: 1.144409553970337\n",
      "-- True loss 2: 1.144262564590454\n"
     ]
    },
    {
     "name": "stderr",
     "output_type": "stream",
     "text": [
      "Epoch [80/90]: 100%|██████████████████████████████████████████████████████████████| 5005/5005 [00:39<00:00, 125.36it/s]\n"
     ]
    },
    {
     "name": "stdout",
     "output_type": "stream",
     "text": [
      ">> Accuracy: 92.46171654436931 %\n",
      "-- Loss: 1.1050801277160645\n",
      "-- True loss 1: 1.1425799743347167\n",
      "-- True loss 2: 1.1424329839660645\n"
     ]
    },
    {
     "name": "stderr",
     "output_type": "stream",
     "text": [
      "Epoch [81/90]: 100%|██████████████████████████████████████████████████████████████| 5005/5005 [00:41<00:00, 121.12it/s]\n"
     ]
    },
    {
     "name": "stdout",
     "output_type": "stream",
     "text": [
      ">> Accuracy: 92.46335567494323 %\n",
      "-- Loss: 1.1033008098602295\n",
      "-- True loss 1: 1.140794263119507\n",
      "-- True loss 2: 1.1406472723602294\n"
     ]
    },
    {
     "name": "stderr",
     "output_type": "stream",
     "text": [
      "Epoch [82/90]: 100%|██████████████████████████████████████████████████████████████| 5005/5005 [00:40<00:00, 122.85it/s]\n"
     ]
    },
    {
     "name": "stdout",
     "output_type": "stream",
     "text": [
      ">> Accuracy: 92.46296540575896 %\n",
      "-- Loss: 1.1015621423721313\n",
      "-- True loss 1: 1.1390492141983033\n",
      "-- True loss 2: 1.1389022236221313\n"
     ]
    },
    {
     "name": "stderr",
     "output_type": "stream",
     "text": [
      "Epoch [83/90]: 100%|██████████████████████████████████████████████████████████████| 5005/5005 [00:39<00:00, 127.09it/s]\n"
     ]
    },
    {
     "name": "stdout",
     "output_type": "stream",
     "text": [
      ">> Accuracy: 92.4659314515594 %\n",
      "-- Loss: 1.0998642444610596\n",
      "-- True loss 1: 1.1373449406036378\n",
      "-- True loss 2: 1.1371979507110597\n"
     ]
    },
    {
     "name": "stderr",
     "output_type": "stream",
     "text": [
      "Epoch [84/90]: 100%|██████████████████████████████████████████████████████████████| 5005/5005 [00:41<00:00, 121.21it/s]\n"
     ]
    },
    {
     "name": "stdout",
     "output_type": "stream",
     "text": [
      ">> Accuracy: 92.46811695899129 %\n",
      "-- Loss: 1.098201036453247\n",
      "-- True loss 1: 1.1356753595733642\n",
      "-- True loss 2: 1.135528370828247\n"
     ]
    },
    {
     "name": "stderr",
     "output_type": "stream",
     "text": [
      "Epoch [85/90]: 100%|██████████████████████████████████████████████████████████████| 5005/5005 [00:40<00:00, 122.72it/s]\n"
     ]
    },
    {
     "name": "stdout",
     "output_type": "stream",
     "text": [
      ">> Accuracy: 92.46858528201241 %\n",
      "-- Loss: 1.0965739488601685\n",
      "-- True loss 1: 1.1340419047805785\n",
      "-- True loss 2: 1.1338949176101685\n"
     ]
    },
    {
     "name": "stderr",
     "output_type": "stream",
     "text": [
      "Epoch [86/90]: 100%|██████████████████████████████████████████████████████████████| 5005/5005 [00:38<00:00, 128.48it/s]\n"
     ]
    },
    {
     "name": "stdout",
     "output_type": "stream",
     "text": [
      ">> Accuracy: 92.47014635874949 %\n",
      "-- Loss: 1.0949780941009521\n",
      "-- True loss 1: 1.1324396886810302\n",
      "-- True loss 2: 1.1322927034759522\n"
     ]
    },
    {
     "name": "stderr",
     "output_type": "stream",
     "text": [
      "Epoch [87/90]: 100%|██████████████████████████████████████████████████████████████| 5005/5005 [00:41<00:00, 121.39it/s]\n"
     ]
    },
    {
     "name": "stdout",
     "output_type": "stream",
     "text": [
      ">> Accuracy: 92.47178548932341 %\n",
      "-- Loss: 1.0934120416641235\n",
      "-- True loss 1: 1.1308672807754516\n",
      "-- True loss 2: 1.1307202979141235\n"
     ]
    },
    {
     "name": "stderr",
     "output_type": "stream",
     "text": [
      "Epoch [88/90]: 100%|██████████████████████████████████████████████████████████████| 5005/5005 [00:40<00:00, 122.91it/s]\n"
     ]
    },
    {
     "name": "stdout",
     "output_type": "stream",
     "text": [
      ">> Accuracy: 92.47358072757103 %\n",
      "-- Loss: 1.0918734073638916\n",
      "-- True loss 1: 1.129322293814087\n",
      "-- True loss 2: 1.1291753136138916\n"
     ]
    },
    {
     "name": "stderr",
     "output_type": "stream",
     "text": [
      "Epoch [89/90]: 100%|██████████████████████████████████████████████████████████████| 5005/5005 [00:40<00:00, 124.05it/s]\n"
     ]
    },
    {
     "name": "stdout",
     "output_type": "stream",
     "text": [
      ">> Accuracy: 92.47475153512384 %\n",
      "-- Loss: 1.0903621912002563\n",
      "-- True loss 1: 1.1278047309219361\n",
      "-- True loss 2: 1.1276577537002563\n"
     ]
    },
    {
     "name": "stderr",
     "output_type": "stream",
     "text": [
      "Epoch [90/90]: 100%|██████████████████████████████████████████████████████████████| 5005/5005 [00:42<00:00, 116.49it/s]"
     ]
    },
    {
     "name": "stdout",
     "output_type": "stream",
     "text": [
      ">> Accuracy: 92.47646871953461 %\n",
      "-- Loss: 1.0888755321502686\n",
      "-- True loss 1: 1.126311731149292\n",
      "-- True loss 2: 1.1261647571502686\n"
     ]
    },
    {
     "name": "stderr",
     "output_type": "stream",
     "text": [
      "\n"
     ]
    }
   ],
   "source": [
    "# Train the model\n",
    "correct_predictions=0\n",
    "loss_history = []\n",
    "true_loss_v1_history = []\n",
    "true_loss_v2_history = []\n",
    "accuracy_history = []\n",
    "for epoch in range(num_epochs): \n",
    "    for inputs, labels in tqdm(train_loader, desc=f\"Epoch [{epoch+1}/{num_epochs}]\"):\n",
    "        \n",
    "        # Move inputs and labels to the device \n",
    "        inputs = inputs.to(DEVICE) \n",
    "        labels = labels.to(DEVICE)\n",
    "        \n",
    "        # Forward pass \n",
    "        outputs = model(inputs) \n",
    "        loss = loss_function(outputs, labels)\n",
    "        true_loss_v1 = loss.item() + weight_decay_parameter * sum(t.pow(2).sum().item() for t in model.state_dict().values()) / 2\n",
    "        true_loss_v2 = loss.item() + weight_decay_parameter * model.state_dict()['linear.weight'].pow(2).sum().item() / 2\n",
    "        \n",
    "        _, predicted = torch.max(outputs, 1)\n",
    "\n",
    "        # Ajout des prédictions correctes au total\n",
    "        correct_predictions += (predicted == labels).sum().item()\n",
    "        \n",
    "        # Backward and optimize \n",
    "        optimizer.zero_grad() \n",
    "        loss.backward() \n",
    "        optimizer.step()\n",
    "\n",
    "    # update lr\n",
    "    scheduler.step()\n",
    "\n",
    "    # save intermediate models\n",
    "    torch.save(model.state_dict(), f'{models_folder}/epoch-{epoch}.pt')\n",
    "\n",
    "    # process accuracy\n",
    "    accuracy = 100 * correct_predictions / len(dataset)\n",
    "    correct_predictions=0\n",
    "    \n",
    "    print(f'>> Accuracy: {accuracy} %\\n-- Loss: {loss.item()}\\n-- True loss 1: {true_loss_v1}\\n-- True loss 2: {true_loss_v2}')\n",
    "\n",
    "    # save accuracy and loss\n",
    "    loss_history.append(loss.item())\n",
    "    accuracy_history.append(accuracy)\n",
    "    true_loss_v1_history.append(true_loss_v1)\n",
    "    true_loss_v2_history.append(true_loss_v2)    "
   ]
  },
  {
   "cell_type": "code",
   "execution_count": 12,
   "id": "892629d0-aa4e-4fb5-8bfc-f63facc6a8d6",
   "metadata": {},
   "outputs": [],
   "source": [
    "torch.save(accuracy_history, f'{models_folder}/accuracy.pt')\n",
    "torch.save(loss_history, f'{models_folder}/loss.pt')\n",
    "torch.save(true_loss_v1_history, f'{models_folder}/true_loss_v1.pt')\n",
    "torch.save(true_loss_v2_history, f'{models_folder}/true_loss_v2.pt')"
   ]
  },
  {
   "cell_type": "code",
   "execution_count": 13,
   "id": "939b3e9d-903f-45a7-929c-229fa558a1a5",
   "metadata": {},
   "outputs": [],
   "source": [
    "# acc = torch.load('../data/saved_models/constant_step_lr/accuracy.pt')\n",
    "# loss = torch.load('../data/saved_models/constant_step_lr/loss.pt')\n",
    "# params20 = torch.load('../data/saved_models/constant_step_lr/epoch-20.pt')\n",
    "# params40 = torch.load('../data/saved_models/constant_step_lr/epoch-40.pt')"
   ]
  },
  {
   "cell_type": "code",
   "execution_count": 14,
   "id": "fb288491-90f4-4a91-bb96-b0bd1044ab64",
   "metadata": {},
   "outputs": [
    {
     "data": {
      "text/plain": [
       "[<matplotlib.lines.Line2D at 0x2433b5dc310>]"
      ]
     },
     "execution_count": 14,
     "metadata": {},
     "output_type": "execute_result"
    },
    {
     "data": {
      "image/png": "[encoded data removed]",
      "text/plain": [
       "<Figure size 640x480 with 1 Axes>"
      ]
     },
     "metadata": {},
     "output_type": "display_data"
    }
   ],
   "source": [
    "plt.plot(accuracy_history)"
   ]
  },
  {
   "cell_type": "code",
   "execution_count": 15,
   "id": "d88cf90a-9672-430b-89ab-7df6e43d06b9",
   "metadata": {},
   "outputs": [
    {
     "data": {
      "text/plain": [
       "[<matplotlib.lines.Line2D at 0x2432b44dd90>]"
      ]
     },
     "execution_count": 15,
     "metadata": {},
     "output_type": "execute_result"
    },
    {
     "data": {
      "image/png": "[encoded data removed]",
      "text/plain": [
       "<Figure size 640x480 with 1 Axes>"
      ]
     },
     "metadata": {},
     "output_type": "display_data"
    }
   ],
   "source": [
    "plt.plot(loss_history)"
   ]
  },
  {
   "cell_type": "code",
   "execution_count": 16,
   "id": "8992c72e-2984-4fca-8250-289d493d09d4",
   "metadata": {},
   "outputs": [
    {
     "data": {
      "text/plain": [
       "[<matplotlib.lines.Line2D at 0x24346f9ed50>]"
      ]
     },
     "execution_count": 16,
     "metadata": {},
     "output_type": "execute_result"
    },
    {
     "data": {
      "image/png": "[encoded data removed]",
      "text/plain": [
       "<Figure size 640x480 with 1 Axes>"
      ]
     },
     "metadata": {},
     "output_type": "display_data"
    }
   ],
   "source": [
    "plt.plot(true_loss_v1_history)"
   ]
  },
  {
   "cell_type": "code",
   "execution_count": 17,
   "id": "131ba6ee-24ee-49d7-9faa-23036f93fe15",
   "metadata": {},
   "outputs": [
    {
     "data": {
      "text/plain": [
       "[<matplotlib.lines.Line2D at 0x243470456d0>]"
      ]
     },
     "execution_count": 17,
     "metadata": {},
     "output_type": "execute_result"
    },
    {
     "data": {
      "image/png": "[encoded data removed]",
      "text/plain": [
       "<Figure size 640x480 with 1 Axes>"
      ]
     },
     "metadata": {},
     "output_type": "display_data"
    }
   ],
   "source": [
    "plt.plot(true_loss_v2_history)"
   ]
  },
  {
   "cell_type": "code",
   "execution_count": null,
   "id": "0e889056-d596-4619-9660-47e4d41a4131",
   "metadata": {},
   "outputs": [],
   "source": []
  }
 ],
 "metadata": {
  "kernelspec": {
   "display_name": "Python 3 (ipykernel)",
   "language": "python",
   "name": "python3"
  },
  "language_info": {
   "codemirror_mode": {
    "name": "ipython",
    "version": 3
   },
   "file_extension": ".py",
   "mimetype": "text/x-python",
   "name": "python",
   "nbconvert_exporter": "python",
   "pygments_lexer": "ipython3",
   "version": "3.11.6"
  }
 },
 "nbformat": 4,
 "nbformat_minor": 5
}
