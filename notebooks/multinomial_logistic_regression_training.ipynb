{
 "cells": [
  {
   "cell_type": "code",
   "execution_count": 11,
   "id": "2c5b9edb-bec4-4c75-b9a7-33109c35ff2e",
   "metadata": {},
   "outputs": [],
   "source": [
    "import torch\n",
    "from torch.utils.data import Dataset, DataLoader \n",
    "import torch.nn as nn\n",
    "from torchinfo import summary \n",
    "from tqdm import tqdm\n",
    "import json\n",
    "import matplotlib.pyplot as plt\n",
    "import os"
   ]
  },
  {
   "cell_type": "code",
   "execution_count": 12,
   "id": "e4b2e2bd-88c1-49b6-8e7a-5ea1f5ecf93a",
   "metadata": {},
   "outputs": [],
   "source": [
    "# Set device\n",
    "DEVICE = torch.device(\"cuda\" if torch.cuda.is_available() else \"cpu\")"
   ]
  },
  {
   "cell_type": "code",
   "execution_count": 13,
   "id": "f193b49b-64d9-4059-8faa-e11bea16cd50",
   "metadata": {},
   "outputs": [],
   "source": [
    "class PenultimateOutputsDataset(Dataset):\n",
    "    def __init__(self, folder_path, device='cpu'):\n",
    "        with open(f'{folder_path}/penultimate_layer_outputs/data.json') as data:\n",
    "            self.data_tensors = json.load(data)\n",
    "        self.file_list = [f'{folder_path}/penultimate_layer_outputs/penultimate_layer_outputs_{index}.pt' for index in range(self.data_tensors['last_file_indice']+1)]\n",
    "        self.labels = torch.load(f'{folder_path}/penultimate_layer_labels.pt', map_location=device)\n",
    "        self.length = self.data_tensors['min_size_segmentation']*self.data_tensors['last_file_indice']+torch.load(f'{folder_path}/penultimate_layer_outputs/penultimate_layer_outputs_{self.data_tensors[\"last_file_indice\"]}.pt', map_location=device).shape[0]\n",
    "        self.device = device\n",
    "        self.data_cache = None\n",
    "        \n",
    "    def __len__(self):\n",
    "        return self.length\n",
    "\n",
    "    def __getitem__(self, index):\n",
    "        if index < 0 or index >= self.length :\n",
    "           raise ValueError(f'Index need to be between 0 and {self.length-1}')\n",
    "        index_file = index//self.data_tensors['min_size_segmentation']\n",
    "        index_in_file = index%self.data_tensors['min_size_segmentation']\n",
    "        if (self.data_cache is None) or self.data_cache[0] != index_file :\n",
    "            file = self.file_list[index_file]\n",
    "            tensors = torch.load(file, map_location=self.device)\n",
    "            self.data_cache = (index_file, tensors)\n",
    "        tensor = self.data_cache[1][index_in_file]\n",
    "        label = self.labels[index]\n",
    "        return tensor, label\n"
   ]
  },
  {
   "cell_type": "code",
   "execution_count": 14,
   "id": "ddbe9159-0647-45bc-ba6f-dc3405c05e12",
   "metadata": {},
   "outputs": [],
   "source": [
    "outputs_folder = \"../data/saved_outputs/train\"\n",
    "folder_model = \"parameter_to_zeros\" #\"same_parameter_real_optimized_function\"\n",
    "models_folder = f\"../data/saved_models/{folder_model}\"\n",
    "\n",
    "if not os.path.exists(models_folder):\n",
    "    os.makedirs(models_folder)\n",
    "    \n",
    "input_size = 2048\n",
    "num_classes = 1000\n",
    "\n",
    "batch_size = 256\n",
    "num_epochs = 90\n",
    "\n",
    "weight_decay_parameter = 1e-4\n",
    "learning_rate = 0.1\n",
    "momentum = 0.9\n",
    "lr_decay_step = 30\n",
    "decay_rate = 0.1\n"
   ]
  },
  {
   "cell_type": "code",
   "execution_count": 15,
   "id": "9d81593e-319d-41d0-b7f6-082bcf503355",
   "metadata": {},
   "outputs": [],
   "source": [
    "dataset = PenultimateOutputsDataset(outputs_folder)\n",
    "train_loader = DataLoader(dataset, batch_size=batch_size, pin_memory=True)"
   ]
  },
  {
   "cell_type": "code",
   "execution_count": 16,
   "id": "41dcef3b-9e53-45c1-9371-e06b594ef332",
   "metadata": {},
   "outputs": [
    {
     "data": {
      "text/plain": [
       "1281167"
      ]
     },
     "execution_count": 16,
     "metadata": {},
     "output_type": "execute_result"
    }
   ],
   "source": [
    "len(dataset)"
   ]
  },
  {
   "cell_type": "code",
   "execution_count": 17,
   "id": "b361da8f-0734-4df2-9eb1-cf9a229981db",
   "metadata": {},
   "outputs": [],
   "source": [
    "class LogisticRegression(nn.Module): \n",
    "    def __init__(self, input_size, num_classes): \n",
    "        super(LogisticRegression, self).__init__() \n",
    "        self.linear = nn.Linear(input_size, num_classes) \n",
    "\n",
    "        # Initialiser les poids à zéro\n",
    "        self.linear.weight.data.zero_()\n",
    "        if self.linear.bias is not None:\n",
    "            self.linear.bias.data.zero_()\n",
    "  \n",
    "    def forward(self, x): \n",
    "        out = self.linear(x) \n",
    "        return out "
   ]
  },
  {
   "cell_type": "code",
   "execution_count": 18,
   "id": "a81e9023-21b7-4b20-861f-994d7e3e94bf",
   "metadata": {},
   "outputs": [
    {
     "data": {
      "text/plain": [
       "==========================================================================================\n",
       "Layer (type:depth-idx)                   Output Shape              Param #\n",
       "==========================================================================================\n",
       "LogisticRegression                       [256, 1000]               --\n",
       "├─Linear: 1-1                            [256, 1000]               2,049,000\n",
       "==========================================================================================\n",
       "Total params: 2,049,000\n",
       "Trainable params: 2,049,000\n",
       "Non-trainable params: 0\n",
       "Total mult-adds (Units.MEGABYTES): 524.54\n",
       "==========================================================================================\n",
       "Input size (MB): 2.10\n",
       "Forward/backward pass size (MB): 2.05\n",
       "Params size (MB): 8.20\n",
       "Estimated Total Size (MB): 12.34\n",
       "=========================================================================================="
      ]
     },
     "execution_count": 18,
     "metadata": {},
     "output_type": "execute_result"
    }
   ],
   "source": [
    "# On définit le model\n",
    "model = LogisticRegression(input_size=input_size, num_classes=num_classes) \n",
    "model = model.to(DEVICE)\n",
    "summary(model, input_size=(batch_size, input_size))"
   ]
  },
  {
   "cell_type": "code",
   "execution_count": 19,
   "id": "b11b4cb8-fac4-4ecc-8a73-d6c7a02a4026",
   "metadata": {},
   "outputs": [],
   "source": [
    "# Define the loss function and optimizer \n",
    "loss_function = nn.CrossEntropyLoss() \n",
    "optimizer = torch.optim.SGD(model.parameters(), lr=learning_rate, momentum=momentum, weight_decay=weight_decay_parameter)\n",
    "scheduler = torch.optim.lr_scheduler.StepLR(optimizer, step_size=lr_decay_step, gamma=decay_rate)"
   ]
  },
  {
   "cell_type": "code",
   "execution_count": 20,
   "id": "169ff55c-d13a-4450-92ff-495e64cf55b3",
   "metadata": {},
   "outputs": [
    {
     "name": "stderr",
     "output_type": "stream",
     "text": [
      "Epoch [1/90]: 100%|███████████████████████████████████████████████████████████████| 5005/5005 [00:37<00:00, 133.10it/s]\n"
     ]
    },
    {
     "name": "stdout",
     "output_type": "stream",
     "text": [
      "Global minimized function value : 46.756195068359375\n",
      ">> Accuracy: 9.110834106716768 %\n",
      "-- Loss: 30.32522964477539\n",
      "-- True loss 1: 46.75619443359375\n",
      "-- True loss 2: 46.68159526977539\n"
     ]
    },
    {
     "name": "stderr",
     "output_type": "stream",
     "text": [
      "Epoch [2/90]: 100%|███████████████████████████████████████████████████████████████| 5005/5005 [00:42<00:00, 117.61it/s]\n"
     ]
    },
    {
     "name": "stdout",
     "output_type": "stream",
     "text": [
      "Global minimized function value : 21.274765014648438\n",
      ">> Accuracy: 55.72903454428658 %\n",
      "-- Loss: 10.079760551452637\n",
      "-- True loss 1: 21.27476812591553\n",
      "-- True loss 2: 21.23444180145264\n"
     ]
    },
    {
     "name": "stderr",
     "output_type": "stream",
     "text": [
      "Epoch [3/90]: 100%|████████████████████████████████████████████████████████████████| 5005/5005 [00:52<00:00, 95.26it/s]\n"
     ]
    },
    {
     "name": "stdout",
     "output_type": "stream",
     "text": [
      "Global minimized function value : 15.79551887512207\n",
      ">> Accuracy: 60.99407805539793 %\n",
      "-- Loss: 7.379249572753906\n",
      "-- True loss 1: 15.795521649169922\n",
      "-- True loss 2: 15.762987854003907\n"
     ]
    },
    {
     "name": "stderr",
     "output_type": "stream",
     "text": [
      "Epoch [4/90]: 100%|████████████████████████████████████████████████████████████████| 5005/5005 [00:50<00:00, 99.03it/s]\n"
     ]
    },
    {
     "name": "stdout",
     "output_type": "stream",
     "text": [
      "Global minimized function value : 14.691579818725586\n",
      ">> Accuracy: 58.75822589873139 %\n",
      "-- Loss: 6.885639667510986\n",
      "-- True loss 1: 14.69158108291626\n",
      "-- True loss 2: 14.660353730010986\n"
     ]
    },
    {
     "name": "stderr",
     "output_type": "stream",
     "text": [
      "Epoch [5/90]: 100%|████████████████████████████████████████████████████████████████| 5005/5005 [00:50<00:00, 98.97it/s]\n"
     ]
    },
    {
     "name": "stdout",
     "output_type": "stream",
     "text": [
      "Global minimized function value : 14.8876953125\n",
      ">> Accuracy: 55.51891361547714 %\n",
      "-- Loss: 6.783611297607422\n",
      "-- True loss 1: 14.887693936157227\n",
      "-- True loss 2: 14.854854266357423\n"
     ]
    },
    {
     "name": "stderr",
     "output_type": "stream",
     "text": [
      "Epoch [6/90]: 100%|████████████████████████████████████████████████████████████████| 5005/5005 [00:51<00:00, 96.68it/s]\n"
     ]
    },
    {
     "name": "stdout",
     "output_type": "stream",
     "text": [
      "Global minimized function value : 14.944653511047363\n",
      ">> Accuracy: 55.04309742601862 %\n",
      "-- Loss: 6.732390880584717\n",
      "-- True loss 1: 14.944653136444092\n",
      "-- True loss 2: 14.911802599334717\n"
     ]
    },
    {
     "name": "stderr",
     "output_type": "stream",
     "text": [
      "Epoch [7/90]: 100%|████████████████████████████████████████████████████████████████| 5005/5005 [00:52<00:00, 95.13it/s]\n"
     ]
    },
    {
     "name": "stdout",
     "output_type": "stream",
     "text": [
      "Global minimized function value : 14.89122200012207\n",
      ">> Accuracy: 55.39839849137544 %\n",
      "-- Loss: 6.703956127166748\n",
      "-- True loss 1: 14.891222631073\n",
      "-- True loss 2: 14.857931127166749\n"
     ]
    },
    {
     "name": "stderr",
     "output_type": "stream",
     "text": [
      "Epoch [8/90]: 100%|████████████████████████████████████████████████████████████████| 5005/5005 [00:51<00:00, 97.90it/s]\n"
     ]
    },
    {
     "name": "stdout",
     "output_type": "stream",
     "text": [
      "Global minimized function value : 14.790369987487793\n",
      ">> Accuracy: 56.33106378793709 %\n",
      "-- Loss: 6.7597832679748535\n",
      "-- True loss 1: 14.790371381378174\n",
      "-- True loss 2: 14.757768424224853\n"
     ]
    },
    {
     "name": "stderr",
     "output_type": "stream",
     "text": [
      "Epoch [9/90]: 100%|████████████████████████████████████████████████████████████████| 5005/5005 [00:52<00:00, 95.85it/s]\n"
     ]
    },
    {
     "name": "stdout",
     "output_type": "stream",
     "text": [
      "Global minimized function value : 14.937843322753906\n",
      ">> Accuracy: 55.58510326912885 %\n",
      "-- Loss: 6.797436714172363\n",
      "-- True loss 1: 14.937844111633302\n",
      "-- True loss 2: 14.904632026672363\n"
     ]
    },
    {
     "name": "stderr",
     "output_type": "stream",
     "text": [
      "Epoch [10/90]: 100%|███████████████████████████████████████████████████████████████| 5005/5005 [00:50<00:00, 99.06it/s]\n"
     ]
    },
    {
     "name": "stdout",
     "output_type": "stream",
     "text": [
      "Global minimized function value : 14.907173156738281\n",
      ">> Accuracy: 55.80490287370811 %\n",
      "-- Loss: 6.778021335601807\n",
      "-- True loss 1: 14.907173752593994\n",
      "-- True loss 2: 14.874191648101807\n"
     ]
    },
    {
     "name": "stderr",
     "output_type": "stream",
     "text": [
      "Epoch [11/90]: 100%|███████████████████████████████████████████████████████████████| 5005/5005 [00:51<00:00, 97.86it/s]\n"
     ]
    },
    {
     "name": "stdout",
     "output_type": "stream",
     "text": [
      "Global minimized function value : 15.060121536254883\n",
      ">> Accuracy: 55.25282808564379 %\n",
      "-- Loss: 6.810406684875488\n",
      "-- True loss 1: 15.06012258758545\n",
      "-- True loss 2: 15.026312934875488\n"
     ]
    },
    {
     "name": "stderr",
     "output_type": "stream",
     "text": [
      "Epoch [12/90]: 100%|███████████████████████████████████████████████████████████████| 5005/5005 [00:52<00:00, 94.71it/s]\n"
     ]
    },
    {
     "name": "stdout",
     "output_type": "stream",
     "text": [
      "Global minimized function value : 14.908110618591309\n",
      ">> Accuracy: 55.48441381958792 %\n",
      "-- Loss: 6.6958770751953125\n",
      "-- True loss 1: 14.908111141967774\n",
      "-- True loss 2: 14.874766137695312\n"
     ]
    },
    {
     "name": "stderr",
     "output_type": "stream",
     "text": [
      "Epoch [13/90]: 100%|███████████████████████████████████████████████████████████████| 5005/5005 [00:53<00:00, 94.37it/s]\n"
     ]
    },
    {
     "name": "stdout",
     "output_type": "stream",
     "text": [
      "Global minimized function value : 14.840256690979004\n",
      ">> Accuracy: 55.72013640688529 %\n",
      "-- Loss: 6.690634250640869\n",
      "-- True loss 1: 14.840257343292237\n",
      "-- True loss 2: 14.80679362564087\n"
     ]
    },
    {
     "name": "stderr",
     "output_type": "stream",
     "text": [
      "Epoch [14/90]: 100%|███████████████████████████████████████████████████████████████| 5005/5005 [00:52<00:00, 96.21it/s]\n"
     ]
    },
    {
     "name": "stdout",
     "output_type": "stream",
     "text": [
      "Global minimized function value : 14.902685165405273\n",
      ">> Accuracy: 55.90309460046973 %\n",
      "-- Loss: 6.7877326011657715\n",
      "-- True loss 1: 14.902685344696046\n",
      "-- True loss 2: 14.869790413665772\n"
     ]
    },
    {
     "name": "stderr",
     "output_type": "stream",
     "text": [
      "Epoch [15/90]: 100%|███████████████████████████████████████████████████████████████| 5005/5005 [00:51<00:00, 97.23it/s]\n"
     ]
    },
    {
     "name": "stdout",
     "output_type": "stream",
     "text": [
      "Global minimized function value : 14.805098533630371\n",
      ">> Accuracy: 55.69391031770253 %\n",
      "-- Loss: 6.68009090423584\n",
      "-- True loss 1: 14.805099320983887\n",
      "-- True loss 2: 14.77185340423584\n"
     ]
    },
    {
     "name": "stderr",
     "output_type": "stream",
     "text": [
      "Epoch [16/90]: 100%|███████████████████████████████████████████████████████████████| 5005/5005 [00:50<00:00, 98.80it/s]\n"
     ]
    },
    {
     "name": "stdout",
     "output_type": "stream",
     "text": [
      "Global minimized function value : 14.867118835449219\n",
      ">> Accuracy: 55.62186662628682 %\n",
      "-- Loss: 6.720383644104004\n",
      "-- True loss 1: 14.86712109222412\n",
      "-- True loss 2: 14.834025831604004\n"
     ]
    },
    {
     "name": "stderr",
     "output_type": "stream",
     "text": [
      "Epoch [17/90]: 100%|██████████████████████████████████████████████████████████████| 5005/5005 [00:49<00:00, 101.15it/s]\n"
     ]
    },
    {
     "name": "stdout",
     "output_type": "stream",
     "text": [
      "Global minimized function value : 14.85657787322998\n",
      ">> Accuracy: 55.685090234138094 %\n",
      "-- Loss: 6.710137367248535\n",
      "-- True loss 1: 14.856577711486818\n",
      "-- True loss 2: 14.823182679748536\n"
     ]
    },
    {
     "name": "stderr",
     "output_type": "stream",
     "text": [
      "Epoch [18/90]: 100%|███████████████████████████████████████████████████████████████| 5005/5005 [00:50<00:00, 98.48it/s]\n"
     ]
    },
    {
     "name": "stdout",
     "output_type": "stream",
     "text": [
      "Global minimized function value : 14.92441177368164\n",
      ">> Accuracy: 55.55356951904006 %\n",
      "-- Loss: 6.760868549346924\n",
      "-- True loss 1: 14.924411737823487\n",
      "-- True loss 2: 14.891266205596924\n"
     ]
    },
    {
     "name": "stderr",
     "output_type": "stream",
     "text": [
      "Epoch [19/90]: 100%|███████████████████████████████████████████████████████████████| 5005/5005 [00:53<00:00, 93.86it/s]\n"
     ]
    },
    {
     "name": "stdout",
     "output_type": "stream",
     "text": [
      "Global minimized function value : 14.832260131835938\n",
      ">> Accuracy: 55.7704030778189 %\n",
      "-- Loss: 6.711967468261719\n",
      "-- True loss 1: 14.832257989501954\n",
      "-- True loss 2: 14.798909655761719\n"
     ]
    },
    {
     "name": "stderr",
     "output_type": "stream",
     "text": [
      "Epoch [20/90]: 100%|███████████████████████████████████████████████████████████████| 5005/5005 [00:56<00:00, 89.18it/s]\n"
     ]
    },
    {
     "name": "stdout",
     "output_type": "stream",
     "text": [
      "Global minimized function value : 14.883580207824707\n",
      ">> Accuracy: 55.691880917944346 %\n",
      "-- Loss: 6.738313674926758\n",
      "-- True loss 1: 14.883579776000976\n",
      "-- True loss 2: 14.850426174926758\n"
     ]
    },
    {
     "name": "stderr",
     "output_type": "stream",
     "text": [
      "Epoch [21/90]: 100%|███████████████████████████████████████████████████████████████| 5005/5005 [00:52<00:00, 95.08it/s]\n"
     ]
    },
    {
     "name": "stdout",
     "output_type": "stream",
     "text": [
      "Global minimized function value : 15.019060134887695\n",
      ">> Accuracy: 55.48706765004094 %\n",
      "-- Loss: 6.799432277679443\n",
      "-- True loss 1: 15.019058712005616\n",
      "-- True loss 2: 14.985358058929444\n"
     ]
    },
    {
     "name": "stderr",
     "output_type": "stream",
     "text": [
      "Epoch [22/90]: 100%|███████████████████████████████████████████████████████████████| 5005/5005 [00:54<00:00, 92.21it/s]\n"
     ]
    },
    {
     "name": "stdout",
     "output_type": "stream",
     "text": [
      "Global minimized function value : 14.988868713378906\n",
      ">> Accuracy: 55.6658109364353 %\n",
      "-- Loss: 6.794710159301758\n",
      "-- True loss 1: 14.988869692993164\n",
      "-- True loss 2: 14.955432034301758\n"
     ]
    },
    {
     "name": "stderr",
     "output_type": "stream",
     "text": [
      "Epoch [23/90]: 100%|███████████████████████████████████████████████████████████████| 5005/5005 [00:51<00:00, 97.38it/s]\n"
     ]
    },
    {
     "name": "stdout",
     "output_type": "stream",
     "text": [
      "Global minimized function value : 14.816620826721191\n",
      ">> Accuracy: 55.72887843661287 %\n",
      "-- Loss: 6.688862323760986\n",
      "-- True loss 1: 14.816620697784424\n",
      "-- True loss 2: 14.783101386260986\n"
     ]
    },
    {
     "name": "stderr",
     "output_type": "stream",
     "text": [
      "Epoch [24/90]: 100%|███████████████████████████████████████████████████████████████| 5005/5005 [00:50<00:00, 98.25it/s]\n"
     ]
    },
    {
     "name": "stdout",
     "output_type": "stream",
     "text": [
      "Global minimized function value : 14.831324577331543\n",
      ">> Accuracy: 55.713970153773865 %\n",
      "-- Loss: 6.692372798919678\n",
      "-- True loss 1: 14.83132785873413\n",
      "-- True loss 2: 14.798191548919679\n"
     ]
    },
    {
     "name": "stderr",
     "output_type": "stream",
     "text": [
      "Epoch [25/90]: 100%|███████████████████████████████████████████████████████████████| 5005/5005 [00:51<00:00, 97.81it/s]\n"
     ]
    },
    {
     "name": "stdout",
     "output_type": "stream",
     "text": [
      "Global minimized function value : 14.875849723815918\n",
      ">> Accuracy: 55.596811344656864 %\n",
      "-- Loss: 6.725928783416748\n",
      "-- True loss 1: 14.875850762176514\n",
      "-- True loss 2: 14.842416283416748\n"
     ]
    },
    {
     "name": "stderr",
     "output_type": "stream",
     "text": [
      "Epoch [26/90]: 100%|███████████████████████████████████████████████████████████████| 5005/5005 [00:54<00:00, 91.26it/s]\n"
     ]
    },
    {
     "name": "stdout",
     "output_type": "stream",
     "text": [
      "Global minimized function value : 14.909929275512695\n",
      ">> Accuracy: 55.75986580984368 %\n",
      "-- Loss: 6.765343189239502\n",
      "-- True loss 1: 14.90992940750122\n",
      "-- True loss 2: 14.876865064239503\n"
     ]
    },
    {
     "name": "stderr",
     "output_type": "stream",
     "text": [
      "Epoch [27/90]: 100%|███████████████████████████████████████████████████████████████| 5005/5005 [00:58<00:00, 85.79it/s]\n"
     ]
    },
    {
     "name": "stdout",
     "output_type": "stream",
     "text": [
      "Global minimized function value : 14.888726234436035\n",
      ">> Accuracy: 55.58627407668165 %\n",
      "-- Loss: 6.751613616943359\n",
      "-- True loss 1: 14.888727825927734\n",
      "-- True loss 2: 14.85534799194336\n"
     ]
    },
    {
     "name": "stderr",
     "output_type": "stream",
     "text": [
      "Epoch [28/90]: 100%|██████████████████████████████████████████████████████████████| 5005/5005 [00:49<00:00, 100.96it/s]\n"
     ]
    },
    {
     "name": "stdout",
     "output_type": "stream",
     "text": [
      "Global minimized function value : 14.913362503051758\n",
      ">> Accuracy: 55.68711963389628 %\n",
      "-- Loss: 6.741464614868164\n",
      "-- True loss 1: 14.913361141967775\n",
      "-- True loss 2: 14.880041177368165\n"
     ]
    },
    {
     "name": "stderr",
     "output_type": "stream",
     "text": [
      "Epoch [29/90]: 100%|███████████████████████████████████████████████████████████████| 5005/5005 [00:57<00:00, 86.77it/s]\n"
     ]
    },
    {
     "name": "stdout",
     "output_type": "stream",
     "text": [
      "Global minimized function value : 14.80848217010498\n",
      ">> Accuracy: 55.74238175038851 %\n",
      "-- Loss: 6.677120685577393\n",
      "-- True loss 1: 14.808483435821534\n",
      "-- True loss 2: 14.774973029327393\n"
     ]
    },
    {
     "name": "stderr",
     "output_type": "stream",
     "text": [
      "Epoch [30/90]: 100%|███████████████████████████████████████████████████████████████| 5005/5005 [00:50<00:00, 98.97it/s]\n"
     ]
    },
    {
     "name": "stdout",
     "output_type": "stream",
     "text": [
      "Global minimized function value : 14.877249717712402\n",
      ">> Accuracy: 55.64902936151181 %\n",
      "-- Loss: 6.725758075714111\n",
      "-- True loss 1: 14.877249988555908\n",
      "-- True loss 2: 14.844151825714112\n"
     ]
    },
    {
     "name": "stderr",
     "output_type": "stream",
     "text": [
      "Epoch [31/90]: 100%|███████████████████████████████████████████████████████████████| 5005/5005 [00:51<00:00, 96.95it/s]\n"
     ]
    },
    {
     "name": "stdout",
     "output_type": "stream",
     "text": [
      "Global minimized function value : 8.712686538696289\n",
      ">> Accuracy: 69.05532221794661 %\n",
      "-- Loss: 1.6424970626831055\n",
      "-- True loss 1: 8.712686917114258\n",
      "-- True loss 2: 8.688287687683106\n"
     ]
    },
    {
     "name": "stderr",
     "output_type": "stream",
     "text": [
      "Epoch [32/90]: 100%|███████████████████████████████████████████████████████████████| 5005/5005 [00:52<00:00, 95.02it/s]\n"
     ]
    },
    {
     "name": "stdout",
     "output_type": "stream",
     "text": [
      "Global minimized function value : 8.168062210083008\n",
      ">> Accuracy: 80.7159410131544 %\n",
      "-- Loss: 1.9237422943115234\n",
      "-- True loss 1: 8.168063366699219\n",
      "-- True loss 2: 8.148075888061523\n"
     ]
    },
    {
     "name": "stderr",
     "output_type": "stream",
     "text": [
      "Epoch [33/90]: 100%|███████████████████████████████████████████████████████████████| 5005/5005 [00:54<00:00, 92.38it/s]\n"
     ]
    },
    {
     "name": "stdout",
     "output_type": "stream",
     "text": [
      "Global minimized function value : 7.393072128295898\n",
      ">> Accuracy: 83.1895451568765 %\n",
      "-- Loss: 1.8488237857818604\n",
      "-- True loss 1: 7.393071754837036\n",
      "-- True loss 2: 7.375974567031861\n"
     ]
    },
    {
     "name": "stderr",
     "output_type": "stream",
     "text": [
      "Epoch [34/90]: 100%|███████████████████████████████████████████████████████████████| 5005/5005 [00:52<00:00, 95.83it/s]\n"
     ]
    },
    {
     "name": "stdout",
     "output_type": "stream",
     "text": [
      "Global minimized function value : 6.642309665679932\n",
      ">> Accuracy: 84.40016016647323 %\n",
      "-- Loss: 1.7084836959838867\n",
      "-- True loss 1: 6.64231011505127\n",
      "-- True loss 2: 6.627351664733887\n"
     ]
    },
    {
     "name": "stderr",
     "output_type": "stream",
     "text": [
      "Epoch [35/90]: 100%|███████████████████████████████████████████████████████████████| 5005/5005 [00:56<00:00, 89.33it/s]\n"
     ]
    },
    {
     "name": "stdout",
     "output_type": "stream",
     "text": [
      "Global minimized function value : 5.9788055419921875\n",
      ">> Accuracy: 84.98946663471663 %\n",
      "-- Loss: 1.5834742784500122\n",
      "-- True loss 1: 5.978805269050598\n",
      "-- True loss 2: 5.965539512825012\n"
     ]
    },
    {
     "name": "stderr",
     "output_type": "stream",
     "text": [
      "Epoch [36/90]: 100%|██████████████████████████████████████████████████████████████| 5005/5005 [00:49<00:00, 100.79it/s]\n"
     ]
    },
    {
     "name": "stdout",
     "output_type": "stream",
     "text": [
      "Global minimized function value : 5.394581317901611\n",
      ">> Accuracy: 85.4004981395868 %\n",
      "-- Loss: 1.4765454530715942\n",
      "-- True loss 1: 5.394581413459778\n",
      "-- True loss 2: 5.382753265571594\n"
     ]
    },
    {
     "name": "stderr",
     "output_type": "stream",
     "text": [
      "Epoch [37/90]: 100%|██████████████████████████████████████████████████████████████| 5005/5005 [00:47<00:00, 104.78it/s]\n"
     ]
    },
    {
     "name": "stdout",
     "output_type": "stream",
     "text": [
      "Global minimized function value : 4.876588344573975\n",
      ">> Accuracy: 85.58946647860895 %\n",
      "-- Loss: 1.3827720880508423\n",
      "-- True loss 1: 4.876588812446594\n",
      "-- True loss 2: 4.865995134925843\n"
     ]
    },
    {
     "name": "stderr",
     "output_type": "stream",
     "text": [
      "Epoch [38/90]: 100%|███████████████████████████████████████████████████████████████| 5005/5005 [00:51<00:00, 97.10it/s]\n"
     ]
    },
    {
     "name": "stdout",
     "output_type": "stream",
     "text": [
      "Global minimized function value : 4.418050765991211\n",
      ">> Accuracy: 85.77219051068283 %\n",
      "-- Loss: 1.3012391328811646\n",
      "-- True loss 1: 4.418050947761536\n",
      "-- True loss 2: 4.408568429756165\n"
     ]
    },
    {
     "name": "stderr",
     "output_type": "stream",
     "text": [
      "Epoch [39/90]: 100%|███████████████████████████████████████████████████████████████| 5005/5005 [00:50<00:00, 98.93it/s]\n"
     ]
    },
    {
     "name": "stdout",
     "output_type": "stream",
     "text": [
      "Global minimized function value : 4.012923240661621\n",
      ">> Accuracy: 85.8404876179296 %\n",
      "-- Loss: 1.2317930459976196\n",
      "-- True loss 1: 4.012923238563538\n",
      "-- True loss 2: 4.00440984287262\n"
     ]
    },
    {
     "name": "stderr",
     "output_type": "stream",
     "text": [
      "Epoch [40/90]: 100%|███████████████████████████████████████████████████████████████| 5005/5005 [00:52<00:00, 96.11it/s]\n"
     ]
    },
    {
     "name": "stdout",
     "output_type": "stream",
     "text": [
      "Global minimized function value : 3.654170513153076\n",
      ">> Accuracy: 85.93407416831685 %\n",
      "-- Loss: 1.1714671850204468\n",
      "-- True loss 1: 3.654170680046082\n",
      "-- True loss 2: 3.646539841270447\n"
     ]
    },
    {
     "name": "stderr",
     "output_type": "stream",
     "text": [
      "Epoch [41/90]: 100%|███████████████████████████████████████████████████████████████| 5005/5005 [00:53<00:00, 94.16it/s]\n"
     ]
    },
    {
     "name": "stdout",
     "output_type": "stream",
     "text": [
      "Global minimized function value : 3.3362104892730713\n",
      ">> Accuracy: 85.91393627840867 %\n",
      "-- Loss: 1.119258165359497\n",
      "-- True loss 1: 3.3362106464385985\n",
      "-- True loss 2: 3.3293509387969973\n"
     ]
    },
    {
     "name": "stderr",
     "output_type": "stream",
     "text": [
      "Epoch [42/90]: 100%|███████████████████████████████████████████████████████████████| 5005/5005 [00:51<00:00, 97.69it/s]\n"
     ]
    },
    {
     "name": "stdout",
     "output_type": "stream",
     "text": [
      "Global minimized function value : 3.051023006439209\n",
      ">> Accuracy: 85.94031847526513 %\n",
      "-- Loss: 1.0701013803482056\n",
      "-- True loss 1: 3.0510229814529417\n",
      "-- True loss 2: 3.0448677865982057\n"
     ]
    },
    {
     "name": "stderr",
     "output_type": "stream",
     "text": [
      "Epoch [43/90]: 100%|███████████████████████████████████████████████████████████████| 5005/5005 [00:53<00:00, 93.17it/s]\n"
     ]
    },
    {
     "name": "stdout",
     "output_type": "stream",
     "text": [
      "Global minimized function value : 2.7965505123138428\n",
      ">> Accuracy: 85.8783437288035 %\n",
      "-- Loss: 1.0256953239440918\n",
      "-- True loss 1: 2.7965505546569824\n",
      "-- True loss 2: 2.791013683319092\n"
     ]
    },
    {
     "name": "stderr",
     "output_type": "stream",
     "text": [
      "Epoch [44/90]: 100%|██████████████████████████████████████████████████████████████| 5005/5005 [00:47<00:00, 104.65it/s]\n"
     ]
    },
    {
     "name": "stdout",
     "output_type": "stream",
     "text": [
      "Global minimized function value : 2.569042444229126\n",
      ">> Accuracy: 85.83650687225007 %\n",
      "-- Loss: 0.984381377696991\n",
      "-- True loss 1: 2.569042541408539\n",
      "-- True loss 2: 2.564071612071991\n"
     ]
    },
    {
     "name": "stderr",
     "output_type": "stream",
     "text": [
      "Epoch [45/90]: 100%|███████████████████████████████████████████████████████████████| 5005/5005 [00:50<00:00, 99.33it/s]\n"
     ]
    },
    {
     "name": "stdout",
     "output_type": "stream",
     "text": [
      "Global minimized function value : 2.367623805999756\n",
      ">> Accuracy: 85.7100596565475 %\n",
      "-- Loss: 0.9482829570770264\n",
      "-- True loss 1: 2.3676239742279055\n",
      "-- True loss 2: 2.3631513164520266\n"
     ]
    },
    {
     "name": "stderr",
     "output_type": "stream",
     "text": [
      "Epoch [46/90]: 100%|███████████████████████████████████████████████████████████████| 5005/5005 [00:50<00:00, 98.48it/s]\n"
     ]
    },
    {
     "name": "stdout",
     "output_type": "stream",
     "text": [
      "Global minimized function value : 2.1907355785369873\n",
      ">> Accuracy: 85.60390643842685 %\n",
      "-- Loss: 0.9173226356506348\n",
      "-- True loss 1: 2.190735717391968\n",
      "-- True loss 2: 2.186718436431885\n"
     ]
    },
    {
     "name": "stderr",
     "output_type": "stream",
     "text": [
      "Epoch [47/90]: 100%|███████████████████████████████████████████████████████████████| 5005/5005 [00:53<00:00, 93.67it/s]\n"
     ]
    },
    {
     "name": "stdout",
     "output_type": "stream",
     "text": [
      "Global minimized function value : 2.036914110183716\n",
      ">> Accuracy: 85.42485093668508 %\n",
      "-- Loss: 0.8926220536231995\n",
      "-- True loss 1: 2.0369142090797423\n",
      "-- True loss 2: 2.0333007645606997\n"
     ]
    },
    {
     "name": "stderr",
     "output_type": "stream",
     "text": [
      "Epoch [48/90]: 100%|███████████████████████████████████████████████████████████████| 5005/5005 [00:52<00:00, 94.62it/s]\n"
     ]
    },
    {
     "name": "stdout",
     "output_type": "stream",
     "text": [
      "Global minimized function value : 1.9055107831954956\n",
      ">> Accuracy: 85.26320144056162 %\n",
      "-- Loss: 0.8745298981666565\n",
      "-- True loss 1: 1.9055107399940492\n",
      "-- True loss 2: 1.9022652497291566\n"
     ]
    },
    {
     "name": "stderr",
     "output_type": "stream",
     "text": [
      "Epoch [49/90]: 100%|███████████████████████████████████████████████████████████████| 5005/5005 [00:53<00:00, 93.26it/s]\n"
     ]
    },
    {
     "name": "stdout",
     "output_type": "stream",
     "text": [
      "Global minimized function value : 1.7952923774719238\n",
      ">> Accuracy: 85.02131260015283 %\n",
      "-- Loss: 0.8638624548912048\n",
      "-- True loss 1: 1.7952923373222351\n",
      "-- True loss 2: 1.7923735877037048\n"
     ]
    },
    {
     "name": "stderr",
     "output_type": "stream",
     "text": [
      "Epoch [50/90]: 100%|███████████████████████████████████████████████████████████████| 5005/5005 [00:53<00:00, 93.07it/s]\n"
     ]
    },
    {
     "name": "stdout",
     "output_type": "stream",
     "text": [
      "Global minimized function value : 1.7055494785308838\n",
      ">> Accuracy: 84.79160015829318 %\n",
      "-- Loss: 0.8606495261192322\n",
      "-- True loss 1: 1.7055494997978211\n",
      "-- True loss 2: 1.7029258933067322\n"
     ]
    },
    {
     "name": "stderr",
     "output_type": "stream",
     "text": [
      "Epoch [51/90]: 100%|██████████████████████████████████████████████████████████████| 5005/5005 [00:47<00:00, 106.12it/s]\n"
     ]
    },
    {
     "name": "stdout",
     "output_type": "stream",
     "text": [
      "Global minimized function value : 1.633988618850708\n",
      ">> Accuracy: 84.48477052562234 %\n",
      "-- Loss: 0.8645785450935364\n",
      "-- True loss 1: 1.6339885087013246\n",
      "-- True loss 2: 1.6316304005622864\n"
     ]
    },
    {
     "name": "stderr",
     "output_type": "stream",
     "text": [
      "Epoch [52/90]: 100%|██████████████████████████████████████████████████████████████| 5005/5005 [00:49<00:00, 100.48it/s]\n"
     ]
    },
    {
     "name": "stdout",
     "output_type": "stream",
     "text": [
      "Global minimized function value : 1.5781724452972412\n",
      ">> Accuracy: 84.20900632001917 %\n",
      "-- Loss: 0.8737118244171143\n",
      "-- True loss 1: 1.5781724964141846\n",
      "-- True loss 2: 1.5760531330108642\n"
     ]
    },
    {
     "name": "stderr",
     "output_type": "stream",
     "text": [
      "Epoch [53/90]: 100%|███████████████████████████████████████████████████████████████| 5005/5005 [00:52<00:00, 94.57it/s]\n"
     ]
    },
    {
     "name": "stdout",
     "output_type": "stream",
     "text": [
      "Global minimized function value : 1.5347105264663696\n",
      ">> Accuracy: 83.85417357768347 %\n",
      "-- Loss: 0.8861538767814636\n",
      "-- True loss 1: 1.5347106360435485\n",
      "-- True loss 2: 1.5328045115470887\n"
     ]
    },
    {
     "name": "stderr",
     "output_type": "stream",
     "text": [
      "Epoch [54/90]: 100%|███████████████████████████████████████████████████████████████| 5005/5005 [01:00<00:00, 82.41it/s]\n"
     ]
    },
    {
     "name": "stdout",
     "output_type": "stream",
     "text": [
      "Global minimized function value : 1.5009135007858276\n",
      ">> Accuracy: 83.5418801764329 %\n",
      "-- Loss: 0.8997034430503845\n",
      "-- True loss 1: 1.5009135270118714\n",
      "-- True loss 2: 1.4991966071128846\n"
     ]
    },
    {
     "name": "stderr",
     "output_type": "stream",
     "text": [
      "Epoch [55/90]: 100%|███████████████████████████████████████████████████████████████| 5005/5005 [01:00<00:00, 83.25it/s]\n"
     ]
    },
    {
     "name": "stdout",
     "output_type": "stream",
     "text": [
      "Global minimized function value : 1.4736295938491821\n",
      ">> Accuracy: 83.19563335615108 %\n",
      "-- Loss: 0.9128440618515015\n",
      "-- True loss 1: 1.4736295583724974\n",
      "-- True loss 2: 1.4720842962265015\n"
     ]
    },
    {
     "name": "stderr",
     "output_type": "stream",
     "text": [
      "Epoch [56/90]: 100%|███████████████████████████████████████████████████████████████| 5005/5005 [01:06<00:00, 75.82it/s]\n"
     ]
    },
    {
     "name": "stdout",
     "output_type": "stream",
     "text": [
      "Global minimized function value : 1.4508154392242432\n",
      ">> Accuracy: 82.91838612764768 %\n",
      "-- Loss: 0.9237921833992004\n",
      "-- True loss 1: 1.4508154815673828\n",
      "-- True loss 2: 1.4494206013679505\n"
     ]
    },
    {
     "name": "stderr",
     "output_type": "stream",
     "text": [
      "Epoch [57/90]: 100%|███████████████████████████████████████████████████████████████| 5005/5005 [01:07<00:00, 73.77it/s]\n"
     ]
    },
    {
     "name": "stdout",
     "output_type": "stream",
     "text": [
      "Global minimized function value : 1.4305720329284668\n",
      ">> Accuracy: 82.5559821631372 %\n",
      "-- Loss: 0.9317979216575623\n",
      "-- True loss 1: 1.4305720688819885\n",
      "-- True loss 2: 1.4293090544700622\n"
     ]
    },
    {
     "name": "stderr",
     "output_type": "stream",
     "text": [
      "Epoch [58/90]: 100%|███████████████████████████████████████████████████████████████| 5005/5005 [01:13<00:00, 68.04it/s]\n"
     ]
    },
    {
     "name": "stdout",
     "output_type": "stream",
     "text": [
      "Global minimized function value : 1.4123740196228027\n",
      ">> Accuracy: 82.28615004913489 %\n",
      "-- Loss: 0.9367032647132874\n",
      "-- True loss 1: 1.4123738978385925\n",
      "-- True loss 2: 1.4112238701820374\n"
     ]
    },
    {
     "name": "stderr",
     "output_type": "stream",
     "text": [
      "Epoch [59/90]: 100%|███████████████████████████████████████████████████████████████| 5005/5005 [01:18<00:00, 63.75it/s]\n"
     ]
    },
    {
     "name": "stdout",
     "output_type": "stream",
     "text": [
      "Global minimized function value : 1.395433783531189\n",
      ">> Accuracy: 81.99087238431837 %\n",
      "-- Loss: 0.9391321539878845\n",
      "-- True loss 1: 1.3954337731361388\n",
      "-- True loss 2: 1.3943859625816346\n"
     ]
    },
    {
     "name": "stderr",
     "output_type": "stream",
     "text": [
      "Epoch [60/90]: 100%|███████████████████████████████████████████████████████████████| 5005/5005 [01:11<00:00, 69.85it/s]\n"
     ]
    },
    {
     "name": "stdout",
     "output_type": "stream",
     "text": [
      "Global minimized function value : 1.3804527521133423\n",
      ">> Accuracy: 81.77801957121905 %\n",
      "-- Loss: 0.9398515820503235\n",
      "-- True loss 1: 1.3804527424812316\n",
      "-- True loss 2: 1.3794914258003235\n"
     ]
    },
    {
     "name": "stderr",
     "output_type": "stream",
     "text": [
      "Epoch [61/90]: 100%|███████████████████████████████████████████████████████████████| 5005/5005 [00:58<00:00, 86.25it/s]\n"
     ]
    },
    {
     "name": "stdout",
     "output_type": "stream",
     "text": [
      "Global minimized function value : 0.9246588945388794\n",
      ">> Accuracy: 85.93532302970651 %\n",
      "-- Loss: 0.48932701349258423\n",
      "-- True loss 1: 0.9246590382575989\n",
      "-- True loss 2: 0.9236852166175842\n"
     ]
    },
    {
     "name": "stderr",
     "output_type": "stream",
     "text": [
      "Epoch [62/90]: 100%|███████████████████████████████████████████████████████████████| 5005/5005 [00:55<00:00, 89.95it/s]\n"
     ]
    },
    {
     "name": "stdout",
     "output_type": "stream",
     "text": [
      "Global minimized function value : 0.8978325724601746\n",
      ">> Accuracy: 88.31760418431008 %\n",
      "-- Loss: 0.4670480191707611\n",
      "-- True loss 1: 0.8978327001094819\n",
      "-- True loss 2: 0.8968536832332612\n"
     ]
    },
    {
     "name": "stderr",
     "output_type": "stream",
     "text": [
      "Epoch [63/90]: 100%|███████████████████████████████████████████████████████████████| 5005/5005 [00:54<00:00, 92.01it/s]\n"
     ]
    },
    {
     "name": "stdout",
     "output_type": "stream",
     "text": [
      "Global minimized function value : 0.8816787004470825\n",
      ">> Accuracy: 89.4043477548204 %\n",
      "-- Loss: 0.45511478185653687\n",
      "-- True loss 1: 0.8816788178443908\n",
      "-- True loss 2: 0.8807007193565368\n"
     ]
    },
    {
     "name": "stderr",
     "output_type": "stream",
     "text": [
      "Epoch [64/90]: 100%|███████████████████████████████████████████████████████████████| 5005/5005 [00:54<00:00, 92.00it/s]\n"
     ]
    },
    {
     "name": "stdout",
     "output_type": "stream",
     "text": [
      "Global minimized function value : 0.8690319657325745\n",
      ">> Accuracy: 89.9204397240953 %\n",
      "-- Loss: 0.44650185108184814\n",
      "-- True loss 1: 0.8690320970535279\n",
      "-- True loss 2: 0.8680589799880982\n"
     ]
    },
    {
     "name": "stderr",
     "output_type": "stream",
     "text": [
      "Epoch [65/90]: 100%|██████████████████████████████████████████████████████████████| 5005/5005 [00:48<00:00, 103.96it/s]\n"
     ]
    },
    {
     "name": "stdout",
     "output_type": "stream",
     "text": [
      "Global minimized function value : 0.8582603335380554\n",
      ">> Accuracy: 90.19807722178295 %\n",
      "-- Loss: 0.439632385969162\n",
      "-- True loss 1: 0.8582603412151337\n",
      "-- True loss 2: 0.857294739484787\n"
     ]
    },
    {
     "name": "stderr",
     "output_type": "stream",
     "text": [
      "Epoch [66/90]: 100%|███████████████████████████████████████████████████████████████| 5005/5005 [00:51<00:00, 97.78it/s]\n"
     ]
    },
    {
     "name": "stdout",
     "output_type": "stream",
     "text": [
      "Global minimized function value : 0.8487163782119751\n",
      ">> Accuracy: 90.3550434876952 %\n",
      "-- Loss: 0.43388429284095764\n",
      "-- True loss 1: 0.8487163025379181\n",
      "-- True loss 2: 0.8477597811222077\n"
     ]
    },
    {
     "name": "stderr",
     "output_type": "stream",
     "text": [
      "Epoch [67/90]: 100%|███████████████████████████████████████████████████████████████| 5005/5005 [00:51<00:00, 97.90it/s]\n"
     ]
    },
    {
     "name": "stdout",
     "output_type": "stream",
     "text": [
      "Global minimized function value : 0.8400605916976929\n",
      ">> Accuracy: 90.45690374478893 %\n",
      "-- Loss: 0.4289306700229645\n",
      "-- True loss 1: 0.8400606112003326\n",
      "-- True loss 2: 0.8391141661167145\n"
     ]
    },
    {
     "name": "stderr",
     "output_type": "stream",
     "text": [
      "Epoch [68/90]: 100%|███████████████████████████████████████████████████████████████| 5005/5005 [00:50<00:00, 99.10it/s]\n"
     ]
    },
    {
     "name": "stdout",
     "output_type": "stream",
     "text": [
      "Global minimized function value : 0.8321464657783508\n",
      ">> Accuracy: 90.52832300550982 %\n",
      "-- Loss: 0.4246324598789215\n",
      "-- True loss 1: 0.8321464537143708\n",
      "-- True loss 2: 0.8312107313632966\n"
     ]
    },
    {
     "name": "stderr",
     "output_type": "stream",
     "text": [
      "Epoch [69/90]: 100%|███████████████████████████████████████████████████████████████| 5005/5005 [00:51<00:00, 96.63it/s]\n"
     ]
    },
    {
     "name": "stdout",
     "output_type": "stream",
     "text": [
      "Global minimized function value : 0.824882984161377\n",
      ">> Accuracy: 90.57991659166994 %\n",
      "-- Loss: 0.42090365290641785\n",
      "-- True loss 1: 0.8248829468250275\n",
      "-- True loss 2: 0.8239583648204803\n"
     ]
    },
    {
     "name": "stderr",
     "output_type": "stream",
     "text": [
      "Epoch [70/90]: 100%|███████████████████████████████████████████████████████████████| 5005/5005 [00:50<00:00, 99.15it/s]\n"
     ]
    },
    {
     "name": "stdout",
     "output_type": "stream",
     "text": [
      "Global minimized function value : 0.8182040452957153\n",
      ">> Accuracy: 90.62175344822337 %\n",
      "-- Loss: 0.41768205165863037\n",
      "-- True loss 1: 0.8182040256500245\n",
      "-- True loss 2: 0.8172908407211303\n"
     ]
    },
    {
     "name": "stderr",
     "output_type": "stream",
     "text": [
      "Epoch [71/90]: 100%|███████████████████████████████████████████████████████████████| 5005/5005 [00:51<00:00, 96.56it/s]\n"
     ]
    },
    {
     "name": "stdout",
     "output_type": "stream",
     "text": [
      "Global minimized function value : 0.8120409846305847\n",
      ">> Accuracy: 90.6540677366807 %\n",
      "-- Loss: 0.41490238904953003\n",
      "-- True loss 1: 0.8120410701751709\n",
      "-- True loss 2: 0.8111394251823425\n"
     ]
    },
    {
     "name": "stderr",
     "output_type": "stream",
     "text": [
      "Epoch [72/90]: 100%|██████████████████████████████████████████████████████████████| 5005/5005 [00:47<00:00, 104.98it/s]\n"
     ]
    },
    {
     "name": "stdout",
     "output_type": "stream",
     "text": [
      "Global minimized function value : 0.8063308596611023\n",
      ">> Accuracy: 90.67982550284233 %\n",
      "-- Loss: 0.4125041961669922\n",
      "-- True loss 1: 0.8063309144973755\n",
      "-- True loss 2: 0.8054408660888672\n"
     ]
    },
    {
     "name": "stderr",
     "output_type": "stream",
     "text": [
      "Epoch [73/90]: 100%|███████████████████████████████████████████████████████████████| 5005/5005 [00:51<00:00, 96.32it/s]\n"
     ]
    },
    {
     "name": "stdout",
     "output_type": "stream",
     "text": [
      "Global minimized function value : 0.8010417222976685\n",
      ">> Accuracy: 90.70511494598284 %\n",
      "-- Loss: 0.4104580879211426\n",
      "-- True loss 1: 0.8010417713165283\n",
      "-- True loss 2: 0.8001633125305176\n"
     ]
    },
    {
     "name": "stderr",
     "output_type": "stream",
     "text": [
      "Epoch [74/90]: 100%|██████████████████████████████████████████████████████████████| 5005/5005 [00:49<00:00, 100.50it/s]\n"
     ]
    },
    {
     "name": "stdout",
     "output_type": "stream",
     "text": [
      "Global minimized function value : 0.796128511428833\n",
      ">> Accuracy: 90.72431618984879 %\n",
      "-- Loss: 0.4087211787700653\n",
      "-- True loss 1: 0.796128557252884\n",
      "-- True loss 2: 0.7952616328716278\n"
     ]
    },
    {
     "name": "stderr",
     "output_type": "stream",
     "text": [
      "Epoch [75/90]: 100%|███████████████████████████████████████████████████████████████| 5005/5005 [00:51<00:00, 97.76it/s]\n"
     ]
    },
    {
     "name": "stdout",
     "output_type": "stream",
     "text": [
      "Global minimized function value : 0.7915542721748352\n",
      ">> Accuracy: 90.73977084954576 %\n",
      "-- Loss: 0.40725862979888916\n",
      "-- True loss 1: 0.7915543436050415\n",
      "-- True loss 2: 0.7906988641738892\n"
     ]
    },
    {
     "name": "stderr",
     "output_type": "stream",
     "text": [
      "Epoch [76/90]: 100%|███████████████████████████████████████████████████████████████| 5005/5005 [00:51<00:00, 97.67it/s]\n"
     ]
    },
    {
     "name": "stdout",
     "output_type": "stream",
     "text": [
      "Global minimized function value : 0.787272036075592\n",
      ">> Accuracy: 90.75436691703736 %\n",
      "-- Loss: 0.40602511167526245\n",
      "-- True loss 1: 0.7872721869468688\n",
      "-- True loss 2: 0.7864280413627625\n"
     ]
    },
    {
     "name": "stderr",
     "output_type": "stream",
     "text": [
      "Epoch [77/90]: 100%|███████████████████████████████████████████████████████████████| 5005/5005 [00:52<00:00, 95.29it/s]\n"
     ]
    },
    {
     "name": "stdout",
     "output_type": "stream",
     "text": [
      "Global minimized function value : 0.7832446694374084\n",
      ">> Accuracy: 90.76826049999727 %\n",
      "-- Loss: 0.40498456358909607\n",
      "-- True loss 1: 0.7832446490764617\n",
      "-- True loss 2: 0.7824117120265961\n"
     ]
    },
    {
     "name": "stderr",
     "output_type": "stream",
     "text": [
      "Epoch [78/90]: 100%|███████████████████████████████████████████████████████████████| 5005/5005 [01:00<00:00, 82.70it/s]\n"
     ]
    },
    {
     "name": "stdout",
     "output_type": "stream",
     "text": [
      "Global minimized function value : 0.7794522047042847\n",
      ">> Accuracy: 90.78793006688433 %\n",
      "-- Loss: 0.40411898493766785\n",
      "-- True loss 1: 0.7794522727489472\n",
      "-- True loss 2: 0.7786304107189179\n"
     ]
    },
    {
     "name": "stderr",
     "output_type": "stream",
     "text": [
      "Epoch [79/90]: 100%|███████████████████████████████████████████████████████████████| 5005/5005 [00:57<00:00, 86.47it/s]\n"
     ]
    },
    {
     "name": "stdout",
     "output_type": "stream",
     "text": [
      "Global minimized function value : 0.7758602499961853\n",
      ">> Accuracy: 90.79971619624921 %\n",
      "-- Loss: 0.403394877910614\n",
      "-- True loss 1: 0.7758602466583252\n",
      "-- True loss 2: 0.775049321269989\n"
     ]
    },
    {
     "name": "stderr",
     "output_type": "stream",
     "text": [
      "Epoch [80/90]: 100%|███████████████████████████████████████████████████████████████| 5005/5005 [01:01<00:00, 80.77it/s]\n"
     ]
    },
    {
     "name": "stdout",
     "output_type": "stream",
     "text": [
      "Global minimized function value : 0.7724524140357971\n",
      ">> Accuracy: 90.81064373340868 %\n",
      "-- Loss: 0.40279749035835266\n",
      "-- True loss 1: 0.7724524285793304\n",
      "-- True loss 2: 0.7716522999286652\n"
     ]
    },
    {
     "name": "stderr",
     "output_type": "stream",
     "text": [
      "Epoch [81/90]: 100%|███████████████████████████████████████████████████████████████| 5005/5005 [00:59<00:00, 83.42it/s]\n"
     ]
    },
    {
     "name": "stdout",
     "output_type": "stream",
     "text": [
      "Global minimized function value : 0.7692117094993591\n",
      ">> Accuracy: 90.82211764742614 %\n",
      "-- Loss: 0.4023107588291168\n",
      "-- True loss 1: 0.769211755657196\n",
      "-- True loss 2: 0.7684222822666169\n"
     ]
    },
    {
     "name": "stderr",
     "output_type": "stream",
     "text": [
      "Epoch [82/90]: 100%|███████████████████████████████████████████████████████████████| 5005/5005 [00:59<00:00, 84.81it/s]\n"
     ]
    },
    {
     "name": "stdout",
     "output_type": "stream",
     "text": [
      "Global minimized function value : 0.7661195397377014\n",
      ">> Accuracy: 90.82883027739553 %\n",
      "-- Loss: 0.4019172191619873\n",
      "-- True loss 1: 0.7661195913791656\n",
      "-- True loss 2: 0.7653406322479248\n"
     ]
    },
    {
     "name": "stderr",
     "output_type": "stream",
     "text": [
      "Epoch [83/90]: 100%|███████████████████████████████████████████████████████████████| 5005/5005 [01:00<00:00, 82.28it/s]\n"
     ]
    },
    {
     "name": "stdout",
     "output_type": "stream",
     "text": [
      "Global minimized function value : 0.7631589770317078\n",
      ">> Accuracy: 90.83694787642828 %\n",
      "-- Loss: 0.40160131454467773\n",
      "-- True loss 1: 0.763159109210968\n",
      "-- True loss 2: 0.7623905235290527\n"
     ]
    },
    {
     "name": "stderr",
     "output_type": "stream",
     "text": [
      "Epoch [84/90]: 100%|███████████████████████████████████████████████████████████████| 5005/5005 [01:01<00:00, 81.88it/s]\n"
     ]
    },
    {
     "name": "stdout",
     "output_type": "stream",
     "text": [
      "Global minimized function value : 0.7603158950805664\n",
      ">> Accuracy: 90.84327023721342 %\n",
      "-- Loss: 0.40134990215301514\n",
      "-- True loss 1: 0.7603158714771271\n",
      "-- True loss 2: 0.7595575193405151\n"
     ]
    },
    {
     "name": "stderr",
     "output_type": "stream",
     "text": [
      "Epoch [85/90]: 100%|███████████████████████████████████████████████████████████████| 5005/5005 [00:54<00:00, 92.11it/s]\n"
     ]
    },
    {
     "name": "stdout",
     "output_type": "stream",
     "text": [
      "Global minimized function value : 0.7575703263282776\n",
      ">> Accuracy: 90.85271475147267 %\n",
      "-- Loss: 0.4011442959308624\n",
      "-- True loss 1: 0.7575703605651856\n",
      "-- True loss 2: 0.75682210354805\n"
     ]
    },
    {
     "name": "stderr",
     "output_type": "stream",
     "text": [
      "Epoch [86/90]: 100%|███████████████████████████████████████████████████████████████| 5005/5005 [01:06<00:00, 75.74it/s]\n"
     ]
    },
    {
     "name": "stdout",
     "output_type": "stream",
     "text": [
      "Global minimized function value : 0.7549126744270325\n",
      ">> Accuracy: 90.8602079198106 %\n",
      "-- Loss: 0.40097588300704956\n",
      "-- True loss 1: 0.754912716960907\n",
      "-- True loss 2: 0.7541744181632996\n"
     ]
    },
    {
     "name": "stderr",
     "output_type": "stream",
     "text": [
      "Epoch [87/90]: 100%|███████████████████████████████████████████████████████████████| 5005/5005 [01:03<00:00, 78.83it/s]\n"
     ]
    },
    {
     "name": "stdout",
     "output_type": "stream",
     "text": [
      "Global minimized function value : 0.7523421049118042\n",
      ">> Accuracy: 90.8666083344326 %\n",
      "-- Loss: 0.40084540843963623\n",
      "-- True loss 1: 0.7523421957015992\n",
      "-- True loss 2: 0.7516137189865113\n"
     ]
    },
    {
     "name": "stderr",
     "output_type": "stream",
     "text": [
      "Epoch [88/90]: 100%|███████████████████████████████████████████████████████████████| 5005/5005 [01:00<00:00, 82.84it/s]\n"
     ]
    },
    {
     "name": "stdout",
     "output_type": "stream",
     "text": [
      "Global minimized function value : 0.7498524188995361\n",
      ">> Accuracy: 90.8711354569701 %\n",
      "-- Loss: 0.4007470905780792\n",
      "-- True loss 1: 0.7498523799419403\n",
      "-- True loss 2: 0.7491335896015168\n"
     ]
    },
    {
     "name": "stderr",
     "output_type": "stream",
     "text": [
      "Epoch [89/90]: 100%|███████████████████████████████████████████████████████████████| 5005/5005 [00:56<00:00, 88.11it/s]\n"
     ]
    },
    {
     "name": "stdout",
     "output_type": "stream",
     "text": [
      "Global minimized function value : 0.7474449872970581\n",
      ">> Accuracy: 90.87777003310264 %\n",
      "-- Loss: 0.40068361163139343\n",
      "-- True loss 1: 0.7474449745178222\n",
      "-- True loss 2: 0.746735735654831\n"
     ]
    },
    {
     "name": "stderr",
     "output_type": "stream",
     "text": [
      "Epoch [90/90]: 100%|███████████████████████████████████████████████████████████████| 5005/5005 [00:57<00:00, 86.98it/s]"
     ]
    },
    {
     "name": "stdout",
     "output_type": "stream",
     "text": [
      "Global minimized function value : 0.7451143264770508\n",
      ">> Accuracy: 90.87987748669768 %\n",
      "-- Loss: 0.4006505310535431\n",
      "-- True loss 1: 0.7451143659114838\n",
      "-- True loss 2: 0.7444145447254181\n"
     ]
    },
    {
     "name": "stderr",
     "output_type": "stream",
     "text": [
      "\n"
     ]
    }
   ],
   "source": [
    "# Train the model\n",
    "correct_predictions=0\n",
    "loss_history = []\n",
    "true_loss_v1_history = []\n",
    "true_loss_v2_history = []\n",
    "accuracy_history = []\n",
    "# curve process (temporary)\n",
    "moyenne_erreur_classe_model = []\n",
    "loss_epoch = []\n",
    "weights_epoch = []\n",
    "nb_image_classe = torch.bincount(dataset.labels).to(DEVICE)\n",
    "#end\n",
    "for epoch in range(num_epochs): \n",
    "    # curve process (temporary)\n",
    "    erreur_total_classe = torch.zeros(1000, device=DEVICE)\n",
    "    #end\n",
    "    for inputs, labels in tqdm(train_loader, desc=f\"Epoch [{epoch+1}/{num_epochs}]\"):\n",
    "        \n",
    "        # Move inputs and labels to the device \n",
    "        inputs = inputs.to(DEVICE) \n",
    "        labels = labels.to(DEVICE)\n",
    "        \n",
    "        # Forward pass \n",
    "        outputs = model(inputs) \n",
    "        loss = loss_function(outputs, labels)\n",
    "        true_loss_v1 = loss.item() + weight_decay_parameter * sum(t.pow(2).sum().item() for t in model.state_dict().values()) / 2\n",
    "        true_loss_v2 = loss.item() + weight_decay_parameter * model.state_dict()['linear.weight'].pow(2).sum().item() / 2\n",
    "\n",
    "\n",
    "        # curve process (temporary)\n",
    "        erreur = nn.functional.cross_entropy(outputs,labels,reduction='none') + weight_decay_parameter * sum(t.pow(2).sum() for t in model.state_dict().values()) / 2\n",
    "        vrai_loss = torch.mean(erreur).item() #recupère la loss du batch\n",
    "        #end\n",
    "        \n",
    "        _, predicted = torch.max(outputs, 1)\n",
    "\n",
    "        # Ajout des prédictions correctes au total\n",
    "        correct_predictions += (predicted == labels).sum().item()\n",
    "        \n",
    "        # Backward and optimize \n",
    "        optimizer.zero_grad() \n",
    "        loss.backward() \n",
    "        optimizer.step()\n",
    "\n",
    "    # curve process (temporary)\n",
    "    print(f\"Global minimized function value : {vrai_loss}\") \n",
    "    loss_epoch.append(vrai_loss)\n",
    "    moyenne_erreur_classe_model.append((erreur_total_classe/nb_image_classe).tolist())\n",
    "    weights_epoch.append(sum(t.abs().sum() for t in model.state_dict().values()))\n",
    "    #end\n",
    "    \n",
    "    # update lr\n",
    "    scheduler.step()\n",
    "\n",
    "    # save intermediate models\n",
    "    torch.save(model.state_dict(), f'{models_folder}/epoch-{epoch}.pt')\n",
    "\n",
    "    # process accuracy\n",
    "    accuracy = 100 * correct_predictions / len(dataset)\n",
    "    correct_predictions=0\n",
    "    \n",
    "    print(f'>> Accuracy: {accuracy} %\\n-- Loss: {loss.item()}\\n-- True loss 1: {true_loss_v1}\\n-- True loss 2: {true_loss_v2}')\n",
    "\n",
    "    # save accuracy and loss\n",
    "    loss_history.append(loss.item())\n",
    "    accuracy_history.append(accuracy)\n",
    "    true_loss_v1_history.append(true_loss_v1)\n",
    "    true_loss_v2_history.append(true_loss_v2)    "
   ]
  },
  {
   "cell_type": "code",
   "execution_count": 21,
   "id": "892629d0-aa4e-4fb5-8bfc-f63facc6a8d6",
   "metadata": {},
   "outputs": [],
   "source": [
    "torch.save(accuracy_history, f'{models_folder}/accuracy.pt')\n",
    "torch.save(loss_history, f'{models_folder}/loss.pt')\n",
    "torch.save(true_loss_v1_history, f'{models_folder}/true_loss_v1.pt')\n",
    "torch.save(true_loss_v2_history, f'{models_folder}/true_loss_v2.pt')"
   ]
  },
  {
   "cell_type": "code",
   "execution_count": 22,
   "id": "939b3e9d-903f-45a7-929c-229fa558a1a5",
   "metadata": {},
   "outputs": [],
   "source": [
    "# acc = torch.load('../data/saved_models/constant_step_lr/accuracy.pt')\n",
    "# loss = torch.load('../data/saved_models/constant_step_lr/loss.pt')\n",
    "# params20 = torch.load('../data/saved_models/constant_step_lr/epoch-20.pt')\n",
    "# params40 = torch.load('../data/saved_models/constant_step_lr/epoch-40.pt')"
   ]
  },
  {
   "cell_type": "code",
   "execution_count": 23,
   "id": "fb288491-90f4-4a91-bb96-b0bd1044ab64",
   "metadata": {},
   "outputs": [
    {
     "data": {
      "text/plain": [
       "[<matplotlib.lines.Line2D at 0x1db297e50d0>]"
      ]
     },
     "execution_count": 23,
     "metadata": {},
     "output_type": "execute_result"
    },
    {
     "data": {
      "image/png": "[encoded data removed]",
      "text/plain": [
       "<Figure size 640x480 with 1 Axes>"
      ]
     },
     "metadata": {},
     "output_type": "display_data"
    }
   ],
   "source": [
    "plt.plot(accuracy_history)"
   ]
  },
  {
   "cell_type": "code",
   "execution_count": 24,
   "id": "d88cf90a-9672-430b-89ab-7df6e43d06b9",
   "metadata": {},
   "outputs": [
    {
     "data": {
      "text/plain": [
       "[<matplotlib.lines.Line2D at 0x1db2c9ae690>]"
      ]
     },
     "execution_count": 24,
     "metadata": {},
     "output_type": "execute_result"
    },
    {
     "data": {
      "image/png": "[encoded data removed]",
      "text/plain": [
       "<Figure size 640x480 with 1 Axes>"
      ]
     },
     "metadata": {},
     "output_type": "display_data"
    }
   ],
   "source": [
    "plt.plot(loss_history)"
   ]
  },
  {
   "cell_type": "code",
   "execution_count": 25,
   "id": "8992c72e-2984-4fca-8250-289d493d09d4",
   "metadata": {},
   "outputs": [
    {
     "data": {
      "text/plain": [
       "[<matplotlib.lines.Line2D at 0x1db4c75c710>]"
      ]
     },
     "execution_count": 25,
     "metadata": {},
     "output_type": "execute_result"
    },
    {
     "data": {
      "image/png": "[encoded data removed]",
      "text/plain": [
       "<Figure size 640x480 with 1 Axes>"
      ]
     },
     "metadata": {},
     "output_type": "display_data"
    }
   ],
   "source": [
    "plt.plot(true_loss_v1_history)"
   ]
  },
  {
   "cell_type": "code",
   "execution_count": 26,
   "id": "131ba6ee-24ee-49d7-9faa-23036f93fe15",
   "metadata": {},
   "outputs": [
    {
     "data": {
      "text/plain": [
       "[<matplotlib.lines.Line2D at 0x1db4a5a4cd0>]"
      ]
     },
     "execution_count": 26,
     "metadata": {},
     "output_type": "execute_result"
    },
    {
     "data": {
      "image/png": "[encoded data removed]",
      "text/plain": [
       "<Figure size 640x480 with 1 Axes>"
      ]
     },
     "metadata": {},
     "output_type": "display_data"
    }
   ],
   "source": [
    "plt.plot(true_loss_v2_history)"
   ]
  },
  {
   "cell_type": "code",
   "execution_count": 27,
   "id": "da15e25d-f6f3-41ba-b696-b5ebeee86745",
   "metadata": {},
   "outputs": [
    {
     "data": {
      "text/plain": [
       "0.7451138046264649"
      ]
     },
     "execution_count": 27,
     "metadata": {},
     "output_type": "execute_result"
    }
   ],
   "source": [
    "tv1 = loss.item() + weight_decay_parameter * sum(t.pow(2).sum().item() for t in model.state_dict().values()) / 2\n",
    "tv1"
   ]
  },
  {
   "cell_type": "code",
   "execution_count": 28,
   "id": "661741f4-9c36-40b5-b497-77acd92fba40",
   "metadata": {},
   "outputs": [
    {
     "data": {
      "text/plain": [
       "0.7451138496398926"
      ]
     },
     "execution_count": 28,
     "metadata": {},
     "output_type": "execute_result"
    }
   ],
   "source": [
    "err = torch.nn.functional.cross_entropy(outputs,labels,reduction='none') + weight_decay_parameter * sum(t.pow(2).sum().item() for t in model.state_dict().values()) / 2\n",
    "vrai_loss = torch.mean(err).item() #recupère la loss du batch\n",
    "vrai_loss"
   ]
  },
  {
   "cell_type": "code",
   "execution_count": null,
   "id": "0e1421d0-bc68-4ecc-8d3d-25d9d2675f3c",
   "metadata": {},
   "outputs": [],
   "source": []
  }
 ],
 "metadata": {
  "kernelspec": {
   "display_name": "Python 3 (ipykernel)",
   "language": "python",
   "name": "python3"
  },
  "language_info": {
   "codemirror_mode": {
    "name": "ipython",
    "version": 3
   },
   "file_extension": ".py",
   "mimetype": "text/x-python",
   "name": "python",
   "nbconvert_exporter": "python",
   "pygments_lexer": "ipython3",
   "version": "3.11.6"
  }
 },
 "nbformat": 4,
 "nbformat_minor": 5
}
